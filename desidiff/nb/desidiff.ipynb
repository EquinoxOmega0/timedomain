{
 "cells": [
  {
   "cell_type": "code",
   "execution_count": 1,
   "id": "1744a32b-ab68-4d4a-a7fa-7671b62c2280",
   "metadata": {},
   "outputs": [],
   "source": [
    "import os\n",
    "import sys\n",
    "module_path = os.path.abspath(os.path.join('..'))\n",
    "if module_path not in sys.path:\n",
    "    sys.path.append(module_path)"
   ]
  },
  {
   "cell_type": "code",
   "execution_count": 6,
   "id": "39a034d0-a2f6-4707-84f6-7bd90188f85c",
   "metadata": {},
   "outputs": [],
   "source": [
    "import numpy\n",
    "from desispec.io import read_spectra, write_spectra\n",
    "from desispec.spectra import Spectra\n",
    "import matplotlib.pyplot as plt\n",
    "from desiutil.log import get_logger, DEBUG\n",
    "from desidiff.src.group_tiles import *\n",
    "from desidiff.src.dates_to_process import *\n",
    "from desidiff.src.coadd import *"
   ]
  },
  {
   "cell_type": "code",
   "execution_count": 3,
   "id": "83813b8c-2fd0-4665-b8d9-bf867eaf19e5",
   "metadata": {},
   "outputs": [],
   "source": [
    "yyyymmdd=20210606\n",
    "tile_petal,group_tid,group_tp, group_night =getMatchedTileid(yyyymmdd)"
   ]
  },
  {
   "cell_type": "code",
   "execution_count": 7,
   "id": "71108ebd-2952-42cf-83dc-398678dd9256",
   "metadata": {
    "tags": []
   },
   "outputs": [
    {
     "name": "stdout",
     "output_type": "stream",
     "text": [
      "INFO:spectra.py:282:read_spectra: iotime 0.686 sec to read spectra-6-1239-thru20210606.fits at 2021-08-29T16:17:27.446278\n",
      "INFO:spectra.py:282:read_spectra: iotime 0.667 sec to read spectra-8-1200-thru20210606.fits at 2021-08-29T16:17:28.525868\n",
      "INFO:spectra.py:282:read_spectra: iotime 0.696 sec to read spectra-8-1230-thru20210606.fits at 2021-08-29T16:17:29.615325\n",
      "INFO:spectra.py:282:read_spectra: iotime 0.678 sec to read spectra-4-1395-thru20210606.fits at 2021-08-29T16:17:30.690760\n",
      "INFO:spectra.py:282:read_spectra: iotime 0.666 sec to read spectra-1-20112-thru20210606.fits at 2021-08-29T16:17:31.742574\n",
      "INFO:spectra.py:282:read_spectra: iotime 0.674 sec to read spectra-7-20079-thru20210606.fits at 2021-08-29T16:17:32.802717\n",
      "INFO:spectra.py:282:read_spectra: iotime 0.681 sec to read spectra-3-1230-thru20210606.fits at 2021-08-29T16:17:33.870807\n",
      "INFO:spectra.py:282:read_spectra: iotime 0.673 sec to read spectra-5-1222-thru20210606.fits at 2021-08-29T16:17:34.939130\n",
      "INFO:spectra.py:282:read_spectra: iotime 0.684 sec to read spectra-4-1200-thru20210606.fits at 2021-08-29T16:17:36.014670\n",
      "INFO:spectra.py:282:read_spectra: iotime 1.128 sec to read spectra-5-1117-thru20210606.fits at 2021-08-29T16:17:37.545920\n",
      "INFO:spectra.py:282:read_spectra: iotime 0.670 sec to read spectra-2-20079-thru20210606.fits at 2021-08-29T16:17:38.962854\n",
      "INFO:spectra.py:282:read_spectra: iotime 1.169 sec to read spectra-8-1882-thru20210606.fits at 2021-08-29T16:17:40.549526\n",
      "[39632967181535819] ((1882, 8),)\n"
     ]
    },
    {
     "name": "stderr",
     "output_type": "stream",
     "text": [
      "/global/cscratch1/sd/akim/project/timedomain/desidiff/src/coadd.py:20: RuntimeWarning: invalid value encountered in true_divide\n",
      "  sflux[b] = sflux[b]/sivar[b]\n"
     ]
    },
    {
     "ename": "NameError",
     "evalue": "name 'test_dict2' is not defined",
     "output_type": "error",
     "traceback": [
      "\u001b[0;31m---------------------------------------------------------------------------\u001b[0m",
      "\u001b[0;31mNameError\u001b[0m                                 Traceback (most recent call last)",
      "\u001b[0;32m<ipython-input-7-4a51919600d0>\u001b[0m in \u001b[0;36m<module>\u001b[0;34m\u001b[0m\n\u001b[1;32m     53\u001b[0m                        for key in newivar.keys()}\n\u001b[1;32m     54\u001b[0m         difmask = {key: numpy.logical_and(newmask[key], refmask.get(key, 0))\n\u001b[0;32m---> 55\u001b[0;31m                        for key in test_dict2.keys()}\n\u001b[0m\u001b[1;32m     56\u001b[0m         \"\"\"\n\u001b[1;32m     57\u001b[0m         \u001b[0massignment\u001b[0m \u001b[0mto\u001b[0m \u001b[0ma\u001b[0m \u001b[0mdifferenced\u001b[0m \u001b[0mSpectra\u001b[0m \u001b[0mobject\u001b[0m\u001b[0;34m\u001b[0m\u001b[0;34m\u001b[0m\u001b[0m\n",
      "\u001b[0;31mNameError\u001b[0m: name 'test_dict2' is not defined"
     ]
    }
   ],
   "source": [
    "date = yyyymmdd\n",
    "# tile_petal contain subsets of tile/petals whose RA/DEC targets are not contained in other tile/petals from that night\n",
    "for tps in tile_petal:\n",
    "    # cache spectra to minimize IO\n",
    "    spectra_list=dict()\n",
    "    target_list=[]\n",
    "    for tp in tps:\n",
    "        filename =  f\"/global/project/projectdirs/desi/spectro/redux/daily/tiles/cumulative/{tp[0]}/{yyyymmdd}/spectra-{tp[1]}-{tp[0]}-thru{yyyymmdd}.fits\"\n",
    "        spectra_list[(tp[0],tp[1])]=read_spectra(filename)\n",
    "    \n",
    "    newSpectra=[]\n",
    "    refSpectra=[]\n",
    "    # loop over all unique RA/DEC pairs from that night\n",
    "    for tid, tp, night in zip(group_tid,group_tp,group_night):\n",
    "        # if this RA/DEC is not in thie tile_petal combination than skip\n",
    "        if tp[0] not in tps:\n",
    "            continue\n",
    "            \n",
    "        if len(night) == 1:\n",
    "            continue\n",
    "            \n",
    "        # Eliminate those with no reference night here\n",
    "        # Proceed with a subtraction for this object\n",
    "        \n",
    "        # The coadds of the new and reference are constructed from all spectra with all targetid's in tid and all\n",
    "        # tile/petal combinations in tp, which are cached above\n",
    "        print(tid, tp)\n",
    "        \n",
    "        for tile,plate in tp:\n",
    "            spec = spectra_list[(tile,plate)]\n",
    "            \n",
    "            idx = numpy.in1d(night, date)\n",
    "            ref_night = night[~idx]\n",
    "            \n",
    "            newSpectra.append(spec.select(nights=date, targets = tid))\n",
    "            \n",
    "            \"\"\"\n",
    "            There is a variable night that has all the nights associated with this RA/DEC\n",
    "            derive the ref_night from that\n",
    "            \"\"\"\n",
    "            \n",
    "            refSpectra.append(spec.select(nights=ref_night, targets = tid))\n",
    "            \n",
    "        \n",
    "        newflux, newivar, newmask = coadd(newSpectra)\n",
    "        refflux, refivar, refmask = coadd(refSpectra)\n",
    "       \n",
    "        difflux, diffivar, diffmask = dict.fromkeys([\"b\", \"r\", \"z\"]), dict.fromkeys([\"b\", \"r\", \"z\"]), dict.fromkeys([\"b\", \"r\", \"z\"])\n",
    "        \n",
    "        difflux = {key: newflux[key] - refflux.get(key, 0)\n",
    "                       for key in newflux.keys()}\n",
    "        diffivar = {key: newivar[key] - refivar.get(key, 0)\n",
    "                       for key in newivar.keys()}\n",
    "        diffmask = {key: numpy.logical_and(newmask[key], refmask.get(key, 0))\n",
    "                       for key in newmask.keys()}\n",
    "        \"\"\"\n",
    "        assignment to a differenced Spectra object \n",
    "        \"\"\"\n",
    "        \n",
    "           \n",
    "            "
   ]
  },
  {
   "cell_type": "code",
   "execution_count": 54,
   "id": "6cada54b-8228-4449-b90b-e8328a7607c0",
   "metadata": {},
   "outputs": [
    {
     "data": {
      "text/plain": [
       "{(1239, 6): <desispec.spectra.Spectra at 0x2aaae3a12250>}"
      ]
     },
     "execution_count": 54,
     "metadata": {},
     "output_type": "execute_result"
    }
   ],
   "source": [
    "spectra_list"
   ]
  },
  {
   "cell_type": "code",
   "execution_count": null,
   "id": "9ee92ea6-016d-4671-a189-7249622abfa0",
   "metadata": {},
   "outputs": [],
   "source": []
  },
  {
   "cell_type": "code",
   "execution_count": 3,
   "id": "10570fd8-b684-491e-bc23-e0a3dfa62f51",
   "metadata": {},
   "outputs": [
    {
     "name": "stdout",
     "output_type": "stream",
     "text": [
      "len(night_arr): 20\n",
      "--- get unprocessed dates took:  58.364365100860596 seconds ---\n",
      "[20210606 20210607 20210614 20210615 20210616 20210617 20210618 20210619\n",
      " 20210620 20210621 20210626 20210627 20210628 20210629 20210704 20210705\n",
      " 20210706 20210707 20210708 20210709]\n"
     ]
    }
   ],
   "source": [
    "night_arr = getUnprocessedDates()\n",
    "print(night_arr)"
   ]
  },
  {
   "cell_type": "code",
   "execution_count": null,
   "id": "0ff3303e-e4bc-4da7-82f0-3c27ae42f6e5",
   "metadata": {
    "tags": []
   },
   "outputs": [],
   "source": [
    "### for debugging purposes remove 'for a in night_arr:'-loop, assign yyyymmdd = 20210606 or 20210406 for example\n",
    "\n",
    "\n",
    "for a in night_arr:   \n",
    "    # read in and store in one place all the fibermap information in the spectra files\n",
    "    yyyymmdd = a\n",
    "    dats=[]\n",
    "    for filename in glob.glob(f\"/global/project/projectdirs/desi/spectro/redux/daily/tiles/cumulative/*/{yyyymmdd}/spectra-*.fits\"):\n",
    "        t = Table.read(filename, format='fits',hdu=1, memmap=True)[['TARGETID','TARGET_RA','TARGET_DEC','TILEID','OBJTYPE','PETAL_LOC', 'NIGHT']]\n",
    "        t=t[t['OBJTYPE']=='TGT']\n",
    "        dats.append(t)\n",
    "    dats=vstack(dats, join_type='inner',metadata_conflicts='silent')\n",
    "    # group all the observations by TARGET_RA and TARGET_DEC\n",
    "    # note that this is more reliable than grouping by TARGETID as TARGETID is NOT a unique identifier of RA and DEC\n",
    "    dats_group = dats.group_by(['TARGET_RA','TARGET_DEC'])\n",
    "    \n",
    "    # for each group make a tuple containing all tileid/petal combinations that have that ra/dec\n",
    "    tile_petal=[]\n",
    "    # for each group, determine the unique nights that occur\n",
    "    night=[]\n",
    "    for g in dats_group.groups:\n",
    "        \n",
    "        gu = unique(g, keys=['TILEID'])\n",
    "        \n",
    "        dum=[]\n",
    "        for a,b,c in zip(gu['TILEID'],gu['PETAL_LOC'],gu['TARGETID']):\n",
    "            dum.append((a,b,c))\n",
    "        tile_petal.append(tuple(dum))\n",
    "\n",
    "\n",
    "        du = unique(g, keys=['NIGHT'])\n",
    "        \n",
    "        for d in zip(du['NIGHT']):\n",
    "            night.append((d))\n",
    "        \n",
    "\n",
    "    # compress things down to the unique tile/petal combinations\n",
    "    tile_petal = list(set(tile_petal))\n",
    "    # union sets that have intersecting tile/petal combinations\n",
    "    for i in range(len(tile_petal)-1,0,-1):\n",
    "        for j in range(i-1,-1,-1):\n",
    "            if len(set(tile_petal[i]) & set(tile_petal[j])) !=0:\n",
    "                tile_petal[j]=tile_petal[i]+tile_petal[j]\n",
    "                del tile_petal[i]\n",
    "                break\n",
    "    # unique of each set\n",
    "    for i in range(len(tile_petal)):\n",
    "        tile_petal[i]=list(set(tile_petal[i]))\n",
    "    \n",
    "    unique_night = numpy.unique(night)\n",
    "    \n",
    "    for i in tile_petal:\n",
    "        spectra = Spectra()\n",
    "        dif_spectra = Spectra()\n",
    "        ref_spectra = Spectra() ### or else NameError at 'if ref_spectra.num_spectra'... in the case of no reference nights\n",
    "        for j in i:    ### covers case of multiple tile/petal pairs \n",
    "            filename =  f\"/global/project/projectdirs/desi/spectro/redux/daily/tiles/cumulative/{j[0]}/{yyyymmdd}/spectra-{j[1]}-{j[0]}-thru{yyyymmdd}.fits\"\n",
    "            spectra = read_spectra(filename)\n",
    "            date = numpy.array(yyyymmdd)\n",
    "            idx = numpy.in1d(unique_night, date)\n",
    "            ref_night = unique_night[~idx]\n",
    "\n",
    "            try:\n",
    "                cur_spectra = (spectra.select(nights=date, targets = [j[2]]))\n",
    "                ref_spectra = (spectra.select(nights=ref_night, targets = [j[2]]))\n",
    "            except:\n",
    "                pass ### this is the mechanism for eliminating targets that have no reference nights. \n",
    "\n",
    "            if ref_spectra.num_spectra() != 0:\n",
    "            ### in the case of no ref nights, as 'pass' has allowed a reference spectra to be created despite a RuntimeError, this is the check that there is something to difference\n",
    "                coadd(ref_spectra)\n",
    "                dif_spectra.update(cur_spectra)\n",
    "                coadd(dif_spectra)\n",
    "                for b in dif_spectra.bands:\n",
    "                    dif_spectra.flux[b][0] = cur_spectra.flux[b][0]-ref_spectra.flux[b][0]\n",
    "                    ok = numpy.logical_and(dif_spectra.mask[b][0,:] == 0, dif_spectra.ivar[b][0] != 0)\n",
    "                    plt.plot(cur_spectra.wave[b][ok], cur_spectra.flux[b][0,ok], color = 'red', label = \"current spectra\")\n",
    "                    plt.plot(ref_spectra.wave[b][ok],ref_spectra.flux[b][0,ok], color = 'green', label = 'reference spectra')\n",
    "                    plt.plot(dif_spectra.wave[b][ok],dif_spectra.flux[b][0,ok], color = 'cyan', label = 'differenced spectra')\n",
    "                    if b == 'b':\n",
    "                        plt.legend()\n",
    "                plt.show()\n",
    "                \n",
    "                # save each days candidate plots into one pdf\n",
    "                with PdfPages('diff_candidates(%d).pdf' % yyyymmdd) as pdf:\n",
    "                    fig = plt.figure()\n",
    "                    pdf.savefig(fig)\n",
    "\n",
    "    ### insert garbage collection potentially\n",
    "            \n",
    "    \n",
    "    "
   ]
  },
  {
   "cell_type": "code",
   "execution_count": null,
   "id": "9e5e259e-e310-4455-a816-de8dc956418f",
   "metadata": {},
   "outputs": [],
   "source": []
  },
  {
   "cell_type": "code",
   "execution_count": null,
   "id": "26a52d5a-81c6-45b6-9f52-3e04572f419f",
   "metadata": {},
   "outputs": [],
   "source": []
  },
  {
   "cell_type": "code",
   "execution_count": null,
   "id": "7a728858-39f9-4b67-a4c8-b3b071c2eb60",
   "metadata": {},
   "outputs": [],
   "source": []
  }
 ],
 "metadata": {
  "kernelspec": {
   "display_name": "DESI master",
   "language": "python",
   "name": "desi-master"
  },
  "language_info": {
   "codemirror_mode": {
    "name": "ipython",
    "version": 3
   },
   "file_extension": ".py",
   "mimetype": "text/x-python",
   "name": "python",
   "nbconvert_exporter": "python",
   "pygments_lexer": "ipython3",
   "version": "3.8.3"
  }
 },
 "nbformat": 4,
 "nbformat_minor": 5
}
