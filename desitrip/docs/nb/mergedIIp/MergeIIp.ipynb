{
 "cells": [
  {
   "cell_type": "code",
   "execution_count": 8,
   "metadata": {},
   "outputs": [],
   "source": [
    "from desispec.io import read_spectra\n",
    "from desitrip.preproc import rebin_flux, rescale_flux\n",
    "\n",
    "from glob import glob\n",
    "\n",
    "import numpy as np\n",
    "import matplotlib as mpl\n",
    "import matplotlib.pyplot as plt\n",
    "\n",
    "from astropy.table import Table\n",
    "\n",
    "import os\n",
    "import platform\n",
    "\n",
    "mpl.rc('font', size=14)"
   ]
  },
  {
   "cell_type": "code",
   "execution_count": 9,
   "metadata": {},
   "outputs": [],
   "source": [
    "def condition_spectra(coadd_files, truth_files):\n",
    "    \"\"\"Read DESI spectra, rebin to a subsampled logarithmic wavelength grid, and rescale.\n",
    "    \n",
    "    Parameters\n",
    "    ----------\n",
    "    coadd_files : list or ndarray\n",
    "        List of FITS files on disk with DESI spectra.\n",
    "    truth_files : list or ndarray\n",
    "        Truth files.\n",
    "    \n",
    "    Returns\n",
    "    -------\n",
    "    fluxes : ndarray\n",
    "        Array of fluxes rebinned to a logarithmic wavelength grid.\n",
    "    \"\"\"\n",
    "    fluxes = None\n",
    "    \n",
    "    for cf, tf in zip(coadd_files, truth_files):\n",
    "        spectra = read_spectra(cf)\n",
    "        wave = spectra.wave['brz']\n",
    "        flux = spectra.flux['brz']\n",
    "        ivar = spectra.ivar['brz']\n",
    "        \n",
    "        truth = Table.read(tf, 'TRUTH')\n",
    "        truez = truth['TRUEZ']\n",
    "\n",
    "#         # Pre-condition: remove spectra with NaNs and zero flux values.\n",
    "#         mask = np.isnan(flux).any(axis=1) | (np.count_nonzero(flux, axis=1) == 0)\n",
    "#         mask_idx = np.argwhere(mask)\n",
    "#         flux = np.delete(flux, mask_idx, axis=0)\n",
    "#         ivar = np.delete(ivar, mask_idx, axis=0)\n",
    "\n",
    "        # Rebin and rescale fluxes so that each is normalized between 0 and 1.\n",
    "        rewave, reflux, reivar = rebin_flux(wave, flux, ivar, truez, minwave=2500., maxwave=9500., nbins=150, log=True, clip=True)\n",
    "        rsflux = rescale_flux(reflux)\n",
    "\n",
    "        if fluxes is None:\n",
    "            fluxes = rsflux\n",
    "        else:\n",
    "            fluxes = np.concatenate((fluxes, rsflux))\n",
    "    \n",
    "    return fluxes"
   ]
  },
  {
   "cell_type": "code",
   "execution_count": 11,
   "metadata": {},
   "outputs": [],
   "source": [
    "host_truth = sorted(glob('/global/cfs/projectdirs/desi/science/td/sim/bgs/150s/hosts/*truth.fits'))\n",
    "host_coadd = sorted(glob('/global/cfs/projectdirs/desi/science/td/sim/bgs/150s/hosts/*coadd.fits'))\n",
    "host_flux  = condition_spectra(host_coadd, host_truth)"
   ]
  },
  {
   "cell_type": "code",
   "execution_count": 14,
   "metadata": {},
   "outputs": [],
   "source": [
    "snia_truth = sorted(glob('/global/cfs/projectdirs/desi/science/td/sim/bgs/150s/sn_ia/hsiao/*truth.fits'))\n",
    "snia_files = sorted(glob('/global/cfs/projectdirs/desi/science/td/sim/bgs/150s/sn_ia/hsiao/*coadd.fits'))\n",
    "snia_flux  = condition_spectra(snia_files, snia_truth)"
   ]
  },
  {
   "cell_type": "code",
   "execution_count": 15,
   "metadata": {},
   "outputs": [],
   "source": [
    "snib_truth = sorted(glob('/global/cfs/projectdirs/desi/science/td/sim/bgs/150s/sn_ib/*/*truth.fits'))\n",
    "snib_files = sorted(glob('/global/cfs/projectdirs/desi/science/td/sim/bgs/150s/sn_ib/*/*coadd.fits'))\n",
    "snib_flux  = condition_spectra(snib_files, snib_truth)"
   ]
  },
  {
   "cell_type": "code",
   "execution_count": 13,
   "metadata": {},
   "outputs": [],
   "source": [
    "snic_truth = sorted(glob('/global/cfs/projectdirs/desi/science/td/sim/bgs/150s/sn_ic/*/*truth.fits'))\n",
    "snic_files = sorted(glob('/global/cfs/projectdirs/desi/science/td/sim/bgs/150s/sn_ic/*/*coadd.fits'))\n",
    "snic_flux  = condition_spectra(snic_files, snic_truth)"
   ]
  },
  {
   "cell_type": "code",
   "execution_count": 16,
   "metadata": {},
   "outputs": [],
   "source": [
    "sniin_truth = sorted(glob('/global/cfs/projectdirs/desi/science/td/sim/bgs/150s/sn_iin/*/*truth.fits'))\n",
    "sniin_files = sorted(glob('/global/cfs/projectdirs/desi/science/td/sim/bgs/150s/sn_iin/*/*coadd.fits'))\n",
    "sniin_flux  = condition_spectra(sniin_files, sniin_truth)"
   ]
  },
  {
   "cell_type": "code",
   "execution_count": 17,
   "metadata": {},
   "outputs": [],
   "source": [
    "sniilp_truth = sorted(glob('/global/cfs/projectdirs/desi/science/td/sim/bgs/150s/sn_iilp/*/*truth.fits'))\n",
    "sniilp_files = sorted(glob('/global/cfs/projectdirs/desi/science/td/sim/bgs/150s/sn_iilp/*/*coadd.fits'))\n",
    "sniilp_flux  = condition_spectra(sniilp_files, sniilp_truth)"
   ]
  },
  {
   "cell_type": "code",
   "execution_count": 18,
   "metadata": {},
   "outputs": [],
   "source": [
    "sniip_truth = sorted(glob('/global/cfs/projectdirs/desi/science/td/sim/bgs/150s/sn_iip/*/*truth.fits'))\n",
    "sniip_files = sorted(glob('/global/cfs/projectdirs/desi/science/td/sim/bgs/150s/sn_iip/*/*coadd.fits'))\n",
    "sniip_flux  = condition_spectra(sniip_files, sniip_truth)"
   ]
  },
  {
   "cell_type": "code",
   "execution_count": 34,
   "metadata": {},
   "outputs": [],
   "source": [
    "sniip_merge_flux = []\n",
    "sniip_merge_flux = np.concatenate((sniip_flux, sniilp_flux))"
   ]
  },
  {
   "cell_type": "code",
   "execution_count": 35,
   "metadata": {},
   "outputs": [
    {
     "data": {
      "text/plain": [
       "(9969, 9964, 9958, 8269, 9949, 19910, 150)"
      ]
     },
     "execution_count": 35,
     "metadata": {},
     "output_type": "execute_result"
    }
   ],
   "source": [
    "nhost, nbins  = host_flux.shape\n",
    "nsnia, nbins  = snia_flux.shape\n",
    "nsnib, nbins  = snib_flux.shape\n",
    "nsnic, nbins  = snic_flux.shape\n",
    "nsniin, nbins = sniin_flux.shape\n",
    "nsniip_merge, nbins = sniip_merge_flux.shape\n",
    "nhost, nsnia, nsnib, nsnic, nsniin, nsniip_merge, nbins"
   ]
  },
  {
   "cell_type": "code",
   "execution_count": 37,
   "metadata": {},
   "outputs": [],
   "source": [
    "x = np.concatenate([host_flux, \n",
    "                    snia_flux,\n",
    "                    snib_flux,\n",
    "                    snic_flux,\n",
    "                    sniin_flux,\n",
    "                    sniip_merge_flux\n",
    "                   ]).reshape(-1, nbins, 1)\n",
    "\n",
    "labels = ['Host',\n",
    "          'SN Ia',\n",
    "          'SN Ib',\n",
    "          'SN Ic',\n",
    "          'SN IIn',\n",
    "          'SN IIP Merged']\n",
    "ntypes = len(labels)\n",
    "\n",
    "# # Convert y-label array to appropriate categorical array\n",
    "# from tensorflow.keras.utils import to_categorical\n",
    "\n",
    "# y = to_categorical(\n",
    "#         np.concatenate([np.full(nhost, 0), \n",
    "#                         np.full(nsnia, 1),\n",
    "#                         np.full(nsnib, 2),\n",
    "#                         np.full(nsnic, 3),\n",
    "#                         np.full(nsniin, 4),\n",
    "#                         np.full(nsniilp_merge, 5),\n",
    "#                        ]))"
   ]
  },
  {
   "cell_type": "code",
   "execution_count": 38,
   "metadata": {},
   "outputs": [],
   "source": [
    "import pickle\n",
    "\n",
    "with open(r'/global/u2/a/awasserm/merged_data.data', 'wb') as merge_data:\n",
    "    pickle.dump(x, merge_data) "
   ]
  },
  {
   "cell_type": "code",
   "execution_count": 39,
   "metadata": {},
   "outputs": [
    {
     "data": {
      "text/plain": [
       "(19910, 150)"
      ]
     },
     "execution_count": 39,
     "metadata": {},
     "output_type": "execute_result"
    }
   ],
   "source": [
    "sniip_merge_flux.shape"
   ]
  },
  {
   "cell_type": "code",
   "execution_count": 40,
   "metadata": {},
   "outputs": [
    {
     "data": {
      "text/plain": [
       "19910"
      ]
     },
     "execution_count": 40,
     "metadata": {},
     "output_type": "execute_result"
    }
   ],
   "source": [
    "(9948+9962)"
   ]
  },
  {
   "cell_type": "code",
   "execution_count": null,
   "metadata": {},
   "outputs": [],
   "source": []
  }
 ],
 "metadata": {
  "kernelspec": {
   "display_name": "DESI 19.12",
   "language": "python",
   "name": "desi-19.12"
  },
  "language_info": {
   "codemirror_mode": {
    "name": "ipython",
    "version": 3
   },
   "file_extension": ".py",
   "mimetype": "text/x-python",
   "name": "python",
   "nbconvert_exporter": "python",
   "pygments_lexer": "ipython3",
   "version": "3.6.6"
  }
 },
 "nbformat": 4,
 "nbformat_minor": 4
}
