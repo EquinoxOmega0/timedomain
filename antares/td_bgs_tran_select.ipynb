{
 "cells": [
  {
   "cell_type": "markdown",
   "metadata": {},
   "source": [
    "# Finding Antares SNe in DESI BGS # "
   ]
  },
  {
   "cell_type": "markdown",
   "metadata": {},
   "source": [
    "#### This notebook selects BGS in coadd tiles and find SNe from Antares in those BGS positions ####"
   ]
  },
  {
   "cell_type": "code",
   "execution_count": 42,
   "metadata": {},
   "outputs": [],
   "source": [
    "import numpy as np\n",
    "\n",
    "from astropy.io import fits\n",
    "from astropy.table import Table, vstack\n",
    "import matplotlib.pyplot as plt\n",
    "\n",
    "import desitarget\n",
    "from desitarget.targetmask import desi_mask, bgs_mask\n",
    "from desitarget.cmx.cmx_targetmask import cmx_mask\n",
    "from desispec.io import read_spectra\n",
    "\n",
    "from glob import glob\n",
    "\n",
    "from astropy.coordinates import SkyCoord, match_coordinates_sky\n",
    "from astropy.io import ascii\n",
    "from astropy import units as u\n"
   ]
  },
  {
   "cell_type": "markdown",
   "metadata": {},
   "source": [
    "### example single coadd file ###"
   ]
  },
  {
   "cell_type": "code",
   "execution_count": 2,
   "metadata": {},
   "outputs": [],
   "source": [
    "coadd_file = '/global/cfs/cdirs/desi/spectro/redux/daily/tiles/70502/20200225/coadd-0-70502-20200225.fits' # spectra in petal 0 in 70502 tile observed on Feb. 25 2020 "
   ]
  },
  {
   "cell_type": "code",
   "execution_count": 4,
   "metadata": {},
   "outputs": [],
   "source": [
    "coaddsfits=fits.open(coadd_file)"
   ]
  },
  {
   "cell_type": "code",
   "execution_count": 5,
   "metadata": {},
   "outputs": [
    {
     "name": "stdout",
     "output_type": "stream",
     "text": [
      "Filename: /global/cfs/cdirs/desi/spectro/redux/daily/tiles/70502/20200225/coadd-0-70502-20200225.fits\n",
      "No.    Name      Ver    Type      Cards   Dimensions   Format\n",
      "  0  PRIMARY       1 PrimaryHDU      34   ()      \n",
      "  1  FIBERMAP      1 BinTableHDU    283   500R x 136C   [K, I, J, K, J, J, D, D, E, E, E, E, E, E, K, B, 3A, E, E, I, J, D, J, J, I, J, 8A, J, 4A, E, E, E, E, E, E, E, E, E, E, E, E, E, E, E, E, E, E, E, E, E, I, I, I, E, E, E, E, E, E, E, E, E, E, E, E, E, E, E, E, E, E, I, I, I, E, E, E, E, E, E, B, B, I, E, E, E, E, E, E, E, E, E, E, E, E, E, E, K, 2A, E, E, E, E, E, E, E, E, L, E, L, E, E, 1A, K, K, K, K, E, E, E, E, K, K, K, K, D, D, D, D, D, D, D, D, K, K, K]   \n",
      "  2  BRZ_WAVELENGTH    1 ImageHDU        10   (7781,)   float64   \n",
      "  3  BRZ_FLUX      1 ImageHDU        11   (7781, 500)   float32   \n",
      "  4  BRZ_IVAR      1 ImageHDU        11   (7781, 500)   float32   \n",
      "  5  BRZ_MASK      1 ImageHDU        12   (7781, 500)   int32 (rescales to uint32)   \n",
      "  6  BRZ_RESOLUTION    1 ImageHDU        11   (7781, 11, 500)   float32   \n"
     ]
    }
   ],
   "source": [
    "coaddsfits.info()"
   ]
  },
  {
   "cell_type": "code",
   "execution_count": 6,
   "metadata": {},
   "outputs": [
    {
     "data": {
      "text/plain": [
       "XTENSION= 'BINTABLE'           / binary table extension                         \n",
       "BITPIX  =                    8 / array data type                                \n",
       "NAXIS   =                    2 / number of array dimensions                     \n",
       "NAXIS1  =                  611 / length of dimension 1                          \n",
       "NAXIS2  =                  500 / length of dimension 2                          \n",
       "PCOUNT  =                    0 / number of group parameters                     \n",
       "GCOUNT  =                    1 / number of groups                               \n",
       "TFIELDS =                  136 / number of table fields                         \n",
       "TTYPE1  = 'TARGETID'           / Unique target ID                               \n",
       "TFORM1  = 'K       '                                                            \n",
       "TTYPE2  = 'PETAL_LOC'          / Petal location [0-9]                           \n",
       "TFORM2  = 'I       '                                                            \n",
       "TTYPE3  = 'DEVICE_LOC'         / Device location on focal plane [0-523]         \n",
       "TFORM3  = 'J       '                                                            \n",
       "TTYPE4  = 'LOCATION'           / FP location PETAL_LOC*1000 + DEVICE_LOC        \n",
       "TFORM4  = 'K       '                                                            \n",
       "TTYPE5  = 'FIBER   '           / Fiber ID on the CCDs [0-4999]                  \n",
       "TFORM5  = 'J       '                                                            \n",
       "TTYPE6  = 'FIBERSTATUS'        / Fiber status; 0=good                           \n",
       "TFORM6  = 'J       '                                                            \n",
       "TTYPE7  = 'TARGET_RA'          / Target Right Ascension [degrees]               \n",
       "TFORM7  = 'D       '                                                            \n",
       "TTYPE8  = 'TARGET_DEC'         / Target declination [degrees]                   \n",
       "TFORM8  = 'D       '                                                            \n",
       "TTYPE9  = 'PMRA    '           / Proper motion in +RA direction (already includi\n",
       "TFORM9  = 'E       '                                                            \n",
       "TTYPE10 = 'PMDEC   '           / Proper motion in +dec direction                \n",
       "TFORM10 = 'E       '                                                            \n",
       "TTYPE11 = 'PMRA_IVAR'          / Inverse variance of PMRA                       \n",
       "TFORM11 = 'E       '                                                            \n",
       "TTYPE12 = 'PMDEC_IVAR'         / Inverse variance of PMDEC                      \n",
       "TFORM12 = 'E       '                                                            \n",
       "TTYPE13 = 'REF_EPOCH'          / proper motion reference epoch                  \n",
       "TFORM13 = 'E       '                                                            \n",
       "TTYPE14 = 'LAMBDA_REF'         / Wavelength at which fiber was centered         \n",
       "TFORM14 = 'E       '                                                            \n",
       "TTYPE15 = 'FA_TARGET'                                                           \n",
       "TFORM15 = 'K       '                                                            \n",
       "TTYPE16 = 'FA_TYPE '           / Internal fiberassign target type               \n",
       "TFORM16 = 'B       '                                                            \n",
       "TTYPE17 = 'OBJTYPE '           / SKY, TGT, NON                                  \n",
       "TFORM17 = '3A      '                                                            \n",
       "TTYPE18 = 'FIBERASSIGN_X'      / Expected CS5 X on focal plane                  \n",
       "TFORM18 = 'E       '                                                            \n",
       "TTYPE19 = 'FIBERASSIGN_Y'      / Expected CS5 Y on focal plane                  \n",
       "TFORM19 = 'E       '                                                            \n",
       "TTYPE20 = 'NUMTARGET'          / Number of targets covered by positioner        \n",
       "TFORM20 = 'I       '                                                            \n",
       "TTYPE21 = 'PRIORITY'           / Assignment priority; larger=higher priority    \n",
       "TFORM21 = 'J       '                                                            \n",
       "TTYPE22 = 'SUBPRIORITY'        / Assignment subpriority [0-1)                   \n",
       "TFORM22 = 'D       '                                                            \n",
       "TTYPE23 = 'OBSCONDITIONS'      / bitmask of allowable observing conditions      \n",
       "TFORM23 = 'J       '                                                            \n",
       "TTYPE24 = 'NUMOBS_MORE'        / current number of additional observations reque\n",
       "TFORM24 = 'J       '                                                            \n",
       "TTYPE25 = 'RELEASE '           / imaging surveys release ID                     \n",
       "TFORM25 = 'I       '                                                            \n",
       "TTYPE26 = 'BRICKID '           / Imaging Surveys brick ID                       \n",
       "TFORM26 = 'J       '                                                            \n",
       "TTYPE27 = 'BRICKNAME'                                                           \n",
       "TFORM27 = '8A      '                                                            \n",
       "TTYPE28 = 'BRICK_OBJID'        / Imaging Surveys OBJID on that brick            \n",
       "TFORM28 = 'J       '                                                            \n",
       "TTYPE29 = 'MORPHTYPE'          / Imaging Surveys morphological type             \n",
       "TFORM29 = '4A      '                                                            \n",
       "TTYPE30 = 'TARGET_RA_IVAR'     / Inverse variance of TARGET_RA                  \n",
       "TFORM30 = 'E       '                                                            \n",
       "TTYPE31 = 'TARGET_DEC_IVAR'    / Inverse variance of TARGET_DEC                 \n",
       "TFORM31 = 'E       '                                                            \n",
       "TTYPE32 = 'EBV     '           / Galactic extinction E(B-V) reddening from SFD98\n",
       "TFORM32 = 'E       '                                                            \n",
       "TTYPE33 = 'FLUX_G  '           / g-band flux                                    \n",
       "TFORM33 = 'E       '                                                            \n",
       "TTYPE34 = 'FLUX_R  '           / r-band flux                                    \n",
       "TFORM34 = 'E       '                                                            \n",
       "TTYPE35 = 'FLUX_Z  '           / z-band flux                                    \n",
       "TFORM35 = 'E       '                                                            \n",
       "TTYPE36 = 'FLUX_IVAR_G'        / Inverse variance of FLUX_G                     \n",
       "TFORM36 = 'E       '                                                            \n",
       "TTYPE37 = 'FLUX_IVAR_R'        / Inverse variance of FLUX_R                     \n",
       "TFORM37 = 'E       '                                                            \n",
       "TTYPE38 = 'FLUX_IVAR_Z'        / Inverse variance of FLUX_Z                     \n",
       "TFORM38 = 'E       '                                                            \n",
       "TTYPE39 = 'MW_TRANSMISSION_G'  / Milky Way dust transmission in g [0-1]         \n",
       "TFORM39 = 'E       '                                                            \n",
       "TTYPE40 = 'MW_TRANSMISSION_R'  / Milky Way dust transmission in r [0-1]         \n",
       "TFORM40 = 'E       '                                                            \n",
       "TTYPE41 = 'MW_TRANSMISSION_Z'  / Milky Way dust transmission in z [0-1]         \n",
       "TFORM41 = 'E       '                                                            \n",
       "TTYPE42 = 'FRACFLUX_G'                                                          \n",
       "TFORM42 = 'E       '                                                            \n",
       "TTYPE43 = 'FRACFLUX_R'                                                          \n",
       "TFORM43 = 'E       '                                                            \n",
       "TTYPE44 = 'FRACFLUX_Z'                                                          \n",
       "TFORM44 = 'E       '                                                            \n",
       "TTYPE45 = 'FRACMASKED_G'                                                        \n",
       "TFORM45 = 'E       '                                                            \n",
       "TTYPE46 = 'FRACMASKED_R'                                                        \n",
       "TFORM46 = 'E       '                                                            \n",
       "TTYPE47 = 'FRACMASKED_Z'                                                        \n",
       "TFORM47 = 'E       '                                                            \n",
       "TTYPE48 = 'FRACIN_G'                                                            \n",
       "TFORM48 = 'E       '                                                            \n",
       "TTYPE49 = 'FRACIN_R'                                                            \n",
       "TFORM49 = 'E       '                                                            \n",
       "TTYPE50 = 'FRACIN_Z'                                                            \n",
       "TFORM50 = 'E       '                                                            \n",
       "TTYPE51 = 'NOBS_G  '                                                            \n",
       "TFORM51 = 'I       '                                                            \n",
       "TTYPE52 = 'NOBS_R  '                                                            \n",
       "TFORM52 = 'I       '                                                            \n",
       "TTYPE53 = 'NOBS_Z  '                                                            \n",
       "TFORM53 = 'I       '                                                            \n",
       "TTYPE54 = 'PSFDEPTH_G'                                                          \n",
       "TFORM54 = 'E       '                                                            \n",
       "TTYPE55 = 'PSFDEPTH_R'                                                          \n",
       "TFORM55 = 'E       '                                                            \n",
       "TTYPE56 = 'PSFDEPTH_Z'                                                          \n",
       "TFORM56 = 'E       '                                                            \n",
       "TTYPE57 = 'GALDEPTH_G'                                                          \n",
       "TFORM57 = 'E       '                                                            \n",
       "TTYPE58 = 'GALDEPTH_R'                                                          \n",
       "TFORM58 = 'E       '                                                            \n",
       "TTYPE59 = 'GALDEPTH_Z'                                                          \n",
       "TFORM59 = 'E       '                                                            \n",
       "TTYPE60 = 'FLUX_W1 '           / WISE W1-band flux                              \n",
       "TFORM60 = 'E       '                                                            \n",
       "TTYPE61 = 'FLUX_W2 '           / WISE W2-band flux                              \n",
       "TFORM61 = 'E       '                                                            \n",
       "TTYPE62 = 'FLUX_W3 '                                                            \n",
       "TFORM62 = 'E       '                                                            \n",
       "TTYPE63 = 'FLUX_W4 '                                                            \n",
       "TFORM63 = 'E       '                                                            \n",
       "TTYPE64 = 'FLUX_IVAR_W1'       / Inverse variance of FLUX_W1                    \n",
       "TFORM64 = 'E       '                                                            \n",
       "TTYPE65 = 'FLUX_IVAR_W2'       / Inverse variance of FLUX_W2                    \n",
       "TFORM65 = 'E       '                                                            \n",
       "TTYPE66 = 'FLUX_IVAR_W3'                                                        \n",
       "TFORM66 = 'E       '                                                            \n",
       "TTYPE67 = 'FLUX_IVAR_W4'                                                        \n",
       "TFORM67 = 'E       '                                                            \n",
       "TTYPE68 = 'MW_TRANSMISSION_W1'                                                  \n",
       "TFORM68 = 'E       '                                                            \n",
       "TTYPE69 = 'MW_TRANSMISSION_W2'                                                  \n",
       "TFORM69 = 'E       '                                                            \n",
       "TTYPE70 = 'MW_TRANSMISSION_W3'                                                  \n",
       "TFORM70 = 'E       '                                                            \n",
       "TTYPE71 = 'MW_TRANSMISSION_W4'                                                  \n",
       "TFORM71 = 'E       '                                                            \n",
       "TTYPE72 = 'ALLMASK_G'                                                           \n",
       "TFORM72 = 'I       '                                                            \n",
       "TTYPE73 = 'ALLMASK_R'                                                           \n",
       "TFORM73 = 'I       '                                                            \n",
       "TTYPE74 = 'ALLMASK_Z'                                                           \n",
       "TFORM74 = 'I       '                                                            \n",
       "TTYPE75 = 'FIBERFLUX_G'        / g-band object model flux for 1\" seeing and 1.5\"\n",
       "TFORM75 = 'E       '                                                            \n",
       "TTYPE76 = 'FIBERFLUX_R'        / r-band object model flux for 1\" seeing and 1.5\"\n",
       "TFORM76 = 'E       '                                                            \n",
       "TTYPE77 = 'FIBERFLUX_Z'        / z-band object model flux for 1\" seeing and 1.5\"\n",
       "TFORM77 = 'E       '                                                            \n",
       "TTYPE78 = 'FIBERTOTFLUX_G'     / like FIBERFLUX_G but including all objects over\n",
       "TFORM78 = 'E       '                                                            \n",
       "TTYPE79 = 'FIBERTOTFLUX_R'     / like FIBERFLUX_R but including all objects over\n",
       "TFORM79 = 'E       '                                                            \n",
       "TTYPE80 = 'FIBERTOTFLUX_Z'     / like FIBERFLUX_Z but including all objects over\n",
       "TFORM80 = 'E       '                                                            \n",
       "TTYPE81 = 'WISEMASK_W1'                                                         \n",
       "TFORM81 = 'B       '                                                            \n",
       "TTYPE82 = 'WISEMASK_W2'                                                         \n",
       "TFORM82 = 'B       '                                                            \n",
       "TTYPE83 = 'MASKBITS'                                                            \n",
       "TFORM83 = 'I       '                                                            \n",
       "TTYPE84 = 'FRACDEV '                                                            \n",
       "TFORM84 = 'E       '                                                            \n",
       "TTYPE85 = 'FRACDEV_IVAR'                                                        \n",
       "TFORM85 = 'E       '                                                            \n",
       "TTYPE86 = 'SHAPEDEV_R'                                                          \n",
       "TFORM86 = 'E       '                                                            \n",
       "TTYPE87 = 'SHAPEDEV_E1'                                                         \n",
       "TFORM87 = 'E       '                                                            \n",
       "TTYPE88 = 'SHAPEDEV_E2'                                                         \n",
       "TFORM88 = 'E       '                                                            \n",
       "TTYPE89 = 'SHAPEDEV_R_IVAR'                                                     \n",
       "TFORM89 = 'E       '                                                            \n",
       "TTYPE90 = 'SHAPEDEV_E1_IVAR'                                                    \n",
       "TFORM90 = 'E       '                                                            \n",
       "TTYPE91 = 'SHAPEDEV_E2_IVAR'                                                    \n",
       "TFORM91 = 'E       '                                                            \n",
       "TTYPE92 = 'SHAPEEXP_R'                                                          \n",
       "TFORM92 = 'E       '                                                            \n",
       "TTYPE93 = 'SHAPEEXP_E1'                                                         \n",
       "TFORM93 = 'E       '                                                            \n",
       "TTYPE94 = 'SHAPEEXP_E2'                                                         \n",
       "TFORM94 = 'E       '                                                            \n",
       "TTYPE95 = 'SHAPEEXP_R_IVAR'                                                     \n",
       "TFORM95 = 'E       '                                                            \n",
       "TTYPE96 = 'SHAPEEXP_E1_IVAR'                                                    \n",
       "TFORM96 = 'E       '                                                            \n",
       "TTYPE97 = 'SHAPEEXP_E2_IVAR'                                                    \n",
       "TFORM97 = 'E       '                                                            \n",
       "TTYPE98 = 'REF_ID  '           / Astrometric catalog reference ID (SOURCE_ID fro\n",
       "TFORM98 = 'K       '                                                            \n",
       "TTYPE99 = 'REF_CAT '                                                            \n",
       "TFORM99 = '2A      '                                                            \n",
       "TTYPE100= 'GAIA_PHOT_G_MEAN_MAG'                                                \n",
       "TFORM100= 'E       '                                                            \n",
       "TTYPE101= 'GAIA_PHOT_G_MEAN_FLUX_OVER_ERROR'                                    \n",
       "TFORM101= 'E       '                                                            \n",
       "TTYPE102= 'GAIA_PHOT_BP_MEAN_MAG'                                               \n",
       "TFORM102= 'E       '                                                            \n",
       "TTYPE103= 'GAIA_PHOT_BP_MEAN_FLUX_OVER_ERROR'                                   \n",
       "TFORM103= 'E       '                                                            \n",
       "TTYPE104= 'GAIA_PHOT_RP_MEAN_MAG'                                               \n",
       "TFORM104= 'E       '                                                            \n",
       "TTYPE105= 'GAIA_PHOT_RP_MEAN_FLUX_OVER_ERROR'                                   \n",
       "TFORM105= 'E       '                                                            \n",
       "TTYPE106= 'GAIA_PHOT_BP_RP_EXCESS_FACTOR'                                       \n",
       "TFORM106= 'E       '                                                            \n",
       "TTYPE107= 'GAIA_ASTROMETRIC_EXCESS_NOISE'                                       \n",
       "TFORM107= 'E       '                                                            \n",
       "TTYPE108= 'GAIA_DUPLICATED_SOURCE'                                              \n",
       "TFORM108= 'L       '                                                            \n",
       "TTYPE109= 'GAIA_ASTROMETRIC_SIGMA5D_MAX'                                        \n",
       "TFORM109= 'E       '                                                            \n",
       "TTYPE110= 'GAIA_ASTROMETRIC_PARAMS_SOLVED'                                      \n",
       "TFORM110= 'L       '                                                            \n",
       "TTYPE111= 'PARALLAX'                                                            \n",
       "TFORM111= 'E       '                                                            \n",
       "TTYPE112= 'PARALLAX_IVAR'                                                       \n",
       "TFORM112= 'E       '                                                            \n",
       "TTYPE113= 'PHOTSYS '           / N for BASS/MzLS, S for DECam                   \n",
       "TFORM113= '1A      '                                                            \n",
       "TTYPE114= 'CMX_TARGET'                                                          \n",
       "TFORM114= 'K       '                                                            \n",
       "TTYPE115= 'PRIORITY_INIT'      / initial priority                               \n",
       "TFORM115= 'K       '                                                            \n",
       "TTYPE116= 'NUMOBS_INIT'        / initial number of requested observations       \n",
       "TFORM116= 'K       '                                                            \n",
       "TTYPE117= 'HPXPIXEL'           / Healpix pixel number (NESTED)                  \n",
       "TFORM117= 'K       '                                                            \n",
       "TTYPE118= 'BLOBDIST'                                                            \n",
       "TFORM118= 'E       '                                                            \n",
       "TTYPE119= 'FIBERFLUX_IVAR_G'                                                    \n",
       "TFORM119= 'E       '                                                            \n",
       "TTYPE120= 'FIBERFLUX_IVAR_R'                                                    \n",
       "TFORM120= 'E       '                                                            \n",
       "TTYPE121= 'FIBERFLUX_IVAR_Z'                                                    \n",
       "TFORM121= 'E       '                                                            \n",
       "TTYPE122= 'DESI_TARGET'        / Dark survey + calibration targeting bits       \n",
       "TFORM122= 'K       '                                                            \n",
       "TTYPE123= 'BGS_TARGET'         / Bright Galaxy Survey targeting bits            \n",
       "TFORM123= 'K       '                                                            \n",
       "TTYPE124= 'MWS_TARGET'         / Milky Way Survey targeting bits                \n",
       "TFORM124= 'K       '                                                            \n",
       "TTYPE125= 'NUM_ITER'           / Number of positioner iterations                \n",
       "TFORM125= 'K       '                                                            \n",
       "TTYPE126= 'FIBER_X '                                                            \n",
       "TFORM126= 'D       '                                                            \n",
       "TTYPE127= 'FIBER_Y '                                                            \n",
       "TFORM127= 'D       '                                                            \n",
       "TTYPE128= 'MEAN_DELTA_X'                                                        \n",
       "TFORM128= 'D       '                                                            \n",
       "TTYPE129= 'MEAN_DELTA_Y'                                                        \n",
       "TFORM129= 'D       '                                                            \n",
       "TTYPE130= 'FIBER_RA'           / RA of actual fiber position                    \n",
       "TFORM130= 'D       '                                                            \n",
       "TTYPE131= 'FIBER_DEC'          / DEC of actual fiber position                   \n",
       "TFORM131= 'D       '                                                            \n",
       "TTYPE132= 'RMS_DELTA_X'                                                         \n",
       "TFORM132= 'D       '                                                            \n",
       "TTYPE133= 'RMS_DELTA_Y'                                                         \n",
       "TFORM133= 'D       '                                                            \n",
       "TTYPE134= 'FIRST_FIBER'                                                         \n",
       "TFORM134= 'K       '                                                            \n",
       "TTYPE135= 'LAST_FIBER'                                                          \n",
       "TFORM135= 'K       '                                                            \n",
       "TTYPE136= 'NUM_FIBER'                                                           \n",
       "TFORM136= 'K       '                                                            \n",
       "EXTNAME = 'FIBERMAP'                                                            \n",
       "CHECKSUM= 'L7gZL5fZL5fZL5fZ'   / HDU checksum updated 2020-02-26T16:00:00       \n",
       "DATASUM = '2444066057'         / data unit checksum updated 2020-02-26T16:00:00 "
      ]
     },
     "execution_count": 6,
     "metadata": {},
     "output_type": "execute_result"
    }
   ],
   "source": [
    "coaddsfits['fibermap'].header"
   ]
  },
  {
   "cell_type": "markdown",
   "metadata": {},
   "source": [
    "### loop through all coadds in one tile ###"
   ]
  },
  {
   "cell_type": "code",
   "execution_count": 7,
   "metadata": {},
   "outputs": [
    {
     "data": {
      "text/plain": [
       "['/global/cfs/cdirs/desi/spectro/redux/daily/tiles/70502/20200225/coadd-0-70502-20200225.fits',\n",
       " '/global/cfs/cdirs/desi/spectro/redux/daily/tiles/70502/20200225/coadd-3-70502-20200225.fits',\n",
       " '/global/cfs/cdirs/desi/spectro/redux/daily/tiles/70502/20200225/coadd-6-70502-20200225.fits',\n",
       " '/global/cfs/cdirs/desi/spectro/redux/daily/tiles/70502/20200225/coadd-7-70502-20200225.fits',\n",
       " '/global/cfs/cdirs/desi/spectro/redux/daily/tiles/70502/20200225/coadd-9-70502-20200225.fits']"
      ]
     },
     "execution_count": 7,
     "metadata": {},
     "output_type": "execute_result"
    }
   ],
   "source": [
    "prefix = '/global/cfs/cdirs/desi/spectro/redux/daily/tiles/70502/20200225'\n",
    "coadds = sorted(glob('{}/*coadd*.fits'.format(prefix)))\n",
    "coadds"
   ]
  },
  {
   "cell_type": "code",
   "execution_count": 9,
   "metadata": {},
   "outputs": [],
   "source": [
    "fibermap = None\n",
    "for coadd in coadds:\n",
    "    hdus = fits.open(coadd)\n",
    "    spectra = read_spectra(coadd)\n",
    "    if fibermap is None:\n",
    "        fibermap = spectra.fibermap  # read in the first coadd fibermap\n",
    "    else:\n",
    "        fibermap = vstack([fibermap, spectra.fibermap])"
   ]
  },
  {
   "cell_type": "markdown",
   "metadata": {},
   "source": [
    "### select BGS ###"
   ]
  },
  {
   "cell_type": "code",
   "execution_count": 76,
   "metadata": {},
   "outputs": [
    {
     "data": {
      "text/plain": [
       "256"
      ]
     },
     "execution_count": 76,
     "metadata": {},
     "output_type": "execute_result"
    }
   ],
   "source": [
    "cmx_mask.mask('SV0_BGS') # this is commissioning SV0 BGS mask\n"
   ]
  },
  {
   "cell_type": "code",
   "execution_count": 20,
   "metadata": {},
   "outputs": [],
   "source": [
    "sv0_bgs= fibermap['CMX_TARGET'] & cmx_mask.mask('SV0_BGS') != 0\n"
   ]
  },
  {
   "cell_type": "code",
   "execution_count": 77,
   "metadata": {},
   "outputs": [
    {
     "data": {
      "text/plain": [
       "1484"
      ]
     },
     "execution_count": 77,
     "metadata": {},
     "output_type": "execute_result"
    }
   ],
   "source": [
    "np.sum(sv0_bgs) # total 1484 BGS in 5 petals"
   ]
  },
  {
   "cell_type": "code",
   "execution_count": 25,
   "metadata": {},
   "outputs": [],
   "source": [
    "columns = ['TARGETID', 'TARGET_RA', 'TARGET_DEC']"
   ]
  },
  {
   "cell_type": "code",
   "execution_count": 34,
   "metadata": {},
   "outputs": [
    {
     "data": {
      "text/html": [
       "&lt;Table length=1484&gt;\n",
       "<table id=\"table46913370859056\" class=\"table-striped table-bordered table-condensed\">\n",
       "<thead><tr><th>TARGETID</th><th>TARGET_RA</th><th>TARGET_DEC</th></tr></thead>\n",
       "<thead><tr><th>int64</th><th>float64</th><th>float64</th></tr></thead>\n",
       "<tr><td>35185712445788791</td><td>179.7394266438731</td><td>-1.9417105015239313</td></tr>\n",
       "<tr><td>35185712449979800</td><td>179.8594279099647</td><td>-2.0776414098954636</td></tr>\n",
       "<tr><td>35185712449979886</td><td>179.89090909750206</td><td>-2.073698199126241</td></tr>\n",
       "<tr><td>35185712449980146</td><td>179.82183059798993</td><td>-2.063184299691656</td></tr>\n",
       "<tr><td>35185712449980558</td><td>179.91006848009278</td><td>-2.0472234852725726</td></tr>\n",
       "<tr><td>35185712449980961</td><td>179.88092433607022</td><td>-2.033094124924236</td></tr>\n",
       "<tr><td>35185712449980984</td><td>179.83198680339055</td><td>-2.03213302095459</td></tr>\n",
       "<tr><td>35185712449981157</td><td>179.93672929064755</td><td>-2.0249141792900964</td></tr>\n",
       "<tr><td>35185712449981248</td><td>179.98371902847697</td><td>-2.0218686397027863</td></tr>\n",
       "<tr><td>35185712449981261</td><td>179.90442576003122</td><td>-2.0187779658313754</td></tr>\n",
       "<tr><td>...</td><td>...</td><td>...</td></tr>\n",
       "<tr><td>35185742657356255</td><td>180.39257433846691</td><td>-0.8479576976867087</td></tr>\n",
       "<tr><td>35185742657356886</td><td>180.3149403696228</td><td>-0.8144601525528015</td></tr>\n",
       "<tr><td>35185742657357090</td><td>180.38254761162804</td><td>-0.8062760533682312</td></tr>\n",
       "<tr><td>35185742657357538</td><td>180.35593534140293</td><td>-0.7861214428641674</td></tr>\n",
       "<tr><td>35185742657357588</td><td>180.27833891252732</td><td>-0.7854457182873641</td></tr>\n",
       "<tr><td>35185742657357995</td><td>180.3138716041525</td><td>-0.7649679606727824</td></tr>\n",
       "<tr><td>35185742657358258</td><td>180.26166230556422</td><td>-0.7519043186458567</td></tr>\n",
       "<tr><td>35185742657358602</td><td>180.29956345496126</td><td>-0.7345815195683678</td></tr>\n",
       "<tr><td>35185748692959525</td><td>180.10284325608566</td><td>-0.6097564295812089</td></tr>\n",
       "<tr><td>35185748692959956</td><td>180.07592130921014</td><td>-0.5919762016184738</td></tr>\n",
       "</table>"
      ],
      "text/plain": [
       "<Table length=1484>\n",
       "     TARGETID         TARGET_RA           TARGET_DEC    \n",
       "      int64            float64             float64      \n",
       "----------------- ------------------ -------------------\n",
       "35185712445788791  179.7394266438731 -1.9417105015239313\n",
       "35185712449979800  179.8594279099647 -2.0776414098954636\n",
       "35185712449979886 179.89090909750206  -2.073698199126241\n",
       "35185712449980146 179.82183059798993  -2.063184299691656\n",
       "35185712449980558 179.91006848009278 -2.0472234852725726\n",
       "35185712449980961 179.88092433607022  -2.033094124924236\n",
       "35185712449980984 179.83198680339055   -2.03213302095459\n",
       "35185712449981157 179.93672929064755 -2.0249141792900964\n",
       "35185712449981248 179.98371902847697 -2.0218686397027863\n",
       "35185712449981261 179.90442576003122 -2.0187779658313754\n",
       "              ...                ...                 ...\n",
       "35185742657356255 180.39257433846691 -0.8479576976867087\n",
       "35185742657356886  180.3149403696228 -0.8144601525528015\n",
       "35185742657357090 180.38254761162804 -0.8062760533682312\n",
       "35185742657357538 180.35593534140293 -0.7861214428641674\n",
       "35185742657357588 180.27833891252732 -0.7854457182873641\n",
       "35185742657357995  180.3138716041525 -0.7649679606727824\n",
       "35185742657358258 180.26166230556422 -0.7519043186458567\n",
       "35185742657358602 180.29956345496126 -0.7345815195683678\n",
       "35185748692959525 180.10284325608566 -0.6097564295812089\n",
       "35185748692959956 180.07592130921014 -0.5919762016184738"
      ]
     },
     "execution_count": 34,
     "metadata": {},
     "output_type": "execute_result"
    }
   ],
   "source": [
    "fibermap[sv0_bgs][columns]"
   ]
  },
  {
   "cell_type": "code",
   "execution_count": 62,
   "metadata": {},
   "outputs": [],
   "source": [
    "BGS_targets=fibermap[sv0_bgs]"
   ]
  },
  {
   "cell_type": "code",
   "execution_count": 61,
   "metadata": {},
   "outputs": [
    {
     "name": "stdout",
     "output_type": "stream",
     "text": [
      "1.0093919996327139\n",
      "-0.3286756513269453\n"
     ]
    }
   ],
   "source": [
    "print(np.max(fibermap[sv0_bgs]['TARGET_DEC']))\n",
    "print(np.median(fibermap[sv0_bgs]['TARGET_DEC']))"
   ]
  },
  {
   "cell_type": "code",
   "execution_count": 29,
   "metadata": {},
   "outputs": [],
   "source": [
    "coadds_ra  = fibermap[sv0_bgs]['TARGET_RA']\n",
    "coadds_dec = fibermap[sv0_bgs]['TARGET_DEC']\n"
   ]
  },
  {
   "cell_type": "markdown",
   "metadata": {},
   "source": [
    "### Matching BGS coords with with Antares SNe coords ###"
   ]
  },
  {
   "cell_type": "code",
   "execution_count": 32,
   "metadata": {},
   "outputs": [],
   "source": [
    "coadds_coords = SkyCoord(ra=coadds_ra, dec=coadds_dec, unit='deg')\n"
   ]
  },
  {
   "cell_type": "code",
   "execution_count": 67,
   "metadata": {},
   "outputs": [],
   "source": [
    "antares_data = ascii.read('/global/u1/x/xychen/timedomain/antares/results.csv') # to generate this file, run python query_alerts.py --ra XX --dec XX --tobs XXXXX (ra, dec in degree that are close to tile ra and dec, tobs in MJD) in a directory where the antares client python package is installed"
   ]
  },
  {
   "cell_type": "code",
   "execution_count": 68,
   "metadata": {},
   "outputs": [],
   "source": [
    "columns_antares=['ra','dec']"
   ]
  },
  {
   "cell_type": "code",
   "execution_count": 69,
   "metadata": {},
   "outputs": [
    {
     "name": "stdout",
     "output_type": "stream",
     "text": [
      "     ra        dec    \n",
      "----------- ----------\n",
      "180.3798287 11.1097697\n",
      "180.0149061 10.3722928\n"
     ]
    }
   ],
   "source": [
    "print(antares_data[columns_antares])"
   ]
  },
  {
   "cell_type": "code",
   "execution_count": 70,
   "metadata": {},
   "outputs": [],
   "source": [
    "antares_coords = SkyCoord(ra=antares_data['ra'], dec=antares_data['dec'], unit='deg')\n"
   ]
  },
  {
   "cell_type": "code",
   "execution_count": 71,
   "metadata": {},
   "outputs": [],
   "source": [
    "idx, sep2d, dist3d = match_coordinates_sky(coadds_coords, antares_coords)\n"
   ]
  },
  {
   "cell_type": "code",
   "execution_count": 72,
   "metadata": {},
   "outputs": [],
   "source": [
    "selected_targets = None\n",
    "\n",
    "select = sep2d < 3600*10*u.arcsec # this is 10 degree, made it large to find more matches for demonstration. 1 arcsec is more reasonable\n",
    "\n",
    "selected_targets = BGS_targets[select] \n",
    "\n"
   ]
  },
  {
   "cell_type": "code",
   "execution_count": 73,
   "metadata": {},
   "outputs": [
    {
     "name": "stdout",
     "output_type": "stream",
     "text": [
      "150 150\n"
     ]
    }
   ],
   "source": [
    "print(np.sum(select), len(selected_targets)) # 150 matched in this case"
   ]
  },
  {
   "cell_type": "code",
   "execution_count": 74,
   "metadata": {},
   "outputs": [
    {
     "name": "stdout",
     "output_type": "stream",
     "text": [
      "     TARGETID     PETAL_LOC DEVICE_LOC ... FIRST_FIBER LAST_FIBER NUM_FIBER\n",
      "----------------- --------- ---------- ... ----------- ---------- ---------\n",
      "35185772856344986         6        166 ...        3395       3395         1\n",
      "35185772856344991         6        136 ...        3393       3393         1\n",
      "35185772856345632         6        180 ...        3357       3357         1\n",
      "35185772856345785         6        149 ...        3366       3366         1\n",
      "35185772856347508         6        194 ...        3018       3018         1\n",
      "35185772856348235         6        193 ...        3023       3023         1\n",
      "35185772856348738         6        226 ...        3009       3009         1\n",
      "35185772856349566         6        243 ...        3036       3036         1\n",
      "35185772856349791         6        224 ...        3035       3035         1\n",
      "35185772856350155         6        260 ...        3495       3495         1\n",
      "              ...       ...        ... ...         ...        ...       ...\n",
      "35185784940134739         6        420 ...        3069       3069         1\n",
      "35185784940135001         6        443 ...        3050       3050         1\n",
      "35185784940135354         6        419 ...        3061       3061         1\n",
      "35185784940135540         6        442 ...        3099       3099         1\n",
      "35185784940135609         6        463 ...        3092       3092         1\n",
      "35185784940135703         6        395 ...        3063       3063         1\n",
      "35185784940135875         6        418 ...        3058       3058         1\n",
      "35185784940136594         6        417 ...        3081       3081         1\n",
      "35185784940137310         6        416 ...        3054       3054         1\n",
      "35185784944328933         6        484 ...        3078       3078         1\n",
      "35185784944329326         6        483 ...        3087       3087         1\n",
      "Length = 150 rows\n"
     ]
    }
   ],
   "source": [
    "print(selected_targets)"
   ]
  },
  {
   "cell_type": "code",
   "execution_count": 75,
   "metadata": {},
   "outputs": [
    {
     "name": "stdout",
     "output_type": "stream",
     "text": [
      "[False False False ... False False False]\n"
     ]
    }
   ],
   "source": [
    "print(select)"
   ]
  },
  {
   "cell_type": "code",
   "execution_count": null,
   "metadata": {},
   "outputs": [],
   "source": []
  }
 ],
 "metadata": {
  "kernelspec": {
   "display_name": "DESI 19.10",
   "language": "python",
   "name": "desi-19.10"
  },
  "language_info": {
   "codemirror_mode": {
    "name": "ipython",
    "version": 3
   },
   "file_extension": ".py",
   "mimetype": "text/x-python",
   "name": "python",
   "nbconvert_exporter": "python",
   "pygments_lexer": "ipython3",
   "version": "3.6.6"
  }
 },
 "nbformat": 4,
 "nbformat_minor": 4
}
