{
 "cells": [
  {
   "cell_type": "code",
   "execution_count": 195,
   "metadata": {
    "collapsed": false
   },
   "outputs": [],
   "source": [
    "import requests"
   ]
  },
  {
   "cell_type": "markdown",
   "metadata": {},
   "source": [
    "## Access\n",
    "\n",
    "The sandbox instantiation of SkyPortal.  The real one comes later.  The admin provides tokens to users associated with the group `DESI` that allows them to interact with SkyPortal.  This particular token will not last long."
   ]
  },
  {
   "cell_type": "code",
   "execution_count": 227,
   "metadata": {
    "collapsed": true
   },
   "outputs": [],
   "source": [
    "url=\"http://web.skyportal.dev-cattle.stable.spin.nersc.org:60035/api/\"\n",
    "token=\"token 41887ea7-a026-410f-b2ba-eb3e93481d2a\" # DESI token\n",
    "ztoken=\"token ed771854-0120-4014-802d-2778edf8f886\" # Zowanda token\n",
    "bothtoken=\"token 41887ea7-a026-410f-b2ba-eb3e93481d2a ed771854-0120-4014-802d-2778edf8f886\""
   ]
  },
  {
   "cell_type": "markdown",
   "metadata": {},
   "source": [
    "## Getting sources, groups\n",
    "All sources"
   ]
  },
  {
   "cell_type": "code",
   "execution_count": 267,
   "metadata": {
    "collapsed": false
   },
   "outputs": [
    {
     "data": {
      "text/plain": [
       "{'status': 'success',\n",
       " 'data': {'sources': [{'mag_nearest_source': None,\n",
       "    'gaia_info': None,\n",
       "    'dec_dis': None,\n",
       "    'simag1': None,\n",
       "    'e_mag_nearest_source': None,\n",
       "    'tns_info': None,\n",
       "    'ra_err': None,\n",
       "    'objectidps1': None,\n",
       "    'transient': False,\n",
       "    'tns_name': None,\n",
       "    'dec_err': None,\n",
       "    'sgscore1': None,\n",
       "    'created_at': '2019-10-09T21:31:36.095763',\n",
       "    'varstar': False,\n",
       "    'detect_photometry_count': None,\n",
       "    'offset': 0.0,\n",
       "    'distpsnr1': None,\n",
       "    'id': 'LSSTDESC22zyx',\n",
       "    'is_roid': False,\n",
       "    'redshift': None,\n",
       "    'origin': None,\n",
       "    'ra': 34.5,\n",
       "    'score': None,\n",
       "    'altdata': None,\n",
       "    'modified': '2019-10-09T21:31:36.076732',\n",
       "    'dec': 12.3,\n",
       "    'sgmag1': None,\n",
       "    'last_detected': None,\n",
       "    'simbad_class': None,\n",
       "    'ra_dis': None,\n",
       "    'srmag1': None,\n",
       "    'dist_nearest_source': None,\n",
       "    'simbad_info': None},\n",
       "   {'mag_nearest_source': None,\n",
       "    'gaia_info': None,\n",
       "    'dec_dis': None,\n",
       "    'simag1': None,\n",
       "    'e_mag_nearest_source': None,\n",
       "    'tns_info': None,\n",
       "    'ra_err': None,\n",
       "    'objectidps1': None,\n",
       "    'transient': False,\n",
       "    'tns_name': None,\n",
       "    'dec_err': None,\n",
       "    'sgscore1': None,\n",
       "    'created_at': '2019-10-10T19:52:06.454111',\n",
       "    'varstar': False,\n",
       "    'detect_photometry_count': None,\n",
       "    'offset': 0.0,\n",
       "    'distpsnr1': None,\n",
       "    'id': 'LSSTDESC22wtf',\n",
       "    'is_roid': False,\n",
       "    'redshift': None,\n",
       "    'origin': None,\n",
       "    'ra': 34.5,\n",
       "    'score': None,\n",
       "    'altdata': None,\n",
       "    'modified': '2019-10-10T19:52:06.429900',\n",
       "    'dec': 12.3,\n",
       "    'sgmag1': None,\n",
       "    'last_detected': None,\n",
       "    'simbad_class': None,\n",
       "    'ra_dis': None,\n",
       "    'srmag1': None,\n",
       "    'dist_nearest_source': None,\n",
       "    'simbad_info': None},\n",
       "   {'mag_nearest_source': None,\n",
       "    'gaia_info': None,\n",
       "    'dec_dis': None,\n",
       "    'simag1': None,\n",
       "    'e_mag_nearest_source': None,\n",
       "    'tns_info': None,\n",
       "    'ra_err': 0.001,\n",
       "    'objectidps1': None,\n",
       "    'transient': True,\n",
       "    'tns_name': None,\n",
       "    'dec_err': None,\n",
       "    'sgscore1': None,\n",
       "    'created_at': '2019-10-11T14:47:45.583593',\n",
       "    'varstar': False,\n",
       "    'detect_photometry_count': None,\n",
       "    'offset': 0.0,\n",
       "    'distpsnr1': None,\n",
       "    'id': 'Transient1',\n",
       "    'is_roid': False,\n",
       "    'redshift': None,\n",
       "    'origin': None,\n",
       "    'ra': 42.2,\n",
       "    'score': None,\n",
       "    'altdata': None,\n",
       "    'modified': '2019-10-11T14:47:45.562569',\n",
       "    'dec': 11.3,\n",
       "    'sgmag1': None,\n",
       "    'last_detected': None,\n",
       "    'simbad_class': None,\n",
       "    'ra_dis': None,\n",
       "    'srmag1': None,\n",
       "    'dist_nearest_source': None,\n",
       "    'simbad_info': None},\n",
       "   {'mag_nearest_source': None,\n",
       "    'gaia_info': None,\n",
       "    'dec_dis': None,\n",
       "    'simag1': None,\n",
       "    'e_mag_nearest_source': None,\n",
       "    'tns_info': None,\n",
       "    'ra_err': None,\n",
       "    'objectidps1': None,\n",
       "    'transient': False,\n",
       "    'tns_name': None,\n",
       "    'dec_err': None,\n",
       "    'sgscore1': None,\n",
       "    'created_at': '2019-10-11T14:46:00.293543',\n",
       "    'varstar': False,\n",
       "    'detect_photometry_count': None,\n",
       "    'offset': 0.0,\n",
       "    'distpsnr1': None,\n",
       "    'id': 'NotATransient1',\n",
       "    'is_roid': False,\n",
       "    'redshift': None,\n",
       "    'origin': None,\n",
       "    'ra': 42.2,\n",
       "    'score': None,\n",
       "    'altdata': None,\n",
       "    'modified': '2019-10-11T14:46:00.275194',\n",
       "    'dec': 11.3,\n",
       "    'sgmag1': None,\n",
       "    'last_detected': None,\n",
       "    'simbad_class': None,\n",
       "    'ra_dis': None,\n",
       "    'srmag1': None,\n",
       "    'dist_nearest_source': None,\n",
       "    'simbad_info': None},\n",
       "   {'mag_nearest_source': None,\n",
       "    'gaia_info': None,\n",
       "    'dec_dis': None,\n",
       "    'simag1': None,\n",
       "    'e_mag_nearest_source': None,\n",
       "    'tns_info': None,\n",
       "    'ra_err': None,\n",
       "    'objectidps1': None,\n",
       "    'transient': False,\n",
       "    'tns_name': None,\n",
       "    'dec_err': None,\n",
       "    'sgscore1': None,\n",
       "    'created_at': '2019-10-10T19:53:49.548234',\n",
       "    'varstar': False,\n",
       "    'detect_photometry_count': None,\n",
       "    'offset': 0.0,\n",
       "    'distpsnr1': None,\n",
       "    'id': 'LSSTDESC22omg',\n",
       "    'is_roid': False,\n",
       "    'redshift': None,\n",
       "    'origin': None,\n",
       "    'ra': 34.5,\n",
       "    'score': None,\n",
       "    'altdata': None,\n",
       "    'modified': '2019-10-10T19:53:49.529178',\n",
       "    'dec': 12.3,\n",
       "    'sgmag1': None,\n",
       "    'last_detected': None,\n",
       "    'simbad_class': None,\n",
       "    'ra_dis': None,\n",
       "    'srmag1': None,\n",
       "    'dist_nearest_source': None,\n",
       "    'simbad_info': None}],\n",
       "  'version': '0.9.dev0'}}"
      ]
     },
     "execution_count": 267,
     "metadata": {},
     "output_type": "execute_result"
    }
   ],
   "source": [
    "r = requests.get(url+\"sources\",headers={'Authorization': token})\n",
    "r.json()"
   ]
  },
  {
   "cell_type": "markdown",
   "metadata": {},
   "source": [
    "One source"
   ]
  },
  {
   "cell_type": "code",
   "execution_count": 269,
   "metadata": {
    "collapsed": false
   },
   "outputs": [
    {
     "data": {
      "text/plain": [
       "{'status': 'success',\n",
       " 'data': {'sources': {'mag_nearest_source': None,\n",
       "   'gaia_info': None,\n",
       "   'dec_dis': None,\n",
       "   'simag1': None,\n",
       "   'e_mag_nearest_source': None,\n",
       "   'tns_info': None,\n",
       "   'ra_err': None,\n",
       "   'objectidps1': None,\n",
       "   'transient': False,\n",
       "   'tns_name': None,\n",
       "   'dec_err': None,\n",
       "   'sgscore1': None,\n",
       "   'created_at': '2019-10-10T19:53:49.548234',\n",
       "   'varstar': False,\n",
       "   'detect_photometry_count': None,\n",
       "   'offset': 0.0,\n",
       "   'distpsnr1': None,\n",
       "   'id': 'LSSTDESC22omg',\n",
       "   'is_roid': False,\n",
       "   'redshift': None,\n",
       "   'origin': None,\n",
       "   'ra': 34.5,\n",
       "   'score': None,\n",
       "   'altdata': None,\n",
       "   'modified': '2019-10-10T19:53:49.529178',\n",
       "   'dec': 12.3,\n",
       "   'sgmag1': None,\n",
       "   'last_detected': None,\n",
       "   'simbad_class': None,\n",
       "   'ra_dis': None,\n",
       "   'srmag1': None,\n",
       "   'dist_nearest_source': None,\n",
       "   'simbad_info': None,\n",
       "   'comments': [],\n",
       "   'thumbnails': [],\n",
       "   'groups': [{'id': 3,\n",
       "     'created_at': '2019-10-09T16:40:50.421028',\n",
       "     'name': 'Zowada'},\n",
       "    {'id': 4, 'created_at': '2019-10-10T16:47:37.496954', 'name': 'DESI'}]},\n",
       "  'version': '0.9.dev0'}}"
      ]
     },
     "execution_count": 269,
     "metadata": {},
     "output_type": "execute_result"
    }
   ],
   "source": [
    "r=requests.get(url+'sources/LSSTDESC22omg', headers={'Authorization': token})\n",
    "r.json()"
   ]
  },
  {
   "cell_type": "markdown",
   "metadata": {},
   "source": [
    "Groups"
   ]
  },
  {
   "cell_type": "code",
   "execution_count": 270,
   "metadata": {
    "collapsed": false
   },
   "outputs": [
    {
     "data": {
      "text/plain": [
       "{'status': 'success',\n",
       " 'data': {'user_groups': [{'id': 3,\n",
       "    'created_at': '2019-10-09T16:40:50.421028',\n",
       "    'name': 'Zowada'}],\n",
       "  'all_groups': None,\n",
       "  'version': '0.9.dev0'}}"
      ]
     },
     "execution_count": 270,
     "metadata": {},
     "output_type": "execute_result"
    }
   ],
   "source": [
    "r=requests.get(url+\"groups\", headers={'Authorization': ztoken})\n",
    "r.json()"
   ]
  },
  {
   "cell_type": "code",
   "execution_count": 261,
   "metadata": {
    "collapsed": false
   },
   "outputs": [
    {
     "data": {
      "text/plain": [
       "{'status': 'success',\n",
       " 'data': {'user_groups': [{'id': 4,\n",
       "    'created_at': '2019-10-10T16:47:37.496954',\n",
       "    'name': 'DESI'}],\n",
       "  'all_groups': None,\n",
       "  'version': '0.9.dev0'}}"
      ]
     },
     "execution_count": 261,
     "metadata": {},
     "output_type": "execute_result"
    }
   ],
   "source": [
    "r=requests.get(url+\"groups\", headers={'Authorization': token})\n",
    "r.json()"
   ]
  },
  {
   "cell_type": "markdown",
   "metadata": {},
   "source": [
    "Telescope and Instrument\n",
    "I don't know how to get all of them at once"
   ]
  },
  {
   "cell_type": "code",
   "execution_count": 271,
   "metadata": {
    "collapsed": false
   },
   "outputs": [
    {
     "name": "stdout",
     "output_type": "stream",
     "text": [
      "{'status': 'success', 'data': {'telescope': {'diameter': 1.5, 'lon': -116.8361345, 'nickname': 'P60', 'created_at': '2019-10-09T16:25:15.642586', 'id': 1, 'elevation': 1870.0, 'lat': 33.3633675, 'name': 'Palomar 1.5m'}, 'version': '0.9.dev0'}}\n",
      "{'status': 'success', 'data': {'instrument': {'created_at': '2019-10-09T16:25:15.647516', 'band': 'optical', 'name': 'P60 Camera', 'id': 1, 'telescope_id': 1, 'type': 'phot'}, 'version': '0.9.dev0'}}\n"
     ]
    }
   ],
   "source": [
    "r=requests.get(url+\"telescope/1\", headers={'Authorization': token})\n",
    "print(r.json())\n",
    "r=requests.get(url+\"instrument/1\", headers={'Authorization': token})\n",
    "print(r.json())"
   ]
  },
  {
   "cell_type": "markdown",
   "metadata": {},
   "source": [
    "## Posting\n",
    "A new source.  For now fine control assignment of group_ids is not possible but will be in an upcoming release."
   ]
  },
  {
   "cell_type": "code",
   "execution_count": 272,
   "metadata": {
    "collapsed": false
   },
   "outputs": [
    {
     "data": {
      "text/plain": [
       "{'status': 'success', 'data': {'id': 'LSSTDESC22few', 'version': '0.9.dev0'}}"
      ]
     },
     "execution_count": 272,
     "metadata": {},
     "output_type": "execute_result"
    }
   ],
   "source": [
    "data = {'id': 'LSSTDESC22few', 'ra': 34.5, 'dec': 12.3, 'group_ids':[4]}\n",
    "r=requests.post(url+\"sources\", json=data, headers={'Authorization': token})\n",
    "r.json()"
   ]
  },
  {
   "cell_type": "markdown",
   "metadata": {},
   "source": [
    "Put the group ID in by hand"
   ]
  },
  {
   "cell_type": "code",
   "execution_count": 273,
   "metadata": {
    "collapsed": false
   },
   "outputs": [
    {
     "data": {
      "text/plain": [
       "{'status': 'success', 'data': {'version': '0.9.dev0'}}"
      ]
     },
     "execution_count": 273,
     "metadata": {},
     "output_type": "execute_result"
    }
   ],
   "source": [
    "r=requests.put(url+\"sources/LSSTDESC22few\", json={\"groups\":  [ {'id': 4, 'created_at': '2019-10-10T16:47:37.496954','name': 'DESI'}, { \"id\": 3, \"created_at\": \"2019-10-09T16:40:50.421028\", \"name\": \"Zowada\" }]}, headers={'Authorization': token})\n",
    "r.json()"
   ]
  },
  {
   "cell_type": "markdown",
   "metadata": {},
   "source": [
    "Add a new telescope and instrument"
   ]
  },
  {
   "cell_type": "code",
   "execution_count": 276,
   "metadata": {
    "collapsed": false
   },
   "outputs": [],
   "source": [
    "telescope = {'name':'Alex Test','nickname':'A1','lat':33.3633675, 'lon':-116.8361345, 'elevation':1870,\n",
    "                       'diameter':1.5}"
   ]
  },
  {
   "cell_type": "code",
   "execution_count": 277,
   "metadata": {
    "collapsed": false
   },
   "outputs": [],
   "source": [
    "r=requests.post(url+'telescope', json=telescope, headers={'Authorization': token})"
   ]
  },
  {
   "cell_type": "code",
   "execution_count": 278,
   "metadata": {
    "collapsed": false
   },
   "outputs": [
    {
     "data": {
      "text/plain": [
       "{'status': 'success', 'data': {'id': 5, 'version': '0.9.dev0'}}"
      ]
     },
     "execution_count": 278,
     "metadata": {},
     "output_type": "execute_result"
    }
   ],
   "source": [
    "r.json()"
   ]
  },
  {
   "cell_type": "code",
   "execution_count": 189,
   "metadata": {
    "collapsed": false
   },
   "outputs": [],
   "source": [
    "instrument = {'telescope_id':3,'name':'Alex Camera', 'type':'phot','band':'optical'}"
   ]
  },
  {
   "cell_type": "code",
   "execution_count": 192,
   "metadata": {
    "collapsed": true
   },
   "outputs": [],
   "source": [
    "r=requests.post(url+'instrument', json=instrument, headers={'Authorization': token})"
   ]
  },
  {
   "cell_type": "code",
   "execution_count": 193,
   "metadata": {
    "collapsed": false
   },
   "outputs": [
    {
     "data": {
      "text/plain": [
       "{'status': 'success', 'data': {'id': 3, 'version': '0.9.dev0'}}"
      ]
     },
     "execution_count": 193,
     "metadata": {},
     "output_type": "execute_result"
    }
   ],
   "source": [
    "r.json()"
   ]
  },
  {
   "cell_type": "markdown",
   "metadata": {},
   "source": [
    "## Putting\n",
    "Adding photometry"
   ]
  },
  {
   "cell_type": "code",
   "execution_count": 279,
   "metadata": {
    "collapsed": true
   },
   "outputs": [],
   "source": [
    "data={'time_format':'mjd', 'time_scale':'utc', 'source_id':'LSSTDESC22few','instrument_id':1,\n",
    "      'time':100,'mag':21,'e_mag':0.01,'filter':'g','lim_mag':22}"
   ]
  },
  {
   "cell_type": "code",
   "execution_count": 280,
   "metadata": {
    "collapsed": false
   },
   "outputs": [
    {
     "data": {
      "text/plain": [
       "{'status': 'success', 'data': {'ids': [3081], 'version': '0.9.dev0'}}"
      ]
     },
     "execution_count": 280,
     "metadata": {},
     "output_type": "execute_result"
    }
   ],
   "source": [
    "r = requests.post(url+\"photometry\",json=data,headers={'Authorization': token})\n",
    "r.json()"
   ]
  },
  {
   "cell_type": "code",
   "execution_count": 252,
   "metadata": {
    "collapsed": true
   },
   "outputs": [],
   "source": [
    "data={'time_format':'mjd', 'time_scale':'utc', 'source_id':'LSSTDESC22omg','instrument_id':3,\n",
    "      'time':105,'mag':21.5,'e_mag':0.01,'filter':'g','lim_mag':22}"
   ]
  },
  {
   "cell_type": "code",
   "execution_count": 255,
   "metadata": {
    "collapsed": false
   },
   "outputs": [
    {
     "data": {
      "text/plain": [
       "{'status': 'success', 'data': {'ids': [3078], 'version': '0.9.dev0'}}"
      ]
     },
     "execution_count": 255,
     "metadata": {},
     "output_type": "execute_result"
    }
   ],
   "source": [
    "r = requests.post(url+'photometry',json=data,headers={'Authorization': ztoken})\n",
    "r.json()"
   ]
  },
  {
   "cell_type": "markdown",
   "metadata": {},
   "source": [
    "Add someone to group"
   ]
  },
  {
   "cell_type": "code",
   "execution_count": 258,
   "metadata": {
    "collapsed": false
   },
   "outputs": [
    {
     "data": {
      "text/plain": [
       "{'status': 'success',\n",
       " 'data': {'group_id': 4, 'user_id': 5, 'admin': False, 'version': '0.9.dev0'}}"
      ]
     },
     "execution_count": 258,
     "metadata": {},
     "output_type": "execute_result"
    }
   ],
   "source": [
    "r = requests.put(url+'groups//4/users/davidlmoutard@gmail.com',json={'group_id':4,'username':'davidlmoutard@gmail.com','admin':0},headers={'Authorization': token})\n",
    "r.json()"
   ]
  },
  {
   "cell_type": "code",
   "execution_count": 290,
   "metadata": {
    "collapsed": false
   },
   "outputs": [
    {
     "data": {
      "text/plain": [
       "{'status': 'success',\n",
       " 'data': {'sources': {'mag_nearest_source': None,\n",
       "   'gaia_info': None,\n",
       "   'dec_dis': None,\n",
       "   'simag1': None,\n",
       "   'e_mag_nearest_source': None,\n",
       "   'tns_info': None,\n",
       "   'ra_err': None,\n",
       "   'objectidps1': None,\n",
       "   'transient': False,\n",
       "   'tns_name': None,\n",
       "   'dec_err': None,\n",
       "   'sgscore1': None,\n",
       "   'created_at': '2019-10-11T16:13:27.528864',\n",
       "   'varstar': False,\n",
       "   'detect_photometry_count': None,\n",
       "   'offset': 0.0,\n",
       "   'distpsnr1': None,\n",
       "   'id': 'DaveIsTesting',\n",
       "   'is_roid': False,\n",
       "   'redshift': None,\n",
       "   'origin': None,\n",
       "   'ra': 10.0,\n",
       "   'score': None,\n",
       "   'altdata': None,\n",
       "   'modified': '2019-10-11T16:13:27.508394',\n",
       "   'dec': 4.0,\n",
       "   'sgmag1': None,\n",
       "   'last_detected': None,\n",
       "   'simbad_class': None,\n",
       "   'ra_dis': None,\n",
       "   'srmag1': None,\n",
       "   'dist_nearest_source': None,\n",
       "   'simbad_info': None,\n",
       "   'comments': [],\n",
       "   'thumbnails': [],\n",
       "   'groups': [{'id': 3,\n",
       "     'created_at': '2019-10-09T16:40:50.421028',\n",
       "     'name': 'Zowada'},\n",
       "    {'id': 4, 'created_at': '2019-10-10T16:47:37.496954', 'name': 'DESI'}]},\n",
       "  'version': '0.9.dev0'}}"
      ]
     },
     "execution_count": 290,
     "metadata": {},
     "output_type": "execute_result"
    }
   ],
   "source": [
    "r = requests.get(url+'sources/DaveIsTesting',headers={'Authorization': token})\n",
    "r.json()"
   ]
  },
  {
   "cell_type": "code",
   "execution_count": null,
   "metadata": {
    "collapsed": true
   },
   "outputs": [],
   "source": []
  }
 ],
 "metadata": {
  "anaconda-cloud": {},
  "kernelspec": {
   "display_name": "Python [conda env:py36]",
   "language": "python",
   "name": "conda-env-py36-py"
  },
  "language_info": {
   "codemirror_mode": {
    "name": "ipython",
    "version": 3
   },
   "file_extension": ".py",
   "mimetype": "text/x-python",
   "name": "python",
   "nbconvert_exporter": "python",
   "pygments_lexer": "ipython3",
   "version": "3.6.8"
  }
 },
 "nbformat": 4,
 "nbformat_minor": 1
}
