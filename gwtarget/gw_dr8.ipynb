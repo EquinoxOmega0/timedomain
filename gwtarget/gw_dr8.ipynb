{
 "cells": [
  {
   "cell_type": "code",
   "execution_count": 104,
   "metadata": {},
   "outputs": [],
   "source": [
    "import os\n",
    "import numpy as np\n",
    "from astropy.io import fits\n",
    "from astropy.table import Table, Column, join, hstack, vstack\n",
    "try:\n",
    "    from astropy.cosmology import Planck18_arXiv_v2\n",
    "    cosmo = Planck18_arXiv_v2\n",
    "except ImportError as e:\n",
    "    from astropy.cosmology import Planck15\n",
    "    cosmo = Planck15\n",
    "\n",
    "import logging\n",
    "import numpy as np\n",
    "import healpy as hp\n",
    "import matplotlib as mpl\n",
    "import matplotlib.pyplot as plt\n",
    "\n",
    "from gw_skymap import compute_quantiles, compute_contours, plot_gwmap\n",
    "\n",
    "from desitarget import io, cuts"
   ]
  },
  {
   "cell_type": "code",
   "execution_count": 151,
   "metadata": {},
   "outputs": [],
   "source": [
    "def get_sweepfiles(sweepfolders=['/global/project/projectdirs/cosmo/data/legacysurvey/dr8/north/sweep/8.0', '/global/project/projectdirs/cosmo/data/legacysurvey/dr8/south/sweep/8.0']):\n",
    "    \"\"\"Given a search folder or folders, return a list of sweep files.\n",
    "    \n",
    "    For details on file locations see For details see http://legacysurvey.org/dr8/files/.\n",
    "    \n",
    "    Parameters\n",
    "    ----------\n",
    "    sweepfolders : str or list\n",
    "        A folder or list of folders to search for sweep files.\n",
    "    \n",
    "    Returns\n",
    "    -------\n",
    "    sweeplist : list\n",
    "        List of sweep files.\n",
    "    \"\"\"\n",
    "    sweeplist = None\n",
    "    \n",
    "    if np.isscalar(sweepfolders):\n",
    "        sweeplist = io.list_sweepfiles(sweepfolders)\n",
    "    else:\n",
    "        for fldr in sweepfolders:\n",
    "            if sweeplist is None:\n",
    "                sweeplist = io.list_sweepfiles(fldr)\n",
    "            else:\n",
    "                sweeplist += io.list_sweepfiles(fldr)\n",
    "                \n",
    "    return sweeplist\n",
    "\n",
    "def get_objects_in_gw_contour(sweepfolders, lvc_hp_file, level=0.9):\n",
    "    # Get luminosity distance to GW.\n",
    "    # Read metadata.\n",
    "    hdus = fits.open(lvc_hp_file)\n",
    "    header = hdus[1].header\n",
    "    distmean = header['DISTMEAN']\n",
    "    diststd = header['DISTSTD']\n",
    "    \n",
    "    # Get contours for the GW skymap.\n",
    "    gwmap = hp.read_map(lvc_hp_file)\n",
    "    gw_maxprob = np.max(gwmap)\n",
    "    npix = len(gwmap)\n",
    "    nside = hp.npix2nside(npix)\n",
    "    thresh = compute_quantiles([level], gwmap)[0]\n",
    "    logging.info('{:g}% confidence level of GW map {:s} = {:g}'.format(100*level, lvc_hp_file, thresh))\n",
    "    \n",
    "    # Get list of pixels above threshold defined by level.\n",
    "    pixels = hp.ring2nest(nside, np.arange(npix))\n",
    "    pixids = pixels[gwmap > thresh]\n",
    "    \n",
    "    # Loop through all sweeps, see if pixel indices match with any bricks.\n",
    "    sweepfiles = get_sweepfiles(sweepfolders)\n",
    "    gwsweeps = []\n",
    "    for sf in sweepfiles:\n",
    "        ramin, ramax, decmin, decmax = io.decode_sweep_name(sf)\n",
    "        ra = [ramin, ramax, ramax, ramin]\n",
    "        dec = [decmin, decmin, decmax, decmax]\n",
    "        box = hp.ang2vec(ra, dec, lonlat=True)\n",
    "        boxpix = hp.query_polygon(nside, box, nest=True)\n",
    "        \n",
    "        if not set(boxpix).isdisjoint(pixids):\n",
    "            gwsweeps.append(sf)\n",
    "\n",
    "    # Grab photo-z data and read everything into a table.\n",
    "    gwspeeps, photozs = get_sweep_photo_z(gwsweeps)\n",
    "    \n",
    "    objtab = None\n",
    "    for sf, pz in zip(gwsweeps, photozs):\n",
    "        print(sf)\n",
    "        data = Table(io.read_tractor(sf, columns=['BRICKID', 'BRICKNAME', 'OBJID', 'RA', 'DEC']))\n",
    "        data_pz = Table.read(pz)\n",
    "        \n",
    "        # Cut pixels not in \n",
    "        brickpix = hp.ang2pix(nside, data['RA'], data['DEC'], lonlat=True, nest=True)\n",
    "        gw_prob = gwmap[hp.nest2ring(nside, brickpix)] / gw_maxprob\n",
    "        data.add_column(Column(name='Pr_radec', data=gw_prob))\n",
    "        \n",
    "        in_gw = np.isin(brickpix, pixids)\n",
    "        valid_z = data_pz['z_phot_mean'] >= 0\n",
    "        select = np.logical_and(in_gw, valid_z)\n",
    "        \n",
    "        if objtab is None:\n",
    "            objtab = hstack([data[select], data_pz[select]])\n",
    "        else:\n",
    "            objtab = vstack([objtab, hstack([data[select], data_pz[select]])])\n",
    "            \n",
    "    # Compute luminosity distance given mean photo-z.\n",
    "    nonzero_prob = objtab['Pr_radec'] > 0\n",
    "    logging.info('Computing luminosity distances for {:d} objects.'.format(np.sum(nonzero_prob)))\n",
    "    \n",
    "    d_L = np.zeros(len(objtab))\n",
    "    d_L[nonzero_prob] = cosmo.luminosity_distance(objtab[nonzero_prob]['z_phot_mean']).to('Mpc').value\n",
    "    objtab.add_column(Column(name='D_L', data=d_L))\n",
    "    \n",
    "    # Compute distance probability relative to max.\n",
    "    pr_d_L = np.zeros(len(objtab))\n",
    "    pr_d_L[nonzero_prob] = np.exp(-0.5*((d_L - distmean)/diststd)**2)\n",
    "    objtab.add_column(Column(name='Pr_D_L', data=pr_d_L))\n",
    "\n",
    "    return objtab\n",
    "    \n",
    "def get_sweep_photo_z(sweepfiles):\n",
    "    # Search for matching photo-z files.\n",
    "    sweeplist = sweepfiles\n",
    "    photozlist = None\n",
    "    logging.warning('Photo-z search hardcoded for DR8 v8.0.')\n",
    "\n",
    "    for sweep in sweeplist:\n",
    "        sweep_pz = sweep.replace('8.0', '8.0-photo-z').replace('.fits', '-pz.fits')\n",
    "\n",
    "        # If photo-z file not found, remove corresponding sweep file from list.\n",
    "        if os.path.exists(sweep_pz):\n",
    "            if photozlist is None:\n",
    "                photozlist = [sweep_pz]\n",
    "            else:\n",
    "                photozlist.append(sweep_pz)\n",
    "        else:\n",
    "            sweeplist.remove(sweep)\n",
    "            \n",
    "    return sweeplist, photozlist"
   ]
  },
  {
   "cell_type": "code",
   "execution_count": 152,
   "metadata": {},
   "outputs": [
    {
     "name": "stdout",
     "output_type": "stream",
     "text": [
      "NSIDE = 1024\n",
      "ORDERING = NESTED in fits file\n",
      "INDXSCHM = IMPLICIT\n",
      "Ordering converted to RING\n"
     ]
    },
    {
     "name": "stderr",
     "output_type": "stream",
     "text": [
      "WARNING:root:Photo-z search hardcoded for DR8 v8.0.\n"
     ]
    },
    {
     "name": "stdout",
     "output_type": "stream",
     "text": [
      "/global/project/projectdirs/cosmo/data/legacysurvey/dr8/south/sweep/8.0/sweep-160p010-170p015.fits\n"
     ]
    }
   ],
   "source": [
    "sweepfolders=['/global/project/projectdirs/cosmo/data/legacysurvey/dr8/north/sweep/8.0',\n",
    "              '/global/project/projectdirs/cosmo/data/legacysurvey/dr8/south/sweep/8.0']\n",
    "gwfile = 'S200224ca_LALInference.fits.gz'\n",
    "\n",
    "test = get_objects_in_gw_contour(sweepfolders, gwfile)\n",
    "# sweepfiles = get_sweepfiles()\n",
    "# sweeps, photozs = get_sweep_photo_z(sweepfiles)"
   ]
  },
  {
   "cell_type": "code",
   "execution_count": 153,
   "metadata": {},
   "outputs": [
    {
     "data": {
      "text/html": [
       "&lt;Table length=5400508&gt;\n",
       "<table id=\"table46913975730864\" class=\"table-striped table-bordered table-condensed\">\n",
       "<thead><tr><th>BRICKID</th><th>BRICKNAME</th><th>OBJID</th><th>RA</th><th>DEC</th><th>Pr_radec</th><th>z_phot_mean</th><th>z_phot_median</th><th>z_phot_std</th><th>z_phot_l68</th><th>z_phot_u68</th><th>z_phot_l95</th><th>z_phot_u95</th><th>z_spec</th><th>survey</th><th>training</th><th>D_L</th><th>Pr_D_L</th></tr></thead>\n",
       "<thead><tr><th>int32</th><th>bytes8</th><th>int32</th><th>float64</th><th>float64</th><th>float64</th><th>float32</th><th>float32</th><th>float32</th><th>float32</th><th>float32</th><th>float32</th><th>float32</th><th>float32</th><th>str10</th><th>bool</th><th>float64</th><th>float64</th></tr></thead>\n",
       "<tr><td>391213</td><td>1638p105</td><td>13</td><td>163.91044829909848</td><td>10.375358494095341</td><td>0.027714476866631654</td><td>0.5342261</td><td>0.5426291</td><td>0.08195053</td><td>0.470757</td><td>0.59792954</td><td>0.32785872</td><td>0.6688287</td><td>-99.0</td><td></td><td>False</td><td>3159.605965711192</td><td>7.682030029040935e-06</td></tr>\n",
       "<tr><td>391213</td><td>1638p105</td><td>15</td><td>163.91079213423245</td><td>10.376251016827908</td><td>0.027714476866631654</td><td>1.1720649</td><td>1.150069</td><td>0.16198546</td><td>1.0282513</td><td>1.3064152</td><td>0.95441574</td><td>1.5760465</td><td>-99.0</td><td></td><td>False</td><td>8261.149345679836</td><td>8.446034394236358e-88</td></tr>\n",
       "<tr><td>391213</td><td>1638p105</td><td>18</td><td>163.824445479138</td><td>10.379335311153516</td><td>0.027714476866631654</td><td>0.7397979</td><td>0.73783517</td><td>0.06575013</td><td>0.6745122</td><td>0.79668057</td><td>0.64354104</td><td>0.8707141</td><td>-99.0</td><td></td><td>False</td><td>4690.056534930087</td><td>6.225182857580001e-20</td></tr>\n",
       "<tr><td>391213</td><td>1638p105</td><td>19</td><td>163.8278916127404</td><td>10.38003918016361</td><td>0.027714476866631654</td><td>0.96629965</td><td>0.96591806</td><td>0.11836857</td><td>0.8515245</td><td>1.0735929</td><td>0.7441341</td><td>1.211403</td><td>-99.0</td><td></td><td>False</td><td>6510.843596431635</td><td>2.046866078278346e-48</td></tr>\n",
       "<tr><td>391213</td><td>1638p105</td><td>20</td><td>163.8271506358486</td><td>10.378847153776396</td><td>0.027714476866631654</td><td>0.53313255</td><td>0.5362221</td><td>0.17684649</td><td>0.3468765</td><td>0.6823131</td><td>0.21882549</td><td>0.9465533</td><td>-99.0</td><td></td><td>False</td><td>3151.8321864806658</td><td>8.591853683477629e-06</td></tr>\n",
       "<tr><td>391213</td><td>1638p105</td><td>21</td><td>163.82355191123185</td><td>10.376452451237274</td><td>0.027714476866631654</td><td>0.8876859</td><td>0.8857769</td><td>0.118527584</td><td>0.7818576</td><td>0.9916952</td><td>0.66354215</td><td>1.1137693</td><td>-99.0</td><td></td><td>False</td><td>5864.999700207231</td><td>7.43896847705918e-37</td></tr>\n",
       "<tr><td>391213</td><td>1638p105</td><td>22</td><td>163.82640983831237</td><td>10.380654901883746</td><td>0.027714476866631654</td><td>0.8180383</td><td>0.80971324</td><td>0.15604389</td><td>0.7015501</td><td>0.96458286</td><td>0.45561847</td><td>1.1107563</td><td>-99.0</td><td></td><td>False</td><td>5304.785685534144</td><td>3.995911821162359e-28</td></tr>\n",
       "<tr><td>391213</td><td>1638p105</td><td>24</td><td>163.82575419441739</td><td>10.376367928987372</td><td>0.027714476866631654</td><td>1.0080067</td><td>0.9968767</td><td>0.13941793</td><td>0.8890845</td><td>1.1234735</td><td>0.74404746</td><td>1.3003805</td><td>-99.0</td><td></td><td>False</td><td>6858.910883840779</td><td>2.6085500371537314e-55</td></tr>\n",
       "<tr><td>391213</td><td>1638p105</td><td>25</td><td>163.82621475839582</td><td>10.379526560972241</td><td>0.027714476866631654</td><td>1.1787049</td><td>1.1716869</td><td>0.14234334</td><td>1.0441034</td><td>1.3074011</td><td>0.94922066</td><td>1.5421838</td><td>-99.0</td><td></td><td>False</td><td>8318.936355504753</td><td>2.6650253633606806e-89</td></tr>\n",
       "<tr><td>391213</td><td>1638p105</td><td>26</td><td>163.82566221548416</td><td>10.378219191307632</td><td>0.027714476866631654</td><td>0.15910779</td><td>0.07850408</td><td>0.15053035</td><td>0.040750243</td><td>0.35077354</td><td>0.005569265</td><td>0.55471</td><td>-99.0</td><td></td><td>False</td><td>785.314137129745</td><td>0.08741597951232818</td></tr>\n",
       "<tr><td>...</td><td>...</td><td>...</td><td>...</td><td>...</td><td>...</td><td>...</td><td>...</td><td>...</td><td>...</td><td>...</td><td>...</td><td>...</td><td>...</td><td>...</td><td>...</td><td>...</td><td>...</td></tr>\n",
       "<tr><td>333929</td><td>1703p005</td><td>5657</td><td>170.43866951934305</td><td>0.6249600134170716</td><td>0.05051511097893798</td><td>1.1456969</td><td>1.1082574</td><td>0.39910102</td><td>0.8411163</td><td>1.3911381</td><td>0.4553913</td><td>2.2482815</td><td>-99.0</td><td></td><td>False</td><td>8032.429285576564</td><td>5.515010586356795e-82</td></tr>\n",
       "<tr><td>333929</td><td>1703p005</td><td>5658</td><td>170.4309588478969</td><td>0.6244148919498645</td><td>0.05051511097893798</td><td>1.0108309</td><td>0.9936456</td><td>0.24080159</td><td>0.8239628</td><td>1.1647425</td><td>0.582751</td><td>1.4568095</td><td>-99.0</td><td></td><td>False</td><td>6882.610806979766</td><td>8.511738395678565e-56</td></tr>\n",
       "<tr><td>333929</td><td>1703p005</td><td>5662</td><td>170.4662971624436</td><td>0.6244049176822465</td><td>0.05051511097893798</td><td>1.5760278</td><td>1.5030956</td><td>0.646266</td><td>0.97963583</td><td>2.2935932</td><td>0.47047156</td><td>2.832929</td><td>-99.0</td><td></td><td>False</td><td>11899.814734775826</td><td>2.4742008568661454e-207</td></tr>\n",
       "<tr><td>333929</td><td>1703p005</td><td>5663</td><td>170.3687882124982</td><td>0.6244729455648828</td><td>0.05051511097893798</td><td>1.1497971</td><td>1.1577971</td><td>0.15112385</td><td>1.0205922</td><td>1.268365</td><td>0.874496</td><td>1.3977604</td><td>-99.0</td><td></td><td>False</td><td>8067.914383250128</td><td>7.121231089605313e-83</td></tr>\n",
       "<tr><td>333929</td><td>1703p005</td><td>5665</td><td>170.31914777788086</td><td>0.6248109466733236</td><td>0.05051511097893798</td><td>0.6183811</td><td>0.56018496</td><td>0.28389436</td><td>0.43095315</td><td>0.71027434</td><td>0.35245454</td><td>1.6886337</td><td>-99.0</td><td></td><td>False</td><td>3770.0760896263987</td><td>2.204294949010796e-10</td></tr>\n",
       "<tr><td>333929</td><td>1703p005</td><td>5666</td><td>170.30369949799575</td><td>0.6247037915920592</td><td>0.05051511097893798</td><td>1.0947993</td><td>1.1038705</td><td>0.0799359</td><td>1.01626</td><td>1.1668289</td><td>0.92921925</td><td>1.228364</td><td>-99.0</td><td></td><td>False</td><td>7594.456456442914</td><td>2.068418834027372e-71</td></tr>\n",
       "<tr><td>333929</td><td>1703p005</td><td>5667</td><td>170.3299336825547</td><td>0.6246837928688713</td><td>0.05051511097893798</td><td>1.1939946</td><td>1.1323504</td><td>0.4270947</td><td>0.82364917</td><td>1.5348041</td><td>0.5424197</td><td>2.3377604</td><td>-99.0</td><td></td><td>False</td><td>8452.289709843182</td><td>8.18557315352013e-93</td></tr>\n",
       "<tr><td>333929</td><td>1703p005</td><td>5670</td><td>170.49297134073728</td><td>0.6247011344911063</td><td>0.04560150904639974</td><td>1.402207</td><td>1.2363663</td><td>0.44984192</td><td>1.0808097</td><td>1.8571341</td><td>0.90289897</td><td>2.6116476</td><td>-99.0</td><td></td><td>False</td><td>10305.464121122617</td><td>1.0683155056186033e-148</td></tr>\n",
       "<tr><td>333929</td><td>1703p005</td><td>5671</td><td>170.38335031384457</td><td>0.6249146458628805</td><td>0.05051511097893798</td><td>1.0292151</td><td>1.0263591</td><td>0.11258873</td><td>0.9219737</td><td>1.1432848</td><td>0.83363414</td><td>1.2286</td><td>-99.0</td><td></td><td>False</td><td>7037.2789483971865</td><td>5.04503961986115e-59</td></tr>\n",
       "<tr><td>333929</td><td>1703p005</td><td>5673</td><td>170.40126920565595</td><td>0.6248818610828555</td><td>0.05051511097893798</td><td>0.7609429</td><td>0.6293827</td><td>0.3981495</td><td>0.49626875</td><td>1.0108244</td><td>0.41691765</td><td>1.884072</td><td>-99.0</td><td></td><td>False</td><td>4854.5929274127475</td><td>5.541408209238722e-22</td></tr>\n",
       "</table>"
      ],
      "text/plain": [
       "<Table length=5400508>\n",
       "BRICKID BRICKNAME OBJID ... training        D_L                  Pr_D_L        \n",
       " int32    bytes8  int32 ...   bool        float64               float64        \n",
       "------- --------- ----- ... -------- ------------------ -----------------------\n",
       " 391213  1638p105    13 ...    False  3159.605965711192   7.682030029040935e-06\n",
       " 391213  1638p105    15 ...    False  8261.149345679836   8.446034394236358e-88\n",
       " 391213  1638p105    18 ...    False  4690.056534930087   6.225182857580001e-20\n",
       " 391213  1638p105    19 ...    False  6510.843596431635   2.046866078278346e-48\n",
       " 391213  1638p105    20 ...    False 3151.8321864806658   8.591853683477629e-06\n",
       " 391213  1638p105    21 ...    False  5864.999700207231    7.43896847705918e-37\n",
       " 391213  1638p105    22 ...    False  5304.785685534144   3.995911821162359e-28\n",
       " 391213  1638p105    24 ...    False  6858.910883840779  2.6085500371537314e-55\n",
       " 391213  1638p105    25 ...    False  8318.936355504753  2.6650253633606806e-89\n",
       " 391213  1638p105    26 ...    False   785.314137129745     0.08741597951232818\n",
       "    ...       ...   ... ...      ...                ...                     ...\n",
       " 333929  1703p005  5657 ...    False  8032.429285576564   5.515010586356795e-82\n",
       " 333929  1703p005  5658 ...    False  6882.610806979766   8.511738395678565e-56\n",
       " 333929  1703p005  5662 ...    False 11899.814734775826 2.4742008568661454e-207\n",
       " 333929  1703p005  5663 ...    False  8067.914383250128   7.121231089605313e-83\n",
       " 333929  1703p005  5665 ...    False 3770.0760896263987   2.204294949010796e-10\n",
       " 333929  1703p005  5666 ...    False  7594.456456442914   2.068418834027372e-71\n",
       " 333929  1703p005  5667 ...    False  8452.289709843182    8.18557315352013e-93\n",
       " 333929  1703p005  5670 ...    False 10305.464121122617 1.0683155056186033e-148\n",
       " 333929  1703p005  5671 ...    False 7037.2789483971865    5.04503961986115e-59\n",
       " 333929  1703p005  5673 ...    False 4854.5929274127475   5.541408209238722e-22"
      ]
     },
     "execution_count": 153,
     "metadata": {},
     "output_type": "execute_result"
    }
   ],
   "source": [
    "test"
   ]
  },
  {
   "cell_type": "code",
   "execution_count": 154,
   "metadata": {},
   "outputs": [
    {
     "data": {
      "image/png": "[encoded data removed]",
      "text/plain": [
       "<matplotlib.figure.Figure at 0x2aaaddef09e8>"
      ]
     },
     "metadata": {
      "needs_background": "light"
     },
     "output_type": "display_data"
    }
   ],
   "source": [
    "fig, ax = plt.subplots(1,1, figsize=(5,5), tight_layout=True)\n",
    "sc = ax.scatter(test['RA'][::100], test['DEC'][::100], s=1, c=test['Pr_radec'][::100], cmap='OrRd')\n",
    "cb = fig.colorbar(sc, ax=ax)\n",
    "cb.set_label('relative angular weight')\n",
    "ax.set(xlim=(180,160), xlabel='RA', ylabel='Dec', aspect='equal');"
   ]
  },
  {
   "cell_type": "code",
   "execution_count": 159,
   "metadata": {},
   "outputs": [
    {
     "data": {
      "text/plain": [
       "(array([36527., 27850., 22629., 19430., 17275., 15773., 15221., 14801.,\n",
       "        14834., 14840., 14875., 15127., 15420., 16198., 17882., 20137.,\n",
       "        25196., 59036.,     0.,     0.]),\n",
       " array([0.1 , 0.15, 0.2 , 0.25, 0.3 , 0.35, 0.4 , 0.45, 0.5 , 0.55, 0.6 ,\n",
       "        0.65, 0.7 , 0.75, 0.8 , 0.85, 0.9 , 0.95, 1.  , 1.05, 1.1 ]),\n",
       " <a list of 20 Patch objects>)"
      ]
     },
     "execution_count": 159,
     "metadata": {},
     "output_type": "execute_result"
    },
    {
     "data": {
      "image/png": "[encoded data removed]",
      "text/plain": [
       "<matplotlib.figure.Figure at 0x2aaadd020cf8>"
      ]
     },
     "metadata": {
      "needs_background": "light"
     },
     "output_type": "display_data"
    }
   ],
   "source": [
    "plt.hist(test['Pr_D_L'], bins=np.linspace(0.1,1.1,21))"
   ]
  },
  {
   "cell_type": "code",
   "execution_count": 67,
   "metadata": {},
   "outputs": [
    {
     "data": {
      "image/png": "[encoded data removed]",
      "text/plain": [
       "<matplotlib.figure.Figure at 0x2aaadd94f160>"
      ]
     },
     "metadata": {
      "needs_background": "light"
     },
     "output_type": "display_data"
    }
   ],
   "source": [
    "hp.mollview(test, flip='astro', rot=180, nest=True)"
   ]
  },
  {
   "cell_type": "code",
   "execution_count": null,
   "metadata": {},
   "outputs": [],
   "source": []
  }
 ],
 "metadata": {
  "kernelspec": {
   "display_name": "DESI master",
   "language": "python",
   "name": "desi-master"
  },
  "language_info": {
   "codemirror_mode": {
    "name": "ipython",
    "version": 3
   },
   "file_extension": ".py",
   "mimetype": "text/x-python",
   "name": "python",
   "nbconvert_exporter": "python",
   "pygments_lexer": "ipython3",
   "version": "3.6.6"
  }
 },
 "nbformat": 4,
 "nbformat_minor": 4
}
