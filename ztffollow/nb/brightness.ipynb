{
 "cells": [
  {
   "cell_type": "code",
   "execution_count": 67,
   "metadata": {},
   "outputs": [],
   "source": [
    "import requests\n",
    "import pandas as pd\n",
    "import numpy as np\n",
    "import matplotlib.pyplot as plt\n",
    "import requests\n",
    "import datetime\n",
    "from datetime import date"
   ]
  },
  {
   "cell_type": "code",
   "execution_count": 68,
   "metadata": {},
   "outputs": [],
   "source": [
    "mjd = 59319\n",
    "mag_cut = 20.5"
   ]
  },
  {
   "cell_type": "code",
   "execution_count": null,
   "metadata": {},
   "outputs": [],
   "source": [
    "today = date.today()\n",
    "DD = datetime.timedelta(days=28)\n",
    "startDate = today - DD\n",
    "token = '7fa6f13d-9055-4cbe-9514-ffc87e63b7dd'"
   ]
  },
  {
   "cell_type": "code",
   "execution_count": null,
   "metadata": {},
   "outputs": [],
   "source": [
    "response = requests.get(\n",
    "    'http://desi2.lbl.gov:5000/api/sources?ra=10&dec=00&radius=5&startDate=%s' % (startDate),\n",
    "    headers={'Authorization': f'token {token}'}\n",
    ")\n",
    "\n",
    "print(f'HTTP code: {response.status_code}, {response.reason}')"
   ]
  },
  {
   "cell_type": "code",
   "execution_count": null,
   "metadata": {},
   "outputs": [],
   "source": [
    "data = response.json()['data']\n",
    "sources = data['sources']\n",
    "ids = [sub['id'] for sub in sources]\n",
    "print(ids)"
   ]
  },
  {
   "cell_type": "code",
   "execution_count": null,
   "metadata": {},
   "outputs": [],
   "source": [
    "epoch = 2000.0\n",
    "for da in sources:\n",
    "    response = requests.get(\"http://3.238.105.175:8081/parametric/sn?oid=%s&mjd=%s\" % (da['id'], mjd))\n",
    "    forecast = response.json()[\"forecast\"]\n",
    "    if forecast[1]['magpsf'] <= mag_cut:\n",
    "        prog = 'BRIGHT' if forecast[1]['magpsf'] < 21 else 'DARK'\n",
    "        print('{:<10.6f} {:>10.6f} {:>9.6f} {:>9.6f} {:>7.1f}  LW  FIBER  {:7s} {:>15.8f} {:>15.8f}'.format(\n",
    "            da['ra'], da['dec'], 0, 0, epoch, prog, mjd, mjd+14))"
   ]
  }
 ],
 "metadata": {
  "kernelspec": {
   "display_name": "PyROOT - Python3",
   "language": "python",
   "name": "pyroot3"
  },
  "language_info": {
   "codemirror_mode": {
    "name": "ipython",
    "version": 3
   },
   "file_extension": ".py",
   "mimetype": "text/x-python",
   "name": "python",
   "nbconvert_exporter": "python",
   "pygments_lexer": "ipython3",
   "version": "3.6.8"
  }
 },
 "nbformat": 4,
 "nbformat_minor": 4
}
