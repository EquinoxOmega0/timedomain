{
 "cells": [
  {
   "cell_type": "markdown",
   "metadata": {},
   "source": [
    "# Testing the ALeRCE forecasting tool (under construction)"
   ]
  },
  {
   "cell_type": "code",
   "execution_count": 1,
   "metadata": {
    "ExecuteTime": {
     "end_time": "2021-03-25T17:43:22.147041Z",
     "start_time": "2021-03-25T17:43:22.141720Z"
    }
   },
   "outputs": [],
   "source": [
    "import pandas as pd\n",
    "import numpy as np\n",
    "import matplotlib.pyplot as plt\n",
    "import requests"
   ]
  },
  {
   "cell_type": "markdown",
   "metadata": {},
   "source": [
    "# Load the ALeRCE client \n",
    "https://alerce-new-python-client.readthedocs.io/en/main/tutorials/ztf_api.html#usage"
   ]
  },
  {
   "cell_type": "code",
   "execution_count": 2,
   "metadata": {
    "ExecuteTime": {
     "end_time": "2021-03-25T17:40:29.202896Z",
     "start_time": "2021-03-25T17:40:28.776277Z"
    }
   },
   "outputs": [],
   "source": [
    "my_config = {\n",
    "    \"ZTF_API_URL\": \"https://dev.api.alerce.online\"\n",
    "}\n",
    "from alerce.core import Alerce\n",
    "alerce = Alerce()\n",
    "alerce.load_config_from_object(my_config)"
   ]
  },
  {
   "cell_type": "markdown",
   "metadata": {},
   "source": [
    "# Select a SN"
   ]
  },
  {
   "cell_type": "code",
   "execution_count": 3,
   "metadata": {
    "ExecuteTime": {
     "end_time": "2021-03-25T17:58:01.813530Z",
     "start_time": "2021-03-25T17:58:01.806608Z"
    }
   },
   "outputs": [],
   "source": [
    "oid = \"ZTF21aaqftuq\" #\"ZTF21aaqftuq\""
   ]
  },
  {
   "cell_type": "markdown",
   "metadata": {},
   "source": [
    "# Check in ALeRCE explorer"
   ]
  },
  {
   "cell_type": "code",
   "execution_count": 4,
   "metadata": {
    "ExecuteTime": {
     "end_time": "2021-03-25T17:58:02.445063Z",
     "start_time": "2021-03-25T17:58:02.437277Z"
    }
   },
   "outputs": [
    {
     "data": {
      "text/html": [
       "<a href=\"https://dev.alerce.online/object/ZTF21aaqftuq\">ZTF21aaqftuq</a>"
      ],
      "text/plain": [
       "<IPython.core.display.HTML object>"
      ]
     },
     "metadata": {},
     "output_type": "display_data"
    }
   ],
   "source": [
    "from IPython.core.display import display, HTML\n",
    "display(HTML(\"<a href=\\\"https://dev.alerce.online/object/%s\\\">%s</a>\" % (oid, oid)))"
   ]
  },
  {
   "cell_type": "markdown",
   "metadata": {},
   "source": [
    "# Query object statistics"
   ]
  },
  {
   "cell_type": "code",
   "execution_count": 5,
   "metadata": {
    "ExecuteTime": {
     "end_time": "2021-03-25T17:58:04.020943Z",
     "start_time": "2021-03-25T17:58:02.868879Z"
    }
   },
   "outputs": [
    {
     "data": {
      "text/html": [
       "<div>\n",
       "<style scoped>\n",
       "    .dataframe tbody tr th:only-of-type {\n",
       "        vertical-align: middle;\n",
       "    }\n",
       "\n",
       "    .dataframe tbody tr th {\n",
       "        vertical-align: top;\n",
       "    }\n",
       "\n",
       "    .dataframe thead th {\n",
       "        text-align: right;\n",
       "    }\n",
       "</style>\n",
       "<table border=\"1\" class=\"dataframe\">\n",
       "  <thead>\n",
       "    <tr style=\"text-align: right;\">\n",
       "      <th></th>\n",
       "      <th>oid</th>\n",
       "      <th>ndethist</th>\n",
       "      <th>ncovhist</th>\n",
       "      <th>mjdstarthist</th>\n",
       "      <th>mjdendhist</th>\n",
       "      <th>corrected</th>\n",
       "      <th>stellar</th>\n",
       "      <th>ndet</th>\n",
       "      <th>g_r_max</th>\n",
       "      <th>g_r_max_corr</th>\n",
       "      <th>...</th>\n",
       "      <th>lastmjd</th>\n",
       "      <th>deltajd</th>\n",
       "      <th>meanra</th>\n",
       "      <th>meandec</th>\n",
       "      <th>sigmara</th>\n",
       "      <th>sigmadec</th>\n",
       "      <th>class</th>\n",
       "      <th>classifier</th>\n",
       "      <th>probability</th>\n",
       "      <th>step_id_corr</th>\n",
       "    </tr>\n",
       "  </thead>\n",
       "  <tbody>\n",
       "    <tr>\n",
       "      <th>0</th>\n",
       "      <td>ZTF21aaqftuq</td>\n",
       "      <td>7</td>\n",
       "      <td>1665</td>\n",
       "      <td>59292.535938</td>\n",
       "      <td>59297.534907</td>\n",
       "      <td>True</td>\n",
       "      <td>True</td>\n",
       "      <td>7</td>\n",
       "      <td>None</td>\n",
       "      <td>None</td>\n",
       "      <td>...</td>\n",
       "      <td>59297.534907</td>\n",
       "      <td>4.99897</td>\n",
       "      <td>334.844817</td>\n",
       "      <td>32.957895</td>\n",
       "      <td>0.000044</td>\n",
       "      <td>0.00002</td>\n",
       "      <td>None</td>\n",
       "      <td>None</td>\n",
       "      <td>None</td>\n",
       "      <td>correction_0.0.1</td>\n",
       "    </tr>\n",
       "  </tbody>\n",
       "</table>\n",
       "<p>1 rows × 23 columns</p>\n",
       "</div>"
      ],
      "text/plain": [
       "            oid ndethist  ncovhist  mjdstarthist    mjdendhist  corrected  \\\n",
       "0  ZTF21aaqftuq        7      1665  59292.535938  59297.534907       True   \n",
       "\n",
       "   stellar  ndet g_r_max g_r_max_corr  ...       lastmjd  deltajd      meanra  \\\n",
       "0     True     7    None         None  ...  59297.534907  4.99897  334.844817   \n",
       "\n",
       "     meandec   sigmara  sigmadec  class  classifier  probability  \\\n",
       "0  32.957895  0.000044   0.00002   None        None         None   \n",
       "\n",
       "       step_id_corr  \n",
       "0  correction_0.0.1  \n",
       "\n",
       "[1 rows x 23 columns]"
      ]
     },
     "execution_count": 5,
     "metadata": {},
     "output_type": "execute_result"
    }
   ],
   "source": [
    "alerce.query_objects(oid=oid, format='pandas')"
   ]
  },
  {
   "cell_type": "markdown",
   "metadata": {},
   "source": [
    "# Query object band dependent statistics"
   ]
  },
  {
   "cell_type": "code",
   "execution_count": 6,
   "metadata": {
    "ExecuteTime": {
     "end_time": "2021-03-25T17:58:04.276439Z",
     "start_time": "2021-03-25T17:58:04.022943Z"
    }
   },
   "outputs": [
    {
     "data": {
      "text/html": [
       "<div>\n",
       "<style scoped>\n",
       "    .dataframe tbody tr th:only-of-type {\n",
       "        vertical-align: middle;\n",
       "    }\n",
       "\n",
       "    .dataframe tbody tr th {\n",
       "        vertical-align: top;\n",
       "    }\n",
       "\n",
       "    .dataframe thead th {\n",
       "        text-align: right;\n",
       "    }\n",
       "</style>\n",
       "<table border=\"1\" class=\"dataframe\">\n",
       "  <thead>\n",
       "    <tr style=\"text-align: right;\">\n",
       "      <th></th>\n",
       "      <th>fid</th>\n",
       "      <th>stellar</th>\n",
       "      <th>corrected</th>\n",
       "      <th>ndet</th>\n",
       "      <th>ndubious</th>\n",
       "      <th>magmean</th>\n",
       "      <th>magmedian</th>\n",
       "      <th>magmax</th>\n",
       "      <th>magmin</th>\n",
       "      <th>magsigma</th>\n",
       "      <th>maglast</th>\n",
       "      <th>magfirst</th>\n",
       "      <th>firstmjd</th>\n",
       "      <th>lastmjd</th>\n",
       "      <th>step_id_corr</th>\n",
       "    </tr>\n",
       "  </thead>\n",
       "  <tbody>\n",
       "    <tr>\n",
       "      <th>0</th>\n",
       "      <td>2</td>\n",
       "      <td>True</td>\n",
       "      <td>True</td>\n",
       "      <td>7</td>\n",
       "      <td>0</td>\n",
       "      <td>17.168188</td>\n",
       "      <td>16.861237</td>\n",
       "      <td>18.233017</td>\n",
       "      <td>16.391235</td>\n",
       "      <td>0.724354</td>\n",
       "      <td>16.391235</td>\n",
       "      <td>18.164976</td>\n",
       "      <td>59292.535</td>\n",
       "      <td>59297.535</td>\n",
       "      <td>correction_0.0.1</td>\n",
       "    </tr>\n",
       "  </tbody>\n",
       "</table>\n",
       "</div>"
      ],
      "text/plain": [
       "   fid  stellar  corrected  ndet  ndubious    magmean  magmedian     magmax  \\\n",
       "0    2     True       True     7         0  17.168188  16.861237  18.233017   \n",
       "\n",
       "      magmin  magsigma    maglast   magfirst   firstmjd    lastmjd  \\\n",
       "0  16.391235  0.724354  16.391235  18.164976  59292.535  59297.535   \n",
       "\n",
       "       step_id_corr  \n",
       "0  correction_0.0.1  "
      ]
     },
     "execution_count": 6,
     "metadata": {},
     "output_type": "execute_result"
    }
   ],
   "source": [
    "alerce.query_magstats(oid=oid, format='pandas')"
   ]
  },
  {
   "cell_type": "markdown",
   "metadata": {},
   "source": [
    "# Get light curve"
   ]
  },
  {
   "cell_type": "code",
   "execution_count": 7,
   "metadata": {
    "ExecuteTime": {
     "end_time": "2021-03-25T17:58:04.695124Z",
     "start_time": "2021-03-25T17:58:04.278474Z"
    }
   },
   "outputs": [
    {
     "data": {
      "text/html": [
       "<div>\n",
       "<style scoped>\n",
       "    .dataframe tbody tr th:only-of-type {\n",
       "        vertical-align: middle;\n",
       "    }\n",
       "\n",
       "    .dataframe tbody tr th {\n",
       "        vertical-align: top;\n",
       "    }\n",
       "\n",
       "    .dataframe thead th {\n",
       "        text-align: right;\n",
       "    }\n",
       "</style>\n",
       "<table border=\"1\" class=\"dataframe\">\n",
       "  <thead>\n",
       "    <tr style=\"text-align: right;\">\n",
       "      <th></th>\n",
       "      <th>mjd</th>\n",
       "      <th>candid</th>\n",
       "      <th>fid</th>\n",
       "      <th>pid</th>\n",
       "      <th>diffmaglim</th>\n",
       "      <th>isdiffpos</th>\n",
       "      <th>nid</th>\n",
       "      <th>distnr</th>\n",
       "      <th>magpsf</th>\n",
       "      <th>magpsf_corr</th>\n",
       "      <th>...</th>\n",
       "      <th>magapbig</th>\n",
       "      <th>sigmagapbig</th>\n",
       "      <th>rfid</th>\n",
       "      <th>has_stamp</th>\n",
       "      <th>corrected</th>\n",
       "      <th>dubious</th>\n",
       "      <th>candid_alert</th>\n",
       "      <th>step_id_corr</th>\n",
       "      <th>phase</th>\n",
       "      <th>parent_candid</th>\n",
       "    </tr>\n",
       "  </thead>\n",
       "  <tbody>\n",
       "    <tr>\n",
       "      <th>0</th>\n",
       "      <td>59292.535938</td>\n",
       "      <td>1538535932815015004</td>\n",
       "      <td>2</td>\n",
       "      <td>1538535932815</td>\n",
       "      <td>19.374205</td>\n",
       "      <td>1</td>\n",
       "      <td>1538</td>\n",
       "      <td>0.492556</td>\n",
       "      <td>18.164976</td>\n",
       "      <td>17.130201</td>\n",
       "      <td>...</td>\n",
       "      <td>18.0665</td>\n",
       "      <td>0.1522</td>\n",
       "      <td>691120228.0</td>\n",
       "      <td>True</td>\n",
       "      <td>True</td>\n",
       "      <td>False</td>\n",
       "      <td>None</td>\n",
       "      <td>correction_0.0.1</td>\n",
       "      <td>None</td>\n",
       "      <td>None</td>\n",
       "    </tr>\n",
       "    <tr>\n",
       "      <th>1</th>\n",
       "      <td>59292.538380</td>\n",
       "      <td>1538538372815015004</td>\n",
       "      <td>2</td>\n",
       "      <td>1538538372815</td>\n",
       "      <td>19.201283</td>\n",
       "      <td>1</td>\n",
       "      <td>1538</td>\n",
       "      <td>0.527174</td>\n",
       "      <td>18.233017</td>\n",
       "      <td>17.155933</td>\n",
       "      <td>...</td>\n",
       "      <td>18.7859</td>\n",
       "      <td>0.3522</td>\n",
       "      <td>691120228.0</td>\n",
       "      <td>True</td>\n",
       "      <td>True</td>\n",
       "      <td>False</td>\n",
       "      <td>None</td>\n",
       "      <td>correction_0.0.1</td>\n",
       "      <td>None</td>\n",
       "      <td>None</td>\n",
       "    </tr>\n",
       "    <tr>\n",
       "      <th>2</th>\n",
       "      <td>59295.529502</td>\n",
       "      <td>1541529502815015004</td>\n",
       "      <td>2</td>\n",
       "      <td>1541529502815</td>\n",
       "      <td>19.185300</td>\n",
       "      <td>1</td>\n",
       "      <td>1541</td>\n",
       "      <td>0.502194</td>\n",
       "      <td>16.808800</td>\n",
       "      <td>16.400148</td>\n",
       "      <td>...</td>\n",
       "      <td>16.7748</td>\n",
       "      <td>0.0387</td>\n",
       "      <td>NaN</td>\n",
       "      <td>False</td>\n",
       "      <td>True</td>\n",
       "      <td>False</td>\n",
       "      <td>None</td>\n",
       "      <td>correction_0.0.1</td>\n",
       "      <td>None</td>\n",
       "      <td>None</td>\n",
       "    </tr>\n",
       "    <tr>\n",
       "      <th>3</th>\n",
       "      <td>59295.531910</td>\n",
       "      <td>1541531902815015016</td>\n",
       "      <td>2</td>\n",
       "      <td>1541531902815</td>\n",
       "      <td>19.189621</td>\n",
       "      <td>1</td>\n",
       "      <td>1541</td>\n",
       "      <td>0.682880</td>\n",
       "      <td>16.861237</td>\n",
       "      <td>16.435863</td>\n",
       "      <td>...</td>\n",
       "      <td>16.8332</td>\n",
       "      <td>0.0449</td>\n",
       "      <td>691120228.0</td>\n",
       "      <td>True</td>\n",
       "      <td>True</td>\n",
       "      <td>False</td>\n",
       "      <td>None</td>\n",
       "      <td>correction_0.0.1</td>\n",
       "      <td>None</td>\n",
       "      <td>None</td>\n",
       "    </tr>\n",
       "    <tr>\n",
       "      <th>4</th>\n",
       "      <td>59295.534317</td>\n",
       "      <td>1541534312815015005</td>\n",
       "      <td>2</td>\n",
       "      <td>1541534312815</td>\n",
       "      <td>18.997221</td>\n",
       "      <td>1</td>\n",
       "      <td>1541</td>\n",
       "      <td>0.564532</td>\n",
       "      <td>16.823713</td>\n",
       "      <td>16.410362</td>\n",
       "      <td>...</td>\n",
       "      <td>16.8249</td>\n",
       "      <td>0.0502</td>\n",
       "      <td>691120228.0</td>\n",
       "      <td>True</td>\n",
       "      <td>True</td>\n",
       "      <td>False</td>\n",
       "      <td>None</td>\n",
       "      <td>correction_0.0.1</td>\n",
       "      <td>None</td>\n",
       "      <td>None</td>\n",
       "    </tr>\n",
       "    <tr>\n",
       "      <th>5</th>\n",
       "      <td>59295.536713</td>\n",
       "      <td>1541536712815015007</td>\n",
       "      <td>2</td>\n",
       "      <td>1541536712815</td>\n",
       "      <td>18.869886</td>\n",
       "      <td>1</td>\n",
       "      <td>1541</td>\n",
       "      <td>0.536552</td>\n",
       "      <td>16.894344</td>\n",
       "      <td>16.458128</td>\n",
       "      <td>...</td>\n",
       "      <td>16.8470</td>\n",
       "      <td>0.0613</td>\n",
       "      <td>691120228.0</td>\n",
       "      <td>True</td>\n",
       "      <td>True</td>\n",
       "      <td>False</td>\n",
       "      <td>None</td>\n",
       "      <td>correction_0.0.1</td>\n",
       "      <td>None</td>\n",
       "      <td>None</td>\n",
       "    </tr>\n",
       "    <tr>\n",
       "      <th>6</th>\n",
       "      <td>59297.534907</td>\n",
       "      <td>1543534902815015005</td>\n",
       "      <td>2</td>\n",
       "      <td>1543534902815</td>\n",
       "      <td>18.966776</td>\n",
       "      <td>1</td>\n",
       "      <td>1543</td>\n",
       "      <td>0.651163</td>\n",
       "      <td>16.391235</td>\n",
       "      <td>16.097149</td>\n",
       "      <td>...</td>\n",
       "      <td>16.3878</td>\n",
       "      <td>0.0349</td>\n",
       "      <td>691120228.0</td>\n",
       "      <td>True</td>\n",
       "      <td>True</td>\n",
       "      <td>False</td>\n",
       "      <td>None</td>\n",
       "      <td>correction_0.0.1</td>\n",
       "      <td>None</td>\n",
       "      <td>None</td>\n",
       "    </tr>\n",
       "  </tbody>\n",
       "</table>\n",
       "<p>7 rows × 33 columns</p>\n",
       "</div>"
      ],
      "text/plain": [
       "            mjd               candid  fid            pid  diffmaglim  \\\n",
       "0  59292.535938  1538535932815015004    2  1538535932815   19.374205   \n",
       "1  59292.538380  1538538372815015004    2  1538538372815   19.201283   \n",
       "2  59295.529502  1541529502815015004    2  1541529502815   19.185300   \n",
       "3  59295.531910  1541531902815015016    2  1541531902815   19.189621   \n",
       "4  59295.534317  1541534312815015005    2  1541534312815   18.997221   \n",
       "5  59295.536713  1541536712815015007    2  1541536712815   18.869886   \n",
       "6  59297.534907  1543534902815015005    2  1543534902815   18.966776   \n",
       "\n",
       "   isdiffpos   nid    distnr     magpsf  magpsf_corr  ... magapbig  \\\n",
       "0          1  1538  0.492556  18.164976    17.130201  ...  18.0665   \n",
       "1          1  1538  0.527174  18.233017    17.155933  ...  18.7859   \n",
       "2          1  1541  0.502194  16.808800    16.400148  ...  16.7748   \n",
       "3          1  1541  0.682880  16.861237    16.435863  ...  16.8332   \n",
       "4          1  1541  0.564532  16.823713    16.410362  ...  16.8249   \n",
       "5          1  1541  0.536552  16.894344    16.458128  ...  16.8470   \n",
       "6          1  1543  0.651163  16.391235    16.097149  ...  16.3878   \n",
       "\n",
       "   sigmagapbig         rfid  has_stamp  corrected  dubious  candid_alert  \\\n",
       "0       0.1522  691120228.0       True       True    False          None   \n",
       "1       0.3522  691120228.0       True       True    False          None   \n",
       "2       0.0387          NaN      False       True    False          None   \n",
       "3       0.0449  691120228.0       True       True    False          None   \n",
       "4       0.0502  691120228.0       True       True    False          None   \n",
       "5       0.0613  691120228.0       True       True    False          None   \n",
       "6       0.0349  691120228.0       True       True    False          None   \n",
       "\n",
       "       step_id_corr  phase  parent_candid  \n",
       "0  correction_0.0.1   None           None  \n",
       "1  correction_0.0.1   None           None  \n",
       "2  correction_0.0.1   None           None  \n",
       "3  correction_0.0.1   None           None  \n",
       "4  correction_0.0.1   None           None  \n",
       "5  correction_0.0.1   None           None  \n",
       "6  correction_0.0.1   None           None  \n",
       "\n",
       "[7 rows x 33 columns]"
      ]
     },
     "metadata": {},
     "output_type": "display_data"
    },
    {
     "data": {
      "text/html": [
       "<div>\n",
       "<style scoped>\n",
       "    .dataframe tbody tr th:only-of-type {\n",
       "        vertical-align: middle;\n",
       "    }\n",
       "\n",
       "    .dataframe tbody tr th {\n",
       "        vertical-align: top;\n",
       "    }\n",
       "\n",
       "    .dataframe thead th {\n",
       "        text-align: right;\n",
       "    }\n",
       "</style>\n",
       "<table border=\"1\" class=\"dataframe\">\n",
       "  <thead>\n",
       "    <tr style=\"text-align: right;\">\n",
       "      <th></th>\n",
       "    </tr>\n",
       "  </thead>\n",
       "  <tbody>\n",
       "  </tbody>\n",
       "</table>\n",
       "</div>"
      ],
      "text/plain": [
       "Empty DataFrame\n",
       "Columns: []\n",
       "Index: []"
      ]
     },
     "metadata": {},
     "output_type": "display_data"
    },
    {
     "data": {
      "text/html": [
       "<div>\n",
       "<style scoped>\n",
       "    .dataframe tbody tr th:only-of-type {\n",
       "        vertical-align: middle;\n",
       "    }\n",
       "\n",
       "    .dataframe tbody tr th {\n",
       "        vertical-align: top;\n",
       "    }\n",
       "\n",
       "    .dataframe thead th {\n",
       "        text-align: right;\n",
       "    }\n",
       "</style>\n",
       "<table border=\"1\" class=\"dataframe\">\n",
       "  <thead>\n",
       "    <tr style=\"text-align: right;\">\n",
       "      <th></th>\n",
       "    </tr>\n",
       "  </thead>\n",
       "  <tbody>\n",
       "  </tbody>\n",
       "</table>\n",
       "</div>"
      ],
      "text/plain": [
       "Empty DataFrame\n",
       "Columns: []\n",
       "Index: []"
      ]
     },
     "execution_count": 7,
     "metadata": {},
     "output_type": "execute_result"
    }
   ],
   "source": [
    "# Getting detections for an object\n",
    "det = alerce.query_detections(oid, format=\"pandas\")\n",
    "display(det)\n",
    "\n",
    "# Getting non detections for an object\n",
    "non_det = alerce.query_non_detections(oid, format=\"pandas\")\n",
    "display(non_det)\n",
    "non_det"
   ]
  },
  {
   "cell_type": "markdown",
   "metadata": {},
   "source": [
    "# Plot stamps"
   ]
  },
  {
   "cell_type": "code",
   "execution_count": 8,
   "metadata": {
    "ExecuteTime": {
     "end_time": "2021-03-25T17:58:04.704393Z",
     "start_time": "2021-03-25T17:58:04.697655Z"
    }
   },
   "outputs": [
    {
     "data": {
      "text/html": [
       "\n",
       "        <div>ZTF oid: ZTF21aaqftuq, candid: 1538535932815015004</div>\n",
       "        <div>&emsp;&emsp;&emsp;&emsp;&emsp;\n",
       "        Science\n",
       "        &emsp;&emsp;&emsp;&emsp;&emsp;&emsp;&emsp;&emsp;&emsp;&emsp;&emsp;&emsp;\n",
       "        Template\n",
       "        &emsp;&emsp;&emsp;&emsp;&emsp;&emsp;&emsp;&emsp;&emsp;&emsp;&emsp;&emsp;\n",
       "        Difference\n",
       "        <div class=\"container\">\n",
       "        <div style=\"float:left;width:20%\"><img src=\"http://avro.alerce.online/get_stamp?oid=ZTF21aaqftuq&candid=1538535932815015004&type=science&format=png\"></div>\n",
       "        <div style=\"float:left;width:20%\"><img src=\"http://avro.alerce.online/get_stamp?oid=ZTF21aaqftuq&candid=1538535932815015004&type=template&format=png\"></div>\n",
       "        <div style=\"float:left;width:20%\"><img src=\"http://avro.alerce.online/get_stamp?oid=ZTF21aaqftuq&candid=1538535932815015004&type=difference&format=png\"></div>\n",
       "        </div>\n",
       "        "
      ],
      "text/plain": [
       "<IPython.core.display.HTML object>"
      ]
     },
     "metadata": {},
     "output_type": "display_data"
    }
   ],
   "source": [
    "#alerce.get_stamps(oid, candid=None)#candid=det.loc[det.has_stamp].candid.min())\n",
    "alerce.plot_stamps(oid, candid=det.loc[det.has_stamp].candid.min())"
   ]
  },
  {
   "cell_type": "markdown",
   "metadata": {},
   "source": [
    "# Plot light curve"
   ]
  },
  {
   "cell_type": "code",
   "execution_count": 9,
   "metadata": {
    "ExecuteTime": {
     "end_time": "2021-03-25T17:58:04.876229Z",
     "start_time": "2021-03-25T17:58:04.706124Z"
    }
   },
   "outputs": [
    {
     "data": {
      "text/plain": [
       "<matplotlib.text.Text at 0x7f9c48584a58>"
      ]
     },
     "execution_count": 9,
     "metadata": {},
     "output_type": "execute_result"
    },
    {
     "data": {
      "image/png": "[encoded data removed]",
      "text/plain": [
       "<matplotlib.figure.Figure at 0x7f9c48566080>"
      ]
     },
     "metadata": {
      "needs_background": "light"
     },
     "output_type": "display_data"
    }
   ],
   "source": [
    "fig, ax = plt.subplots()\n",
    "colors = {1: 'g', 2: 'r'}\n",
    "for fid in det.fid.unique():\n",
    "    mask = det.fid == fid\n",
    "    ax.errorbar(det.loc[mask].mjd, det.loc[mask].magpsf, yerr=det.loc[mask].sigmapsf, c=colors[fid], marker='o')\n",
    "ax.set_ylim(ax.get_ylim()[::-1])\n",
    "ax.set_xlabel(\"MJD\")\n",
    "ax.set_ylabel(\"mag\")"
   ]
  },
  {
   "cell_type": "markdown",
   "metadata": {},
   "source": [
    "# Forecasting"
   ]
  },
  {
   "cell_type": "code",
   "execution_count": 10,
   "metadata": {
    "ExecuteTime": {
     "end_time": "2021-03-25T17:58:05.747936Z",
     "start_time": "2021-03-25T17:58:05.738906Z"
    }
   },
   "outputs": [],
   "source": [
    "times = np.linspace(det.mjd.min() - 10, det.mjd.max() + 30, 10)"
   ]
  },
  {
   "cell_type": "code",
   "execution_count": 12,
   "metadata": {
    "ExecuteTime": {
     "end_time": "2021-03-25T17:58:10.982318Z",
     "start_time": "2021-03-25T17:58:06.825727Z"
    }
   },
   "outputs": [],
   "source": [
    "forecasts = []\n",
    "for mjd in times:\n",
    "    response = requests.get(\"http://3.238.105.175:8081/parametric/sn?oid=%s&mjd=%s\" % (oid, mjd))\n",
    "    forecasts += response.json()[\"forecast\"]"
   ]
  },
  {
   "cell_type": "code",
   "execution_count": 13,
   "metadata": {
    "ExecuteTime": {
     "end_time": "2021-03-25T17:58:11.312378Z",
     "start_time": "2021-03-25T17:58:10.985881Z"
    }
   },
   "outputs": [
    {
     "data": {
      "text/plain": [
       "<matplotlib.text.Text at 0x7f9c489839e8>"
      ]
     },
     "execution_count": 13,
     "metadata": {},
     "output_type": "execute_result"
    },
    {
     "data": {
      "image/png": "[encoded data removed]",
      "text/plain": [
       "<matplotlib.figure.Figure at 0x7f9c488b0ac8>"
      ]
     },
     "metadata": {
      "needs_background": "light"
     },
     "output_type": "display_data"
    }
   ],
   "source": [
    "fig, ax = plt.subplots()\n",
    "colors = {1: 'g', 2: 'r'}\n",
    "for fid in det.fid.unique():\n",
    "    mask = det.fid == fid\n",
    "    ax.errorbar(det.loc[mask].mjd, det.loc[mask].magpsf, yerr=det.loc[mask].sigmapsf, c=colors[fid], marker='o')    \n",
    "for i in forecasts:\n",
    "    if not i[\"magpsf\"] is None:\n",
    "        ax.scatter(i[\"mjd\"], i[\"magpsf\"], c=colors[fid], marker='*')\n",
    "ax.set_ylim(ax.get_ylim()[::-1])\n",
    "ax.set_xlabel(\"MJD\")\n",
    "ax.set_ylabel(\"mag\")"
   ]
  },
  {
   "cell_type": "code",
   "execution_count": null,
   "metadata": {},
   "outputs": [],
   "source": []
  }
 ],
 "metadata": {
  "anaconda-cloud": {},
  "kernelspec": {
   "display_name": "Python [conda env:py36]",
   "language": "python",
   "name": "conda-env-py36-py"
  },
  "language_info": {
   "codemirror_mode": {
    "name": "ipython",
    "version": 3
   },
   "file_extension": ".py",
   "mimetype": "text/x-python",
   "name": "python",
   "nbconvert_exporter": "python",
   "pygments_lexer": "ipython3",
   "version": "3.6.8"
  },
  "toc": {
   "base_numbering": 1,
   "nav_menu": {},
   "number_sections": true,
   "sideBar": true,
   "skip_h1_title": false,
   "title_cell": "Table of Contents",
   "title_sidebar": "Contents",
   "toc_cell": false,
   "toc_position": {
    "height": "calc(100% - 180px)",
    "left": "10px",
    "top": "150px",
    "width": "372px"
   },
   "toc_section_display": true,
   "toc_window_display": true
  }
 },
 "nbformat": 4,
 "nbformat_minor": 2
}
