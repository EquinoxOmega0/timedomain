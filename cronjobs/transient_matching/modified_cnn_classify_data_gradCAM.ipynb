{
 "cells": [
  {
   "cell_type": "markdown",
   "metadata": {},
   "source": [
    "# Apply CNN Classifier to DESI Spectra and visualize results with gradCAM\n",
    "\n",
    "Mini-SV2 tiles from February-March 2020:\n",
    "- https://desi.lbl.gov/trac/wiki/TargetSelectionWG/miniSV2\n",
    "\n",
    "See also the DESI tile picker with (limited) SV0 tiles from March 2020:\n",
    "- https://desi.lbl.gov/svn/data/tiles/trunk/\n",
    "- https://desi.lbl.gov/svn/data/tiles/trunk/SV0.html"
   ]
  },
  {
   "cell_type": "code",
   "execution_count": 1,
   "metadata": {},
   "outputs": [],
   "source": [
    "import sys\n",
    "sys.path.append('/global/homes/p/portmanm/timedomain/desitrip/py/')\n",
    "sys.path.append('/global/homes/p/portmanm/desi/desispec/')\n",
    "\n",
    "from desispec.io import read_spectra, write_spectra\n",
    "from desispec.spectra import Spectra\n",
    "from desispec.coaddition import coadd_cameras\n",
    "\n",
    "from desitarget.cmx.cmx_targetmask import cmx_mask\n",
    "\n",
    "from desitrip.preproc import rebin_flux, rescale_flux\n",
    "from desitrip.deltamag import delta_mag\n",
    "\n",
    "from astropy.io import fits\n",
    "from astropy.table import Table, vstack, hstack\n",
    "\n",
    "from glob import glob\n",
    "from datetime import date\n",
    "\n",
    "import os\n",
    "import numpy as np\n",
    "import matplotlib as mpl\n",
    "import matplotlib.pyplot as plt\n",
    "\n",
    "from tensorflow import keras"
   ]
  },
  {
   "cell_type": "code",
   "execution_count": 2,
   "metadata": {},
   "outputs": [],
   "source": [
    "mpl.rc('font', size=14)"
   ]
  },
  {
   "cell_type": "code",
   "execution_count": 3,
   "metadata": {},
   "outputs": [],
   "source": [
    "# Set up BGS target bit selection.\n",
    "cmx_bgs_bits = '|'.join([_ for _ in cmx_mask.names() if 'BGS' in _])"
   ]
  },
  {
   "cell_type": "markdown",
   "metadata": {},
   "source": [
    "## Select a Date & Tile from the Tile Picker"
   ]
  },
  {
   "cell_type": "code",
   "execution_count": 10,
   "metadata": {},
   "outputs": [],
   "source": [
    "tile_ids = []\n",
    "obsdates = []\n",
    "petal_ids = []\n",
    "rows = []\n",
    "\n",
    "with open('cnn_feed.txt') as tfile:\n",
    "    all_lines = tfile.readlines()\n",
    "    \n",
    "for line_idx in range(len(all_lines)):\n",
    "    line = all_lines[line_idx].split(',') # Get rid of spacing between\n",
    "    #print(line)\n",
    "    tile_ids.append(line[0])\n",
    "    obsdates.append(line[1].strip())\n",
    "    petal_ids.append(line[2].strip())\n",
    "    rows.append(line[-1].strip(' \\n'))"
   ]
  },
  {
   "cell_type": "code",
   "execution_count": 46,
   "metadata": {},
   "outputs": [],
   "source": [
    "# Temp version... until I fix may 3 thing\n",
    "tile_ids = []\n",
    "obsdates = []\n",
    "petal_ids = []\n",
    "rows = []\n",
    "\n",
    "with open('cnn_feed.txt') as tfile:\n",
    "    all_lines = tfile.readlines()\n",
    "    \n",
    "for line_idx in range(len(all_lines)):\n",
    "    line = all_lines[line_idx].split(',') # Get rid of spacing between\n",
    "    #print(line)\n",
    "    #if line[1].strip() < '20210503': for before adjusting coadd/zbest grab for 5/3 change\n",
    "    tile_ids.append(line[0])\n",
    "    obsdates.append(line[1].strip())\n",
    "    petal_ids.append(line[2].strip())\n",
    "    rows.append(line[-1].strip(' \\n'))"
   ]
  },
  {
   "cell_type": "code",
   "execution_count": 47,
   "metadata": {},
   "outputs": [],
   "source": [
    "# Access redux folder.\n",
    "zbfiles = []\n",
    "cafiles = []\n",
    "#print(rows)\n",
    "# After May 3, format changed, look at Antonella's implementation \n",
    "# if int(obsdate)<20210503:\n",
    "#             prefix_in = '/'.join([redux, 'tiles', tile_number, obsdate])\n",
    "#         else:\n",
    "#             prefix_in = '/'.join([redux, 'tiles/cumulative', tile_number])\n",
    "\n",
    "redux='/global/project/projectdirs/desi/spectro/redux/daily/tiles'\n",
    "for tile_id, obsdate, petal_id, row in zip(tile_ids[:], obsdates[:], petal_ids[:], rows[:]):\n",
    "    if obsdate < '20210503':\n",
    "        prefix_in ='/'.join([redux, str(tile_id), str(obsdate)])\n",
    "    else:\n",
    "        prefix_in = '/'.join([redux, 'cumulative', str(tile_id)])\n",
    "        \n",
    "    if not os.path.isdir(prefix_in):\n",
    "        print('{} does not exist.'.format(prefix_in))\n",
    "        tile_ids.remove(tile_id)\n",
    "        obsdates.remove(obsdate)\n",
    "        petal_ids.remove(petal_id)\n",
    "        rows.remove(row)\n",
    "        continue\n",
    "        \n",
    "# Also check something around here (previously line 298)\n",
    "#              if int(obsdate)<20210503:\n",
    "#                 zbfiles = sorted(glob('{}/zbest*.fits'.format(prefix_in)))\n",
    "#                 cafiles = sorted(glob('{}/coadd*.fits'.format(prefix_in)))\n",
    "#             else:\n",
    "#                 zbfiles = sorted(glob('{}/*/zbest*.fits'.format(prefix_in)))\n",
    "#                 cafiles = sorted(glob('{}/*/spectra*.fits'.format(prefix_in)))\n",
    "#                 #cafiles = sorted(glob('{}/cframe*.fits'.format(prefix_in)))\n",
    "\n",
    "# Also this previously on line 325\n",
    "#if int(obsdate)>20210503:\n",
    "#                     select_nite = pspectra.fibermap['NIGHT'] == int(obsdate)\n",
    "#                     pspectra = pspectra[select_nite]\n",
    "\n",
    "    # List zbest and coadd files.\n",
    "    # Data are stored by petal ID.\n",
    "    fileend = '-'.join((petal_id, tile_id, obsdate))\n",
    "    #print(fileend)\n",
    "    zbfiles.extend(sorted(glob('{}/zbest-'.format(prefix_in) + fileend + '*.fits')))\n",
    "    cafiles.extend(sorted(glob('{}/coadd-'.format(prefix_in) + fileend + '*.fits')))"
   ]
  },
  {
   "cell_type": "code",
   "execution_count": 48,
   "metadata": {},
   "outputs": [
    {
     "name": "stdout",
     "output_type": "stream",
     "text": [
      "138\n",
      "138\n",
      "138\n",
      "138\n",
      "138\n",
      "138\n"
     ]
    }
   ],
   "source": [
    "# zbest files from redrock.\n",
    "zbfiles\n",
    "print(len(zbfiles))\n",
    "print(len(cafiles))\n",
    "print(len(tile_ids))\n",
    "print(len(obsdates))\n",
    "print(len(petal_ids))\n",
    "print(len(rows))"
   ]
  },
  {
   "cell_type": "code",
   "execution_count": 80,
   "metadata": {},
   "outputs": [
    {
     "data": {
      "text/plain": [
       "['/global/project/projectdirs/desi/spectro/redux/daily/tiles/80662/20210221/coadd-3-80662-20210221.fits',\n",
       " '/global/project/projectdirs/desi/spectro/redux/daily/tiles/80662/20210322/coadd-3-80662-20210322.fits',\n",
       " '/global/project/projectdirs/desi/spectro/redux/daily/tiles/228/20210405/coadd-5-228-20210405.fits',\n",
       " '/global/project/projectdirs/desi/spectro/redux/daily/tiles/217/20210406/coadd-3-217-20210406.fits',\n",
       " '/global/project/projectdirs/desi/spectro/redux/daily/tiles/28/20210407/coadd-6-28-20210407.fits',\n",
       " '/global/project/projectdirs/desi/spectro/redux/daily/tiles/246/20210408/coadd-8-246-20210408.fits',\n",
       " '/global/project/projectdirs/desi/spectro/redux/daily/tiles/219/20210409/coadd-3-219-20210409.fits',\n",
       " '/global/project/projectdirs/desi/spectro/redux/daily/tiles/228/20210410/coadd-2-228-20210410.fits',\n",
       " '/global/project/projectdirs/desi/spectro/redux/daily/tiles/221/20210412/coadd-4-221-20210412.fits',\n",
       " '/global/project/projectdirs/desi/spectro/redux/daily/tiles/283/20210413/coadd-9-283-20210413.fits',\n",
       " '/global/project/projectdirs/desi/spectro/redux/daily/tiles/284/20210414/coadd-9-284-20210414.fits',\n",
       " '/global/project/projectdirs/desi/spectro/redux/daily/tiles/43/20210415/coadd-1-43-20210415.fits',\n",
       " '/global/project/projectdirs/desi/spectro/redux/daily/tiles/285/20210416/coadd-5-285-20210416.fits',\n",
       " '/global/project/projectdirs/desi/spectro/redux/daily/tiles/229/20210417/coadd-5-229-20210417.fits',\n",
       " '/global/project/projectdirs/desi/spectro/redux/daily/tiles/260/20210418/coadd-5-260-20210418.fits',\n",
       " '/global/project/projectdirs/desi/spectro/redux/daily/tiles/252/20210419/coadd-8-252-20210419.fits',\n",
       " '/global/project/projectdirs/desi/spectro/redux/daily/tiles/230/20210420/coadd-0-230-20210420.fits',\n",
       " '/global/project/projectdirs/desi/spectro/redux/daily/tiles/260/20210429/coadd-5-260-20210429.fits',\n",
       " '/global/project/projectdirs/desi/spectro/redux/daily/tiles/287/20210430/coadd-8-287-20210430.fits',\n",
       " '/global/project/projectdirs/desi/spectro/redux/daily/tiles/47/20210501/coadd-6-47-20210501.fits',\n",
       " '/global/project/projectdirs/desi/spectro/redux/daily/tiles/262/20210502/coadd-8-262-20210502.fits']"
      ]
     },
     "execution_count": 80,
     "metadata": {},
     "output_type": "execute_result"
    }
   ],
   "source": [
    "# Co-added spectra from multiple exposures + the three spectrograph arms.\n",
    "cafiles"
   ]
  },
  {
   "cell_type": "markdown",
   "metadata": {},
   "source": [
    "## Load the Keras Model\n",
    "\n",
    "Load a model trained on real or simulated data using the native Keras output format. In the future this could be updated to just load the Keras weights."
   ]
  },
  {
   "cell_type": "code",
   "execution_count": 49,
   "metadata": {},
   "outputs": [],
   "source": [
    "tfmodel = '/global/homes/l/lehsani/timedomain/desitrip/docs/nb/models_9label_first/6_b65_e200_9label/b65_e200_9label_model'\n",
    "#tfmodel = '/global/homes/s/sybenzvi/desi/timedomain/desitrip/docs/nb/6label_cnn_restframe'\n",
    "if os.path.exists(tfmodel):\n",
    "    classifier = keras.models.load_model(tfmodel)\n",
    "else:\n",
    "    classifier = None\n",
    "    print('Sorry, could not find {}'.format(tfmodel))"
   ]
  },
  {
   "cell_type": "code",
   "execution_count": 50,
   "metadata": {},
   "outputs": [
    {
     "name": "stdout",
     "output_type": "stream",
     "text": [
      "Model: \"SNnet\"\n",
      "_________________________________________________________________\n",
      "Layer (type)                 Output Shape              Param #   \n",
      "=================================================================\n",
      "Input_Spec (InputLayer)      [(None, 150, 1)]          0         \n",
      "_________________________________________________________________\n",
      "conv1d_20 (Conv1D)           (None, 150, 8)            48        \n",
      "_________________________________________________________________\n",
      "batch_normalization_20 (Batc (None, 150, 8)            32        \n",
      "_________________________________________________________________\n",
      "activation_20 (Activation)   (None, 150, 8)            0         \n",
      "_________________________________________________________________\n",
      "max_pooling1d_20 (MaxPooling (None, 75, 8)             0         \n",
      "_________________________________________________________________\n",
      "conv1d_21 (Conv1D)           (None, 75, 16)            656       \n",
      "_________________________________________________________________\n",
      "batch_normalization_21 (Batc (None, 75, 16)            64        \n",
      "_________________________________________________________________\n",
      "activation_21 (Activation)   (None, 75, 16)            0         \n",
      "_________________________________________________________________\n",
      "max_pooling1d_21 (MaxPooling (None, 37, 16)            0         \n",
      "_________________________________________________________________\n",
      "conv1d_22 (Conv1D)           (None, 37, 32)            2592      \n",
      "_________________________________________________________________\n",
      "batch_normalization_22 (Batc (None, 37, 32)            128       \n",
      "_________________________________________________________________\n",
      "activation_22 (Activation)   (None, 37, 32)            0         \n",
      "_________________________________________________________________\n",
      "max_pooling1d_22 (MaxPooling (None, 18, 32)            0         \n",
      "_________________________________________________________________\n",
      "conv1d_23 (Conv1D)           (None, 18, 64)            10304     \n",
      "_________________________________________________________________\n",
      "batch_normalization_23 (Batc (None, 18, 64)            256       \n",
      "_________________________________________________________________\n",
      "activation_23 (Activation)   (None, 18, 64)            0         \n",
      "_________________________________________________________________\n",
      "max_pooling1d_23 (MaxPooling (None, 9, 64)             0         \n",
      "_________________________________________________________________\n",
      "flatten_5 (Flatten)          (None, 576)               0         \n",
      "_________________________________________________________________\n",
      "dense_5 (Dense)              (None, 256)               147712    \n",
      "_________________________________________________________________\n",
      "dropout_5 (Dropout)          (None, 256)               0         \n",
      "_________________________________________________________________\n",
      "Output_Classes (Dense)       (None, 9)                 2313      \n",
      "=================================================================\n",
      "Total params: 164,105\n",
      "Trainable params: 163,865\n",
      "Non-trainable params: 240\n",
      "_________________________________________________________________\n"
     ]
    }
   ],
   "source": [
    "if classifier is not None:\n",
    "    classifier.summary()"
   ]
  },
  {
   "cell_type": "markdown",
   "metadata": {},
   "source": [
    "## Loop Through Spectra and Classify"
   ]
  },
  {
   "cell_type": "code",
   "execution_count": 51,
   "metadata": {},
   "outputs": [
    {
     "name": "stdout",
     "output_type": "stream",
     "text": [
      "616088540027028545\n",
      "INFO:spectra.py:253:read_spectra: iotime 0.553 sec to read coadd-3-80662-20210221.fits at 2021-06-06T23:41:39.700251\n"
     ]
    },
    {
     "name": "stderr",
     "output_type": "stream",
     "text": [
      "INFO:desiutil.log.dlm58.info:iotime 0.553 sec to read coadd-3-80662-20210221.fits at 2021-06-06T23:41:39.700251\n"
     ]
    },
    {
     "name": "stdout",
     "output_type": "stream",
     "text": [
      "WARNING:specscore.py:92:compute_coadd_scores: No TSNR2_* scores found to coadd\n"
     ]
    },
    {
     "name": "stderr",
     "output_type": "stream",
     "text": [
      "WARNING:desiutil.log.dlm58.info:No TSNR2_* scores found to coadd\n"
     ]
    },
    {
     "name": "stdout",
     "output_type": "stream",
     "text": [
      "39627787761355419\n",
      "INFO:spectra.py:253:read_spectra: iotime 0.609 sec to read coadd-7-80662-20210221.fits at 2021-06-06T23:41:48.131992\n"
     ]
    },
    {
     "name": "stderr",
     "output_type": "stream",
     "text": [
      "INFO:desiutil.log.dlm58.info:iotime 0.609 sec to read coadd-7-80662-20210221.fits at 2021-06-06T23:41:48.131992\n"
     ]
    },
    {
     "name": "stdout",
     "output_type": "stream",
     "text": [
      "WARNING:specscore.py:92:compute_coadd_scores: No TSNR2_* scores found to coadd\n"
     ]
    },
    {
     "name": "stderr",
     "output_type": "stream",
     "text": [
      "WARNING:desiutil.log.dlm58.info:No TSNR2_* scores found to coadd\n"
     ]
    },
    {
     "name": "stdout",
     "output_type": "stream",
     "text": [
      "39627769650354141\n",
      "INFO:spectra.py:253:read_spectra: iotime 0.562 sec to read coadd-8-80662-20210221.fits at 2021-06-06T23:41:56.023947\n"
     ]
    },
    {
     "name": "stderr",
     "output_type": "stream",
     "text": [
      "INFO:desiutil.log.dlm58.info:iotime 0.562 sec to read coadd-8-80662-20210221.fits at 2021-06-06T23:41:56.023947\n"
     ]
    },
    {
     "name": "stdout",
     "output_type": "stream",
     "text": [
      "WARNING:specscore.py:92:compute_coadd_scores: No TSNR2_* scores found to coadd\n"
     ]
    },
    {
     "name": "stderr",
     "output_type": "stream",
     "text": [
      "WARNING:desiutil.log.dlm58.info:No TSNR2_* scores found to coadd\n"
     ]
    },
    {
     "name": "stdout",
     "output_type": "stream",
     "text": [
      "39627793780183579\n",
      "INFO:spectra.py:253:read_spectra: iotime 0.555 sec to read coadd-4-80662-20210221.fits at 2021-06-06T23:42:04.349633\n"
     ]
    },
    {
     "name": "stderr",
     "output_type": "stream",
     "text": [
      "INFO:desiutil.log.dlm58.info:iotime 0.555 sec to read coadd-4-80662-20210221.fits at 2021-06-06T23:42:04.349633\n"
     ]
    },
    {
     "name": "stdout",
     "output_type": "stream",
     "text": [
      "WARNING:specscore.py:92:compute_coadd_scores: No TSNR2_* scores found to coadd\n"
     ]
    },
    {
     "name": "stderr",
     "output_type": "stream",
     "text": [
      "WARNING:desiutil.log.dlm58.info:No TSNR2_* scores found to coadd\n"
     ]
    },
    {
     "name": "stdout",
     "output_type": "stream",
     "text": [
      "39627896934895528\n",
      "INFO:spectra.py:253:read_spectra: iotime 0.492 sec to read coadd-8-136-20210405.fits at 2021-06-06T23:42:11.719699\n"
     ]
    },
    {
     "name": "stderr",
     "output_type": "stream",
     "text": [
      "INFO:desiutil.log.dlm58.info:iotime 0.492 sec to read coadd-8-136-20210405.fits at 2021-06-06T23:42:11.719699\n"
     ]
    },
    {
     "name": "stdout",
     "output_type": "stream",
     "text": [
      "39627817981317571\n",
      "INFO:spectra.py:253:read_spectra: iotime 0.595 sec to read coadd-4-66-20210405.fits at 2021-06-06T23:42:20.511616\n"
     ]
    },
    {
     "name": "stderr",
     "output_type": "stream",
     "text": [
      "INFO:desiutil.log.dlm58.info:iotime 0.595 sec to read coadd-4-66-20210405.fits at 2021-06-06T23:42:20.511616\n"
     ]
    },
    {
     "name": "stdout",
     "output_type": "stream",
     "text": [
      "39627811979264260\n",
      "INFO:spectra.py:253:read_spectra: iotime 0.604 sec to read coadd-7-66-20210405.fits at 2021-06-06T23:42:29.233347\n"
     ]
    },
    {
     "name": "stderr",
     "output_type": "stream",
     "text": [
      "INFO:desiutil.log.dlm58.info:iotime 0.604 sec to read coadd-7-66-20210405.fits at 2021-06-06T23:42:29.233347\n"
     ]
    },
    {
     "name": "stdout",
     "output_type": "stream",
     "text": [
      "39627775698537653\n",
      "INFO:spectra.py:253:read_spectra: iotime 0.688 sec to read coadd-2-66-20210405.fits at 2021-06-06T23:42:37.688027\n"
     ]
    },
    {
     "name": "stderr",
     "output_type": "stream",
     "text": [
      "INFO:desiutil.log.dlm58.info:iotime 0.688 sec to read coadd-2-66-20210405.fits at 2021-06-06T23:42:37.688027\n"
     ]
    },
    {
     "name": "stdout",
     "output_type": "stream",
     "text": [
      "39627776273156346\n",
      "INFO:spectra.py:253:read_spectra: iotime 0.560 sec to read coadd-2-228-20210405.fits at 2021-06-06T23:42:46.193144\n"
     ]
    },
    {
     "name": "stderr",
     "output_type": "stream",
     "text": [
      "INFO:desiutil.log.dlm58.info:iotime 0.560 sec to read coadd-2-228-20210405.fits at 2021-06-06T23:42:46.193144\n"
     ]
    },
    {
     "name": "stdout",
     "output_type": "stream",
     "text": [
      "39627806488921652\n",
      "INFO:spectra.py:253:read_spectra: iotime 0.588 sec to read coadd-6-228-20210405.fits at 2021-06-06T23:42:54.816842\n"
     ]
    },
    {
     "name": "stderr",
     "output_type": "stream",
     "text": [
      "INFO:desiutil.log.dlm58.info:iotime 0.588 sec to read coadd-6-228-20210405.fits at 2021-06-06T23:42:54.816842\n"
     ]
    },
    {
     "name": "stdout",
     "output_type": "stream",
     "text": [
      "39627782308759050\n",
      "INFO:spectra.py:253:read_spectra: iotime 0.553 sec to read coadd-3-228-20210405.fits at 2021-06-06T23:43:03.121487\n"
     ]
    },
    {
     "name": "stderr",
     "output_type": "stream",
     "text": [
      "INFO:desiutil.log.dlm58.info:iotime 0.553 sec to read coadd-3-228-20210405.fits at 2021-06-06T23:43:03.121487\n"
     ]
    },
    {
     "name": "stdout",
     "output_type": "stream",
     "text": [
      "39627794392552723\n",
      "INFO:spectra.py:253:read_spectra: iotime 0.566 sec to read coadd-5-228-20210405.fits at 2021-06-06T23:43:11.245261\n"
     ]
    },
    {
     "name": "stderr",
     "output_type": "stream",
     "text": [
      "INFO:desiutil.log.dlm58.info:iotime 0.566 sec to read coadd-5-228-20210405.fits at 2021-06-06T23:43:11.245261\n"
     ]
    },
    {
     "name": "stdout",
     "output_type": "stream",
     "text": [
      "39627764197757125\n",
      "INFO:spectra.py:253:read_spectra: iotime 0.595 sec to read coadd-0-228-20210405.fits at 2021-06-06T23:43:19.889393\n"
     ]
    },
    {
     "name": "stderr",
     "output_type": "stream",
     "text": [
      "INFO:desiutil.log.dlm58.info:iotime 0.595 sec to read coadd-0-228-20210405.fits at 2021-06-06T23:43:19.889393\n"
     ]
    },
    {
     "name": "stdout",
     "output_type": "stream",
     "text": [
      "39627757541396859\n",
      "INFO:spectra.py:253:read_spectra: iotime 0.523 sec to read coadd-0-39-20210405.fits at 2021-06-06T23:43:28.886472\n"
     ]
    },
    {
     "name": "stderr",
     "output_type": "stream",
     "text": [
      "INFO:desiutil.log.dlm58.info:iotime 0.523 sec to read coadd-0-39-20210405.fits at 2021-06-06T23:43:28.886472\n"
     ]
    },
    {
     "name": "stdout",
     "output_type": "stream",
     "text": [
      "39627811907962460\n",
      "INFO:spectra.py:253:read_spectra: iotime 0.572 sec to read coadd-6-39-20210405.fits at 2021-06-06T23:43:37.240704\n"
     ]
    },
    {
     "name": "stderr",
     "output_type": "stream",
     "text": [
      "INFO:desiutil.log.dlm58.info:iotime 0.572 sec to read coadd-6-39-20210405.fits at 2021-06-06T23:43:37.240704\n"
     ]
    },
    {
     "name": "stdout",
     "output_type": "stream",
     "text": [
      "39627806480534677\n",
      "INFO:spectra.py:253:read_spectra: iotime 0.763 sec to read coadd-5-217-20210406.fits at 2021-06-06T23:43:46.064575\n"
     ]
    },
    {
     "name": "stderr",
     "output_type": "stream",
     "text": [
      "INFO:desiutil.log.dlm58.info:iotime 0.763 sec to read coadd-5-217-20210406.fits at 2021-06-06T23:43:46.064575\n"
     ]
    },
    {
     "name": "stdout",
     "output_type": "stream",
     "text": [
      "39627782308760755\n",
      "INFO:spectra.py:253:read_spectra: iotime 0.698 sec to read coadd-3-217-20210406.fits at 2021-06-06T23:43:55.037984\n"
     ]
    },
    {
     "name": "stderr",
     "output_type": "stream",
     "text": [
      "INFO:desiutil.log.dlm58.info:iotime 0.698 sec to read coadd-3-217-20210406.fits at 2021-06-06T23:43:55.037984\n"
     ]
    },
    {
     "name": "stdout",
     "output_type": "stream",
     "text": [
      "39627770216579660\n",
      "INFO:spectra.py:253:read_spectra: iotime 0.738 sec to read coadd-2-217-20210406.fits at 2021-06-06T23:44:03.783210\n"
     ]
    },
    {
     "name": "stderr",
     "output_type": "stream",
     "text": [
      "INFO:desiutil.log.dlm58.info:iotime 0.738 sec to read coadd-2-217-20210406.fits at 2021-06-06T23:44:03.783210\n"
     ]
    },
    {
     "name": "stdout",
     "output_type": "stream",
     "text": [
      "39627878832277921\n",
      "INFO:spectra.py:253:read_spectra: iotime 0.818 sec to read coadd-9-148-20210407.fits at 2021-06-06T23:44:12.823088\n"
     ]
    },
    {
     "name": "stderr",
     "output_type": "stream",
     "text": [
      "INFO:desiutil.log.dlm58.info:iotime 0.818 sec to read coadd-9-148-20210407.fits at 2021-06-06T23:44:12.823088\n"
     ]
    },
    {
     "name": "stdout",
     "output_type": "stream",
     "text": [
      "616088546129740731\n",
      "INFO:spectra.py:253:read_spectra: iotime 0.754 sec to read coadd-3-56-20210407.fits at 2021-06-06T23:44:21.561269\n"
     ]
    },
    {
     "name": "stderr",
     "output_type": "stream",
     "text": [
      "INFO:desiutil.log.dlm58.info:iotime 0.754 sec to read coadd-3-56-20210407.fits at 2021-06-06T23:44:21.561269\n"
     ]
    },
    {
     "name": "stdout",
     "output_type": "stream",
     "text": [
      "39627805922694984\n",
      "INFO:spectra.py:253:read_spectra: iotime 0.812 sec to read coadd-6-67-20210407.fits at 2021-06-06T23:44:30.068648\n"
     ]
    },
    {
     "name": "stderr",
     "output_type": "stream",
     "text": [
      "INFO:desiutil.log.dlm58.info:iotime 0.812 sec to read coadd-6-67-20210407.fits at 2021-06-06T23:44:30.068648\n"
     ]
    },
    {
     "name": "stdout",
     "output_type": "stream",
     "text": [
      "Negative targetids don't play nice... skipping.\n",
      "Negative targetids don't play nice... skipping.\n",
      "39627781717364320\n",
      "INFO:spectra.py:253:read_spectra: iotime 0.866 sec to read coadd-8-28-20210407.fits at 2021-06-06T23:44:38.999129\n"
     ]
    },
    {
     "name": "stderr",
     "output_type": "stream",
     "text": [
      "INFO:desiutil.log.dlm58.info:iotime 0.866 sec to read coadd-8-28-20210407.fits at 2021-06-06T23:44:38.999129\n"
     ]
    },
    {
     "name": "stdout",
     "output_type": "stream",
     "text": [
      "39627824604119156\n",
      "INFO:spectra.py:253:read_spectra: iotime 0.750 sec to read coadd-2-272-20210407.fits at 2021-06-06T23:44:48.374526\n"
     ]
    },
    {
     "name": "stderr",
     "output_type": "stream",
     "text": [
      "INFO:desiutil.log.dlm58.info:iotime 0.750 sec to read coadd-2-272-20210407.fits at 2021-06-06T23:44:48.374526\n"
     ]
    },
    {
     "name": "stdout",
     "output_type": "stream",
     "text": [
      "39627799819980445\n",
      "INFO:spectra.py:253:read_spectra: iotime 0.859 sec to read coadd-6-40-20210407.fits at 2021-06-06T23:44:57.386924\n"
     ]
    },
    {
     "name": "stderr",
     "output_type": "stream",
     "text": [
      "INFO:desiutil.log.dlm58.info:iotime 0.859 sec to read coadd-6-40-20210407.fits at 2021-06-06T23:44:57.386924\n"
     ]
    },
    {
     "name": "stdout",
     "output_type": "stream",
     "text": [
      "39627787711025554\n",
      "INFO:spectra.py:253:read_spectra: iotime 0.848 sec to read coadd-3-40-20210407.fits at 2021-06-06T23:45:06.309095\n"
     ]
    },
    {
     "name": "stderr",
     "output_type": "stream",
     "text": [
      "INFO:desiutil.log.dlm58.info:iotime 0.848 sec to read coadd-3-40-20210407.fits at 2021-06-06T23:45:06.309095\n"
     ]
    },
    {
     "name": "stdout",
     "output_type": "stream",
     "text": [
      "39627794434493830\n",
      "INFO:spectra.py:253:read_spectra: iotime 0.712 sec to read coadd-3-255-20210407.fits at 2021-06-06T23:45:15.313359\n"
     ]
    },
    {
     "name": "stderr",
     "output_type": "stream",
     "text": [
      "INFO:desiutil.log.dlm58.info:iotime 0.712 sec to read coadd-3-255-20210407.fits at 2021-06-06T23:45:15.313359\n"
     ]
    },
    {
     "name": "stdout",
     "output_type": "stream",
     "text": [
      "39627764231311046\n",
      "INFO:spectra.py:253:read_spectra: iotime 0.780 sec to read coadd-2-255-20210407.fits at 2021-06-06T23:45:23.871637\n"
     ]
    },
    {
     "name": "stderr",
     "output_type": "stream",
     "text": [
      "INFO:desiutil.log.dlm58.info:iotime 0.780 sec to read coadd-2-255-20210407.fits at 2021-06-06T23:45:23.871637\n"
     ]
    },
    {
     "name": "stdout",
     "output_type": "stream",
     "text": [
      "39627800503651302\n",
      "INFO:spectra.py:253:read_spectra: iotime 0.787 sec to read coadd-6-255-20210407.fits at 2021-06-06T23:45:32.028404\n"
     ]
    },
    {
     "name": "stderr",
     "output_type": "stream",
     "text": [
      "INFO:desiutil.log.dlm58.info:iotime 0.787 sec to read coadd-6-255-20210407.fits at 2021-06-06T23:45:32.028404\n"
     ]
    },
    {
     "name": "stdout",
     "output_type": "stream",
     "text": [
      "616088498436310190\n",
      "INFO:spectra.py:253:read_spectra: iotime 0.737 sec to read coadd-0-255-20210407.fits at 2021-06-06T23:45:40.712686\n"
     ]
    },
    {
     "name": "stderr",
     "output_type": "stream",
     "text": [
      "INFO:desiutil.log.dlm58.info:iotime 0.737 sec to read coadd-0-255-20210407.fits at 2021-06-06T23:45:40.712686\n"
     ]
    },
    {
     "name": "stdout",
     "output_type": "stream",
     "text": [
      "39627770308857233\n",
      "INFO:spectra.py:253:read_spectra: iotime 0.725 sec to read coadd-8-255-20210407.fits at 2021-06-06T23:45:49.599254\n"
     ]
    },
    {
     "name": "stderr",
     "output_type": "stream",
     "text": [
      "INFO:desiutil.log.dlm58.info:iotime 0.725 sec to read coadd-8-255-20210407.fits at 2021-06-06T23:45:49.599254\n"
     ]
    },
    {
     "name": "stdout",
     "output_type": "stream",
     "text": [
      "39627770308860267\n",
      "INFO:spectra.py:253:read_spectra: iotime 0.890 sec to read coadd-8-245-20210407.fits at 2021-06-06T23:45:58.643692\n"
     ]
    },
    {
     "name": "stderr",
     "output_type": "stream",
     "text": [
      "INFO:desiutil.log.dlm58.info:iotime 0.890 sec to read coadd-8-245-20210407.fits at 2021-06-06T23:45:58.643692\n"
     ]
    },
    {
     "name": "stdout",
     "output_type": "stream",
     "text": [
      "39627782346509571\n",
      "INFO:spectra.py:253:read_spectra: iotime 0.835 sec to read coadd-3-245-20210407.fits at 2021-06-06T23:46:06.931241\n"
     ]
    },
    {
     "name": "stderr",
     "output_type": "stream",
     "text": [
      "INFO:desiutil.log.dlm58.info:iotime 0.835 sec to read coadd-3-245-20210407.fits at 2021-06-06T23:46:06.931241\n"
     ]
    },
    {
     "name": "stdout",
     "output_type": "stream",
     "text": [
      "39627746124502058\n",
      "INFO:spectra.py:253:read_spectra: iotime 0.827 sec to read coadd-1-246-20210408.fits at 2021-06-06T23:46:15.261503\n"
     ]
    },
    {
     "name": "stderr",
     "output_type": "stream",
     "text": [
      "INFO:desiutil.log.dlm58.info:iotime 0.827 sec to read coadd-1-246-20210408.fits at 2021-06-06T23:46:15.261503\n"
     ]
    },
    {
     "name": "stdout",
     "output_type": "stream",
     "text": [
      "39627758233452823\n",
      "INFO:spectra.py:253:read_spectra: iotime 0.725 sec to read coadd-8-246-20210408.fits at 2021-06-06T23:46:23.987862\n"
     ]
    },
    {
     "name": "stderr",
     "output_type": "stream",
     "text": [
      "INFO:desiutil.log.dlm58.info:iotime 0.725 sec to read coadd-8-246-20210408.fits at 2021-06-06T23:46:23.987862\n"
     ]
    },
    {
     "name": "stdout",
     "output_type": "stream",
     "text": [
      "39627770308859139\n",
      "INFO:spectra.py:253:read_spectra: iotime 0.736 sec to read coadd-8-247-20210409.fits at 2021-06-06T23:46:32.847100\n"
     ]
    },
    {
     "name": "stderr",
     "output_type": "stream",
     "text": [
      "INFO:desiutil.log.dlm58.info:iotime 0.736 sec to read coadd-8-247-20210409.fits at 2021-06-06T23:46:32.847100\n"
     ]
    },
    {
     "name": "stdout",
     "output_type": "stream",
     "text": [
      "39627788356948990\n",
      "INFO:spectra.py:253:read_spectra: iotime 0.778 sec to read coadd-5-219-20210409.fits at 2021-06-06T23:46:41.387578\n"
     ]
    },
    {
     "name": "stderr",
     "output_type": "stream",
     "text": [
      "INFO:desiutil.log.dlm58.info:iotime 0.778 sec to read coadd-5-219-20210409.fits at 2021-06-06T23:46:41.387578\n"
     ]
    },
    {
     "name": "stdout",
     "output_type": "stream",
     "text": [
      "39627770216583829\n",
      "INFO:spectra.py:253:read_spectra: iotime 0.779 sec to read coadd-3-219-20210409.fits at 2021-06-06T23:46:50.335196\n"
     ]
    },
    {
     "name": "stderr",
     "output_type": "stream",
     "text": [
      "INFO:desiutil.log.dlm58.info:iotime 0.779 sec to read coadd-3-219-20210409.fits at 2021-06-06T23:46:50.335196\n"
     ]
    },
    {
     "name": "stdout",
     "output_type": "stream",
     "text": [
      "39627781704778942\n",
      "INFO:spectra.py:253:read_spectra: iotime 0.719 sec to read coadd-8-29-20210409.fits at 2021-06-06T23:46:59.093359\n"
     ]
    },
    {
     "name": "stderr",
     "output_type": "stream",
     "text": [
      "INFO:desiutil.log.dlm58.info:iotime 0.719 sec to read coadd-8-29-20210409.fits at 2021-06-06T23:46:59.093359\n"
     ]
    },
    {
     "name": "stdout",
     "output_type": "stream",
     "text": [
      "39627799799010094\n",
      "INFO:spectra.py:253:read_spectra: iotime 0.718 sec to read coadd-3-30-20210410.fits at 2021-06-06T23:47:08.055234\n"
     ]
    },
    {
     "name": "stderr",
     "output_type": "stream",
     "text": [
      "INFO:desiutil.log.dlm58.info:iotime 0.718 sec to read coadd-3-30-20210410.fits at 2021-06-06T23:47:08.055234\n"
     ]
    },
    {
     "name": "stdout",
     "output_type": "stream",
     "text": [
      "39627763572802387\n",
      "INFO:spectra.py:253:read_spectra: iotime 0.744 sec to read coadd-1-30-20210410.fits at 2021-06-06T23:47:16.345510\n"
     ]
    },
    {
     "name": "stderr",
     "output_type": "stream",
     "text": [
      "INFO:desiutil.log.dlm58.info:iotime 0.744 sec to read coadd-1-30-20210410.fits at 2021-06-06T23:47:16.345510\n"
     ]
    },
    {
     "name": "stdout",
     "output_type": "stream",
     "text": [
      "39627787757163460\n",
      "INFO:spectra.py:253:read_spectra: iotime 0.724 sec to read coadd-8-41-20210410.fits at 2021-06-06T23:47:24.458612\n"
     ]
    },
    {
     "name": "stderr",
     "output_type": "stream",
     "text": [
      "INFO:desiutil.log.dlm58.info:iotime 0.724 sec to read coadd-8-41-20210410.fits at 2021-06-06T23:47:24.458612\n"
     ]
    },
    {
     "name": "stdout",
     "output_type": "stream",
     "text": [
      "Negative targetids don't play nice... skipping.\n",
      "39627817943564808\n",
      "INFO:spectra.py:253:read_spectra: iotime 0.744 sec to read coadd-5-41-20210410.fits at 2021-06-06T23:47:33.357220\n"
     ]
    },
    {
     "name": "stderr",
     "output_type": "stream",
     "text": [
      "INFO:desiutil.log.dlm58.info:iotime 0.744 sec to read coadd-5-41-20210410.fits at 2021-06-06T23:47:33.357220\n"
     ]
    },
    {
     "name": "stdout",
     "output_type": "stream",
     "text": [
      "39627824620900981\n",
      "INFO:spectra.py:253:read_spectra: iotime 0.643 sec to read coadd-0-275-20210410.fits at 2021-06-06T23:47:41.070511\n"
     ]
    },
    {
     "name": "stderr",
     "output_type": "stream",
     "text": [
      "INFO:desiutil.log.dlm58.info:iotime 0.643 sec to read coadd-0-275-20210410.fits at 2021-06-06T23:47:41.070511\n"
     ]
    },
    {
     "name": "stdout",
     "output_type": "stream",
     "text": [
      "39627794447076334\n",
      "INFO:spectra.py:253:read_spectra: iotime 0.801 sec to read coadd-4-248-20210410.fits at 2021-06-06T23:47:49.890739\n"
     ]
    },
    {
     "name": "stderr",
     "output_type": "stream",
     "text": [
      "INFO:desiutil.log.dlm58.info:iotime 0.801 sec to read coadd-4-248-20210410.fits at 2021-06-06T23:47:49.890739\n"
     ]
    },
    {
     "name": "stdout",
     "output_type": "stream",
     "text": [
      "Negative targetids don't play nice... skipping.\n",
      "39627854803109717\n",
      "INFO:spectra.py:253:read_spectra: iotime 0.704 sec to read coadd-3-282-20210410.fits at 2021-06-06T23:47:57.937891\n"
     ]
    },
    {
     "name": "stderr",
     "output_type": "stream",
     "text": [
      "INFO:desiutil.log.dlm58.info:iotime 0.704 sec to read coadd-3-282-20210410.fits at 2021-06-06T23:47:57.937891\n"
     ]
    },
    {
     "name": "stdout",
     "output_type": "stream",
     "text": [
      "39627830656501928\n",
      "INFO:spectra.py:253:read_spectra: iotime 0.719 sec to read coadd-1-282-20210410.fits at 2021-06-06T23:48:06.313266\n"
     ]
    },
    {
     "name": "stderr",
     "output_type": "stream",
     "text": [
      "INFO:desiutil.log.dlm58.info:iotime 0.719 sec to read coadd-1-282-20210410.fits at 2021-06-06T23:48:06.313266\n"
     ]
    },
    {
     "name": "stdout",
     "output_type": "stream",
     "text": [
      "39627872922505443\n",
      "INFO:spectra.py:253:read_spectra: iotime 0.751 sec to read coadd-4-282-20210410.fits at 2021-06-06T23:48:14.555273\n"
     ]
    },
    {
     "name": "stderr",
     "output_type": "stream",
     "text": [
      "INFO:desiutil.log.dlm58.info:iotime 0.751 sec to read coadd-4-282-20210410.fits at 2021-06-06T23:48:14.555273\n"
     ]
    },
    {
     "name": "stdout",
     "output_type": "stream",
     "text": [
      "Negative targetids don't play nice... skipping.\n",
      "39627788398892169\n",
      "INFO:spectra.py:253:read_spectra: iotime 0.769 sec to read coadd-4-256-20210410.fits at 2021-06-06T23:48:23.051164\n"
     ]
    },
    {
     "name": "stderr",
     "output_type": "stream",
     "text": [
      "INFO:desiutil.log.dlm58.info:iotime 0.769 sec to read coadd-4-256-20210410.fits at 2021-06-06T23:48:23.051164\n"
     ]
    },
    {
     "name": "stdout",
     "output_type": "stream",
     "text": [
      "39627799840950095\n",
      "INFO:spectra.py:253:read_spectra: iotime 0.731 sec to read coadd-7-42-20210412.fits at 2021-06-06T23:48:31.743479\n"
     ]
    },
    {
     "name": "stderr",
     "output_type": "stream",
     "text": [
      "INFO:desiutil.log.dlm58.info:iotime 0.731 sec to read coadd-7-42-20210412.fits at 2021-06-06T23:48:31.743479\n"
     ]
    },
    {
     "name": "stdout",
     "output_type": "stream",
     "text": [
      "39627769625184934\n",
      "INFO:spectra.py:253:read_spectra: iotime 0.683 sec to read coadd-9-42-20210412.fits at 2021-06-06T23:48:40.025662\n"
     ]
    },
    {
     "name": "stderr",
     "output_type": "stream",
     "text": [
      "INFO:desiutil.log.dlm58.info:iotime 0.683 sec to read coadd-9-42-20210412.fits at 2021-06-06T23:48:40.025662\n"
     ]
    },
    {
     "name": "stdout",
     "output_type": "stream",
     "text": [
      "39627788340170385\n",
      "INFO:spectra.py:253:read_spectra: iotime 0.724 sec to read coadd-4-221-20210412.fits at 2021-06-06T23:48:48.269511\n"
     ]
    },
    {
     "name": "stderr",
     "output_type": "stream",
     "text": [
      "INFO:desiutil.log.dlm58.info:iotime 0.724 sec to read coadd-4-221-20210412.fits at 2021-06-06T23:48:48.269511\n"
     ]
    },
    {
     "name": "stdout",
     "output_type": "stream",
     "text": [
      "39627763564415912\n",
      "INFO:spectra.py:253:read_spectra: iotime 0.693 sec to read coadd-1-43-20210413.fits at 2021-06-06T23:48:55.561397\n"
     ]
    },
    {
     "name": "stderr",
     "output_type": "stream",
     "text": [
      "INFO:desiutil.log.dlm58.info:iotime 0.693 sec to read coadd-1-43-20210413.fits at 2021-06-06T23:48:55.561397\n"
     ]
    },
    {
     "name": "stdout",
     "output_type": "stream",
     "text": [
      "39627872909923510\n",
      "INFO:spectra.py:253:read_spectra: iotime 0.736 sec to read coadd-4-277-20210413.fits at 2021-06-06T23:49:03.834898\n"
     ]
    },
    {
     "name": "stderr",
     "output_type": "stream",
     "text": [
      "INFO:desiutil.log.dlm58.info:iotime 0.736 sec to read coadd-4-277-20210413.fits at 2021-06-06T23:49:03.834898\n"
     ]
    },
    {
     "name": "stdout",
     "output_type": "stream",
     "text": [
      "39627812528720598\n",
      "INFO:spectra.py:253:read_spectra: iotime 0.696 sec to read coadd-1-283-20210413.fits at 2021-06-06T23:49:11.937559\n"
     ]
    },
    {
     "name": "stderr",
     "output_type": "stream",
     "text": [
      "INFO:desiutil.log.dlm58.info:iotime 0.696 sec to read coadd-1-283-20210413.fits at 2021-06-06T23:49:11.937559\n"
     ]
    },
    {
     "name": "stdout",
     "output_type": "stream",
     "text": [
      "39627866920452176\n",
      "INFO:spectra.py:253:read_spectra: iotime 0.754 sec to read coadd-7-283-20210413.fits at 2021-06-06T23:49:20.604409\n"
     ]
    },
    {
     "name": "stderr",
     "output_type": "stream",
     "text": [
      "INFO:desiutil.log.dlm58.info:iotime 0.754 sec to read coadd-7-283-20210413.fits at 2021-06-06T23:49:20.604409\n"
     ]
    },
    {
     "name": "stdout",
     "output_type": "stream",
     "text": [
      "39627830685860692\n",
      "INFO:spectra.py:253:read_spectra: iotime 0.704 sec to read coadd-8-283-20210413.fits at 2021-06-06T23:49:28.531129\n"
     ]
    },
    {
     "name": "stderr",
     "output_type": "stream",
     "text": [
      "INFO:desiutil.log.dlm58.info:iotime 0.704 sec to read coadd-8-283-20210413.fits at 2021-06-06T23:49:28.531129\n"
     ]
    },
    {
     "name": "stdout",
     "output_type": "stream",
     "text": [
      "39627782396842536\n",
      "INFO:spectra.py:253:read_spectra: iotime 0.687 sec to read coadd-7-257-20210413.fits at 2021-06-06T23:49:37.246976\n"
     ]
    },
    {
     "name": "stderr",
     "output_type": "stream",
     "text": [
      "INFO:desiutil.log.dlm58.info:iotime 0.687 sec to read coadd-7-257-20210413.fits at 2021-06-06T23:49:37.246976\n"
     ]
    },
    {
     "name": "stdout",
     "output_type": "stream",
     "text": [
      "39627782363289978\n",
      "INFO:spectra.py:253:read_spectra: iotime 0.699 sec to read coadd-3-257-20210413.fits at 2021-06-06T23:49:45.356140\n"
     ]
    },
    {
     "name": "stderr",
     "output_type": "stream",
     "text": [
      "INFO:desiutil.log.dlm58.info:iotime 0.699 sec to read coadd-3-257-20210413.fits at 2021-06-06T23:49:45.356140\n"
     ]
    },
    {
     "name": "stdout",
     "output_type": "stream",
     "text": [
      "39627770287886546\n",
      "INFO:spectra.py:253:read_spectra: iotime 0.831 sec to read coadd-2-257-20210413.fits at 2021-06-06T23:49:53.853316\n"
     ]
    },
    {
     "name": "stderr",
     "output_type": "stream",
     "text": [
      "INFO:desiutil.log.dlm58.info:iotime 0.831 sec to read coadd-2-257-20210413.fits at 2021-06-06T23:49:53.853316\n"
     ]
    },
    {
     "name": "stdout",
     "output_type": "stream",
     "text": [
      "39627842740291362\n",
      "INFO:spectra.py:253:read_spectra: iotime 0.871 sec to read coadd-2-284-20210414.fits at 2021-06-06T23:50:02.585637\n"
     ]
    },
    {
     "name": "stderr",
     "output_type": "stream",
     "text": [
      "INFO:desiutil.log.dlm58.info:iotime 0.871 sec to read coadd-2-284-20210414.fits at 2021-06-06T23:50:02.585637\n"
     ]
    },
    {
     "name": "stdout",
     "output_type": "stream",
     "text": [
      "616088570892911793\n",
      "INFO:spectra.py:253:read_spectra: iotime 0.735 sec to read coadd-0-284-20210414.fits at 2021-06-06T23:50:11.579991\n"
     ]
    },
    {
     "name": "stderr",
     "output_type": "stream",
     "text": [
      "INFO:desiutil.log.dlm58.info:iotime 0.735 sec to read coadd-0-284-20210414.fits at 2021-06-06T23:50:11.579991\n"
     ]
    },
    {
     "name": "stdout",
     "output_type": "stream",
     "text": [
      "39627830673281264\n",
      "INFO:spectra.py:253:read_spectra: iotime 0.746 sec to read coadd-9-284-20210414.fits at 2021-06-06T23:50:20.586429\n"
     ]
    },
    {
     "name": "stderr",
     "output_type": "stream",
     "text": [
      "INFO:desiutil.log.dlm58.info:iotime 0.746 sec to read coadd-9-284-20210414.fits at 2021-06-06T23:50:20.586429\n"
     ]
    },
    {
     "name": "stdout",
     "output_type": "stream",
     "text": [
      "39627758225066694\n",
      "INFO:spectra.py:253:read_spectra: iotime 0.648 sec to read coadd-9-258-20210414.fits at 2021-06-06T23:50:28.625388\n"
     ]
    },
    {
     "name": "stderr",
     "output_type": "stream",
     "text": [
      "INFO:desiutil.log.dlm58.info:iotime 0.648 sec to read coadd-9-258-20210414.fits at 2021-06-06T23:50:28.625388\n"
     ]
    },
    {
     "name": "stdout",
     "output_type": "stream",
     "text": [
      "39627800474291633\n",
      "INFO:spectra.py:253:read_spectra: iotime 0.731 sec to read coadd-4-258-20210414.fits at 2021-06-06T23:50:37.163747\n"
     ]
    },
    {
     "name": "stderr",
     "output_type": "stream",
     "text": [
      "INFO:desiutil.log.dlm58.info:iotime 0.731 sec to read coadd-4-258-20210414.fits at 2021-06-06T23:50:37.163747\n"
     ]
    },
    {
     "name": "stdout",
     "output_type": "stream",
     "text": [
      "39627794463850695\n",
      "INFO:spectra.py:253:read_spectra: iotime 0.691 sec to read coadd-6-258-20210414.fits at 2021-06-06T23:50:45.626350\n"
     ]
    },
    {
     "name": "stderr",
     "output_type": "stream",
     "text": [
      "INFO:desiutil.log.dlm58.info:iotime 0.691 sec to read coadd-6-258-20210414.fits at 2021-06-06T23:50:45.626350\n"
     ]
    },
    {
     "name": "stdout",
     "output_type": "stream",
     "text": [
      "39627788432441765\n",
      "INFO:spectra.py:253:read_spectra: iotime 0.765 sec to read coadd-7-258-20210414.fits at 2021-06-06T23:50:54.261808\n"
     ]
    },
    {
     "name": "stderr",
     "output_type": "stream",
     "text": [
      "INFO:desiutil.log.dlm58.info:iotime 0.765 sec to read coadd-7-258-20210414.fits at 2021-06-06T23:50:54.261808\n"
     ]
    },
    {
     "name": "stdout",
     "output_type": "stream",
     "text": [
      "616088564253328500\n",
      "INFO:spectra.py:253:read_spectra: iotime 0.802 sec to read coadd-4-68-20210415.fits at 2021-06-06T23:51:02.785393\n"
     ]
    },
    {
     "name": "stderr",
     "output_type": "stream",
     "text": [
      "INFO:desiutil.log.dlm58.info:iotime 0.802 sec to read coadd-4-68-20210415.fits at 2021-06-06T23:51:02.785393\n"
     ]
    },
    {
     "name": "stdout",
     "output_type": "stream",
     "text": [
      "39627787807490170\n",
      "INFO:spectra.py:253:read_spectra: iotime 0.795 sec to read coadd-8-68-20210415.fits at 2021-06-06T23:51:11.560765\n"
     ]
    },
    {
     "name": "stderr",
     "output_type": "stream",
     "text": [
      "INFO:desiutil.log.dlm58.info:iotime 0.795 sec to read coadd-8-68-20210415.fits at 2021-06-06T23:51:11.560765\n"
     ]
    },
    {
     "name": "stdout",
     "output_type": "stream",
     "text": [
      "Negative targetids don't play nice... skipping.\n",
      "Negative targetids don't play nice... skipping.\n",
      "39627799824173959\n",
      "INFO:spectra.py:253:read_spectra: iotime 0.691 sec to read coadd-6-44-20210416.fits at 2021-06-06T23:51:20.660894\n"
     ]
    },
    {
     "name": "stderr",
     "output_type": "stream",
     "text": [
      "INFO:desiutil.log.dlm58.info:iotime 0.691 sec to read coadd-6-44-20210416.fits at 2021-06-06T23:51:20.660894\n"
     ]
    },
    {
     "name": "stdout",
     "output_type": "stream",
     "text": [
      "39627758208288155\n",
      "INFO:spectra.py:253:read_spectra: iotime 0.791 sec to read coadd-1-259-20210416.fits at 2021-06-06T23:51:29.412456\n"
     ]
    },
    {
     "name": "stderr",
     "output_type": "stream",
     "text": [
      "INFO:desiutil.log.dlm58.info:iotime 0.791 sec to read coadd-1-259-20210416.fits at 2021-06-06T23:51:29.412456\n"
     ]
    },
    {
     "name": "stdout",
     "output_type": "stream",
     "text": [
      "39627830673279912\n",
      "INFO:spectra.py:253:read_spectra: iotime 0.732 sec to read coadd-9-278-20210416.fits at 2021-06-06T23:51:37.724564\n"
     ]
    },
    {
     "name": "stderr",
     "output_type": "stream",
     "text": [
      "INFO:desiutil.log.dlm58.info:iotime 0.732 sec to read coadd-9-278-20210416.fits at 2021-06-06T23:51:37.724564\n"
     ]
    },
    {
     "name": "stdout",
     "output_type": "stream",
     "text": [
      "39627764185174950\n",
      "INFO:spectra.py:253:read_spectra: iotime 0.732 sec to read coadd-2-222-20210416.fits at 2021-06-06T23:51:46.142637\n"
     ]
    },
    {
     "name": "stderr",
     "output_type": "stream",
     "text": [
      "INFO:desiutil.log.dlm58.info:iotime 0.732 sec to read coadd-2-222-20210416.fits at 2021-06-06T23:51:46.142637\n"
     ]
    },
    {
     "name": "stdout",
     "output_type": "stream",
     "text": [
      "39627824029503437\n",
      "INFO:spectra.py:253:read_spectra: iotime 0.702 sec to read coadd-5-59-20210416.fits at 2021-06-06T23:51:54.872786\n"
     ]
    },
    {
     "name": "stderr",
     "output_type": "stream",
     "text": [
      "INFO:desiutil.log.dlm58.info:iotime 0.702 sec to read coadd-5-59-20210416.fits at 2021-06-06T23:51:54.872786\n"
     ]
    },
    {
     "name": "stdout",
     "output_type": "stream",
     "text": [
      "39627793801151497\n",
      "INFO:spectra.py:253:read_spectra: iotime 0.993 sec to read coadd-7-45-20210417.fits at 2021-06-06T23:52:04.124512\n"
     ]
    },
    {
     "name": "stderr",
     "output_type": "stream",
     "text": [
      "INFO:desiutil.log.dlm58.info:iotime 0.993 sec to read coadd-7-45-20210417.fits at 2021-06-06T23:52:04.124512\n"
     ]
    },
    {
     "name": "stdout",
     "output_type": "stream",
     "text": [
      "39627811903768389\n",
      "INFO:spectra.py:253:read_spectra: iotime 0.697 sec to read coadd-6-45-20210417.fits at 2021-06-06T23:52:11.861923\n"
     ]
    },
    {
     "name": "stderr",
     "output_type": "stream",
     "text": [
      "INFO:desiutil.log.dlm58.info:iotime 0.697 sec to read coadd-6-45-20210417.fits at 2021-06-06T23:52:11.861923\n"
     ]
    },
    {
     "name": "stdout",
     "output_type": "stream",
     "text": [
      "Negative targetids don't play nice... skipping.\n",
      "616088552727380996\n",
      "INFO:spectra.py:253:read_spectra: iotime 0.832 sec to read coadd-4-229-20210417.fits at 2021-06-06T23:52:21.095261\n"
     ]
    },
    {
     "name": "stderr",
     "output_type": "stream",
     "text": [
      "INFO:desiutil.log.dlm58.info:iotime 0.832 sec to read coadd-4-229-20210417.fits at 2021-06-06T23:52:21.095261\n"
     ]
    },
    {
     "name": "stdout",
     "output_type": "stream",
     "text": [
      "39627806467953230\n",
      "INFO:spectra.py:253:read_spectra: iotime 0.764 sec to read coadd-5-229-20210417.fits at 2021-06-06T23:52:29.564609\n"
     ]
    },
    {
     "name": "stderr",
     "output_type": "stream",
     "text": [
      "INFO:desiutil.log.dlm58.info:iotime 0.764 sec to read coadd-5-229-20210417.fits at 2021-06-06T23:52:29.564609\n"
     ]
    },
    {
     "name": "stdout",
     "output_type": "stream",
     "text": [
      "39627902953721331\n",
      "INFO:spectra.py:253:read_spectra: iotime 0.714 sec to read coadd-8-150-20210417.fits at 2021-06-06T23:52:38.886597\n"
     ]
    },
    {
     "name": "stderr",
     "output_type": "stream",
     "text": [
      "INFO:desiutil.log.dlm58.info:iotime 0.714 sec to read coadd-8-150-20210417.fits at 2021-06-06T23:52:38.886597\n"
     ]
    },
    {
     "name": "stdout",
     "output_type": "stream",
     "text": [
      "39627775740482092\n",
      "INFO:spectra.py:253:read_spectra: iotime 0.816 sec to read coadd-8-60-20210417.fits at 2021-06-06T23:52:47.877796\n"
     ]
    },
    {
     "name": "stderr",
     "output_type": "stream",
     "text": [
      "INFO:desiutil.log.dlm58.info:iotime 0.816 sec to read coadd-8-60-20210417.fits at 2021-06-06T23:52:47.877796\n"
     ]
    },
    {
     "name": "stdout",
     "output_type": "stream",
     "text": [
      "39627812570665665\n",
      "INFO:spectra.py:253:read_spectra: iotime 0.726 sec to read coadd-5-260-20210418.fits at 2021-06-06T23:52:56.458755\n"
     ]
    },
    {
     "name": "stderr",
     "output_type": "stream",
     "text": [
      "INFO:desiutil.log.dlm58.info:iotime 0.726 sec to read coadd-5-260-20210418.fits at 2021-06-06T23:52:56.458755\n"
     ]
    },
    {
     "name": "stdout",
     "output_type": "stream",
     "text": [
      "39627824608313360\n",
      "INFO:spectra.py:253:read_spectra: iotime 0.682 sec to read coadd-1-286-20210418.fits at 2021-06-06T23:53:05.050605\n"
     ]
    },
    {
     "name": "stderr",
     "output_type": "stream",
     "text": [
      "INFO:desiutil.log.dlm58.info:iotime 0.682 sec to read coadd-1-286-20210418.fits at 2021-06-06T23:53:05.050605\n"
     ]
    },
    {
     "name": "stdout",
     "output_type": "stream",
     "text": [
      "39627770317243639\n",
      "INFO:spectra.py:253:read_spectra: iotime 0.740 sec to read coadd-8-252-20210419.fits at 2021-06-06T23:53:13.832588\n"
     ]
    },
    {
     "name": "stderr",
     "output_type": "stream",
     "text": [
      "INFO:desiutil.log.dlm58.info:iotime 0.740 sec to read coadd-8-252-20210419.fits at 2021-06-06T23:53:13.832588\n"
     ]
    },
    {
     "name": "stdout",
     "output_type": "stream",
     "text": [
      "616088510478156025\n",
      "INFO:spectra.py:253:read_spectra: iotime 0.697 sec to read coadd-8-230-20210420.fits at 2021-06-06T23:53:22.091275\n"
     ]
    },
    {
     "name": "stderr",
     "output_type": "stream",
     "text": [
      "INFO:desiutil.log.dlm58.info:iotime 0.697 sec to read coadd-8-230-20210420.fits at 2021-06-06T23:53:22.091275\n"
     ]
    },
    {
     "name": "stdout",
     "output_type": "stream",
     "text": [
      "39627752122357641\n",
      "INFO:spectra.py:253:read_spectra: iotime 0.666 sec to read coadd-9-230-20210420.fits at 2021-06-06T23:53:30.357339\n"
     ]
    },
    {
     "name": "stderr",
     "output_type": "stream",
     "text": [
      "INFO:desiutil.log.dlm58.info:iotime 0.666 sec to read coadd-9-230-20210420.fits at 2021-06-06T23:53:30.357339\n"
     ]
    },
    {
     "name": "stdout",
     "output_type": "stream",
     "text": [
      "Negative targetids don't play nice... skipping.\n",
      "39627793830513268\n",
      "INFO:spectra.py:253:read_spectra: iotime 0.796 sec to read coadd-3-61-20210430.fits at 2021-06-06T23:53:38.750994\n"
     ]
    },
    {
     "name": "stderr",
     "output_type": "stream",
     "text": [
      "INFO:desiutil.log.dlm58.info:iotime 0.796 sec to read coadd-3-61-20210430.fits at 2021-06-06T23:53:38.750994\n"
     ]
    },
    {
     "name": "stdout",
     "output_type": "stream",
     "text": [
      "39627752122351991\n",
      "INFO:spectra.py:253:read_spectra: iotime 0.633 sec to read coadd-0-231-20210430.fits at 2021-06-06T23:53:46.847329\n"
     ]
    },
    {
     "name": "stderr",
     "output_type": "stream",
     "text": [
      "INFO:desiutil.log.dlm58.info:iotime 0.633 sec to read coadd-0-231-20210430.fits at 2021-06-06T23:53:46.847329\n"
     ]
    },
    {
     "name": "stdout",
     "output_type": "stream",
     "text": [
      "39627776264767824\n",
      "INFO:spectra.py:253:read_spectra: iotime 0.720 sec to read coadd-2-231-20210430.fits at 2021-06-06T23:53:55.628059\n"
     ]
    },
    {
     "name": "stderr",
     "output_type": "stream",
     "text": [
      "INFO:desiutil.log.dlm58.info:iotime 0.720 sec to read coadd-2-231-20210430.fits at 2021-06-06T23:53:55.628059\n"
     ]
    },
    {
     "name": "stdout",
     "output_type": "stream",
     "text": [
      "39627758141180010\n",
      "INFO:spectra.py:253:read_spectra: iotime 0.673 sec to read coadd-1-231-20210430.fits at 2021-06-06T23:54:03.895271\n"
     ]
    },
    {
     "name": "stderr",
     "output_type": "stream",
     "text": [
      "INFO:desiutil.log.dlm58.info:iotime 0.673 sec to read coadd-1-231-20210430.fits at 2021-06-06T23:54:03.895271\n"
     ]
    },
    {
     "name": "stdout",
     "output_type": "stream",
     "text": [
      "39627788377918559\n",
      "INFO:spectra.py:253:read_spectra: iotime 0.669 sec to read coadd-7-231-20210430.fits at 2021-06-06T23:54:11.884964\n"
     ]
    },
    {
     "name": "stderr",
     "output_type": "stream",
     "text": [
      "INFO:desiutil.log.dlm58.info:iotime 0.669 sec to read coadd-7-231-20210430.fits at 2021-06-06T23:54:11.884964\n"
     ]
    },
    {
     "name": "stdout",
     "output_type": "stream",
     "text": [
      "616088534612181306\n",
      "INFO:spectra.py:253:read_spectra: iotime 0.788 sec to read coadd-3-231-20210430.fits at 2021-06-06T23:54:20.204743\n"
     ]
    },
    {
     "name": "stderr",
     "output_type": "stream",
     "text": [
      "INFO:desiutil.log.dlm58.info:iotime 0.788 sec to read coadd-3-231-20210430.fits at 2021-06-06T23:54:20.204743\n"
     ]
    },
    {
     "name": "stdout",
     "output_type": "stream",
     "text": [
      "39627811912156779\n",
      "INFO:spectra.py:253:read_spectra: iotime 0.735 sec to read coadd-6-46-20210430.fits at 2021-06-06T23:54:28.048051\n"
     ]
    },
    {
     "name": "stderr",
     "output_type": "stream",
     "text": [
      "INFO:desiutil.log.dlm58.info:iotime 0.735 sec to read coadd-6-46-20210430.fits at 2021-06-06T23:54:28.048051\n"
     ]
    },
    {
     "name": "stdout",
     "output_type": "stream",
     "text": [
      "616088582976700425\n",
      "INFO:spectra.py:253:read_spectra: iotime 0.761 sec to read coadd-9-287-20210430.fits at 2021-06-06T23:54:36.225341\n"
     ]
    },
    {
     "name": "stderr",
     "output_type": "stream",
     "text": [
      "INFO:desiutil.log.dlm58.info:iotime 0.761 sec to read coadd-9-287-20210430.fits at 2021-06-06T23:54:36.225341\n"
     ]
    },
    {
     "name": "stdout",
     "output_type": "stream",
     "text": [
      "Negative targetids don't play nice... skipping.\n",
      "39627842761262116\n",
      "INFO:spectra.py:253:read_spectra: iotime 0.729 sec to read coadd-8-287-20210430.fits at 2021-06-06T23:54:44.756474\n"
     ]
    },
    {
     "name": "stderr",
     "output_type": "stream",
     "text": [
      "INFO:desiutil.log.dlm58.info:iotime 0.729 sec to read coadd-8-287-20210430.fits at 2021-06-06T23:54:44.756474\n"
     ]
    },
    {
     "name": "stdout",
     "output_type": "stream",
     "text": [
      "39627842731902995\n",
      "INFO:spectra.py:253:read_spectra: iotime 0.729 sec to read coadd-2-287-20210430.fits at 2021-06-06T23:54:52.953893\n"
     ]
    },
    {
     "name": "stderr",
     "output_type": "stream",
     "text": [
      "INFO:desiutil.log.dlm58.info:iotime 0.729 sec to read coadd-2-287-20210430.fits at 2021-06-06T23:54:52.953893\n"
     ]
    },
    {
     "name": "stdout",
     "output_type": "stream",
     "text": [
      "39627752181073750\n",
      "INFO:spectra.py:253:read_spectra: iotime 0.707 sec to read coadd-0-261-20210430.fits at 2021-06-06T23:55:00.940172\n"
     ]
    },
    {
     "name": "stderr",
     "output_type": "stream",
     "text": [
      "INFO:desiutil.log.dlm58.info:iotime 0.707 sec to read coadd-0-261-20210430.fits at 2021-06-06T23:55:00.940172\n"
     ]
    },
    {
     "name": "stdout",
     "output_type": "stream",
     "text": [
      "39627806543451133\n",
      "INFO:spectra.py:253:read_spectra: iotime 0.772 sec to read coadd-6-261-20210430.fits at 2021-06-06T23:55:09.567899\n"
     ]
    },
    {
     "name": "stderr",
     "output_type": "stream",
     "text": [
      "INFO:desiutil.log.dlm58.info:iotime 0.772 sec to read coadd-6-261-20210430.fits at 2021-06-06T23:55:09.567899\n"
     ]
    },
    {
     "name": "stdout",
     "output_type": "stream",
     "text": [
      "39627776323488992\n",
      "INFO:spectra.py:253:read_spectra: iotime 0.744 sec to read coadd-2-261-20210430.fits at 2021-06-06T23:55:17.248743\n"
     ]
    },
    {
     "name": "stderr",
     "output_type": "stream",
     "text": [
      "INFO:desiutil.log.dlm58.info:iotime 0.744 sec to read coadd-2-261-20210430.fits at 2021-06-06T23:55:17.248743\n"
     ]
    },
    {
     "name": "stdout",
     "output_type": "stream",
     "text": [
      "39627806518284560\n",
      "INFO:spectra.py:253:read_spectra: iotime 0.804 sec to read coadd-4-261-20210430.fits at 2021-06-06T23:55:25.797198\n"
     ]
    },
    {
     "name": "stderr",
     "output_type": "stream",
     "text": [
      "INFO:desiutil.log.dlm58.info:iotime 0.804 sec to read coadd-4-261-20210430.fits at 2021-06-06T23:55:25.797198\n"
     ]
    },
    {
     "name": "stdout",
     "output_type": "stream",
     "text": [
      "39627794476436871\n",
      "INFO:spectra.py:253:read_spectra: iotime 0.935 sec to read coadd-7-261-20210430.fits at 2021-06-06T23:55:34.153578\n"
     ]
    },
    {
     "name": "stderr",
     "output_type": "stream",
     "text": [
      "INFO:desiutil.log.dlm58.info:iotime 0.935 sec to read coadd-7-261-20210430.fits at 2021-06-06T23:55:34.153578\n"
     ]
    },
    {
     "name": "stdout",
     "output_type": "stream",
     "text": [
      "39627770308859803\n",
      "INFO:spectra.py:253:read_spectra: iotime 0.785 sec to read coadd-8-261-20210430.fits at 2021-06-06T23:55:42.288953\n"
     ]
    },
    {
     "name": "stderr",
     "output_type": "stream",
     "text": [
      "INFO:desiutil.log.dlm58.info:iotime 0.785 sec to read coadd-8-261-20210430.fits at 2021-06-06T23:55:42.288953\n"
     ]
    },
    {
     "name": "stdout",
     "output_type": "stream",
     "text": [
      "39627811958294523\n",
      "INFO:spectra.py:253:read_spectra: iotime 0.738 sec to read coadd-5-71-20210501.fits at 2021-06-06T23:55:50.757024\n"
     ]
    },
    {
     "name": "stderr",
     "output_type": "stream",
     "text": [
      "INFO:desiutil.log.dlm58.info:iotime 0.738 sec to read coadd-5-71-20210501.fits at 2021-06-06T23:55:50.757024\n"
     ]
    },
    {
     "name": "stdout",
     "output_type": "stream",
     "text": [
      "39627769692293189\n",
      "INFO:spectra.py:253:read_spectra: iotime 0.837 sec to read coadd-9-71-20210501.fits at 2021-06-06T23:55:59.389313\n"
     ]
    },
    {
     "name": "stderr",
     "output_type": "stream",
     "text": [
      "INFO:desiutil.log.dlm58.info:iotime 0.837 sec to read coadd-9-71-20210501.fits at 2021-06-06T23:55:59.389313\n"
     ]
    },
    {
     "name": "stdout",
     "output_type": "stream",
     "text": [
      "39627811916349621\n",
      "INFO:spectra.py:253:read_spectra: iotime 0.779 sec to read coadd-6-47-20210501.fits at 2021-06-06T23:56:07.744095\n"
     ]
    },
    {
     "name": "stderr",
     "output_type": "stream",
     "text": [
      "INFO:desiutil.log.dlm58.info:iotime 0.779 sec to read coadd-6-47-20210501.fits at 2021-06-06T23:56:07.744095\n"
     ]
    },
    {
     "name": "stdout",
     "output_type": "stream",
     "text": [
      "39627817947759550\n",
      "INFO:spectra.py:253:read_spectra: iotime 0.833 sec to read coadd-5-47-20210501.fits at 2021-06-06T23:56:16.153759\n"
     ]
    },
    {
     "name": "stderr",
     "output_type": "stream",
     "text": [
      "INFO:desiutil.log.dlm58.info:iotime 0.833 sec to read coadd-5-47-20210501.fits at 2021-06-06T23:56:16.153759\n"
     ]
    },
    {
     "name": "stdout",
     "output_type": "stream",
     "text": [
      "39627842761263341\n",
      "INFO:spectra.py:253:read_spectra: iotime 0.760 sec to read coadd-8-288-20210502.fits at 2021-06-06T23:56:25.185373\n"
     ]
    },
    {
     "name": "stderr",
     "output_type": "stream",
     "text": [
      "INFO:desiutil.log.dlm58.info:iotime 0.760 sec to read coadd-8-288-20210502.fits at 2021-06-06T23:56:25.185373\n"
     ]
    },
    {
     "name": "stdout",
     "output_type": "stream",
     "text": [
      "616088607140086125\n",
      "INFO:spectra.py:253:read_spectra: iotime 0.835 sec to read coadd-7-288-20210502.fits at 2021-06-06T23:56:34.192519\n"
     ]
    },
    {
     "name": "stderr",
     "output_type": "stream",
     "text": [
      "INFO:desiutil.log.dlm58.info:iotime 0.835 sec to read coadd-7-288-20210502.fits at 2021-06-06T23:56:34.192519\n"
     ]
    },
    {
     "name": "stdout",
     "output_type": "stream",
     "text": [
      "39627824637677373\n",
      "INFO:spectra.py:253:read_spectra: iotime 0.691 sec to read coadd-9-288-20210502.fits at 2021-06-06T23:56:42.754493\n"
     ]
    },
    {
     "name": "stderr",
     "output_type": "stream",
     "text": [
      "INFO:desiutil.log.dlm58.info:iotime 0.691 sec to read coadd-9-288-20210502.fits at 2021-06-06T23:56:42.754493\n"
     ]
    },
    {
     "name": "stdout",
     "output_type": "stream",
     "text": [
      "39627872930895187\n",
      "INFO:spectra.py:253:read_spectra: iotime 0.728 sec to read coadd-5-288-20210502.fits at 2021-06-06T23:56:51.561603\n"
     ]
    },
    {
     "name": "stderr",
     "output_type": "stream",
     "text": [
      "INFO:desiutil.log.dlm58.info:iotime 0.728 sec to read coadd-5-288-20210502.fits at 2021-06-06T23:56:51.561603\n"
     ]
    },
    {
     "name": "stdout",
     "output_type": "stream",
     "text": [
      "616088595031131124\n",
      "INFO:spectra.py:253:read_spectra: iotime 0.819 sec to read coadd-2-288-20210502.fits at 2021-06-06T23:57:00.397859\n"
     ]
    },
    {
     "name": "stderr",
     "output_type": "stream",
     "text": [
      "INFO:desiutil.log.dlm58.info:iotime 0.819 sec to read coadd-2-288-20210502.fits at 2021-06-06T23:57:00.397859\n"
     ]
    },
    {
     "name": "stdout",
     "output_type": "stream",
     "text": [
      "39627758204097810\n",
      "INFO:spectra.py:253:read_spectra: iotime 0.686 sec to read coadd-1-253-20210502.fits at 2021-06-06T23:57:08.829805\n"
     ]
    },
    {
     "name": "stderr",
     "output_type": "stream",
     "text": [
      "INFO:desiutil.log.dlm58.info:iotime 0.686 sec to read coadd-1-253-20210502.fits at 2021-06-06T23:57:08.829805\n"
     ]
    },
    {
     "name": "stdout",
     "output_type": "stream",
     "text": [
      "39627770275300676\n",
      "INFO:spectra.py:253:read_spectra: iotime 0.780 sec to read coadd-2-253-20210502.fits at 2021-06-06T23:57:17.159557\n"
     ]
    },
    {
     "name": "stderr",
     "output_type": "stream",
     "text": [
      "INFO:desiutil.log.dlm58.info:iotime 0.780 sec to read coadd-2-253-20210502.fits at 2021-06-06T23:57:17.159557\n"
     ]
    },
    {
     "name": "stdout",
     "output_type": "stream",
     "text": [
      "39627788424057893\n",
      "INFO:spectra.py:253:read_spectra: iotime 0.708 sec to read coadd-6-253-20210502.fits at 2021-06-06T23:57:25.873795\n"
     ]
    },
    {
     "name": "stderr",
     "output_type": "stream",
     "text": [
      "INFO:desiutil.log.dlm58.info:iotime 0.708 sec to read coadd-6-253-20210502.fits at 2021-06-06T23:57:25.873795\n"
     ]
    },
    {
     "name": "stdout",
     "output_type": "stream",
     "text": [
      "39627794442883559\n",
      "INFO:spectra.py:253:read_spectra: iotime 0.633 sec to read coadd-4-253-20210502.fits at 2021-06-06T23:57:33.778812\n"
     ]
    },
    {
     "name": "stderr",
     "output_type": "stream",
     "text": [
      "INFO:desiutil.log.dlm58.info:iotime 0.633 sec to read coadd-4-253-20210502.fits at 2021-06-06T23:57:33.778812\n"
     ]
    },
    {
     "name": "stdout",
     "output_type": "stream",
     "text": [
      "39627758233454371\n",
      "INFO:spectra.py:253:read_spectra: iotime 0.689 sec to read coadd-8-253-20210502.fits at 2021-06-06T23:57:42.037642\n"
     ]
    },
    {
     "name": "stderr",
     "output_type": "stream",
     "text": [
      "INFO:desiutil.log.dlm58.info:iotime 0.689 sec to read coadd-8-253-20210502.fits at 2021-06-06T23:57:42.037642\n"
     ]
    },
    {
     "name": "stdout",
     "output_type": "stream",
     "text": [
      "39627902932747991\n",
      "INFO:spectra.py:253:read_spectra: iotime 0.686 sec to read coadd-2-151-20210502.fits at 2021-06-06T23:57:49.716757\n"
     ]
    },
    {
     "name": "stderr",
     "output_type": "stream",
     "text": [
      "INFO:desiutil.log.dlm58.info:iotime 0.686 sec to read coadd-2-151-20210502.fits at 2021-06-06T23:57:49.716757\n"
     ]
    },
    {
     "name": "stdout",
     "output_type": "stream",
     "text": [
      "Negative targetids don't play nice... skipping.\n",
      "Negative targetids don't play nice... skipping.\n",
      "39627788281451198\n",
      "INFO:spectra.py:253:read_spectra: iotime 0.685 sec to read coadd-3-525-20210502.fits at 2021-06-06T23:57:57.822759\n"
     ]
    },
    {
     "name": "stderr",
     "output_type": "stream",
     "text": [
      "INFO:desiutil.log.dlm58.info:iotime 0.685 sec to read coadd-3-525-20210502.fits at 2021-06-06T23:57:57.822759\n"
     ]
    },
    {
     "name": "stdout",
     "output_type": "stream",
     "text": [
      "39627776227019630\n",
      "INFO:spectra.py:253:read_spectra: iotime 0.676 sec to read coadd-8-525-20210502.fits at 2021-06-06T23:58:05.968804\n"
     ]
    },
    {
     "name": "stderr",
     "output_type": "stream",
     "text": [
      "INFO:desiutil.log.dlm58.info:iotime 0.676 sec to read coadd-8-525-20210502.fits at 2021-06-06T23:58:05.968804\n"
     ]
    },
    {
     "name": "stdout",
     "output_type": "stream",
     "text": [
      "39627752055245479\n",
      "INFO:spectra.py:253:read_spectra: iotime 0.665 sec to read coadd-0-525-20210502.fits at 2021-06-06T23:58:14.498127\n"
     ]
    },
    {
     "name": "stderr",
     "output_type": "stream",
     "text": [
      "INFO:desiutil.log.dlm58.info:iotime 0.665 sec to read coadd-0-525-20210502.fits at 2021-06-06T23:58:14.498127\n"
     ]
    },
    {
     "name": "stdout",
     "output_type": "stream",
     "text": [
      "616088552689631448\n",
      "INFO:spectra.py:253:read_spectra: iotime 0.698 sec to read coadd-6-525-20210502.fits at 2021-06-06T23:58:22.748562\n"
     ]
    },
    {
     "name": "stderr",
     "output_type": "stream",
     "text": [
      "INFO:desiutil.log.dlm58.info:iotime 0.698 sec to read coadd-6-525-20210502.fits at 2021-06-06T23:58:22.748562\n"
     ]
    },
    {
     "name": "stdout",
     "output_type": "stream",
     "text": [
      "39627811907962512\n",
      "INFO:spectra.py:253:read_spectra: iotime 0.761 sec to read coadd-6-48-20210502.fits at 2021-06-06T23:58:30.727060\n"
     ]
    },
    {
     "name": "stderr",
     "output_type": "stream",
     "text": [
      "INFO:desiutil.log.dlm58.info:iotime 0.761 sec to read coadd-6-48-20210502.fits at 2021-06-06T23:58:30.727060\n"
     ]
    },
    {
     "name": "stdout",
     "output_type": "stream",
     "text": [
      "616088516568285622\n",
      "INFO:spectra.py:253:read_spectra: iotime 0.781 sec to read coadd-8-262-20210502.fits at 2021-06-06T23:58:39.095198\n"
     ]
    },
    {
     "name": "stderr",
     "output_type": "stream",
     "text": [
      "INFO:desiutil.log.dlm58.info:iotime 0.781 sec to read coadd-8-262-20210502.fits at 2021-06-06T23:58:39.095198\n"
     ]
    },
    {
     "name": "stdout",
     "output_type": "stream",
     "text": [
      "39627782392646777\n",
      "INFO:spectra.py:253:read_spectra: iotime 0.722 sec to read coadd-7-262-20210502.fits at 2021-06-06T23:58:47.471054\n"
     ]
    },
    {
     "name": "stderr",
     "output_type": "stream",
     "text": [
      "INFO:desiutil.log.dlm58.info:iotime 0.722 sec to read coadd-7-262-20210502.fits at 2021-06-06T23:58:47.471054\n"
     ]
    },
    {
     "name": "stdout",
     "output_type": "stream",
     "text": [
      "39627788428249718\n",
      "INFO:spectra.py:253:read_spectra: iotime 0.697 sec to read coadd-6-262-20210502.fits at 2021-06-06T23:58:55.473355\n"
     ]
    },
    {
     "name": "stderr",
     "output_type": "stream",
     "text": [
      "INFO:desiutil.log.dlm58.info:iotime 0.697 sec to read coadd-6-262-20210502.fits at 2021-06-06T23:58:55.473355\n"
     ]
    },
    {
     "name": "stdout",
     "output_type": "stream",
     "text": [
      "39627752168489826\n",
      "INFO:spectra.py:253:read_spectra: iotime 0.716 sec to read coadd-1-262-20210502.fits at 2021-06-06T23:59:03.931842\n"
     ]
    },
    {
     "name": "stderr",
     "output_type": "stream",
     "text": [
      "INFO:desiutil.log.dlm58.info:iotime 0.716 sec to read coadd-1-262-20210502.fits at 2021-06-06T23:59:03.931842\n"
     ]
    },
    {
     "name": "stdout",
     "output_type": "stream",
     "text": [
      "Negative targetids don't play nice... skipping.\n",
      "616088492396511513\n",
      "INFO:spectra.py:253:read_spectra: iotime 0.709 sec to read coadd-0-262-20210502.fits at 2021-06-06T23:59:12.260415\n"
     ]
    },
    {
     "name": "stderr",
     "output_type": "stream",
     "text": [
      "INFO:desiutil.log.dlm58.info:iotime 0.709 sec to read coadd-0-262-20210502.fits at 2021-06-06T23:59:12.260415\n"
     ]
    }
   ],
   "source": [
    "# Loop through zbest and coadd files for each petal.\n",
    "# Extract the fibermaps, ZBEST tables, and spectra.\n",
    "# Keep only BGS targets passing basic event selection.\n",
    "allzbest = None\n",
    "allfmap = None\n",
    "allwave = None\n",
    "allflux = None\n",
    "allivar = None\n",
    "allmask = None\n",
    "allres  = None\n",
    "handy_table = []\n",
    "\n",
    "color_string = 'brz'\n",
    "count = 0\n",
    "\n",
    "for cafile, zbfile, row in zip(cafiles, zbfiles, rows): # rows[:-1] IS TEMPORARY\n",
    "    # Access data per petal.\n",
    "    zbest = Table.read(zbfile, 'ZBEST')\n",
    "    #print(zbest.colnames)\n",
    "    #fibermap = Table.read(zbfile, 'FIBERMAP')\n",
    "    targetid = zbest[int(row)]['TARGETID']\n",
    "    chi2 = zbest[int(row)]['CHI2']\n",
    "    if targetid < 0:\n",
    "        print(\"Negative targetids don't play nice... skipping.\")\n",
    "        continue\n",
    "    print(targetid)\n",
    "    \n",
    "    pspectra = read_spectra(cafile)\n",
    "    cspectra = coadd_cameras(pspectra)\n",
    "    fibermap = cspectra.fibermap\n",
    "    ra = fibermap[int(row)]['TARGET_RA']\n",
    "    dec = fibermap[int(row)]['TARGET_DEC']\n",
    "    handy_table.append((targetid, ra, dec, tile_ids[count], obsdates[count], row))\n",
    "    #print(pspectra.flux)S\n",
    "\n",
    "    # Apply standard event selection.\n",
    "    #isTGT = fibermap['OBJTYPE'] == 'TGT'\n",
    "    #isGAL = zbest['SPECTYPE'] == 'GALAXY'\n",
    "    \n",
    "    #This is old selection, does not work anymore! BGS target is always 0\n",
    "    #isBGS = fibermap['SV1_BGS_TARGET'] & bgs_mask.mask(sv1_bgs_bits) != 0\n",
    "    #isBGS = bgs_mask.mask(bgs_bits) != 0\n",
    "    #isGoodFiber = fibermap['FIBERSTATUS'] == 0\n",
    "    #isGoodZbest = (zbest['DELTACHI2'] > 25.) & (zbest['ZWARN'] == 0)\n",
    "    #select = isTGT & isGAL #& isBGS & isGoodFiber & isGoodZbest\n",
    "    #fibermap = delta_mag(cspectra, fibermap, select, nsigma=3)\n",
    "    #isBGS = fibermap['CMX_TARGET'] & cmx_mask.mask(cmx_bgs_bits) != 0\n",
    "    select = fibermap['TARGETID'] == targetid #isTGT & isGAL #& isBGS\n",
    "    #exp_id = fibermap['EXPID'] & select # first need to figure out all columns as this fails\n",
    "    #print(select)\n",
    "    count += 1\n",
    "\n",
    "    # Accumulate spectrum data.\n",
    "    if allzbest is None:\n",
    "        allzbest = zbest[select]\n",
    "        allfmap = fibermap[select]\n",
    "        allwave = cspectra.wave[color_string]\n",
    "        allflux = cspectra.flux[color_string][select]\n",
    "        allivar = cspectra.ivar[color_string][select]\n",
    "        allmask = cspectra.mask[color_string][select]\n",
    "        allres  = cspectra.resolution_data[color_string][select]\n",
    "    else:\n",
    "        allzbest = vstack([allzbest, zbest[select]])\n",
    "        allfmap = vstack([allfmap, fibermap[select]])\n",
    "        allflux = np.vstack([allflux, cspectra.flux[color_string][select]])\n",
    "        allivar = np.vstack([allivar, cspectra.ivar[color_string][select]])\n",
    "        allmask = np.vstack([allmask, cspectra.mask[color_string][select]])\n",
    "        allres  = np.vstack([allres, cspectra.resolution_data[color_string][select]])"
   ]
  },
  {
   "cell_type": "code",
   "execution_count": 52,
   "metadata": {},
   "outputs": [],
   "source": [
    "# Apply the DESITRIP preprocessing to selected spectra.\n",
    "rewave, reflux, reivar = rebin_flux(allwave, allflux, allivar, allzbest['Z'],\n",
    "                                    minwave=2500., maxwave=9500., nbins=150,\n",
    "                                    log=True, clip=True)\n",
    "rsflux = rescale_flux(reflux)"
   ]
  },
  {
   "cell_type": "code",
   "execution_count": 53,
   "metadata": {},
   "outputs": [],
   "source": [
    "# Run the classifier on the spectra.\n",
    "# The output layer uses softmax activation to produce an array of label probabilities.\n",
    "# The classification is based on argmax(pred).\n",
    "pred = classifier.predict(rsflux)"
   ]
  },
  {
   "cell_type": "code",
   "execution_count": 54,
   "metadata": {},
   "outputs": [
    {
     "data": {
      "text/plain": [
       "(121, 9)"
      ]
     },
     "execution_count": 54,
     "metadata": {},
     "output_type": "execute_result"
    }
   ],
   "source": [
    "pred.shape"
   ]
  },
  {
   "cell_type": "code",
   "execution_count": 67,
   "metadata": {},
   "outputs": [
    {
     "name": "stdout",
     "output_type": "stream",
     "text": [
      "targetid, (ra, dec), tileid, obsdate, row - prob\n",
      "(616088540027028545, 178.72510573147164, 0.1011244628713857, '80662', '20210221', '476') - 0.52\n",
      "(39627787761355419, 180.89626662349772, -0.04036985756287166, '80662', '20210221', '268') - 0.53\n",
      "(39627769650354141, 181.49814978040627, -0.8326405923920857, '80662', '20210221', '308') - 0.33\n",
      "(39627793780183579, 179.7333871227729, 0.22101554693060071, '80662', '20210221', '205') - 0.48\n",
      "(39627896934895528, 211.26754843433153, 4.4529403246544685, '136', '20210405', '93') - 0.84\n",
      "(39627817981317571, 182.2159572368916, 1.1853401603451748, '66', '20210405', '360') - 0.33\n",
      "(39627811979264260, 184.26238917406695, 0.9446663564922534, '66', '20210405', '443') - 0.77\n",
      "(39627775698537653, 181.9095166091537, -0.540590092043612, '66', '20210405', '102') - 0.93\n",
      "(39627776273156346, 216.10171857842838, -0.6213739467421516, '228', '20210405', '450') - 0.72\n",
      "(39627806488921652, 217.06906322368778, 0.7246653535932529, '228', '20210405', '419') - 0.93\n",
      "(39627782308759050, 215.80418599888804, -0.2460484398717419, '228', '20210405', '303') - 0.76\n",
      "(39627794392552723, 216.22410150147854, 0.2088574536077048, '228', '20210405', '112') - 0.87\n",
      "(39627764197757125, 216.43015912656423, -0.9300498416361899, '228', '20210405', '426') - 0.31\n",
      "(39627757541396859, 179.71646319999914, -1.248141771402032, '39', '20210405', '145') - 0.78\n",
      "(39627811907962460, 180.07695277870303, 1.0457925823496368, '39', '20210405', '258') - 0.4\n",
      "(39627806480534677, 216.62517420774313, 0.8160846783185877, '217', '20210406', '344') - 0.62\n",
      "(39627782308760755, 215.8651632561341, -0.3120617652749298, '217', '20210406', '309') - 0.79\n",
      "(39627770216579660, 215.02088306593285, -0.7389155857934028, '217', '20210406', '243') - 0.5\n",
      "(39627878832277921, 210.4191823815299, 3.813080441628236, '148', '20210407', '56') - 0.23\n",
      "(616088546129740731, 182.42379824468236, 0.32856344271004745, '56', '20210407', '493') - 0.43\n",
      "(39627805922694984, 183.49666972436268, 0.7955547825259394, '67', '20210407', '231') - 0.58\n",
      "(39627781717364320, 180.66035701318015, -0.3672634343406137, '67', '20210407', '200') - 0.79\n",
      "(39627824604119156, 216.7543042670683, 1.582047498729435, '28', '20210407', '50') - 0.38\n",
      "(39627799819980445, 179.67625856307322, 0.39441928923454167, '28', '20210407', '137') - 0.8\n",
      "(39627787711025554, 177.94871381395654, -0.05693974989779151, '272', '20210407', '65') - 0.53\n",
      "(39627794434493830, 218.657374734274, 0.25772131724680336, '40', '20210407', '447') - 0.59\n",
      "(39627764231311046, 218.42486028888393, -0.9211101983292048, '40', '20210407', '115') - 0.36\n",
      "(39627800503651302, 220.3800897401728, 0.6061860728802607, '255', '20210407', '309') - 0.31\n",
      "(616088498436310190, 219.68968894004277, -1.6264588775897957, '255', '20210407', '477') - 0.6\n",
      "(39627770308857233, 220.61384946359786, -0.7384566766529281, '255', '20210407', '254') - 0.46\n",
      "(39627770308860267, 220.73107438251984, -0.6891284088584337, '255', '20210407', '372') - 0.41\n",
      "(39627782346509571, 218.15857269421966, -0.3730657201613393, '255', '20210407', '241') - 0.68\n",
      "(39627746124502058, 219.22207477993285, -1.8557696714787086, '245', '20210407', '190') - 0.61\n",
      "(39627758233452823, 220.7602253748339, -1.2144130785766516, '245', '20210407', '76') - 0.54\n",
      "(39627770308859139, 220.68388414777317, -0.7340465248229762, '246', '20210408', '257') - 0.31\n",
      "(39627788356948990, 216.48887674828262, 0.1150741246968579, '246', '20210408', '134') - 0.43\n",
      "(39627770216583829, 215.17231460762667, -0.6370011726718479, '247', '20210409', '81') - 0.33\n",
      "(39627781704778942, 179.80215124024755, -0.2114953750588075, '219', '20210409', '241') - 0.48\n",
      "(39627799799010094, 178.45833719672524, 0.4578194744316162, '219', '20210409', '370') - 0.49\n",
      "(39627763572802387, 179.04159236490693, -1.0416196236697073, '29', '20210409', '212') - 0.85\n",
      "(39627787757163460, 180.73260007763182, -0.08749840468297534, '30', '20210410', '416') - 0.47\n",
      "(39627817943564808, 179.77268191396274, 1.2610150194002137, '30', '20210410', '308') - 0.67\n",
      "(39627824620900981, 217.95560139557895, 1.4414349906326671, '41', '20210410', '348') - 0.54\n",
      "(39627794447076334, 219.39520381365384, 0.15883658837185324, '41', '20210410', '365') - 0.28\n",
      "(39627854803109717, 216.84405546545293, 2.805008105664398, '41', '20210410', '190') - 0.35\n",
      "(39627830656501928, 217.59927906595567, 1.7877060950987764, '275', '20210410', '319') - 0.4\n",
      "(39627872922505443, 217.73526768297847, 3.395966583134346, '248', '20210410', '371') - 0.33\n",
      "(39627788398892169, 218.95148999260863, -0.06190040912460959, '282', '20210410', '135') - 0.44\n",
      "(39627799840950095, 180.8235302644697, 0.4618710373075667, '282', '20210410', '321') - 0.33\n",
      "(39627769625184934, 179.857666355287, -0.8564252839796895, '282', '20210410', '193') - 0.56\n",
      "(39627788340170385, 215.3766888980232, -0.0017066518762649566, '282', '20210410', '151') - 0.41\n",
      "(39627763564415912, 178.65329765053917, -0.9461737445938384, '282', '20210410', '205') - 0.83\n",
      "(39627872909923510, 217.00568203348357, 3.560481641713014, '256', '20210410', '266') - 0.61\n",
      "(39627812528720598, 217.13490124770658, 1.1246882008019612, '42', '20210412', '49') - 0.77\n",
      "(39627866920452176, 219.30693025369283, 3.1985394161321175, '42', '20210412', '457') - 0.8\n",
      "(39627830685860692, 219.28614236842256, 1.87125131616257, '221', '20210412', '88') - 0.29\n",
      "(39627782396842536, 221.20884007610496, -0.21137642870384402, '43', '20210413', '362') - 0.56\n",
      "(39627782363289978, 219.22425752668073, -0.3225478809117933, '277', '20210413', '409') - 0.55\n",
      "(39627770287886546, 219.43171993637398, -0.7811830085933051, '283', '20210413', '437') - 0.2\n",
      "(39627842740291362, 217.82793871579915, 2.2880832243864035, '283', '20210413', '446') - 0.53\n",
      "(616088570892911793, 218.41951628973666, 1.3735396719096111, '283', '20210413', '486') - 0.33\n",
      "(39627830673281264, 218.709015815036, 1.718776651913294, '257', '20210413', '372') - 0.45\n",
      "(39627758225066694, 220.37006757229557, -1.1933754511108827, '257', '20210413', '296') - 0.98\n",
      "(39627800474291633, 218.66159139209003, 0.4594854261080055, '257', '20210413', '280') - 0.97\n",
      "(39627794463850695, 220.25880294413486, 0.31732814524085134, '284', '20210414', '228') - 0.56\n",
      "(39627788432441765, 220.76656294574906, -0.11319367556081299, '284', '20210414', '356') - 0.97\n",
      "(616088564253328500, 182.60399968992016, 1.113132833776754, '284', '20210414', '483') - 0.25\n",
      "(39627787807490170, 183.50432512736413, -0.10732408616512036, '258', '20210414', '376') - 0.99\n",
      "(39627799824173959, 179.87052158997733, 0.470548206534641, '258', '20210414', '130') - 0.89\n",
      "(39627758208288155, 219.29632108379883, -1.1282987685324393, '258', '20210414', '383') - 0.71\n",
      "(39627830673279912, 218.64852378722162, 1.8466687061645692, '258', '20210414', '382') - 0.54\n",
      "(39627764185174950, 215.69935863510906, -0.9605197388978521, '68', '20210415', '236') - 0.99\n",
      "(39627824029503437, 182.68225992178898, 1.3974007935303974, '68', '20210415', '414') - 0.27\n",
      "(39627793801151497, 180.79363731142118, 0.34085139713935136, '44', '20210416', '244') - 0.32\n",
      "(39627811903768389, 179.84152669325002, 0.968603662037341, '44', '20210416', '250') - 0.62\n",
      "(616088552727380996, 215.65444011898524, 0.5868601337702066, '44', '20210416', '493') - 0.45\n",
      "(39627806467953230, 215.95279768129114, 0.7199936416079398, '259', '20210416', '333') - 0.65\n",
      "(39627902953721331, 211.0058446434197, 4.727476223401548, '278', '20210416', '212') - 0.46\n",
      "(39627775740482092, 184.45200845010353, -0.5658258417488483, '222', '20210416', '113') - 0.82\n",
      "(39627812570665665, 219.6954479600285, 0.950861462410891, '59', '20210416', '406') - 0.55\n",
      "(39627824608313360, 217.00000944149065, 1.4858835301171578, '45', '20210417', '250') - 0.64\n",
      "(39627770317243639, 221.05234665811858, -0.6641558140033915, '45', '20210417', '394') - 0.84\n",
      "(616088510478156025, 217.47549629840802, -1.3222298729867061, '223', '20210417', '462') - 0.39\n",
      "(39627752122357641, 216.71674050047173, -1.5409472214567603, '229', '20210417', '237') - 0.84\n",
      "(39627793830513268, 182.6209026459638, 0.3253224810605364, '229', '20210417', '253') - 0.99\n",
      "(39627752122351991, 216.5137119827437, -1.58622145267479, '150', '20210417', '311') - 0.34\n",
      "(39627776264767824, 215.58609196776558, -0.6114576307069093, '60', '20210417', '421') - 0.32\n",
      "(39627758141180010, 215.35807713409145, -1.295999379365029, '260', '20210418', '279') - 0.61\n",
      "(39627788377918559, 217.6450693481635, 0.04665086142118423, '286', '20210418', '403') - 0.91\n",
      "(616088534612181306, 215.75145806902984, -0.32106671720772134, '252', '20210419', '488') - 0.98\n",
      "(39627811912156779, 180.34913017386634, 0.9264451085080153, '230', '20210420', '386') - 0.3\n",
      "(616088582976700425, 218.6833547434411, 1.6264590705579267, '230', '20210420', '480') - 0.58\n",
      "(39627842761262116, 219.05095238871814, 2.1288460887356857, '230', '20210420', '284') - 0.63\n",
      "(39627842731902995, 217.34865404436093, 2.131189231863762, '61', '20210430', '329') - 0.55\n",
      "(39627752181073750, 220.06861260952775, -1.5698586842952937, '231', '20210430', '309') - 0.51\n",
      "(39627806543451133, 220.4972589702929, 0.6343541738002807, '231', '20210430', '408') - 0.41\n",
      "(39627776323488992, 219.11750135025798, -0.5007471582755154, '231', '20210430', '417') - 0.4\n",
      "(39627806518284560, 218.93833565112766, 0.7160516140452112, '231', '20210430', '379') - 0.41\n",
      "(39627794476436871, 221.1349956023925, 0.27150094027667304, '231', '20210430', '437') - 0.73\n",
      "(39627770308859803, 220.71203834966616, -0.8640569993756172, '46', '20210430', '255') - 0.59\n",
      "(39627811958294523, 183.11592283562882, 0.9508822440403704, '287', '20210430', '181') - 0.48\n",
      "(39627769692293189, 183.83005709059472, -0.7439745401189887, '287', '20210430', '259') - 0.47\n",
      "(39627811916349621, 180.50794221083993, 0.9144035892196491, '287', '20210430', '321') - 0.54\n",
      "(39627817947759550, 180.05031808523827, 1.2558995864856621, '287', '20210430', '333') - 0.62\n",
      "(39627842761263341, 219.10781825092255, 2.1814450920075825, '261', '20210430', '252') - 0.29\n",
      "(616088607140086125, 218.88887949848626, 2.6939246612005925, '261', '20210430', '468') - 0.28\n",
      "(39627824637677373, 218.953248027766, 1.3837601064296077, '261', '20210430', '190') - 0.53\n",
      "(39627872930895187, 218.28372348435377, 3.4536115075692257, '261', '20210430', '232') - 0.45\n",
      "(616088595031131124, 217.00893251096574, 2.3351815399706033, '261', '20210430', '488') - 0.4\n",
      "(39627758204097810, 219.2080182628874, -1.2649717217666046, '261', '20210430', '340') - 0.71\n",
      "(39627770275300676, 218.55681819617715, -0.7421969265468306, '71', '20210501', '297') - 0.38\n",
      "(39627788424057893, 220.4468112992384, 0.1239605326975258, '71', '20210501', '201') - 0.46\n",
      "(39627794442883559, 219.18577139556453, 0.13174534114150513, '47', '20210501', '253') - 0.62\n",
      "(39627758233454371, 220.82698943278035, -1.1688072105534903, '47', '20210501', '63') - 0.59\n",
      "(39627902932747991, 209.6679429924687, 4.785519070301711, '288', '20210502', '439') - 0.2\n",
      "(39627788281451198, 211.94376876985453, 0.05692711913385128, '288', '20210502', '413') - 0.82\n",
      "(39627776227019630, 213.38868425814883, -0.5113391113932624, '288', '20210502', '389') - 0.19\n",
      "(39627752055245479, 212.6311760561268, -1.462283371276545, '288', '20210502', '266') - 0.9\n",
      "(616088552689631448, 213.46106184743752, 0.41706930965667754, '288', '20210502', '476') - 0.91\n",
      "(39627811907962512, 180.07917743599, 0.8813252182301081, '253', '20210502', '326') - 0.84\n",
      "(616088516568285622, 220.36440908904638, -1.0407191420354989, '253', '20210502', '468') - 0.31\n"
     ]
    },
    {
     "ename": "IndexError",
     "evalue": "index 121 is out of bounds for axis 0 with size 121",
     "output_type": "error",
     "traceback": [
      "\u001b[0;31m---------------------------------------------------------------------------\u001b[0m",
      "\u001b[0;31mIndexError\u001b[0m                                Traceback (most recent call last)",
      "\u001b[0;32m<ipython-input-67-7b240e47d481>\u001b[0m in \u001b[0;36m<module>\u001b[0;34m\u001b[0m\n\u001b[1;32m      4\u001b[0m \u001b[0mprint\u001b[0m\u001b[0;34m(\u001b[0m\u001b[0;34m'targetid'\u001b[0m\u001b[0;34m,\u001b[0m \u001b[0;34m'(ra, dec)'\u001b[0m\u001b[0;34m,\u001b[0m \u001b[0;34m'tileid'\u001b[0m\u001b[0;34m,\u001b[0m \u001b[0;34m'obsdate'\u001b[0m\u001b[0;34m,\u001b[0m \u001b[0;34m'row - prob'\u001b[0m\u001b[0;34m,\u001b[0m \u001b[0msep\u001b[0m\u001b[0;34m=\u001b[0m\u001b[0;34m\", \"\u001b[0m\u001b[0;34m)\u001b[0m\u001b[0;34m\u001b[0m\u001b[0;34m\u001b[0m\u001b[0m\n\u001b[1;32m      5\u001b[0m \u001b[0;32mfor\u001b[0m \u001b[0mi\u001b[0m \u001b[0;32min\u001b[0m \u001b[0mrange\u001b[0m\u001b[0;34m(\u001b[0m\u001b[0mlen\u001b[0m\u001b[0;34m(\u001b[0m\u001b[0mhandy_table\u001b[0m\u001b[0;34m)\u001b[0m\u001b[0;34m)\u001b[0m\u001b[0;34m:\u001b[0m\u001b[0;34m\u001b[0m\u001b[0;34m\u001b[0m\u001b[0m\n\u001b[0;32m----> 6\u001b[0;31m     \u001b[0mprint\u001b[0m\u001b[0;34m(\u001b[0m\u001b[0mhandy_table\u001b[0m\u001b[0;34m[\u001b[0m\u001b[0mi\u001b[0m\u001b[0;34m]\u001b[0m\u001b[0;34m,\u001b[0m \u001b[0;34m\"-\"\u001b[0m\u001b[0;34m,\u001b[0m \u001b[0mround\u001b[0m\u001b[0;34m(\u001b[0m\u001b[0mymax\u001b[0m\u001b[0;34m[\u001b[0m\u001b[0mi\u001b[0m\u001b[0;34m]\u001b[0m\u001b[0;34m,\u001b[0m\u001b[0;36m2\u001b[0m\u001b[0;34m)\u001b[0m\u001b[0;34m)\u001b[0m \u001b[0;31m#print(handy_table)\u001b[0m\u001b[0;34m\u001b[0m\u001b[0;34m\u001b[0m\u001b[0m\n\u001b[0m",
      "\u001b[0;31mIndexError\u001b[0m: index 121 is out of bounds for axis 0 with size 121"
     ]
    }
   ],
   "source": [
    "ymax = np.max(pred, axis=1)\n",
    "#print(ymax)\n",
    "#handy_table.pop(0)\n",
    "print('targetid', '(ra, dec)', 'tileid', 'obsdate', 'row - prob', sep=\", \")\n",
    "for i in range(len(handy_table)):\n",
    "    print(handy_table[i], \"-\", round(ymax[i],2)) #print(handy_table)"
   ]
  },
  {
   "cell_type": "code",
   "execution_count": 56,
   "metadata": {},
   "outputs": [
    {
     "data": {
      "image/png": "[encoded data removed]",
      "text/plain": [
       "<Figure size 432x288 with 1 Axes>"
      ]
     },
     "metadata": {
      "needs_background": "light"
     },
     "output_type": "display_data"
    }
   ],
   "source": [
    "fig, ax = plt.subplots(1,1, figsize=(6,4), tight_layout=True)\n",
    "ax.hist(ymax, bins=np.linspace(0,1,51))\n",
    "ax.set(xlabel='$\\max{(y_\\mathrm{pred})}$',\n",
    "       ylabel='count');\n",
    "       #title='Tile {}, {}'.format(tile_id, obsdate));"
   ]
  },
  {
   "cell_type": "markdown",
   "metadata": {},
   "source": [
    "### Selection on Classifier Output\n",
    "\n",
    "To be conservative we can select only spectra where the classifier is very confident in its output, e.g., ymax > 0.99. See the [CNN training notebook](https://github.com/desihub/timedomain/blob/master/desitrip/docs/nb/cnn_multilabel-restframe.ipynb) for the motivation behind this cut."
   ]
  },
  {
   "cell_type": "code",
   "execution_count": 57,
   "metadata": {},
   "outputs": [],
   "source": [
    "idx = np.argwhere(ymax > 0.0) #0.99\n",
    "labels = np.argmax(pred, axis=1)"
   ]
  },
  {
   "cell_type": "code",
   "execution_count": 58,
   "metadata": {},
   "outputs": [],
   "source": [
    "idx.shape\n",
    "label_names = ['Galaxy',\n",
    "          'SN Ia',\n",
    "          'SN Ib',\n",
    "          'SN Ib/c',\n",
    "          'SN Ic',\n",
    "          'SN IIn',\n",
    "          'SN IIL/P',\n",
    "          'SN IIP',\n",
    "          'KN']"
   ]
  },
  {
   "cell_type": "code",
   "execution_count": 59,
   "metadata": {},
   "outputs": [
    {
     "name": "stdout",
     "output_type": "stream",
     "text": [
      "121\n"
     ]
    }
   ],
   "source": [
    "# Randomly select 16 of the spectra and plot them.\n",
    "#selection = sorted(np.random.choice(idx.flatten(), size=idx.shape[0], replace=False))\n",
    "selection=idx\n",
    "print(len(selection))"
   ]
  },
  {
   "cell_type": "markdown",
   "metadata": {},
   "source": [
    "### GradCAM action happens here\n",
    "\n",
    "Adapting from https://keras.io/examples/vision/grad_cam/"
   ]
  },
  {
   "cell_type": "code",
   "execution_count": 60,
   "metadata": {},
   "outputs": [],
   "source": [
    "import tensorflow as tf\n",
    "last_conv_layer_name = \"conv1d_23\"\n",
    "classifier_layer_names = [\n",
    "\"batch_normalization_23\",\n",
    "\"activation_23\",\n",
    "\"max_pooling1d_23\",\n",
    "\"flatten_5\",\n",
    "\"dense_5\",\n",
    "\"dropout_5\",\n",
    "\"Output_Classes\"\n",
    "]"
   ]
  },
  {
   "cell_type": "code",
   "execution_count": 61,
   "metadata": {},
   "outputs": [],
   "source": [
    "def make_gradcam_heatmap(\n",
    "    img_array, model, last_conv_layer_name, classifier_layer_names\n",
    "):\n",
    "    # First, we create a model that maps the input image to the activations\n",
    "    # of the last conv layer\n",
    "    last_conv_layer = model.get_layer(last_conv_layer_name)\n",
    "    last_conv_layer_model = keras.Model(model.inputs, last_conv_layer.output)\n",
    "\n",
    "    # Second, we create a model that maps the activations of the last conv\n",
    "    # layer to the final class predictions\n",
    "    classifier_input = keras.Input(shape=last_conv_layer.output.shape[1:])\n",
    "    x = classifier_input\n",
    "    for layer_name in classifier_layer_names:\n",
    "        #print(layer_name,x.shape)\n",
    "        x = model.get_layer(layer_name)(x)\n",
    "    classifier_model = keras.Model(classifier_input, x)\n",
    "\n",
    "    # Then, we compute the gradient of the top predicted class for our input image\n",
    "    # with respect to the activations of the last conv layer\n",
    "    with tf.GradientTape() as tape:\n",
    "        # Compute activations of the last conv layer and make the tape watch it\n",
    "        last_conv_layer_output = last_conv_layer_model(img_array)\n",
    "        tape.watch(last_conv_layer_output)\n",
    "        # Compute class predictions\n",
    "        preds = classifier_model(last_conv_layer_output)\n",
    "        top_pred_index = tf.argmax(preds[0])\n",
    "        top_class_channel = preds[:, top_pred_index]\n",
    "\n",
    "    # This is the gradient of the top predicted class with regard to\n",
    "    # the output feature map of the last conv layer\n",
    "    grads = tape.gradient(top_class_channel, last_conv_layer_output)\n",
    "    # This is a vector where each entry is the mean intensity of the gradient\n",
    "    # over a specific feature map channel\n",
    "    pooled_grads = tf.reduce_mean(grads, axis=(0, 1))\n",
    "    #print(grads.shape,pooled_grads.shape)\n",
    "\n",
    "    # We multiply each channel in the feature map array\n",
    "    # by \"how important this channel is\" with regard to the top predicted class\n",
    "    last_conv_layer_output = last_conv_layer_output.numpy()[0]\n",
    "    pooled_grads = pooled_grads.numpy()\n",
    "    for i in range(pooled_grads.shape[-1]):\n",
    "        last_conv_layer_output[:, i] *= pooled_grads[i]\n",
    "\n",
    "    # The channel-wise mean of the resulting feature map\n",
    "    # is our heatmap of class activation\n",
    "    heatmap = np.mean(last_conv_layer_output, axis=-1)\n",
    "\n",
    "    #We apply ReLU here and select only elements>0\n",
    "    # For visualization purpose, we will also normalize the heatmap between 0 & 1\n",
    "    heatmap = np.maximum(heatmap, 0) / np.max(heatmap)\n",
    "    return heatmap"
   ]
  },
  {
   "cell_type": "markdown",
   "metadata": {},
   "source": [
    "### Apply GradCAM to one spectrum only\n"
   ]
  },
  {
   "cell_type": "code",
   "execution_count": 69,
   "metadata": {},
   "outputs": [
    {
     "data": {
      "image/png": "[encoded data removed]",
      "text/plain": [
       "<Figure size 432x288 with 1 Axes>"
      ]
     },
     "metadata": {
      "needs_background": "light"
     },
     "output_type": "display_data"
    }
   ],
   "source": [
    "# Prepare image\n",
    "preprocess_input = keras.applications.xception.preprocess_input\n",
    "decode_predictions = keras.applications.xception.decode_predictions\n",
    "#myarr=rsflux[:1,:] \n",
    "myarr=rsflux[selection[0],:] \n",
    "\n",
    "# Print what the top predicted class is\n",
    "preds = classifier.predict(myarr)\n",
    "#print(\"Predicted:\", preds)\n",
    "\n",
    "# Generate class activation heatmap\n",
    "heatmap = make_gradcam_heatmap(\n",
    "    myarr, classifier, last_conv_layer_name, classifier_layer_names\n",
    ")\n",
    "\n",
    "\n",
    "color='blue'\n",
    "rewave_nbin_inblock=rewave.shape[0]/float(heatmap.shape[0])\n",
    "first_bin=0\n",
    "for i in range(1,heatmap.shape[0]+1):\n",
    "    alpha=np.min([1,heatmap[i-1]+0.2])\n",
    "    last_bin=int(i*rewave_nbin_inblock)\n",
    "    plt.plot(rewave[first_bin:last_bin+1], myarr[0,first_bin:last_bin+1],c=color,alpha=alpha)\n",
    "    first_bin=last_bin\n"
   ]
  },
  {
   "cell_type": "markdown",
   "metadata": {},
   "source": [
    "### Apply GradCAM to all spectra classified as transients\n"
   ]
  },
  {
   "cell_type": "code",
   "execution_count": 128,
   "metadata": {},
   "outputs": [],
   "source": [
    "#allzbest = allzbest[1:] #TEMP\n",
    "#allzbest.pprint_all()\n",
    "#print(labels.shape)\n",
    "#print(labels)\n",
    "#print(rewave.shape)\n",
    "#print(rsflux.shape)"
   ]
  },
  {
   "cell_type": "code",
   "execution_count": 71,
   "metadata": {},
   "outputs": [
    {
     "data": {
      "image/png": "[encoded data removed]",
      "text/plain": [
       "<Figure size 1080x720 with 16 Axes>"
      ]
     },
     "metadata": {
      "needs_background": "light"
     },
     "output_type": "display_data"
    }
   ],
   "source": [
    "preprocess_input = keras.applications.xception.preprocess_input\n",
    "decode_predictions = keras.applications.xception.decode_predictions\n",
    "\n",
    "fig, axes = plt.subplots(4,4, figsize=(15,10), sharex=True, sharey=True,\n",
    "                         gridspec_kw={'wspace':0, 'hspace':0})\n",
    "\n",
    "for j, ax in zip(selection[:16], axes.flatten()):\n",
    "    myarr=rsflux[j,:] \n",
    "    #print()\n",
    "\n",
    "    # Print what the top predicted class is\n",
    "    preds = classifier.predict(myarr)\n",
    "    #print(\"Predicted:\", preds)\n",
    "\n",
    "    # Generate class activation heatmap\n",
    "    heatmap = make_gradcam_heatmap(\n",
    "        myarr, classifier, last_conv_layer_name, classifier_layer_names\n",
    "    )\n",
    "\n",
    "    color='blue'\n",
    "    rewave_nbin_inblock=rewave.shape[0]/float(heatmap.shape[0])\n",
    "    first_bin=0\n",
    "    for i in range(1,heatmap.shape[0]+1):\n",
    "        alpha=np.min([1,heatmap[i-1]+0.2])\n",
    "        last_bin=int(i*rewave_nbin_inblock)\n",
    "        if (i==1):\n",
    "            ax.plot(rewave[first_bin:last_bin+1], myarr[0,first_bin:last_bin+1],c=color,alpha=alpha,\\\n",
    "                    label = str(allzbest[j[0]]['TARGETID']) + \"\\n\" +\n",
    "                    label_names[labels[j[0]]] + \n",
    "                    '\\nz={:.2f}'.format(allzbest[j[0]]['Z']) +\n",
    "                    '\\nprob={:.2f}'.format(ymax[i]))\n",
    "        else:\n",
    "            ax.plot(rewave[first_bin:last_bin+1], myarr[0,first_bin:last_bin+1],c=color,alpha=alpha)\n",
    "        first_bin=last_bin\n",
    "    ax.legend(fontsize=10)"
   ]
  },
  {
   "cell_type": "markdown",
   "metadata": {},
   "source": [
    "### Plot spectra of objects classified as transients\n",
    "Plot observed spectra"
   ]
  },
  {
   "cell_type": "code",
   "execution_count": 63,
   "metadata": {},
   "outputs": [],
   "source": [
    "testwave, testflux, testivar = rebin_flux(allwave, allflux, allivar,\n",
    "                                    minwave=2500., maxwave=9500., nbins=150,\n",
    "                                    log=True, clip=True)"
   ]
  },
  {
   "cell_type": "code",
   "execution_count": 66,
   "metadata": {},
   "outputs": [
    {
     "data": {
      "image/png": "[encoded data removed]",
      "text/plain": [
       "<Figure size 1080x720 with 16 Axes>"
      ]
     },
     "metadata": {
      "needs_background": "light"
     },
     "output_type": "display_data"
    }
   ],
   "source": [
    "fig, axes = plt.subplots(4,4, figsize=(15,10), sharex=True, sharey=True,\n",
    "                         gridspec_kw={'wspace':0, 'hspace':0})\n",
    "\n",
    "for j, ax in zip(selection, axes.flatten()):\n",
    "    ax.plot(testwave, testflux[j[0]], alpha=0.7, label='label: '+label_names[labels[j[0]]] +# Just this for single plot with [0] on testflux, label_names, allzbest\n",
    "            '\\nz={:.2f}'.format(allzbest[j[0]]['Z'])) # +\n",
    "            #'\\nobsdate={}'.format(obsdates[j[0]]) +\n",
    "            #'\\ntile id: {}'.format(tile_ids[j[0]]) +\n",
    "            #'\\npetal id: {}'.format(petal_ids[j[0]]))\n",
    "    \n",
    "    ax.set(xlim=(3500,9900),ylim=(-0.1,4))\n",
    "    #ax.fill_between([5600,6000],[-0.1,-0.1],[4,4],alpha=0.1,color='blue')\n",
    "    #ax.fill_between([7400,7800],[-0.1,-0.1],[4,4],alpha=0.1,color='blue')\n",
    "    ax.legend(fontsize=10)\n",
    "    \n",
    "#for k in [0,1,2]:\n",
    "#    axes[k,0].set(ylabel=r'flux [erg s$^{-1}$ cm$^{-1}$ $\\AA^{-1}$]')\n",
    "#    axes[2,k].set(xlabel=r'$\\lambda_\\mathrm{obs}$ [$\\AA$]', xlim=(3500,9900))\n",
    "    \n",
    "fig.tight_layout();\n",
    "#filename = \"spectra_plots/all_spectra_TAMU_ylim\"\n",
    "#plt.savefig(filename)"
   ]
  },
  {
   "cell_type": "markdown",
   "metadata": {},
   "source": [
    "### For plotting individual plots"
   ]
  },
  {
   "cell_type": "code",
   "execution_count": 72,
   "metadata": {},
   "outputs": [
    {
     "data": {
      "text/plain": [
       "<Figure size 432x288 with 0 Axes>"
      ]
     },
     "metadata": {},
     "output_type": "display_data"
    }
   ],
   "source": [
    "for j in selection:\n",
    "    plt.plot(testwave, testflux[j[0]], alpha=0.7, label='label: '+ label_names[labels[j[0]]] + # Just this for single plot with [0] on testflux, label_names, allzbest\n",
    "            #'\\nz={:.2f}'.format(allzbest[j[0]]['Z']) +\n",
    "            '\\nprob={:.2f}'.format(ymax[i]))\n",
    "            #'\\nobsdate={}'.format(obsdates[j[0]]) +\n",
    "            #'\\ntile id: {}'.format(tile_ids[j[0]]) +\n",
    "            #'\\npetal id: {}'.format(petal_ids[j[0]]))\n",
    "    \n",
    "    plt.xlim(3500, 9900)\n",
    "    #plt.ylim(-0.1, 50)\n",
    "    #ax.fill_between([5600,6000],[-0.1,-0.1],[4,4],alpha=0.1,color='blue')\n",
    "    #ax.fill_between([7400,7800],[-0.1,-0.1],[4,4],alpha=0.1,color='blue')\n",
    "    plt.legend(fontsize=10)\n",
    "    filename = \"spectra_plots/\"+\"_\".join((\"TAMU\", \"spectra\", str(allzbest[j[0]]['TARGETID']), str(obsdates[j[0]]), str(tile_ids[j[0]]), str(petal_ids[j[0]]), label_names[labels[j[0]]].replace(\" \", \"-\").replace(\"/\",\"-\")))\n",
    "    #filename = \"spectra_plots/\"+\"_\".join((\"TAMU\", \"spectra\", str(obsdates[j[0]+1]), str(tile_ids[j[0]+1]), str(petal_ids[j[0]+1]), label_names[labels[j[0]]].replace(\" \", \"-\"))) # temp\n",
    "    #plt.show();\n",
    "    #print(filename)\n",
    "    plt.savefig(filename)\n",
    "    plt.clf()\n",
    "    \n",
    "#for k in [0,1,2]:\n",
    "#    axes[k,0].set(ylabel=r'flux [erg s$^{-1}$ cm$^{-1}$ $\\AA^{-1}$]')\n",
    "#    axes[2,k].set(xlabel=r'$\\lambda_\\mathrm{obs}$ [$\\AA$]', xlim=(3500,9900))\n",
    "    \n",
    "#fig.tight_layout();\n",
    "#filename = \"spectra_plots/all_spectra_TAMU_ylim\"\n",
    "#filename = \"_\".join((\"spectra\", str(obsdate), str(tile_id), label_names[labels[0]].replace(\" \", \"-\")))\n",
    "#plt.savefig(filename)"
   ]
  }
 ],
 "metadata": {
  "kernelspec": {
   "display_name": "DESI master",
   "language": "python",
   "name": "desi-master"
  },
  "language_info": {
   "codemirror_mode": {
    "name": "ipython",
    "version": 3
   },
   "file_extension": ".py",
   "mimetype": "text/x-python",
   "name": "python",
   "nbconvert_exporter": "python",
   "pygments_lexer": "ipython3",
   "version": "3.8.3"
  }
 },
 "nbformat": 4,
 "nbformat_minor": 4
}
