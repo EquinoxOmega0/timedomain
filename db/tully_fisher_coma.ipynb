{
 "cells": [
  {
   "cell_type": "markdown",
   "id": "f178b85c-058e-4099-aa40-00483639e262",
   "metadata": {},
   "source": [
    "# Tully-Fisher Secondary Target Sample\n",
    "\n",
    "Demonstrate PostgreSQL access to the TF targets in the secondary target database at NERSC."
   ]
  },
  {
   "cell_type": "code",
   "execution_count": 45,
   "id": "7f2aa0ee-c5cf-4deb-bcdc-5803fc634ded",
   "metadata": {},
   "outputs": [],
   "source": [
    "import os\n",
    "import requests\n",
    "\n",
    "from astropy.io import ascii, fits\n",
    "from astropy.table import join, hstack, vstack, unique, Table\n",
    "from astropy import units as u\n",
    "from astropy.wcs import WCS\n",
    "from astropy.visualization.wcsaxes import SphericalCircle\n",
    "\n",
    "from desispec.spectra import stack as specstack\n",
    "from desispec.io import read_spectra, write_spectra\n",
    "\n",
    "import psycopg2\n",
    "\n",
    "import numpy as np\n",
    "import matplotlib as mpl\n",
    "import matplotlib.pyplot as plt"
   ]
  },
  {
   "cell_type": "code",
   "execution_count": 2,
   "id": "eef67bec-1c56-4dde-a524-3bd4853b728e",
   "metadata": {},
   "outputs": [],
   "source": [
    "mpl.rc('font', size=12)\n",
    "mpl.rc('axes', titlesize='small')\n",
    "mpl.rc('figure', max_open_warning = 0)"
   ]
  },
  {
   "cell_type": "markdown",
   "id": "5e83325f-5321-4d9d-a30b-13e0dcaf9d41",
   "metadata": {},
   "source": [
    "## Postgres Query\n",
    "\n",
    "See if we have a cached copy of the query results (in FITS format) before running this query.\n",
    "\n",
    "For connecting to the database, it is recommended that you store the password and connection port in a secure `.pgpass` file on the system, or create a private INI file that is not committed to GitHub. Connection details are not going to be saved in this notebook. Ask on the #timedomain-general or #peculiar-velocity slack channels for more information.\n",
    "\n",
    "See the [database wiki page](https://desi.lbl.gov/trac/wiki/DESIDatabase) for information about the location and names of tables and their schema."
   ]
  },
  {
   "cell_type": "code",
   "execution_count": 3,
   "id": "7baaf108-8868-447a-978f-81445934a9d6",
   "metadata": {},
   "outputs": [
    {
     "data": {
      "text/html": [
       "<i>Table length=25497</i>\n",
       "<table id=\"table46913375770416\" class=\"table-striped table-bordered table-condensed\">\n",
       "<thead><tr><th>PVTYPE</th><th>SGA_ID</th><th>TARGETID</th><th>TARGET_RA</th><th>TARGET_DEC</th><th>TILEID</th><th>Z</th><th>ZERR</th><th>SPECTYPE</th><th>DELTACHI2</th><th>ZWARN</th><th>YYYYMMDD</th></tr></thead>\n",
       "<thead><tr><th>bytes3</th><th>int64</th><th>int64</th><th>float64</th><th>float64</th><th>int64</th><th>float64</th><th>float64</th><th>bytes6</th><th>float64</th><th>int64</th><th>int64</th></tr></thead>\n",
       "<tr><td>SGA</td><td>227887</td><td>39628509848540752</td><td>34.8173069688145</td><td>31.3984950009448</td><td>80611</td><td>0.0102383463580575</td><td>3.11491433701501e-07</td><td>GALAXY</td><td>332559.754650116</td><td>0</td><td>20201222</td></tr>\n",
       "<tr><td>SGA</td><td>249627</td><td>39628473387452348</td><td>36.6378025591632</td><td>29.8305673331864</td><td>80611</td><td>0.0349532879812339</td><td>6.64774044838025e-06</td><td>GALAXY</td><td>33952.1068879628</td><td>0</td><td>20201222</td></tr>\n",
       "<tr><td>SGA</td><td>581116</td><td>39628499509579686</td><td>36.0846931600021</td><td>30.9513934451943</td><td>80611</td><td>0.046449435766605</td><td>2.88855814568856e-06</td><td>GALAXY</td><td>53137.0094233155</td><td>0</td><td>20201222</td></tr>\n",
       "<tr><td>SGA</td><td>879849</td><td>39628478600971508</td><td>34.0579702049385</td><td>30.0920453747291</td><td>80611</td><td>0.0445682338630569</td><td>1.90017783907223e-06</td><td>GALAXY</td><td>33245.3577982187</td><td>0</td><td>20201222</td></tr>\n",
       "<tr><td>SGA</td><td>1215253</td><td>39628494279282283</td><td>33.8598111259499</td><td>30.8583242268397</td><td>80611</td><td>0.054035597680716</td><td>1.08280425883813e-05</td><td>GALAXY</td><td>11625.5793859102</td><td>0</td><td>20201222</td></tr>\n",
       "<tr><td>SGA</td><td>1329026</td><td>39628478600971529</td><td>34.0593021182507</td><td>30.1224101637649</td><td>80611</td><td>0.0296421307118722</td><td>5.19924224039755e-06</td><td>GALAXY</td><td>57099.7675513407</td><td>0</td><td>20201222</td></tr>\n",
       "<tr><td>TFT</td><td>161400</td><td>39628462826195756</td><td>35.3790466101176</td><td>29.23051056593</td><td>80611</td><td>0.0589073438874499</td><td>3.6126010927389e-06</td><td>GALAXY</td><td>12976.2707899213</td><td>0</td><td>20201222</td></tr>\n",
       "<tr><td>TFT</td><td>173880</td><td>39628457541371020</td><td>35.7235330211126</td><td>28.8880073711485</td><td>80611</td><td>0.0339580769142768</td><td>4.84624800995257e-06</td><td>GALAXY</td><td>4275.01541189849</td><td>0</td><td>20201222</td></tr>\n",
       "<tr><td>TFT</td><td>269195</td><td>39628462834585206</td><td>35.9738797902803</td><td>29.3592905954632</td><td>80611</td><td>-0.00199570145091582</td><td>4.13115987161332e-48</td><td>STAR</td><td>1.94266889222573e+84</td><td>1570</td><td>20201222</td></tr>\n",
       "<tr><td>TFT</td><td>356533</td><td>39628478613553751</td><td>34.884858293184</td><td>29.9153017059337</td><td>80611</td><td>0.0350282773483738</td><td>1.87013308786851e-06</td><td>GALAXY</td><td>10878.9513677359</td><td>0</td><td>20201222</td></tr>\n",
       "<tr><td>...</td><td>...</td><td>...</td><td>...</td><td>...</td><td>...</td><td>...</td><td>...</td><td>...</td><td>...</td><td>...</td><td>...</td></tr>\n",
       "<tr><td>TFT</td><td>1358084</td><td>39633297243901228</td><td>204.907296603282</td><td>53.1445145680271</td><td>80978</td><td>0.0256058810318153</td><td>1.75970624017296e-06</td><td>GALAXY</td><td>12692.5691869607</td><td>0</td><td>20210709</td></tr>\n",
       "<tr><td>TFT</td><td>1365169</td><td>39633011267865505</td><td>249.700074884395</td><td>36.6143884417091</td><td>20762</td><td>0.0865828661639276</td><td>4.40638257375196e-06</td><td>GALAXY</td><td>3478.85018032789</td><td>0</td><td>20210709</td></tr>\n",
       "<tr><td>TFT</td><td>1366885</td><td>39628129643269196</td><td>233.446313158342</td><td>14.2096196857748</td><td>20206</td><td>0.091835068884598</td><td>5.03320126888345e-06</td><td>GALAXY</td><td>5420.24589759111</td><td>0</td><td>20210709</td></tr>\n",
       "<tr><td>TFT</td><td>1369953</td><td>39632991688855853</td><td>250.083708255448</td><td>35.4964800482026</td><td>20762</td><td>0.0377237382873185</td><td>6.21644829980956e-06</td><td>GALAXY</td><td>631.433329336345</td><td>0</td><td>20210709</td></tr>\n",
       "<tr><td>TFT</td><td>1373941</td><td>39633025792740707</td><td>250.340870616143</td><td>37.2378688238049</td><td>20762</td><td>0.0607391134800651</td><td>5.74161787500294e-06</td><td>GALAXY</td><td>3778.30703409016</td><td>0</td><td>20210709</td></tr>\n",
       "<tr><td>TFT</td><td>1374003</td><td>39633016183591623</td><td>254.423467618319</td><td>36.8210013846126</td><td>20924</td><td>0.0654087011394504</td><td>9.51240871054289e-06</td><td>GALAXY</td><td>1345.27035662532</td><td>0</td><td>20210709</td></tr>\n",
       "<tr><td>TFT</td><td>1377373</td><td>39633045002649994</td><td>254.941437828546</td><td>38.3097375787032</td><td>20924</td><td>0.0350990099628476</td><td>1.3348333767342e-06</td><td>GALAXY</td><td>22879.8951150179</td><td>0</td><td>20210709</td></tr>\n",
       "<tr><td>TFT</td><td>1384804</td><td>39633006415057263</td><td>251.117393127044</td><td>36.3247152345775</td><td>20762</td><td>0.0989037748757571</td><td>3.06711922706118e-05</td><td>GALAXY</td><td>2463.83950338466</td><td>0</td><td>20210709</td></tr>\n",
       "<tr><td>TFT</td><td>1386825</td><td>39633063801523540</td><td>249.196829244032</td><td>39.3466835494612</td><td>20761</td><td>0.0294761916418763</td><td>3.37177572425155e-06</td><td>GALAXY</td><td>2856.58189150691</td><td>0</td><td>20210709</td></tr>\n",
       "<tr><td>TFT</td><td>5002765</td><td>39633286300960254</td><td>208.410107818756</td><td>52.5434503655177</td><td>80978</td><td>0.0727011472317652</td><td>3.91230756441934e-06</td><td>GALAXY</td><td>2535.6303114295</td><td>0</td><td>20210709</td></tr>\n",
       "</table>"
      ],
      "text/plain": [
       "<Table length=25497>\n",
       "PVTYPE  SGA_ID      TARGETID     ...      DELTACHI2       ZWARN YYYYMMDD\n",
       "bytes3  int64        int64       ...       float64        int64  int64  \n",
       "------ ------- ----------------- ... -------------------- ----- --------\n",
       "   SGA  227887 39628509848540752 ...     332559.754650116     0 20201222\n",
       "   SGA  249627 39628473387452348 ...     33952.1068879628     0 20201222\n",
       "   SGA  581116 39628499509579686 ...     53137.0094233155     0 20201222\n",
       "   SGA  879849 39628478600971508 ...     33245.3577982187     0 20201222\n",
       "   SGA 1215253 39628494279282283 ...     11625.5793859102     0 20201222\n",
       "   SGA 1329026 39628478600971529 ...     57099.7675513407     0 20201222\n",
       "   TFT  161400 39628462826195756 ...     12976.2707899213     0 20201222\n",
       "   TFT  173880 39628457541371020 ...     4275.01541189849     0 20201222\n",
       "   TFT  269195 39628462834585206 ... 1.94266889222573e+84  1570 20201222\n",
       "   TFT  356533 39628478613553751 ...     10878.9513677359     0 20201222\n",
       "   ...     ...               ... ...                  ...   ...      ...\n",
       "   TFT 1358084 39633297243901228 ...     12692.5691869607     0 20210709\n",
       "   TFT 1365169 39633011267865505 ...     3478.85018032789     0 20210709\n",
       "   TFT 1366885 39628129643269196 ...     5420.24589759111     0 20210709\n",
       "   TFT 1369953 39632991688855853 ...     631.433329336345     0 20210709\n",
       "   TFT 1373941 39633025792740707 ...     3778.30703409016     0 20210709\n",
       "   TFT 1374003 39633016183591623 ...     1345.27035662532     0 20210709\n",
       "   TFT 1377373 39633045002649994 ...     22879.8951150179     0 20210709\n",
       "   TFT 1384804 39633006415057263 ...     2463.83950338466     0 20210709\n",
       "   TFT 1386825 39633063801523540 ...     2856.58189150691     0 20210709\n",
       "   TFT 5002765 39633286300960254 ...      2535.6303114295     0 20210709"
      ]
     },
     "execution_count": 3,
     "metadata": {},
     "output_type": "execute_result"
    }
   ],
   "source": [
    "# Change use_cached = False if we want to redo the query at some point.\n",
    "use_cached = True\n",
    "\n",
    "if os.path.exists('tf_targets.fits') and use_cached:\n",
    "    tf_targets = Table.read('tf_targets.fits')\n",
    "else:\n",
    "    try:\n",
    "        db = psycopg2.connect(host='decatdb.lbl.gov', database='desi', user='desi')\n",
    "        cursor = db.cursor()\n",
    "\n",
    "        query = \"\"\"SELECT DISTINCT pr.pvtype, pr.sga_id, fd.targetid, fd.target_ra, fd.target_dec, fd.tileid, zd.z, zd.zerr, zd.spectype, zd.deltachi2, zd.zwarn, zd.yyyymmdd\n",
    "                    FROM fibermap_daily fd\n",
    "                    INNER JOIN\n",
    "                        zbest_daily zd ON zd.targetid = fd.targetid\n",
    "                    INNER JOIN\n",
    "                        (SELECT targetid, MAX(expid) AS max_expid\n",
    "                            FROM fibermap_daily\n",
    "                            GROUP BY targetid) groupfmap\n",
    "                            ON fd.targetid = groupfmap.targetid AND fd.expid = groupfmap.max_expid\n",
    "                    INNER JOIN\n",
    "                        (SELECT targetid, MAX(yyyymmdd) AS max_date\n",
    "                            FROM zbest_daily\n",
    "                            GROUP BY targetid) groupzd\n",
    "                            ON zd.targetid = groupzd.targetid AND zd.yyyymmdd = groupzd.max_date\n",
    "                    INNER JOIN pv.proposals pr ON (CAST(pr.ra*10000 AS INTEGER) = CAST(fd.target_ra*10000 AS INTEGER)) AND\n",
    "                                                  (CAST(pr.dec*10000 AS INTEGER) = CAST(fd.target_dec*10000 AS INTEGER))\n",
    "                    WHERE (pr.pvtype LIKE 'TFT' or pr.pvtype LIKE 'EXT' or pr.pvtype LIKE 'SGA')\n",
    "                    ORDER BY zd.yyyymmdd;\"\"\"\n",
    "\n",
    "        cursor.execute(query)\n",
    "        rows = cursor.fetchall()\n",
    "        tf_targets = Table(list(map(list, zip(*rows))),\n",
    "                           names=['PVTYPE', 'SGA_ID', 'TARGETID', 'TARGET_RA', 'TARGET_DEC', 'TILEID', 'Z', 'ZERR', 'SPECTYPE', 'DELTACHI2', 'ZWARN', 'YYYYMMDD'])\n",
    "        tf_targets.write('tf_targets.fits', overwrite=True)\n",
    "        \n",
    "    except (Exception, psycopg2.Exception) as error:\n",
    "        print(error)\n",
    "    finally:\n",
    "        if db is not None:\n",
    "            db.close()\n",
    "            \n",
    "tf_targets"
   ]
  },
  {
   "cell_type": "code",
   "execution_count": 4,
   "id": "25635cfb-a099-4d88-a16a-a4d543b6f3ec",
   "metadata": {},
   "outputs": [
    {
     "data": {
      "text/plain": [
       "(<Column name='PVTYPE' dtype='bytes3' length=3>\n",
       " EXT\n",
       " SGA\n",
       " TFT,\n",
       " array([  303,  6191, 19003]))"
      ]
     },
     "execution_count": 4,
     "metadata": {},
     "output_type": "execute_result"
    }
   ],
   "source": [
    "np.unique(tf_targets['PVTYPE'], return_counts=True)"
   ]
  },
  {
   "cell_type": "code",
   "execution_count": 5,
   "id": "9783293c-46f8-4838-b867-15ee8c741e9d",
   "metadata": {},
   "outputs": [],
   "source": [
    "coma_cluster = ((tf_targets['TILEID'] <= 135) & (tf_targets['TILEID'] >= 109)) | ((tf_targets['TILEID'] <= 456) & (tf_targets['TILEID'] >= 454))\n",
    "np.sum(coma_cluster)\n",
    "tf_targets = tf_targets[coma_cluster]"
   ]
  },
  {
   "cell_type": "markdown",
   "id": "8c59f472-2080-4263-8578-9c7ebe17d8fb",
   "metadata": {},
   "source": [
    "## Plot Target Coordinates"
   ]
  },
  {
   "cell_type": "code",
   "execution_count": 6,
   "id": "607275c9-7595-4e49-ad3b-2e22123ecf48",
   "metadata": {},
   "outputs": [],
   "source": [
    "def plot_radec(table):\n",
    "    \"\"\"Mollweide projection plot adapted to astro coordinates.\n",
    "    \n",
    "    Parameters\n",
    "    ----------\n",
    "    table : astropy.table.Table\n",
    "        Data table with secondary target info.\n",
    "    \n",
    "    Returns\n",
    "    -------\n",
    "    fig : matplotlib.Figure\n",
    "        Figure object to let user apply further plot manipulation.\n",
    "    \"\"\"\n",
    "    fig, ax = plt.subplots(1,1, figsize=(8,4), subplot_kw={'projection': 'mollweide'})\n",
    "    \n",
    "    # Loop through unique classes.\n",
    "    class_names = np.unique(table['PVTYPE'])\n",
    "    for class_name in class_names:\n",
    "        select = table['PVTYPE'] == class_name\n",
    "        \n",
    "        # Convert RA, Dec to radians.\n",
    "        # Rotate the RA so that the plot goes 360->0 left to right.\n",
    "        _ra = np.radians(180. - table[select]['TARGET_RA'])\n",
    "        _dec = np.radians(table[select]['TARGET_DEC'])\n",
    "        ax.scatter(_ra, _dec, alpha=0.5, s=5, label=class_name)\n",
    "\n",
    "    # Clean up the plot and return the Figure object.\n",
    "    ax.set(xticks=np.radians([-150, -120, -90, -60, -30, 0, 30, 60, 90, 120, 150]),\n",
    "           xticklabels=['22h', '20h', '18h', '16h', '14h', '12h', '10h', '8h', '6h', '4h', '2h'])\n",
    "    ax.tick_params(axis='x', labelsize=10)\n",
    "    ax.tick_params(axis='y', labelsize=10)\n",
    "    ax.grid(ls=':')\n",
    "    \n",
    "    ax.legend(fontsize=8, loc='lower right')\n",
    "    fig.tight_layout()\n",
    "\n",
    "    return fig;"
   ]
  },
  {
   "cell_type": "code",
   "execution_count": 7,
   "id": "28f96522-2f50-407e-9e80-b94ec0a33839",
   "metadata": {},
   "outputs": [
    {
     "data": {
      "image/png": "[encoded data removed]",
      "text/plain": [
       "<Figure size 576x288 with 1 Axes>"
      ]
     },
     "metadata": {
      "needs_background": "light"
     },
     "output_type": "display_data"
    }
   ],
   "source": [
    "fig = plot_radec(tf_targets)"
   ]
  },
  {
   "cell_type": "markdown",
   "id": "6d186e76-375e-492b-8483-acf94ffc908e",
   "metadata": {},
   "source": [
    "## Plot Target Redshifts\n",
    "\n",
    "Extract good redshifts and plot the distributions as a function of target type."
   ]
  },
  {
   "cell_type": "code",
   "execution_count": 28,
   "id": "4a95f008-4b2a-4490-8854-d52d696cf00f",
   "metadata": {},
   "outputs": [
    {
     "data": {
      "text/plain": [
       "653"
      ]
     },
     "execution_count": 28,
     "metadata": {},
     "output_type": "execute_result"
    }
   ],
   "source": [
    "isgoodz = (tf_targets['DELTACHI2']>= 25) & (tf_targets['ZWARN']==0)\n",
    "# isgoodz = tf_targets['ZWARN']==0\n",
    "np.sum(isgoodz)"
   ]
  },
  {
   "cell_type": "code",
   "execution_count": 29,
   "id": "d78e7fd9-8605-410f-ba08-80ed31767dfb",
   "metadata": {},
   "outputs": [
    {
     "data": {
      "image/png": "[encoded data removed]",
      "text/plain": [
       "<Figure size 576x360 with 1 Axes>"
      ]
     },
     "metadata": {
      "needs_background": "light"
     },
     "output_type": "display_data"
    }
   ],
   "source": [
    "fig, ax = plt.subplots(1,1, figsize=(8,5), tight_layout=True)\n",
    "\n",
    "zdata = []\n",
    "pvtypes = np.unique(tf_targets['PVTYPE'])\n",
    "for pvtype in pvtypes:\n",
    "    ispvtype = tf_targets['PVTYPE'] == pvtype\n",
    "    zdata.append(list(tf_targets[isgoodz & ispvtype]['Z']))\n",
    "\n",
    "zbins = np.linspace(0,0.3,16)\n",
    "ax.hist(zdata, bins=zbins, stacked=True, log=True, label=pvtypes)\n",
    "ax.set(#ylim=(0,15),\n",
    "       xlabel='redshift $z$',\n",
    "       ylabel='count')\n",
    "ax.grid(ls=':')\n",
    "\n",
    "ax.legend(fontsize=12);"
   ]
  },
  {
   "cell_type": "markdown",
   "id": "64d53e45-0ba2-46d9-a8c1-8c7e9d2ff3b8",
   "metadata": {},
   "source": [
    "### Cheap Cut on Coma Redshifts\n",
    "\n",
    "Redshift of coma cluster is *z*=0.0231. The velocity dispersion is 1000 km/s, implying\n",
    "\n",
    "$$\\Delta z = c/(1000~\\mathrm{km/s}) \\approx 0.003$$\n",
    "\n",
    "So look for redshifts between 0.020 and 0.026."
   ]
  },
  {
   "cell_type": "code",
   "execution_count": 35,
   "id": "48c3fe11-fef1-4bac-8758-5b0c1b269395",
   "metadata": {},
   "outputs": [
    {
     "data": {
      "text/plain": [
       "426"
      ]
     },
     "execution_count": 35,
     "metadata": {},
     "output_type": "execute_result"
    }
   ],
   "source": [
    "zcoma = 0.0231\n",
    "dzcoma = 0.003\n",
    "nsigma = 2\n",
    "\n",
    "isincoma = (tf_targets['Z'] > zcoma - nsigma*dzcoma) & (tf_targets['Z'] < zcoma + nsigma*dzcoma)\n",
    "np.sum(isincoma & isgoodz)"
   ]
  },
  {
   "cell_type": "markdown",
   "id": "52aac52b-b57c-4794-aaf2-1cf1f4e2020c",
   "metadata": {},
   "source": [
    "## Select Good Reshifts with Unique TARGETIDs, in the Coma Cluster"
   ]
  },
  {
   "cell_type": "code",
   "execution_count": 36,
   "id": "1f2b705a-95ab-4eec-a42a-f60361ca4153",
   "metadata": {},
   "outputs": [
    {
     "data": {
      "text/html": [
       "<i>Table length=426</i>\n",
       "<table id=\"table46913983982464\" class=\"table-striped table-bordered table-condensed\">\n",
       "<thead><tr><th>PVTYPE</th><th>SGA_ID</th><th>TARGETID</th><th>TARGET_RA</th><th>TARGET_DEC</th><th>TILEID</th><th>Z</th><th>ZERR</th><th>SPECTYPE</th><th>DELTACHI2</th><th>ZWARN</th><th>YYYYMMDD</th></tr></thead>\n",
       "<thead><tr><th>bytes3</th><th>int64</th><th>int64</th><th>float64</th><th>float64</th><th>int64</th><th>float64</th><th>float64</th><th>bytes6</th><th>float64</th><th>int64</th><th>int64</th></tr></thead>\n",
       "<tr><td>TFT</td><td>566771</td><td>1070737989304335</td><td>194.668990081081</td><td>26.7582309400934</td><td>129</td><td>0.0246713966511429</td><td>6.60225791845131e-06</td><td>GALAXY</td><td>477.180004218593</td><td>0</td><td>20210509</td></tr>\n",
       "<tr><td>TFT</td><td>98934</td><td>1070743378984983</td><td>194.209205227542</td><td>27.0906277907314</td><td>125</td><td>0.023765274311155</td><td>8.51553878167392e-05</td><td>GALAXY</td><td>88.3161086926411</td><td>0</td><td>20210504</td></tr>\n",
       "<tr><td>TFT</td><td>366393</td><td>1070743387373570</td><td>194.659288499655</td><td>27.0140705777492</td><td>125</td><td>0.0231612739255744</td><td>1.5006324843651e-05</td><td>GALAXY</td><td>103.638622358441</td><td>0</td><td>20210504</td></tr>\n",
       "<tr><td>TFT</td><td>824392</td><td>1070743391567889</td><td>195.013014748088</td><td>26.8912151792737</td><td>129</td><td>0.0192594428023064</td><td>7.00597188137199e-05</td><td>GALAXY</td><td>144.712430537562</td><td>0</td><td>20210509</td></tr>\n",
       "<tr><td>TFT</td><td>824392</td><td>1070743391567890</td><td>195.016479603259</td><td>26.9049972167514</td><td>128</td><td>0.020470715694989</td><td>4.60043259637676e-05</td><td>GALAXY</td><td>87.2849818112154</td><td>0</td><td>20210507</td></tr>\n",
       "<tr><td>TFT</td><td>819754</td><td>1070748764471298</td><td>194.11600974993</td><td>27.2898553378398</td><td>126</td><td>0.0248462736346038</td><td>6.20511587890926e-06</td><td>GALAXY</td><td>1096.89091672376</td><td>0</td><td>20210505</td></tr>\n",
       "<tr><td>TFT</td><td>819754</td><td>1070748764471299</td><td>194.122172137543</td><td>27.2927447111501</td><td>129</td><td>0.0254188017092864</td><td>2.88042103508884e-06</td><td>GALAXY</td><td>2693.51984557509</td><td>0</td><td>20210509</td></tr>\n",
       "<tr><td>TFT</td><td>302524</td><td>1070748764471304</td><td>194.143878522576</td><td>27.2295312975095</td><td>128</td><td>0.0237637303685378</td><td>1.85451476392641e-05</td><td>GALAXY</td><td>99.1433198386803</td><td>0</td><td>20210507</td></tr>\n",
       "<tr><td>TFT</td><td>1144453</td><td>1070748768665618</td><td>194.576600469452</td><td>27.3120652676833</td><td>128</td><td>0.0243064723174717</td><td>4.02785335328157e-06</td><td>GALAXY</td><td>1593.3011129871</td><td>0</td><td>20210507</td></tr>\n",
       "<tr><td>TFT</td><td>1204237</td><td>1070748772859907</td><td>194.654392742773</td><td>27.1730472622045</td><td>127</td><td>0.0257964620011062</td><td>2.23784017529642e-05</td><td>GALAXY</td><td>68.7763626966625</td><td>0</td><td>20210506</td></tr>\n",
       "<tr><td>...</td><td>...</td><td>...</td><td>...</td><td>...</td><td>...</td><td>...</td><td>...</td><td>...</td><td>...</td><td>...</td><td>...</td></tr>\n",
       "<tr><td>SGA</td><td>23552</td><td>2305843020118885048</td><td>194.446011468939</td><td>29.1494982538555</td><td>131</td><td>0.0239039013604961</td><td>1.48680059580252e-05</td><td>GALAXY</td><td>6702.00993152749</td><td>0</td><td>20210406</td></tr>\n",
       "<tr><td>SGA</td><td>730800</td><td>2305843020118885331</td><td>194.210897034771</td><td>28.9298238659131</td><td>133</td><td>0.0270034303486182</td><td>1.6698063340011e-05</td><td>GALAXY</td><td>5089.9031917376</td><td>0</td><td>20210415</td></tr>\n",
       "<tr><td>SGA</td><td>1342517</td><td>2305843020118889490</td><td>193.854394686576</td><td>27.7980418506543</td><td>132</td><td>0.024575055355771</td><td>1.61433027734839e-05</td><td>GALAXY</td><td>11003.6576146899</td><td>0</td><td>20210414</td></tr>\n",
       "<tr><td>SGA</td><td>1020260</td><td>2305843020118889541</td><td>194.912951179367</td><td>28.8955379923554</td><td>133</td><td>0.0204665839359577</td><td>1.4881157714689e-05</td><td>GALAXY</td><td>16080.6209111768</td><td>0</td><td>20210415</td></tr>\n",
       "<tr><td>SGA</td><td>818071</td><td>2305843020118889914</td><td>194.808024058315</td><td>28.0762478351972</td><td>133</td><td>0.0260892720077221</td><td>2.46022119647582e-05</td><td>GALAXY</td><td>2893.92761434295</td><td>0</td><td>20210415</td></tr>\n",
       "<tr><td>TFT</td><td>811359</td><td>2305843020118891624</td><td>193.891999644567</td><td>27.8416805907871</td><td>133</td><td>0.0233596627982795</td><td>1.90055279760095e-05</td><td>GALAXY</td><td>3832.74322594889</td><td>0</td><td>20210415</td></tr>\n",
       "<tr><td>TFT</td><td>100987</td><td>2305843020118892462</td><td>194.44234290338</td><td>27.7570398095321</td><td>133</td><td>0.0204923253612512</td><td>2.28966769916463e-05</td><td>GALAXY</td><td>2104.8485201085</td><td>0</td><td>20210415</td></tr>\n",
       "<tr><td>SGA</td><td>1087419</td><td>2305843020118892672</td><td>194.199074539769</td><td>27.4210119509555</td><td>132</td><td>0.0259282497939865</td><td>2.06749029421806e-05</td><td>GALAXY</td><td>1570.58471629632</td><td>0</td><td>20210414</td></tr>\n",
       "<tr><td>TFT</td><td>1281982</td><td>2305843038703850421</td><td>194.213166404061</td><td>26.8988703775957</td><td>133</td><td>0.020748636632723</td><td>7.21414028461549e-06</td><td>GALAXY</td><td>8501.68482490035</td><td>0</td><td>20210415</td></tr>\n",
       "<tr><td>SGA</td><td>1092279</td><td>2305843038703851688</td><td>194.429288571916</td><td>26.8523804729195</td><td>132</td><td>0.0212368947997285</td><td>1.44201208480034e-05</td><td>GALAXY</td><td>5974.54125512106</td><td>0</td><td>20210414</td></tr>\n",
       "</table>"
      ],
      "text/plain": [
       "<Table length=426>\n",
       "PVTYPE  SGA_ID       TARGETID      ...    DELTACHI2     ZWARN YYYYMMDD\n",
       "bytes3  int64         int64        ...     float64      int64  int64  \n",
       "------ ------- ------------------- ... ---------------- ----- --------\n",
       "   TFT  566771    1070737989304335 ... 477.180004218593     0 20210509\n",
       "   TFT   98934    1070743378984983 ... 88.3161086926411     0 20210504\n",
       "   TFT  366393    1070743387373570 ... 103.638622358441     0 20210504\n",
       "   TFT  824392    1070743391567889 ... 144.712430537562     0 20210509\n",
       "   TFT  824392    1070743391567890 ... 87.2849818112154     0 20210507\n",
       "   TFT  819754    1070748764471298 ... 1096.89091672376     0 20210505\n",
       "   TFT  819754    1070748764471299 ... 2693.51984557509     0 20210509\n",
       "   TFT  302524    1070748764471304 ... 99.1433198386803     0 20210507\n",
       "   TFT 1144453    1070748768665618 ...  1593.3011129871     0 20210507\n",
       "   TFT 1204237    1070748772859907 ... 68.7763626966625     0 20210506\n",
       "   ...     ...                 ... ...              ...   ...      ...\n",
       "   SGA   23552 2305843020118885048 ... 6702.00993152749     0 20210406\n",
       "   SGA  730800 2305843020118885331 ...  5089.9031917376     0 20210415\n",
       "   SGA 1342517 2305843020118889490 ... 11003.6576146899     0 20210414\n",
       "   SGA 1020260 2305843020118889541 ... 16080.6209111768     0 20210415\n",
       "   SGA  818071 2305843020118889914 ... 2893.92761434295     0 20210415\n",
       "   TFT  811359 2305843020118891624 ... 3832.74322594889     0 20210415\n",
       "   TFT  100987 2305843020118892462 ...  2104.8485201085     0 20210415\n",
       "   SGA 1087419 2305843020118892672 ... 1570.58471629632     0 20210414\n",
       "   TFT 1281982 2305843038703850421 ... 8501.68482490035     0 20210415\n",
       "   SGA 1092279 2305843038703851688 ... 5974.54125512106     0 20210414"
      ]
     },
     "execution_count": 36,
     "metadata": {},
     "output_type": "execute_result"
    }
   ],
   "source": [
    "select = isincoma & isgoodz\n",
    "\n",
    "uniq_targ, uniq_targ_idx = np.unique(tf_targets[select]['TARGETID'], return_index=True)\n",
    "tf_subtab = tf_targets[select][uniq_targ_idx]\n",
    "tf_subtab"
   ]
  },
  {
   "cell_type": "code",
   "execution_count": 37,
   "id": "29a7e811-287a-4ed0-9847-df6f01e14b43",
   "metadata": {},
   "outputs": [],
   "source": [
    "tf_subtab.write('tf_targets_coma_qcuts.fits', overwrite=True)"
   ]
  },
  {
   "cell_type": "markdown",
   "id": "7ab44f9a-57b6-464d-8767-b16be9e5871b",
   "metadata": {},
   "source": [
    "### Count SGA Galaxies with More than 1 Observation"
   ]
  },
  {
   "cell_type": "code",
   "execution_count": 38,
   "id": "2de76ee6-de42-48ab-805b-1c12f1c3a49a",
   "metadata": {},
   "outputs": [
    {
     "data": {
      "text/html": [
       "&lt;Column name=&apos;SGA_ID&apos; dtype=&apos;int64&apos; length=105&gt;\n",
       "<table>\n",
       "<tr><td>8032</td></tr>\n",
       "<tr><td>20886</td></tr>\n",
       "<tr><td>23552</td></tr>\n",
       "<tr><td>25532</td></tr>\n",
       "<tr><td>30149</td></tr>\n",
       "<tr><td>98934</td></tr>\n",
       "<tr><td>100987</td></tr>\n",
       "<tr><td>104579</td></tr>\n",
       "<tr><td>122260</td></tr>\n",
       "<tr><td>127141</td></tr>\n",
       "<tr><td>171794</td></tr>\n",
       "<tr><td>191275</td></tr>\n",
       "<tr><td>...</td></tr>\n",
       "<tr><td>1294562</td></tr>\n",
       "<tr><td>1323268</td></tr>\n",
       "<tr><td>1342517</td></tr>\n",
       "<tr><td>1349168</td></tr>\n",
       "<tr><td>1352019</td></tr>\n",
       "<tr><td>1354775</td></tr>\n",
       "<tr><td>1356626</td></tr>\n",
       "<tr><td>1364394</td></tr>\n",
       "<tr><td>1367749</td></tr>\n",
       "<tr><td>1379275</td></tr>\n",
       "<tr><td>1387126</td></tr>\n",
       "<tr><td>1387991</td></tr>\n",
       "</table>"
      ],
      "text/plain": [
       "<Column name='SGA_ID' dtype='int64' length=105>\n",
       "   8032\n",
       "  20886\n",
       "  23552\n",
       "  25532\n",
       "  30149\n",
       "  98934\n",
       " 100987\n",
       " 104579\n",
       " 122260\n",
       " 127141\n",
       " 171794\n",
       " 191275\n",
       "    ...\n",
       "1294562\n",
       "1323268\n",
       "1342517\n",
       "1349168\n",
       "1352019\n",
       "1354775\n",
       "1356626\n",
       "1364394\n",
       "1367749\n",
       "1379275\n",
       "1387126\n",
       "1387991"
      ]
     },
     "execution_count": 38,
     "metadata": {},
     "output_type": "execute_result"
    }
   ],
   "source": [
    "ids, counts = np.unique(tf_subtab['SGA_ID'], return_counts=True)\n",
    "ids[counts > 1]"
   ]
  },
  {
   "cell_type": "code",
   "execution_count": 39,
   "id": "9afb788e-4cf0-4668-b683-c44b299fd082",
   "metadata": {},
   "outputs": [
    {
     "data": {
      "image/png": "[encoded data removed]",
      "text/plain": [
       "<Figure size 576x360 with 1 Axes>"
      ]
     },
     "metadata": {
      "needs_background": "light"
     },
     "output_type": "display_data"
    }
   ],
   "source": [
    "fig, ax = plt.subplots(1,1, figsize=(8,5), tight_layout=True)\n",
    "ax.hist(counts[counts > 1], bins=np.linspace(2,10,9))\n",
    "ax.set(xlabel='observations per SGA_ID',\n",
    "       ylabel='count');"
   ]
  },
  {
   "cell_type": "code",
   "execution_count": 40,
   "id": "5c2bc707-ce80-4139-a4da-ac60f9e97fba",
   "metadata": {},
   "outputs": [
    {
     "data": {
      "text/html": [
       "<i>Table length=280</i>\n",
       "<table id=\"table46913645594368\" class=\"table-striped table-bordered table-condensed\">\n",
       "<thead><tr><th>PVTYPE</th><th>SGA_ID</th><th>TARGETID</th><th>TARGET_RA</th><th>TARGET_DEC</th><th>TILEID</th><th>Z</th><th>ZERR</th><th>SPECTYPE</th><th>DELTACHI2</th><th>ZWARN</th><th>YYYYMMDD</th></tr></thead>\n",
       "<thead><tr><th>bytes3</th><th>int64</th><th>int64</th><th>float64</th><th>float64</th><th>int64</th><th>float64</th><th>float64</th><th>bytes6</th><th>float64</th><th>int64</th><th>int64</th></tr></thead>\n",
       "<tr><td>TFT</td><td>566771</td><td>1070737989304335</td><td>194.668990081081</td><td>26.7582309400934</td><td>129</td><td>0.0246713966511429</td><td>6.60225791845131e-06</td><td>GALAXY</td><td>477.180004218593</td><td>0</td><td>20210509</td></tr>\n",
       "<tr><td>TFT</td><td>98934</td><td>1070743378984983</td><td>194.209205227542</td><td>27.0906277907314</td><td>125</td><td>0.023765274311155</td><td>8.51553878167392e-05</td><td>GALAXY</td><td>88.3161086926411</td><td>0</td><td>20210504</td></tr>\n",
       "<tr><td>TFT</td><td>366393</td><td>1070743387373570</td><td>194.659288499655</td><td>27.0140705777492</td><td>125</td><td>0.0231612739255744</td><td>1.5006324843651e-05</td><td>GALAXY</td><td>103.638622358441</td><td>0</td><td>20210504</td></tr>\n",
       "<tr><td>TFT</td><td>824392</td><td>1070743391567889</td><td>195.013014748088</td><td>26.8912151792737</td><td>129</td><td>0.0192594428023064</td><td>7.00597188137199e-05</td><td>GALAXY</td><td>144.712430537562</td><td>0</td><td>20210509</td></tr>\n",
       "<tr><td>TFT</td><td>824392</td><td>1070743391567890</td><td>195.016479603259</td><td>26.9049972167514</td><td>128</td><td>0.020470715694989</td><td>4.60043259637676e-05</td><td>GALAXY</td><td>87.2849818112154</td><td>0</td><td>20210507</td></tr>\n",
       "<tr><td>TFT</td><td>819754</td><td>1070748764471298</td><td>194.11600974993</td><td>27.2898553378398</td><td>126</td><td>0.0248462736346038</td><td>6.20511587890926e-06</td><td>GALAXY</td><td>1096.89091672376</td><td>0</td><td>20210505</td></tr>\n",
       "<tr><td>TFT</td><td>819754</td><td>1070748764471299</td><td>194.122172137543</td><td>27.2927447111501</td><td>129</td><td>0.0254188017092864</td><td>2.88042103508884e-06</td><td>GALAXY</td><td>2693.51984557509</td><td>0</td><td>20210509</td></tr>\n",
       "<tr><td>TFT</td><td>302524</td><td>1070748764471304</td><td>194.143878522576</td><td>27.2295312975095</td><td>128</td><td>0.0237637303685378</td><td>1.85451476392641e-05</td><td>GALAXY</td><td>99.1433198386803</td><td>0</td><td>20210507</td></tr>\n",
       "<tr><td>TFT</td><td>1144453</td><td>1070748768665618</td><td>194.576600469452</td><td>27.3120652676833</td><td>128</td><td>0.0243064723174717</td><td>4.02785335328157e-06</td><td>GALAXY</td><td>1593.3011129871</td><td>0</td><td>20210507</td></tr>\n",
       "<tr><td>TFT</td><td>1204237</td><td>1070748772859907</td><td>194.654392742773</td><td>27.1730472622045</td><td>127</td><td>0.0257964620011062</td><td>2.23784017529642e-05</td><td>GALAXY</td><td>68.7763626966625</td><td>0</td><td>20210506</td></tr>\n",
       "<tr><td>...</td><td>...</td><td>...</td><td>...</td><td>...</td><td>...</td><td>...</td><td>...</td><td>...</td><td>...</td><td>...</td><td>...</td></tr>\n",
       "<tr><td>SGA</td><td>23552</td><td>2305843020118885048</td><td>194.446011468939</td><td>29.1494982538555</td><td>131</td><td>0.0239039013604961</td><td>1.48680059580252e-05</td><td>GALAXY</td><td>6702.00993152749</td><td>0</td><td>20210406</td></tr>\n",
       "<tr><td>SGA</td><td>730800</td><td>2305843020118885331</td><td>194.210897034771</td><td>28.9298238659131</td><td>133</td><td>0.0270034303486182</td><td>1.6698063340011e-05</td><td>GALAXY</td><td>5089.9031917376</td><td>0</td><td>20210415</td></tr>\n",
       "<tr><td>SGA</td><td>1342517</td><td>2305843020118889490</td><td>193.854394686576</td><td>27.7980418506543</td><td>132</td><td>0.024575055355771</td><td>1.61433027734839e-05</td><td>GALAXY</td><td>11003.6576146899</td><td>0</td><td>20210414</td></tr>\n",
       "<tr><td>SGA</td><td>1020260</td><td>2305843020118889541</td><td>194.912951179367</td><td>28.8955379923554</td><td>133</td><td>0.0204665839359577</td><td>1.4881157714689e-05</td><td>GALAXY</td><td>16080.6209111768</td><td>0</td><td>20210415</td></tr>\n",
       "<tr><td>SGA</td><td>818071</td><td>2305843020118889914</td><td>194.808024058315</td><td>28.0762478351972</td><td>133</td><td>0.0260892720077221</td><td>2.46022119647582e-05</td><td>GALAXY</td><td>2893.92761434295</td><td>0</td><td>20210415</td></tr>\n",
       "<tr><td>TFT</td><td>811359</td><td>2305843020118891624</td><td>193.891999644567</td><td>27.8416805907871</td><td>133</td><td>0.0233596627982795</td><td>1.90055279760095e-05</td><td>GALAXY</td><td>3832.74322594889</td><td>0</td><td>20210415</td></tr>\n",
       "<tr><td>TFT</td><td>100987</td><td>2305843020118892462</td><td>194.44234290338</td><td>27.7570398095321</td><td>133</td><td>0.0204923253612512</td><td>2.28966769916463e-05</td><td>GALAXY</td><td>2104.8485201085</td><td>0</td><td>20210415</td></tr>\n",
       "<tr><td>SGA</td><td>1087419</td><td>2305843020118892672</td><td>194.199074539769</td><td>27.4210119509555</td><td>132</td><td>0.0259282497939865</td><td>2.06749029421806e-05</td><td>GALAXY</td><td>1570.58471629632</td><td>0</td><td>20210414</td></tr>\n",
       "<tr><td>TFT</td><td>1281982</td><td>2305843038703850421</td><td>194.213166404061</td><td>26.8988703775957</td><td>133</td><td>0.020748636632723</td><td>7.21414028461549e-06</td><td>GALAXY</td><td>8501.68482490035</td><td>0</td><td>20210415</td></tr>\n",
       "<tr><td>SGA</td><td>1092279</td><td>2305843038703851688</td><td>194.429288571916</td><td>26.8523804729195</td><td>132</td><td>0.0212368947997285</td><td>1.44201208480034e-05</td><td>GALAXY</td><td>5974.54125512106</td><td>0</td><td>20210414</td></tr>\n",
       "</table>"
      ],
      "text/plain": [
       "<Table length=280>\n",
       "PVTYPE  SGA_ID       TARGETID      ...    DELTACHI2     ZWARN YYYYMMDD\n",
       "bytes3  int64         int64        ...     float64      int64  int64  \n",
       "------ ------- ------------------- ... ---------------- ----- --------\n",
       "   TFT  566771    1070737989304335 ... 477.180004218593     0 20210509\n",
       "   TFT   98934    1070743378984983 ... 88.3161086926411     0 20210504\n",
       "   TFT  366393    1070743387373570 ... 103.638622358441     0 20210504\n",
       "   TFT  824392    1070743391567889 ... 144.712430537562     0 20210509\n",
       "   TFT  824392    1070743391567890 ... 87.2849818112154     0 20210507\n",
       "   TFT  819754    1070748764471298 ... 1096.89091672376     0 20210505\n",
       "   TFT  819754    1070748764471299 ... 2693.51984557509     0 20210509\n",
       "   TFT  302524    1070748764471304 ... 99.1433198386803     0 20210507\n",
       "   TFT 1144453    1070748768665618 ...  1593.3011129871     0 20210507\n",
       "   TFT 1204237    1070748772859907 ... 68.7763626966625     0 20210506\n",
       "   ...     ...                 ... ...              ...   ...      ...\n",
       "   SGA   23552 2305843020118885048 ... 6702.00993152749     0 20210406\n",
       "   SGA  730800 2305843020118885331 ...  5089.9031917376     0 20210415\n",
       "   SGA 1342517 2305843020118889490 ... 11003.6576146899     0 20210414\n",
       "   SGA 1020260 2305843020118889541 ... 16080.6209111768     0 20210415\n",
       "   SGA  818071 2305843020118889914 ... 2893.92761434295     0 20210415\n",
       "   TFT  811359 2305843020118891624 ... 3832.74322594889     0 20210415\n",
       "   TFT  100987 2305843020118892462 ...  2104.8485201085     0 20210415\n",
       "   SGA 1087419 2305843020118892672 ... 1570.58471629632     0 20210414\n",
       "   TFT 1281982 2305843038703850421 ... 8501.68482490035     0 20210415\n",
       "   SGA 1092279 2305843038703851688 ... 5974.54125512106     0 20210414"
      ]
     },
     "execution_count": 40,
     "metadata": {},
     "output_type": "execute_result"
    }
   ],
   "source": [
    "high_count_sga = np.in1d(tf_subtab['SGA_ID'], ids[counts > 1])\n",
    "sga_subtab = tf_subtab[high_count_sga]\n",
    "sga_subtab"
   ]
  },
  {
   "cell_type": "code",
   "execution_count": 41,
   "id": "72c03244-a71a-48d5-b5a3-63d29728e64a",
   "metadata": {},
   "outputs": [],
   "source": [
    "def get_cutout(targetid, ra, dec, size, verbose=False):\n",
    "    \"\"\"Grab and cache legacy survey cutouts.\n",
    "    \n",
    "    Parameters\n",
    "    ----------\n",
    "    targetid : int\n",
    "        DESI target ID.\n",
    "    ra : float\n",
    "        Right ascension (degrees).\n",
    "    dec : float\n",
    "        Declination (degrees).\n",
    "    verbose : bool\n",
    "        Add some status messages if true.\n",
    "        \n",
    "    Returns\n",
    "    -------\n",
    "    img_name : str\n",
    "        Name of JPG cutout file written after query.\n",
    "    w : astropy.wcs.WCS\n",
    "        World coordinate system for the image.\n",
    "    \"\"\"\n",
    "    # Either load an existing image or download a cutout.\n",
    "    img_name = 'coma_{}.jpg'.format(targetid)\n",
    "    \n",
    "    if os.path.exists(img_name):\n",
    "        if verbose:\n",
    "            print('{} exists.'.format(img_name))\n",
    "    else:\n",
    "        img_url = 'https://www.legacysurvey.org/viewer/cutout.jpg?ra={}&dec={}&zoom=14&layer=ls-dr9&size={}&sga'.format(ra, dec, size)\n",
    "        if verbose:\n",
    "            print('Get {}'.format(img_url))\n",
    "            \n",
    "        with open(img_name, 'wb') as handle: \n",
    "            response = requests.get(img_url, stream=True) \n",
    "            if not response.ok: \n",
    "                print(response) \n",
    "            for block in response.iter_content(1024): \n",
    "                if not block: \n",
    "                    break \n",
    "                handle.write(block)\n",
    "                \n",
    "    # Set up the WCS.\n",
    "    wcs_input_dict = {\n",
    "        'CTYPE1': 'RA---TAN',\n",
    "        'CUNIT1': 'deg',\n",
    "        'CDELT1': -0.262/3600,\n",
    "        'CRPIX1': size/2 + 0.5,\n",
    "        'CRVAL1': ra,\n",
    "        'NAXIS1': size,\n",
    "        'CTYPE2': 'DEC--TAN',\n",
    "        'CUNIT2': 'deg',\n",
    "        'CDELT2': 0.262/3600,\n",
    "        'CRPIX2': size/2 + 0.5,\n",
    "        'CRVAL2': dec,\n",
    "        'NAXIS2': size\n",
    "    }\n",
    "    w = WCS(wcs_input_dict)\n",
    "    \n",
    "    return img_name, w"
   ]
  },
  {
   "cell_type": "code",
   "execution_count": 42,
   "id": "65ce48ad-10e0-40af-bd75-6420cfd330dd",
   "metadata": {},
   "outputs": [
    {
     "data": {
      "text/html": [
       "<i>Table length=383620</i>\n",
       "<table id=\"table46913628621552\" class=\"table-striped table-bordered table-condensed\">\n",
       "<thead><tr><th>SGA_ID</th><th>SGA_GALAXY</th><th>GALAXY</th><th>PGC</th><th>RA_LEDA</th><th>DEC_LEDA</th><th>MORPHTYPE</th><th>PA_LEDA</th><th>D25_LEDA</th><th>BA_LEDA</th><th>Z_LEDA</th><th>SB_D25_LEDA</th><th>MAG_LEDA</th><th>BYHAND</th><th>REF</th><th>GROUP_ID</th><th>GROUP_NAME</th><th>GROUP_MULT</th><th>GROUP_PRIMARY</th><th>GROUP_RA</th><th>GROUP_DEC</th><th>GROUP_DIAMETER</th><th>BRICKNAME</th><th>RA</th><th>DEC</th><th>D26</th><th>D26_REF</th><th>PA</th><th>BA</th><th>RA_MOMENT</th><th>DEC_MOMENT</th><th>SMA_MOMENT</th><th>G_SMA50</th><th>R_SMA50</th><th>Z_SMA50</th><th>SMA_SB22</th><th>SMA_SB22.5</th><th>SMA_SB23</th><th>SMA_SB23.5</th><th>SMA_SB24</th><th>SMA_SB24.5</th><th>SMA_SB25</th><th>SMA_SB25.5</th><th>SMA_SB26</th><th>G_MAG_SB22</th><th>R_MAG_SB22</th><th>Z_MAG_SB22</th><th>G_MAG_SB22.5</th><th>R_MAG_SB22.5</th><th>Z_MAG_SB22.5</th><th>G_MAG_SB23</th><th>R_MAG_SB23</th><th>Z_MAG_SB23</th><th>G_MAG_SB23.5</th><th>R_MAG_SB23.5</th><th>Z_MAG_SB23.5</th><th>G_MAG_SB24</th><th>R_MAG_SB24</th><th>Z_MAG_SB24</th><th>G_MAG_SB24.5</th><th>R_MAG_SB24.5</th><th>Z_MAG_SB24.5</th><th>G_MAG_SB25</th><th>R_MAG_SB25</th><th>Z_MAG_SB25</th><th>G_MAG_SB25.5</th><th>R_MAG_SB25.5</th><th>Z_MAG_SB25.5</th><th>G_MAG_SB26</th><th>R_MAG_SB26</th><th>Z_MAG_SB26</th><th>SMA_SB22_ERR</th><th>SMA_SB22.5_ERR</th><th>SMA_SB23_ERR</th><th>SMA_SB23.5_ERR</th><th>SMA_SB24_ERR</th><th>SMA_SB24.5_ERR</th><th>SMA_SB25_ERR</th><th>SMA_SB25.5_ERR</th><th>SMA_SB26_ERR</th><th>G_MAG_SB22_ERR</th><th>R_MAG_SB22_ERR</th><th>Z_MAG_SB22_ERR</th><th>G_MAG_SB22.5_ERR</th><th>R_MAG_SB22.5_ERR</th><th>Z_MAG_SB22.5_ERR</th><th>G_MAG_SB23_ERR</th><th>R_MAG_SB23_ERR</th><th>Z_MAG_SB23_ERR</th><th>G_MAG_SB23.5_ERR</th><th>R_MAG_SB23.5_ERR</th><th>Z_MAG_SB23.5_ERR</th><th>G_MAG_SB24_ERR</th><th>R_MAG_SB24_ERR</th><th>Z_MAG_SB24_ERR</th><th>G_MAG_SB24.5_ERR</th><th>R_MAG_SB24.5_ERR</th><th>Z_MAG_SB24.5_ERR</th><th>G_MAG_SB25_ERR</th><th>R_MAG_SB25_ERR</th><th>Z_MAG_SB25_ERR</th><th>G_MAG_SB25.5_ERR</th><th>R_MAG_SB25.5_ERR</th><th>Z_MAG_SB25.5_ERR</th><th>G_MAG_SB26_ERR</th><th>R_MAG_SB26_ERR</th><th>Z_MAG_SB26_ERR</th><th>G_COG_PARAMS_MTOT</th><th>G_COG_PARAMS_M0</th><th>G_COG_PARAMS_ALPHA1</th><th>G_COG_PARAMS_ALPHA2</th><th>G_COG_PARAMS_CHI2</th><th>R_COG_PARAMS_MTOT</th><th>R_COG_PARAMS_M0</th><th>R_COG_PARAMS_ALPHA1</th><th>R_COG_PARAMS_ALPHA2</th><th>R_COG_PARAMS_CHI2</th><th>Z_COG_PARAMS_MTOT</th><th>Z_COG_PARAMS_M0</th><th>Z_COG_PARAMS_ALPHA1</th><th>Z_COG_PARAMS_ALPHA2</th><th>Z_COG_PARAMS_CHI2</th><th>ELLIPSEBIT</th></tr></thead>\n",
       "<thead><tr><th>int64</th><th>bytes16</th><th>bytes29</th><th>int64</th><th>float64</th><th>float64</th><th>bytes21</th><th>float32</th><th>float32</th><th>float32</th><th>float32</th><th>float32</th><th>float32</th><th>bool</th><th>bytes13</th><th>int64</th><th>bytes35</th><th>int16</th><th>bool</th><th>float64</th><th>float64</th><th>float32</th><th>bytes8</th><th>float64</th><th>float64</th><th>float32</th><th>bytes4</th><th>float32</th><th>float32</th><th>float64</th><th>float64</th><th>float32</th><th>float32</th><th>float32</th><th>float32</th><th>float32</th><th>float32</th><th>float32</th><th>float32</th><th>float32</th><th>float32</th><th>float32</th><th>float32</th><th>float32</th><th>float32</th><th>float32</th><th>float32</th><th>float32</th><th>float32</th><th>float32</th><th>float32</th><th>float32</th><th>float32</th><th>float32</th><th>float32</th><th>float32</th><th>float32</th><th>float32</th><th>float32</th><th>float32</th><th>float32</th><th>float32</th><th>float32</th><th>float32</th><th>float32</th><th>float32</th><th>float32</th><th>float32</th><th>float32</th><th>float32</th><th>float32</th><th>float32</th><th>float32</th><th>float32</th><th>float32</th><th>float32</th><th>float32</th><th>float32</th><th>float32</th><th>float32</th><th>float32</th><th>float32</th><th>float32</th><th>float32</th><th>float32</th><th>float32</th><th>float32</th><th>float32</th><th>float32</th><th>float32</th><th>float32</th><th>float32</th><th>float32</th><th>float32</th><th>float32</th><th>float32</th><th>float32</th><th>float32</th><th>float32</th><th>float32</th><th>float32</th><th>float32</th><th>float32</th><th>float32</th><th>float32</th><th>float32</th><th>float32</th><th>float32</th><th>float32</th><th>float32</th><th>float32</th><th>float32</th><th>float32</th><th>float32</th><th>float32</th><th>float32</th><th>float32</th><th>float32</th><th>float32</th><th>float32</th><th>float32</th><th>float32</th><th>int32</th></tr></thead>\n",
       "<tr><td>2</td><td>SGA-2020 2</td><td>PGC1283207</td><td>1283207</td><td>228.3770865</td><td>5.4232017</td><td>S?</td><td>152.2</td><td>0.36307806</td><td>0.724436</td><td>0.03463229</td><td>23.40448</td><td>16.976</td><td>False</td><td>LEDA-20181114</td><td>0</td><td>PGC1283207</td><td>1</td><td>True</td><td>228.3770865</td><td>5.4232017</td><td>0.36307806</td><td>2283p055</td><td>228.3770803831908</td><td>5.423191398593787</td><td>0.49470574</td><td>SB26</td><td>158.20142</td><td>0.545691</td><td>228.37700918822188</td><td>5.4232652570544015</td><td>10.897086</td><td>3.3509698</td><td>3.1147978</td><td>3.240862</td><td>5.902337</td><td>6.9126143</td><td>7.941369</td><td>8.997992</td><td>10.073601</td><td>11.199986</td><td>12.391357</td><td>13.561038</td><td>14.841172</td><td>16.966799</td><td>16.108246</td><td>15.486356</td><td>16.879545</td><td>16.024958</td><td>15.400715</td><td>16.818878</td><td>15.967034</td><td>15.341793</td><td>16.776297</td><td>15.925804</td><td>15.300776</td><td>16.746685</td><td>15.897334</td><td>15.272053</td><td>16.725166</td><td>15.876816</td><td>15.2521105</td><td>16.708357</td><td>15.862035</td><td>15.237181</td><td>16.696539</td><td>15.851936</td><td>15.226998</td><td>16.689613</td><td>15.844313</td><td>15.21976</td><td>0.013392451</td><td>0.02354</td><td>0.021872982</td><td>0.01736985</td><td>0.024445537</td><td>0.039866067</td><td>0.05026544</td><td>0.08455789</td><td>0.122911856</td><td>0.005682776</td><td>0.0054258136</td><td>0.0049038026</td><td>0.005588406</td><td>0.005323561</td><td>0.0047632363</td><td>0.00543534</td><td>0.005177031</td><td>0.0046343105</td><td>0.0053025587</td><td>0.005040888</td><td>0.0045181247</td><td>0.005206092</td><td>0.0049438984</td><td>0.0044374703</td><td>0.0051483097</td><td>0.0048758644</td><td>0.0043834248</td><td>0.0051032505</td><td>0.0048264163</td><td>0.004344248</td><td>0.0050705094</td><td>0.004792021</td><td>0.004319857</td><td>0.005054293</td><td>0.004765629</td><td>0.0043044444</td><td>16.65942</td><td>0.34037337</td><td>0.2978292</td><td>3.0239506</td><td>0.07928849</td><td>15.820566</td><td>0.2640441</td><td>0.34559453</td><td>3.3033552</td><td>0.003811298</td><td>15.195567</td><td>0.29826432</td><td>0.3001073</td><td>3.2333765</td><td>0.011723555</td><td>0</td></tr>\n",
       "<tr><td>3</td><td>SGA-2020 3</td><td>PGC1310416</td><td>1310416</td><td>202.54443750000002</td><td>6.9345944</td><td>Sc</td><td>159.26</td><td>0.4017908</td><td>0.7816278</td><td>0.073888786</td><td>23.498482</td><td>16.85</td><td>False</td><td>LEDA-20181114</td><td>1</td><td>PGC1310416</td><td>1</td><td>True</td><td>202.54443750000002</td><td>6.9345944</td><td>0.4017908</td><td>2025p070</td><td>202.5444619671207</td><td>6.9346244322326624</td><td>0.55350494</td><td>SB26</td><td>161.5937</td><td>0.7291764</td><td>202.54432739596137</td><td>6.934806737209989</td><td>15.746941</td><td>5.6416235</td><td>5.2647552</td><td>5.0895185</td><td>5.9838247</td><td>7.4356494</td><td>8.728868</td><td>10.087478</td><td>11.529764</td><td>12.818195</td><td>14.115497</td><td>15.319822</td><td>16.605148</td><td>16.963299</td><td>16.307854</td><td>15.806882</td><td>16.729511</td><td>16.097378</td><td>15.615527</td><td>16.606344</td><td>15.990707</td><td>15.518403</td><td>16.525967</td><td>15.917321</td><td>15.450624</td><td>16.462585</td><td>15.859485</td><td>15.397182</td><td>16.419558</td><td>15.820947</td><td>15.36243</td><td>16.390558</td><td>15.796369</td><td>15.338905</td><td>16.376112</td><td>15.782492</td><td>15.323709</td><td>16.364115</td><td>15.773462</td><td>15.313725</td><td>0.036992554</td><td>0.034982767</td><td>0.037769336</td><td>0.049429573</td><td>0.052699674</td><td>0.074114166</td><td>0.07914538</td><td>0.09781406</td><td>0.15534972</td><td>0.016095797</td><td>0.019181909</td><td>0.021539452</td><td>0.013955905</td><td>0.016594552</td><td>0.018640138</td><td>0.012786752</td><td>0.015244632</td><td>0.01715491</td><td>0.011973826</td><td>0.014366956</td><td>0.016208366</td><td>0.011358372</td><td>0.013676575</td><td>0.015474222</td><td>0.010944939</td><td>0.013225297</td><td>0.015011175</td><td>0.010691595</td><td>0.012931233</td><td>0.014687982</td><td>0.010546411</td><td>0.012796015</td><td>0.014518412</td><td>0.010457551</td><td>0.012685407</td><td>0.014379212</td><td>16.284733</td><td>1.0914493</td><td>0.24674739</td><td>2.4320207</td><td>0.68685365</td><td>15.704403</td><td>0.8764323</td><td>0.27360612</td><td>2.4995425</td><td>0.49343896</td><td>15.235263</td><td>1.3098688</td><td>0.17866786</td><td>2.1750498</td><td>0.20391206</td><td>0</td></tr>\n",
       "<tr><td>4</td><td>SGA-2020 4</td><td>SDSSJ145059.93+135143.0</td><td>4435547</td><td>222.749787</td><td>13.8619111</td><td>S?</td><td>44.57</td><td>0.33342642</td><td>0.6637431</td><td>0.07567602</td><td>24.457481</td><td>18.214</td><td>False</td><td>LEDA-20181114</td><td>2</td><td>SDSSJ145059.93+135143.0</td><td>1</td><td>True</td><td>222.749787</td><td>13.8619111</td><td>0.33342642</td><td>2228p137</td><td>222.7497050504303</td><td>13.861929561160224</td><td>0.37067476</td><td>SB26</td><td>45.28537</td><td>0.70922077</td><td>222.749650475464</td><td>13.862052070022896</td><td>8.877115</td><td>4.652771</td><td>4.4837785</td><td>4.4959745</td><td>2.01033</td><td>3.3967943</td><td>4.76257</td><td>6.043787</td><td>7.242806</td><td>8.250407</td><td>9.158723</td><td>10.083457</td><td>11.120243</td><td>19.97595</td><td>19.190666</td><td>18.649523</td><td>19.098536</td><td>18.397219</td><td>17.899643</td><td>18.624952</td><td>17.967802</td><td>17.50231</td><td>18.35278</td><td>17.718002</td><td>17.265854</td><td>18.192762</td><td>17.5654</td><td>17.115404</td><td>18.10496</td><td>17.480022</td><td>17.033989</td><td>18.053415</td><td>17.430794</td><td>16.982971</td><td>18.020155</td><td>17.399996</td><td>16.948252</td><td>17.994783</td><td>17.377092</td><td>16.924469</td><td>0.02113719</td><td>0.03639431</td><td>0.051901262</td><td>0.06539029</td><td>0.08552586</td><td>0.07008602</td><td>0.070394725</td><td>0.08394975</td><td>0.113649584</td><td>0.013428732</td><td>0.017600043</td><td>0.016373685</td><td>0.012251812</td><td>0.014566466</td><td>0.013732588</td><td>0.012644532</td><td>0.014030071</td><td>0.013153961</td><td>0.012747069</td><td>0.013512552</td><td>0.012818239</td><td>0.012865601</td><td>0.01324455</td><td>0.012532208</td><td>0.012762528</td><td>0.013058522</td><td>0.012420634</td><td>0.01252645</td><td>0.012827468</td><td>0.012283978</td><td>0.012320441</td><td>0.012607317</td><td>0.012104107</td><td>0.0121167945</td><td>0.01244376</td><td>0.011985352</td><td>17.896797</td><td>0.5557265</td><td>0.25455818</td><td>3.167909</td><td>1.0522435</td><td>17.28287</td><td>0.4885815</td><td>0.2782499</td><td>3.2144456</td><td>1.3733263</td><td>16.807674</td><td>0.5177045</td><td>0.32264626</td><td>2.900518</td><td>1.8054093</td><td>0</td></tr>\n",
       "<tr><td>7</td><td>SGA-2020 7</td><td>PGC1742504</td><td>1742504</td><td>182.0888085</td><td>25.6022764</td><td>Sbc</td><td>84.97</td><td>0.548277</td><td>0.25118864</td><td>0.10090814</td><td>24.91348</td><td>17.59</td><td>False</td><td>LEDA-20181114</td><td>3</td><td>PGC1742504</td><td>1</td><td>True</td><td>182.0888085</td><td>25.6022764</td><td>0.548277</td><td>1820p255</td><td>182.08882232629614</td><td>25.60226821438983</td><td>0.8883204</td><td>SB26</td><td>84.857475</td><td>0.19753796</td><td>182.08873760544392</td><td>25.602311195157757</td><td>19.779116</td><td>6.5958204</td><td>6.0386286</td><td>5.8089786</td><td>9.279068</td><td>10.949478</td><td>12.652142</td><td>14.446171</td><td>16.323679</td><td>18.392954</td><td>20.915508</td><td>23.566542</td><td>26.649612</td><td>17.390274</td><td>16.360935</td><td>15.531964</td><td>17.285898</td><td>16.262264</td><td>15.440768</td><td>17.2167</td><td>16.195492</td><td>15.380734</td><td>17.16217</td><td>16.144245</td><td>15.334935</td><td>17.130178</td><td>16.110302</td><td>15.304758</td><td>17.104496</td><td>16.084463</td><td>15.280803</td><td>17.081282</td><td>16.061373</td><td>15.2589855</td><td>17.063671</td><td>16.045204</td><td>15.243196</td><td>17.046705</td><td>16.031244</td><td>15.23268</td><td>0.04351465</td><td>0.055440858</td><td>0.052207235</td><td>0.07507412</td><td>0.0793679</td><td>0.10347854</td><td>0.13569456</td><td>0.13104819</td><td>0.17234002</td><td>0.03885276</td><td>0.03744209</td><td>0.03786608</td><td>0.035534665</td><td>0.03441038</td><td>0.03503794</td><td>0.033557214</td><td>0.032548346</td><td>0.033348277</td><td>0.031964395</td><td>0.03106612</td><td>0.031957533</td><td>0.031133845</td><td>0.030202182</td><td>0.031190341</td><td>0.030430589</td><td>0.029511228</td><td>0.030530946</td><td>0.02975241</td><td>0.028853998</td><td>0.029866546</td><td>0.02928568</td><td>0.0284345</td><td>0.029445464</td><td>0.028843498</td><td>0.028076617</td><td>0.029169334</td><td>16.995174</td><td>21.083004</td><td>0.0164273</td><td>1.9079465</td><td>0.029703742</td><td>15.991165</td><td>0.7657307</td><td>0.52285546</td><td>2.3045986</td><td>0.006013103</td><td>15.191324</td><td>1.0408205</td><td>0.32956335</td><td>2.1520333</td><td>0.004725194</td><td>0</td></tr>\n",
       "<tr><td>18</td><td>SGA-2020 18</td><td>2MASXJ12340801+4535444</td><td>3550748</td><td>188.5335525</td><td>45.5956434</td><td>E</td><td>168.65</td><td>0.53088444</td><td>0.6950243</td><td>0.07609531</td><td>23.97948</td><td>16.726</td><td>False</td><td>LEDA-20181114</td><td>4</td><td>2MASXJ12340801+4535444</td><td>1</td><td>True</td><td>188.5335525</td><td>45.5956434</td><td>0.53088444</td><td>1883p455</td><td>188.53364923054596</td><td>45.595620212931856</td><td>0.73435897</td><td>SB26</td><td>166.25127</td><td>0.70995796</td><td>188.53349052789085</td><td>45.59567446403057</td><td>15.694805</td><td>5.091253</td><td>4.670616</td><td>2.9429996</td><td>5.219665</td><td>6.6119533</td><td>8.228266</td><td>10.109745</td><td>12.170589</td><td>14.364073</td><td>16.722517</td><td>19.18709</td><td>22.03077</td><td>17.208511</td><td>16.224203</td><td>15.566424</td><td>17.050343</td><td>16.080097</td><td>15.443468</td><td>16.921791</td><td>15.962402</td><td>15.347263</td><td>16.814959</td><td>15.864242</td><td>15.27134</td><td>16.729906</td><td>15.787886</td><td>15.218466</td><td>16.664564</td><td>15.730083</td><td>15.182751</td><td>16.61991</td><td>15.686324</td><td>15.1601305</td><td>16.585676</td><td>15.654064</td><td>15.148039</td><td>16.558054</td><td>15.629669</td><td>15.141826</td><td>0.032001704</td><td>0.043849397</td><td>0.045203492</td><td>0.072918765</td><td>0.06263939</td><td>0.07675708</td><td>0.10399303</td><td>0.07780949</td><td>0.14017467</td><td>0.016467415</td><td>0.021250801</td><td>0.032092847</td><td>0.0149329165</td><td>0.019061867</td><td>0.028947951</td><td>0.01369758</td><td>0.01736746</td><td>0.026648495</td><td>0.012623343</td><td>0.015980754</td><td>0.024998168</td><td>0.011793644</td><td>0.014977396</td><td>0.023862366</td><td>0.011184664</td><td>0.014255281</td><td>0.023120966</td><td>0.010785815</td><td>0.013740733</td><td>0.022603082</td><td>0.010472503</td><td>0.013351409</td><td>0.022360764</td><td>0.010212836</td><td>0.013043255</td><td>0.022296576</td><td>16.471447</td><td>0.3236818</td><td>1.9206839</td><td>2.3249283</td><td>0.0973919</td><td>15.540598</td><td>0.3247282</td><td>1.7439244</td><td>2.1774826</td><td>0.023485765</td><td>15.124181</td><td>0.16547345</td><td>1.4694684</td><td>3.3948786</td><td>0.028653827</td><td>0</td></tr>\n",
       "<tr><td>20</td><td>SGA-2020 20</td><td>SDSSJ173412.71+572041.6</td><td>3331584</td><td>263.5529355</td><td>57.34490699999999</td><td>S?</td><td>152.58</td><td>0.4487454</td><td>0.5333349</td><td>0.08364453</td><td>24.92448</td><td>18.036</td><td>False</td><td>LEDA-20181114</td><td>5</td><td>SDSSJ173412.71+572041.6</td><td>1</td><td>True</td><td>263.5529355</td><td>57.34490699999999</td><td>0.4487454</td><td>2635p572</td><td>263.55294849855886</td><td>57.344862145664294</td><td>0.4460123</td><td>SB26</td><td>152.3756</td><td>0.5778338</td><td>263.5528114673963</td><td>57.34481025685253</td><td>10.459747</td><td>5.9780583</td><td>5.751067</td><td>4.821581</td><td>1.4858595</td><td>3.4448266</td><td>5.1149526</td><td>6.748707</td><td>8.426254</td><td>9.720271</td><td>11.022999</td><td>12.0887985</td><td>13.380368</td><td>20.656942</td><td>20.044735</td><td>19.40886</td><td>19.194794</td><td>18.66572</td><td>18.231262</td><td>18.599888</td><td>18.123905</td><td>17.745926</td><td>18.256256</td><td>17.807074</td><td>17.476473</td><td>18.040592</td><td>17.60353</td><td>17.319197</td><td>17.926336</td><td>17.500519</td><td>17.228865</td><td>17.85259</td><td>17.42695</td><td>17.180876</td><td>17.811844</td><td>17.39206</td><td>17.151228</td><td>17.783718</td><td>17.36542</td><td>17.143204</td><td>0.02069058</td><td>0.026094317</td><td>0.03480586</td><td>0.05076174</td><td>0.08751116</td><td>0.10309491</td><td>0.08337893</td><td>0.10982923</td><td>0.13734566</td><td>0.031223593</td><td>0.046367057</td><td>0.0777883</td><td>0.015935475</td><td>0.020728666</td><td>0.032657374</td><td>0.012760426</td><td>0.014699919</td><td>0.022893604</td><td>0.010505663</td><td>0.011998588</td><td>0.018923525</td><td>0.010358521</td><td>0.011374098</td><td>0.017719442</td><td>0.010557283</td><td>0.0112259</td><td>0.017149422</td><td>0.010553381</td><td>0.011049819</td><td>0.017135512</td><td>0.010413324</td><td>0.010993488</td><td>0.01699026</td><td>0.010291049</td><td>0.010862263</td><td>0.017057167</td><td>17.6411</td><td>0.6362121</td><td>0.53480667</td><td>2.8045392</td><td>1.7123051</td><td>17.22401</td><td>0.6144014</td><td>0.53440714</td><td>2.7180903</td><td>2.1161501</td><td>17.062769</td><td>0.44818503</td><td>0.43006793</td><td>3.1755726</td><td>0.97457016</td><td>0</td></tr>\n",
       "<tr><td>24</td><td>SGA-2020 24</td><td>PGC2162969</td><td>2162969</td><td>247.42443000000003</td><td>40.24824</td><td>S?</td><td>0.0</td><td>0.43451023</td><td>0.91201085</td><td>0.030465743</td><td>23.110481</td><td>16.292</td><td>False</td><td>LEDA-20181114</td><td>6</td><td>PGC200157_GROUP</td><td>2</td><td>False</td><td>247.41561265388845</td><td>40.24057507998105</td><td>1.0561523</td><td>2474p402</td><td>247.42445048371366</td><td>40.24820033835744</td><td>0.5431378</td><td>LEDA</td><td>101.95022</td><td>0.89250207</td><td>247.42434880302983</td><td>40.24826160366282</td><td>15.888059</td><td>-1.0</td><td>-1.0</td><td>-1.0</td><td>-1.0</td><td>-1.0</td><td>-1.0</td><td>-1.0</td><td>-1.0</td><td>-1.0</td><td>-1.0</td><td>-1.0</td><td>-1.0</td><td>-1.0</td><td>-1.0</td><td>-1.0</td><td>-1.0</td><td>-1.0</td><td>-1.0</td><td>-1.0</td><td>-1.0</td><td>-1.0</td><td>-1.0</td><td>-1.0</td><td>-1.0</td><td>-1.0</td><td>-1.0</td><td>-1.0</td><td>-1.0</td><td>-1.0</td><td>-1.0</td><td>-1.0</td><td>-1.0</td><td>-1.0</td><td>-1.0</td><td>-1.0</td><td>-1.0</td><td>-1.0</td><td>-1.0</td><td>-1.0</td><td>-1.0</td><td>-1.0</td><td>-1.0</td><td>-1.0</td><td>-1.0</td><td>-1.0</td><td>-1.0</td><td>-1.0</td><td>-1.0</td><td>-1.0</td><td>-1.0</td><td>-1.0</td><td>-1.0</td><td>-1.0</td><td>-1.0</td><td>-1.0</td><td>-1.0</td><td>-1.0</td><td>-1.0</td><td>-1.0</td><td>-1.0</td><td>-1.0</td><td>-1.0</td><td>-1.0</td><td>-1.0</td><td>-1.0</td><td>-1.0</td><td>-1.0</td><td>-1.0</td><td>-1.0</td><td>-1.0</td><td>-1.0</td><td>-1.0</td><td>-1.0</td><td>-1.0</td><td>-1.0</td><td>-1.0</td><td>-1.0</td><td>-1.0</td><td>-1.0</td><td>-1.0</td><td>-1.0</td><td>-1.0</td><td>-1.0</td><td>-1.0</td><td>-1.0</td><td>-1.0</td><td>-1.0</td><td>-1.0</td><td>-1.0</td><td>-1.0</td><td>0</td></tr>\n",
       "<tr><td>25</td><td>SGA-2020 25</td><td>PGC054121</td><td>54121</td><td>227.47036350000002</td><td>13.2562981</td><td>Sbc</td><td>70.64</td><td>0.8165824</td><td>0.86496794</td><td>0.022379482</td><td>23.42948</td><td>15.241</td><td>False</td><td>LEDA-20181114</td><td>7</td><td>PGC054121</td><td>1</td><td>True</td><td>227.47036350000002</td><td>13.2562981</td><td>0.8165824</td><td>2275p132</td><td>227.47031353123606</td><td>13.256402782093659</td><td>0.9032927</td><td>SB26</td><td>54.9372</td><td>0.9290268</td><td>227.4700429472929</td><td>13.256485984671057</td><td>23.756569</td><td>9.900074</td><td>9.4958725</td><td>9.147629</td><td>10.191483</td><td>12.735173</td><td>14.82731</td><td>16.736444</td><td>18.73402</td><td>20.828588</td><td>22.853401</td><td>24.907934</td><td>27.098782</td><td>15.6729</td><td>15.045083</td><td>14.593568</td><td>15.3769245</td><td>14.774321</td><td>14.341049</td><td>15.246051</td><td>14.654672</td><td>14.2298155</td><td>15.173311</td><td>14.588186</td><td>14.167052</td><td>15.122127</td><td>14.541565</td><td>14.123228</td><td>15.083035</td><td>14.505676</td><td>14.089516</td><td>15.057359</td><td>14.482468</td><td>14.068062</td><td>15.040025</td><td>14.467183</td><td>14.055928</td><td>15.028107</td><td>14.457384</td><td>14.047177</td><td>0.018359262</td><td>0.017375102</td><td>0.016255992</td><td>0.019816728</td><td>0.038647514</td><td>0.037284017</td><td>0.04342706</td><td>0.071717694</td><td>0.099439405</td><td>0.0058437292</td><td>0.0069466177</td><td>0.008048645</td><td>0.0045692935</td><td>0.005496873</td><td>0.006436989</td><td>0.004073469</td><td>0.0049413145</td><td>0.0058239037</td><td>0.003822102</td><td>0.0046530096</td><td>0.0054966044</td><td>0.0036556777</td><td>0.004464092</td><td>0.0052853883</td><td>0.0035357797</td><td>0.004325215</td><td>0.005129757</td><td>0.0034596229</td><td>0.00423875</td><td>0.005034937</td><td>0.0034086278</td><td>0.00418244</td><td>0.0049834424</td><td>0.0033738492</td><td>0.0041466616</td><td>0.0049476875</td><td>14.970135</td><td>2.6651645</td><td>0.3175275</td><td>2.7061899</td><td>0.84036297</td><td>14.407399</td><td>1.8774098</td><td>0.4264286</td><td>2.8085065</td><td>0.7415527</td><td>14.005723</td><td>1.1530024</td><td>0.7036117</td><td>3.0188198</td><td>0.7843209</td><td>0</td></tr>\n",
       "<tr><td>26</td><td>SGA-2020 26</td><td>PGC2468893</td><td>2468893</td><td>163.598436</td><td>54.4129738</td><td></td><td>64.51</td><td>0.35892195</td><td>0.53703177</td><td>0.17676328</td><td>24.926481</td><td>18.523</td><td>False</td><td>LEDA-20181114</td><td>8</td><td>PGC2468893</td><td>1</td><td>True</td><td>163.598436</td><td>54.4129738</td><td>0.35892195</td><td>1635p545</td><td>163.5984039051307</td><td>54.41298240323229</td><td>0.3833318</td><td>SB26</td><td>46.26398</td><td>0.8524061</td><td>163.5982638998639</td><td>54.41303380382761</td><td>8.821292</td><td>3.2359526</td><td>2.924398</td><td>2.021345</td><td>2.7333577</td><td>3.383293</td><td>4.131329</td><td>5.008367</td><td>6.0306945</td><td>7.188326</td><td>8.429446</td><td>9.863966</td><td>11.499954</td><td>18.91375</td><td>17.621288</td><td>16.865643</td><td>18.731339</td><td>17.469679</td><td>16.733221</td><td>18.59152</td><td>17.350786</td><td>16.62865</td><td>18.480558</td><td>17.254736</td><td>16.545355</td><td>18.388554</td><td>17.175478</td><td>16.476664</td><td>18.312742</td><td>17.111551</td><td>16.42716</td><td>18.256575</td><td>17.062248</td><td>16.38989</td><td>18.215641</td><td>17.022528</td><td>16.365273</td><td>18.179653</td><td>16.990267</td><td>16.35279</td><td>0.0023302117</td><td>0.005615393</td><td>0.008432587</td><td>0.009294833</td><td>0.0114881545</td><td>0.029902346</td><td>0.050029624</td><td>0.0698561</td><td>0.10298213</td><td>0.008917422</td><td>0.008953597</td><td>0.015666634</td><td>0.0076031582</td><td>0.007837551</td><td>0.013918447</td><td>0.006716909</td><td>0.0069769695</td><td>0.012487223</td><td>0.006135703</td><td>0.0064592385</td><td>0.011609407</td><td>0.0057196575</td><td>0.0060675964</td><td>0.010953607</td><td>0.005430515</td><td>0.005781204</td><td>0.010553227</td><td>0.005267251</td><td>0.0056759133</td><td>0.010439154</td><td>0.005154885</td><td>0.00546258</td><td>0.010156198</td><td>0.005106954</td><td>0.0054070675</td><td>0.010169683</td><td>18.01642</td><td>1.2385604</td><td>0.17051077</td><td>1.4091581</td><td>0.99601644</td><td>16.817999</td><td>1.4139539</td><td>0.1533624</td><td>1.2380737</td><td>0.13531691</td><td>16.309488</td><td>0.29089946</td><td>0.21375196</td><td>2.5342278</td><td>0.2944147</td><td>0</td></tr>\n",
       "<tr><td>29</td><td>SGA-2020 29</td><td>2MASXJ11122927+6014431</td><td>3382669</td><td>168.12193649999998</td><td>60.245229599999995</td><td></td><td>95.18</td><td>0.37153524</td><td>0.40550855</td><td>0.13134186</td><td>24.756481</td><td>18.278</td><td>False</td><td>LEDA-20181114</td><td>9</td><td>2MASXJ11122927+6014431</td><td>1</td><td>True</td><td>168.12193649999998</td><td>60.245229599999995</td><td>0.37153524</td><td>1682p602</td><td>168.12195030280432</td><td>60.24520943972748</td><td>0.5254904</td><td>SB26</td><td>93.27518</td><td>0.4504665</td><td>168.12174206037417</td><td>60.24526113391869</td><td>10.063886</td><td>4.9710255</td><td>4.2121243</td><td>2.955684</td><td>3.917081</td><td>5.031503</td><td>6.3397484</td><td>7.859549</td><td>9.5116625</td><td>11.106687</td><td>12.624502</td><td>14.035045</td><td>15.764712</td><td>18.788036</td><td>17.645203</td><td>16.76298</td><td>18.56597</td><td>17.444305</td><td>16.599722</td><td>18.396406</td><td>17.29114</td><td>16.477816</td><td>18.250896</td><td>17.16368</td><td>16.373098</td><td>18.136703</td><td>17.062458</td><td>16.293201</td><td>18.053637</td><td>16.990055</td><td>16.23756</td><td>17.998623</td><td>16.947845</td><td>16.209606</td><td>17.968748</td><td>16.91967</td><td>16.198694</td><td>17.937456</td><td>16.901102</td><td>16.190332</td><td>0.043608252</td><td>0.068593405</td><td>0.08251232</td><td>0.114085354</td><td>0.18821189</td><td>0.14581837</td><td>0.13098465</td><td>0.18873167</td><td>0.16190481</td><td>0.048937622</td><td>0.053202</td><td>0.070389636</td><td>0.043584738</td><td>0.047049206</td><td>0.0624863</td><td>0.039282635</td><td>0.042405277</td><td>0.056875147</td><td>0.035782997</td><td>0.038730845</td><td>0.05225435</td><td>0.033184648</td><td>0.03600609</td><td>0.049067486</td><td>0.03135153</td><td>0.034110624</td><td>0.046893198</td><td>0.030152028</td><td>0.033022434</td><td>0.045820117</td><td>0.029458879</td><td>0.032266933</td><td>0.045367915</td><td>0.028717741</td><td>0.03176078</td><td>0.045077246</td><td>17.832409</td><td>0.3196674</td><td>1.3563452</td><td>2.7893887</td><td>0.122701444</td><td>16.831856</td><td>0.25142962</td><td>1.251332</td><td>3.1430612</td><td>0.10823416</td><td>16.170433</td><td>0.12689392</td><td>1.2175424</td><td>4.702156</td><td>0.06635867</td><td>0</td></tr>\n",
       "<tr><td>...</td><td>...</td><td>...</td><td>...</td><td>...</td><td>...</td><td>...</td><td>...</td><td>...</td><td>...</td><td>...</td><td>...</td><td>...</td><td>...</td><td>...</td><td>...</td><td>...</td><td>...</td><td>...</td><td>...</td><td>...</td><td>...</td><td>...</td><td>...</td><td>...</td><td>...</td><td>...</td><td>...</td><td>...</td><td>...</td><td>...</td><td>...</td><td>...</td><td>...</td><td>...</td><td>...</td><td>...</td><td>...</td><td>...</td><td>...</td><td>...</td><td>...</td><td>...</td><td>...</td><td>...</td><td>...</td><td>...</td><td>...</td><td>...</td><td>...</td><td>...</td><td>...</td><td>...</td><td>...</td><td>...</td><td>...</td><td>...</td><td>...</td><td>...</td><td>...</td><td>...</td><td>...</td><td>...</td><td>...</td><td>...</td><td>...</td><td>...</td><td>...</td><td>...</td><td>...</td><td>...</td><td>...</td><td>...</td><td>...</td><td>...</td><td>...</td><td>...</td><td>...</td><td>...</td><td>...</td><td>...</td><td>...</td><td>...</td><td>...</td><td>...</td><td>...</td><td>...</td><td>...</td><td>...</td><td>...</td><td>...</td><td>...</td><td>...</td><td>...</td><td>...</td><td>...</td><td>...</td><td>...</td><td>...</td><td>...</td><td>...</td><td>...</td><td>...</td><td>...</td><td>...</td><td>...</td><td>...</td><td>...</td><td>...</td><td>...</td><td>...</td><td>...</td><td>...</td><td>...</td><td>...</td><td>...</td><td>...</td><td>...</td><td>...</td><td>...</td><td>...</td><td>...</td><td>...</td></tr>\n",
       "<tr><td>5005195</td><td>SGA-2020 5005195</td><td>DR8-1793p222-2771</td><td>-1</td><td>179.2945122945355</td><td>22.29616673952341</td><td>PSF</td><td>0.0</td><td>0.454</td><td>1.0</td><td>-1.0</td><td>23.489079</td><td>16.57532</td><td>True</td><td>DR8</td><td>531667</td><td>DR8-1793p222-2771</td><td>1</td><td>True</td><td>179.2945122945355</td><td>22.29616673952341</td><td>0.454</td><td>1793p222</td><td>179.29452573552422</td><td>22.296163107090134</td><td>0.5214359</td><td>SB26</td><td>127.51099</td><td>0.78787744</td><td>179.29444415024022</td><td>22.29623465794375</td><td>13.120567</td><td>2.7214403</td><td>2.8788998</td><td>2.9398167</td><td>4.8742156</td><td>5.801377</td><td>6.8204255</td><td>8.000418</td><td>9.449444</td><td>11.111418</td><td>12.836514</td><td>14.157148</td><td>15.643078</td><td>16.650414</td><td>15.89828</td><td>15.354585</td><td>16.580677</td><td>15.822675</td><td>15.278564</td><td>16.525764</td><td>15.764598</td><td>15.220373</td><td>16.482847</td><td>15.719043</td><td>15.173113</td><td>16.446579</td><td>15.680529</td><td>15.132261</td><td>16.41512</td><td>15.647504</td><td>15.098009</td><td>16.388647</td><td>15.620344</td><td>15.070625</td><td>16.374023</td><td>15.605029</td><td>15.054689</td><td>16.36363</td><td>15.594609</td><td>15.042309</td><td>0.0067810663</td><td>0.015470861</td><td>0.018868009</td><td>0.0351804</td><td>0.076819085</td><td>0.07189938</td><td>0.120865904</td><td>0.10774231</td><td>0.103403516</td><td>0.0147291105</td><td>0.01178085</td><td>0.013183858</td><td>0.013833475</td><td>0.011010024</td><td>0.012317104</td><td>0.013170283</td><td>0.010456909</td><td>0.01169949</td><td>0.012684415</td><td>0.010054476</td><td>0.01124069</td><td>0.012298655</td><td>0.009740337</td><td>0.010866755</td><td>0.011978752</td><td>0.009489733</td><td>0.010574576</td><td>0.011722459</td><td>0.009297767</td><td>0.010351114</td><td>0.011582096</td><td>0.009186632</td><td>0.010223667</td><td>0.011238392</td><td>0.009114673</td><td>0.010145772</td><td>16.250698</td><td>2708.8188</td><td>6.736398e-05</td><td>1.0888201</td><td>0.09743817</td><td>15.483401</td><td>4893.218</td><td>3.7431706e-05</td><td>1.1349467</td><td>0.15635559</td><td>14.918242</td><td>5183.1113</td><td>3.8652575e-05</td><td>1.0811251</td><td>0.046546273</td><td>0</td></tr>\n",
       "<tr><td>5005198</td><td>SGA-2020 5005198</td><td>DR8-0256p000-5752</td><td>-1</td><td>25.66029589306415</td><td>0.08743418519336531</td><td>PSF</td><td>0.0</td><td>0.309</td><td>1.0</td><td>-1.0</td><td>23.935808</td><td>17.857534</td><td>True</td><td>DR8</td><td>531668</td><td>DR8-0256p000-5752</td><td>1</td><td>True</td><td>25.66029589306415</td><td>0.08743418519336531</td><td>0.309</td><td>0256p000</td><td>25.660288526922393</td><td>0.08741395667094204</td><td>0.3246461</td><td>SB26</td><td>160.40857</td><td>0.85456085</td><td>25.660240751556803</td><td>0.08748824034356358</td><td>8.672835</td><td>1.9243348</td><td>2.555829</td><td>2.5514677</td><td>2.9639468</td><td>3.8987544</td><td>4.880886</td><td>5.855751</td><td>6.773247</td><td>7.6435313</td><td>8.407569</td><td>9.137488</td><td>9.739383</td><td>17.689413</td><td>17.376947</td><td>16.915255</td><td>17.534771</td><td>17.178392</td><td>16.713324</td><td>17.418633</td><td>17.03344</td><td>16.567991</td><td>17.337229</td><td>16.934195</td><td>16.47001</td><td>17.282885</td><td>16.866545</td><td>16.405144</td><td>17.247772</td><td>16.8236</td><td>16.364075</td><td>17.22954</td><td>16.799465</td><td>16.339987</td><td>17.21656</td><td>16.783209</td><td>16.325134</td><td>17.208654</td><td>16.772375</td><td>16.31503</td><td>0.011542733</td><td>0.016534021</td><td>0.019527653</td><td>0.024528828</td><td>0.03779441</td><td>0.048323542</td><td>0.04859576</td><td>0.05760323</td><td>0.07877746</td><td>0.023304751</td><td>0.025683159</td><td>0.032197252</td><td>0.020571876</td><td>0.022260716</td><td>0.027982213</td><td>0.018585382</td><td>0.019629896</td><td>0.024599757</td><td>0.017328093</td><td>0.018026909</td><td>0.022563023</td><td>0.016312363</td><td>0.016467035</td><td>0.020473186</td><td>0.015828367</td><td>0.015871944</td><td>0.019749861</td><td>0.015790295</td><td>0.016050369</td><td>0.020129</td><td>0.015616682</td><td>0.015829667</td><td>0.019871147</td><td>0.015310911</td><td>0.015198509</td><td>0.018939396</td><td>17.183558</td><td>0.12294183</td><td>0.19957551</td><td>4.690979</td><td>0.015809352</td><td>16.732452</td><td>0.18256688</td><td>0.21783169</td><td>4.126847</td><td>0.034576368</td><td>16.275085</td><td>0.19656372</td><td>0.20016503</td><td>3.9645846</td><td>0.018176466</td><td>0</td></tr>\n",
       "<tr><td>5005201</td><td>SGA-2020 5005201</td><td>DR8-2520p150-1872</td><td>-1</td><td>252.09096973935718</td><td>14.954508758448847</td><td>PSF</td><td>0.0</td><td>0.967</td><td>1.0</td><td>-1.0</td><td>24.163757</td><td>15.608146</td><td>True</td><td>DR8</td><td>531669</td><td>DR8-2520p150-1872</td><td>1</td><td>True</td><td>252.09096973935718</td><td>14.954508758448847</td><td>0.967</td><td>2520p150</td><td>252.0909699562764</td><td>14.954490607770563</td><td>1.0171216</td><td>SB26</td><td>112.36276</td><td>0.61695623</td><td>252.09092494608447</td><td>14.954535770121065</td><td>20.834295</td><td>12.39982</td><td>7.332598</td><td>6.8353333</td><td>7.0953846</td><td>8.452131</td><td>10.091814</td><td>12.392418</td><td>15.340454</td><td>19.13829</td><td>23.344776</td><td>27.21821</td><td>30.513645</td><td>15.844413</td><td>15.052782</td><td>14.536271</td><td>15.789438</td><td>14.995881</td><td>14.477499</td><td>15.742477</td><td>14.9468355</td><td>14.427818</td><td>15.6968775</td><td>14.900328</td><td>14.379317</td><td>15.654422</td><td>14.85738</td><td>14.334618</td><td>15.606853</td><td>14.809873</td><td>14.284192</td><td>15.563575</td><td>14.767267</td><td>14.240876</td><td>15.533223</td><td>14.739131</td><td>14.213739</td><td>15.516148</td><td>14.722022</td><td>14.1978445</td><td>0.03697918</td><td>0.06280282</td><td>0.04608013</td><td>0.07195521</td><td>0.1295921</td><td>0.13037108</td><td>0.18624833</td><td>0.15069625</td><td>0.17974436</td><td>0.03642822</td><td>0.03608817</td><td>0.040244225</td><td>0.03466639</td><td>0.034279592</td><td>0.03820263</td><td>0.033226386</td><td>0.032795798</td><td>0.03652344</td><td>0.031890143</td><td>0.031462073</td><td>0.034934707</td><td>0.030661047</td><td>0.030226108</td><td>0.033543944</td><td>0.02937417</td><td>0.028967626</td><td>0.032026157</td><td>0.028236996</td><td>0.02786266</td><td>0.030784043</td><td>0.027463831</td><td>0.027154623</td><td>0.030030306</td><td>0.027024347</td><td>0.026709788</td><td>0.029604135</td><td>14.945451</td><td>2005.111</td><td>0.00040117942</td><td>0.30879036</td><td>0.091645196</td><td>14.286089</td><td>2944.6145</td><td>0.00022691571</td><td>0.38378695</td><td>0.08670762</td><td>13.791493</td><td>1679.2966</td><td>0.00038279407</td><td>0.4148775</td><td>0.067777455</td><td>0</td></tr>\n",
       "<tr><td>5005221</td><td>SGA-2020 5005221</td><td>DR8-0412p207-1198</td><td>-1</td><td>41.18047671803841</td><td>20.694042548652554</td><td>PSF</td><td>0.0</td><td>0.471</td><td>1.0</td><td>-1.0</td><td>24.246716</td><td>17.25313</td><td>True</td><td>DR8</td><td>531670</td><td>DR8-0412p207-1198</td><td>1</td><td>True</td><td>41.18047671803841</td><td>20.694042548652554</td><td>0.471</td><td>0412p207</td><td>41.18048574648146</td><td>20.69404158299538</td><td>0.47098938</td><td>SB26</td><td>24.310091</td><td>0.7885375</td><td>41.180405404117785</td><td>20.694120216548455</td><td>10.360117</td><td>2.8015852</td><td>2.7884948</td><td>2.6935434</td><td>3.6186233</td><td>4.4927197</td><td>5.522982</td><td>6.6685233</td><td>7.905727</td><td>9.264321</td><td>10.691406</td><td>12.297847</td><td>14.129682</td><td>17.711948</td><td>16.890347</td><td>16.294775</td><td>17.585072</td><td>16.764051</td><td>16.17261</td><td>17.480307</td><td>16.658499</td><td>16.068928</td><td>17.394457</td><td>16.572569</td><td>15.983902</td><td>17.33007</td><td>16.506886</td><td>15.919504</td><td>17.280218</td><td>16.457634</td><td>15.867954</td><td>17.245039</td><td>16.42228</td><td>15.832606</td><td>17.216467</td><td>16.392227</td><td>15.803128</td><td>17.192717</td><td>16.370075</td><td>15.781465</td><td>0.006780971</td><td>0.010371835</td><td>0.011661904</td><td>0.014844196</td><td>0.021120988</td><td>0.038650826</td><td>0.05184053</td><td>0.07415352</td><td>0.14769338</td><td>0.008487011</td><td>0.008379533</td><td>0.010376132</td><td>0.0076383264</td><td>0.00754701</td><td>0.009338417</td><td>0.0069949273</td><td>0.0069124824</td><td>0.008536573</td><td>0.0065273605</td><td>0.0064387866</td><td>0.007945147</td><td>0.00619924</td><td>0.006105768</td><td>0.0075339405</td><td>0.005975615</td><td>0.005874753</td><td>0.007227205</td><td>0.005815386</td><td>0.005709461</td><td>0.007027677</td><td>0.0057047377</td><td>0.0055858823</td><td>0.006874229</td><td>0.005629476</td><td>0.005510496</td><td>0.006785888</td><td>17.120892</td><td>0.3279772</td><td>0.5309596</td><td>2.2173948</td><td>0.09612841</td><td>16.301027</td><td>0.3084072</td><td>0.55606824</td><td>2.2989004</td><td>0.085739866</td><td>15.718236</td><td>0.26173127</td><td>0.64325035</td><td>2.4841642</td><td>0.042753268</td><td>0</td></tr>\n",
       "<tr><td>5005223</td><td>SGA-2020 5005223</td><td>DR8-2276m017-4087</td><td>-1</td><td>227.64094321975787</td><td>-1.6981529262567927</td><td>PSF</td><td>0.0</td><td>0.607</td><td>1.0</td><td>-1.0</td><td>24.982948</td><td>17.438524</td><td>True</td><td>DR8</td><td>531671</td><td>DR8-2276m017-4087</td><td>1</td><td>True</td><td>227.64094321975787</td><td>-1.6981529262567927</td><td>0.607</td><td>2276m017</td><td>227.64087801284978</td><td>-1.69817359815747</td><td>0.6267315</td><td>SB26</td><td>88.710266</td><td>0.41053277</td><td>227.64060153036226</td><td>-1.698142220551913</td><td>13.871249</td><td>4.8801594</td><td>4.561895</td><td>4.4663424</td><td>4.637326</td><td>5.8509827</td><td>7.062148</td><td>8.3112545</td><td>9.802893</td><td>11.619408</td><td>13.734685</td><td>16.200775</td><td>18.801945</td><td>18.138233</td><td>17.271214</td><td>16.475805</td><td>17.985514</td><td>17.081915</td><td>16.29826</td><td>17.878677</td><td>16.971369</td><td>16.185461</td><td>17.806702</td><td>16.894045</td><td>16.103714</td><td>17.742344</td><td>16.827522</td><td>16.0391</td><td>17.681814</td><td>16.768332</td><td>15.988243</td><td>17.63443</td><td>16.726484</td><td>15.948485</td><td>17.59487</td><td>16.694088</td><td>15.911636</td><td>17.561165</td><td>16.661354</td><td>15.881864</td><td>0.074944876</td><td>0.078999035</td><td>0.0779275</td><td>0.1000401</td><td>0.11301166</td><td>0.1259314</td><td>0.1631884</td><td>0.17922209</td><td>0.17365636</td><td>0.13491407</td><td>0.10655037</td><td>0.07736688</td><td>0.119502485</td><td>0.092207536</td><td>0.067632765</td><td>0.10865148</td><td>0.08376383</td><td>0.061735567</td><td>0.10058281</td><td>0.07734296</td><td>0.057560686</td><td>0.09488179</td><td>0.07289161</td><td>0.054465514</td><td>0.09090397</td><td>0.069909394</td><td>0.052149493</td><td>0.087058425</td><td>0.0673016</td><td>0.050325148</td><td>0.08294334</td><td>0.064598925</td><td>0.048608597</td><td>0.0804247</td><td>0.06269838</td><td>0.04731585</td><td>17.348944</td><td>2215.7397</td><td>0.00017354474</td><td>0.9362168</td><td>0.0016087268</td><td>16.531103</td><td>11765.006</td><td>2.4469497e-05</td><td>1.2244116</td><td>0.0093818195</td><td>15.758231</td><td>4405.8867</td><td>6.278418e-05</td><td>1.2418394</td><td>0.015200222</td><td>0</td></tr>\n",
       "<tr><td>5005230</td><td>SGA-2020 5005230</td><td>DR8-0774m270-618</td><td>-1</td><td>77.3975106136412</td><td>-27.106348434308803</td><td>PSF</td><td>0.0</td><td>0.332</td><td>1.0</td><td>-1.0</td><td>23.547586</td><td>17.313416</td><td>True</td><td>DR8</td><td>531672</td><td>DR8-0774m270-618</td><td>1</td><td>True</td><td>77.3975106136412</td><td>-27.106348434308803</td><td>0.332</td><td>0774m270</td><td>77.3975059709664</td><td>-27.106359637272558</td><td>0.35891744</td><td>SB26</td><td>111.56699</td><td>0.75475377</td><td>77.39739623804046</td><td>-27.106283004349642</td><td>8.411317</td><td>1.5404403</td><td>2.1904042</td><td>2.2546275</td><td>3.380961</td><td>4.237079</td><td>5.1402497</td><td>6.015476</td><td>6.929567</td><td>7.8893332</td><td>8.840655</td><td>9.867512</td><td>10.767524</td><td>17.413584</td><td>16.993366</td><td>16.49279</td><td>17.313818</td><td>16.864426</td><td>16.35793</td><td>17.234362</td><td>16.76295</td><td>16.253544</td><td>17.179771</td><td>16.696907</td><td>16.187393</td><td>17.142206</td><td>16.651445</td><td>16.141762</td><td>17.115921</td><td>16.620028</td><td>16.109167</td><td>17.097752</td><td>16.595303</td><td>16.084223</td><td>17.083128</td><td>16.578005</td><td>16.067503</td><td>17.075493</td><td>16.567142</td><td>16.058277</td><td>0.02643086</td><td>0.031345174</td><td>0.035310734</td><td>0.04256188</td><td>0.04243312</td><td>0.08359334</td><td>0.06686159</td><td>0.08592497</td><td>0.0841673</td><td>0.04186574</td><td>0.040063415</td><td>0.044546094</td><td>0.03840889</td><td>0.035972457</td><td>0.03978237</td><td>0.035699315</td><td>0.03274588</td><td>0.03573635</td><td>0.034136016</td><td>0.031140357</td><td>0.03432494</td><td>0.03301214</td><td>0.029928898</td><td>0.03298083</td><td>0.032247484</td><td>0.029115444</td><td>0.032043472</td><td>0.03161836</td><td>0.02829384</td><td>0.030819874</td><td>0.031205405</td><td>0.027862772</td><td>0.030369842</td><td>0.030991472</td><td>0.027592061</td><td>0.030123282</td><td>17.052347</td><td>0.1408417</td><td>0.23734568</td><td>3.6229866</td><td>0.006182706</td><td>16.530476</td><td>0.23168655</td><td>0.21942548</td><td>3.1118705</td><td>0.01690107</td><td>16.022186</td><td>0.24194787</td><td>0.20102008</td><td>3.1345527</td><td>0.011277596</td><td>0</td></tr>\n",
       "<tr><td>5005238</td><td>SGA-2020 5005238</td><td>DR8-3541p242-2263</td><td>-1</td><td>354.0254056671457</td><td>24.266276344902867</td><td>PSF</td><td>0.0</td><td>0.553</td><td>1.0</td><td>-1.0</td><td>23.834211</td><td>16.492105</td><td>True</td><td>DR8</td><td>531673</td><td>DR8-3541p242-2263</td><td>1</td><td>True</td><td>354.0254056671457</td><td>24.266276344902867</td><td>0.553</td><td>3541p242</td><td>354.02541432263376</td><td>24.266268718736388</td><td>0.49792165</td><td>SB26</td><td>176.78943</td><td>0.80814004</td><td>354.0253076392978</td><td>24.2663371152309</td><td>12.073684</td><td>2.3774166</td><td>2.3172183</td><td>2.1728494</td><td>4.87311</td><td>5.8856797</td><td>6.899788</td><td>7.8992434</td><td>8.894083</td><td>10.047215</td><td>11.390644</td><td>13.084164</td><td>14.93765</td><td>16.594566</td><td>15.884674</td><td>15.318247</td><td>16.507622</td><td>15.800316</td><td>15.236118</td><td>16.44361</td><td>15.739594</td><td>15.178294</td><td>16.399588</td><td>15.697594</td><td>15.139128</td><td>16.370625</td><td>15.668677</td><td>15.11076</td><td>16.348858</td><td>15.647803</td><td>15.090749</td><td>16.331417</td><td>15.63063</td><td>15.073454</td><td>16.316664</td><td>15.615721</td><td>15.059018</td><td>16.303864</td><td>15.603283</td><td>15.049853</td><td>0.010577562</td><td>0.022966072</td><td>0.021998236</td><td>0.019190194</td><td>0.02975555</td><td>0.050584648</td><td>0.051846568</td><td>0.08969881</td><td>0.16201551</td><td>0.010917041</td><td>0.016026055</td><td>0.010949657</td><td>0.010120528</td><td>0.014857519</td><td>0.010206339</td><td>0.009596533</td><td>0.014086385</td><td>0.009730353</td><td>0.00926139</td><td>0.013581817</td><td>0.009423394</td><td>0.0089795785</td><td>0.013141614</td><td>0.009135103</td><td>0.008878088</td><td>0.012995436</td><td>0.0090526445</td><td>0.008682937</td><td>0.012702772</td><td>0.008857431</td><td>0.008571938</td><td>0.012533876</td><td>0.008756143</td><td>0.008475702</td><td>0.012394868</td><td>0.008699074</td><td>16.284523</td><td>0.23109037</td><td>0.321907</td><td>3.0286288</td><td>0.1996051</td><td>15.582087</td><td>0.24166907</td><td>0.31360328</td><td>2.8916779</td><td>0.06815668</td><td>15.030018</td><td>0.21598968</td><td>0.32428586</td><td>2.999769</td><td>0.03202154</td><td>0</td></tr>\n",
       "<tr><td>5005241</td><td>SGA-2020 5005241</td><td>DR8-3598p237-618</td><td>-1</td><td>359.77852409632925</td><td>23.672069316241558</td><td>PSF</td><td>0.0</td><td>0.647</td><td>1.0</td><td>-1.0</td><td>25.045397</td><td>17.362394</td><td>True</td><td>DR8</td><td>531674</td><td>DR8-3598p237-618</td><td>1</td><td>True</td><td>359.77852409632925</td><td>23.672069316241558</td><td>0.647</td><td>3598p237</td><td>359.778505813862</td><td>23.672055843828268</td><td>0.52567357</td><td>SB26</td><td>43.59699</td><td>0.3849364</td><td>359.77844356539794</td><td>23.67212226911349</td><td>14.239333</td><td>2.7190483</td><td>2.5388463</td><td>3.4868765</td><td>5.064195</td><td>6.143888</td><td>7.345775</td><td>8.588504</td><td>9.922591</td><td>11.140817</td><td>12.440238</td><td>13.989121</td><td>15.770206</td><td>17.490839</td><td>16.795784</td><td>16.202568</td><td>17.390589</td><td>16.696184</td><td>16.077631</td><td>17.31184</td><td>16.618877</td><td>15.981386</td><td>17.254414</td><td>16.560314</td><td>15.908254</td><td>17.211702</td><td>16.51628</td><td>15.852895</td><td>17.18435</td><td>16.488472</td><td>15.819614</td><td>17.163921</td><td>16.466606</td><td>15.792798</td><td>17.146704</td><td>16.45154</td><td>15.770247</td><td>17.136053</td><td>16.44288</td><td>15.755591</td><td>0.03923253</td><td>0.060786158</td><td>0.075307116</td><td>0.07167815</td><td>0.10213532</td><td>0.118702866</td><td>0.109218694</td><td>0.17001276</td><td>0.30682173</td><td>0.06043335</td><td>0.06313121</td><td>0.049299486</td><td>0.055580575</td><td>0.05806445</td><td>0.044674117</td><td>0.05192368</td><td>0.05431531</td><td>0.04128313</td><td>0.04938822</td><td>0.051617604</td><td>0.038845673</td><td>0.04756912</td><td>0.049662363</td><td>0.037100296</td><td>0.04641092</td><td>0.04843731</td><td>0.03603239</td><td>0.045583606</td><td>0.047508307</td><td>0.035224166</td><td>0.04488352</td><td>0.0468671</td><td>0.03452928</td><td>0.04443932</td><td>0.046488073</td><td>0.034055505</td><td>17.105066</td><td>0.20155075</td><td>0.6774843</td><td>3.1475794</td><td>0.0012115352</td><td>16.41944</td><td>0.15052226</td><td>0.86735916</td><td>3.7459996</td><td>0.0050168973</td><td>15.713827</td><td>0.25167242</td><td>0.72501904</td><td>3.094475</td><td>0.004562201</td><td>0</td></tr>\n",
       "<tr><td>5005244</td><td>SGA-2020 5005244</td><td>DR8-1933p245-3598</td><td>-1</td><td>193.43358024178627</td><td>24.573038628154837</td><td>PSF</td><td>0.0</td><td>0.508</td><td>1.0</td><td>-1.0</td><td>24.127928</td><td>16.970129</td><td>True</td><td>DR8</td><td>531675</td><td>DR8-1933p245-3598</td><td>1</td><td>True</td><td>193.43358024178627</td><td>24.573038628154837</td><td>0.508</td><td>1933p245</td><td>193.43361884886178</td><td>24.573017822491643</td><td>0.53991914</td><td>SB26</td><td>160.01337</td><td>0.84648865</td><td>193.4335470099531</td><td>24.573120358078633</td><td>12.787097</td><td>2.6927412</td><td>3.120592</td><td>3.2718627</td><td>3.4533505</td><td>4.2570386</td><td>5.133758</td><td>6.1663985</td><td>7.42829</td><td>9.149172</td><td>11.350036</td><td>13.795546</td><td>16.197575</td><td>16.94666</td><td>16.586605</td><td>16.36889</td><td>16.861969</td><td>16.492382</td><td>16.262115</td><td>16.791409</td><td>16.415943</td><td>16.173903</td><td>16.734713</td><td>16.35735</td><td>16.109213</td><td>16.688421</td><td>16.309566</td><td>16.055555</td><td>16.640509</td><td>16.258156</td><td>15.998193</td><td>16.594383</td><td>16.207026</td><td>15.942949</td><td>16.557802</td><td>16.166492</td><td>15.901134</td><td>16.529823</td><td>16.13316</td><td>15.869967</td><td>0.021029804</td><td>0.032481723</td><td>0.030171089</td><td>0.03087946</td><td>0.04853705</td><td>0.057573788</td><td>0.083974585</td><td>0.14294735</td><td>0.13371769</td><td>0.04259182</td><td>0.044959683</td><td>0.036545504</td><td>0.0398303</td><td>0.042167664</td><td>0.033850912</td><td>0.037131604</td><td>0.03866477</td><td>0.030868268</td><td>0.035289127</td><td>0.036671363</td><td>0.02913518</td><td>0.034093525</td><td>0.035771117</td><td>0.028184779</td><td>0.03262886</td><td>0.034125715</td><td>0.026756087</td><td>0.031034768</td><td>0.031958297</td><td>0.025058959</td><td>0.03024934</td><td>0.03138346</td><td>0.024512257</td><td>0.029254926</td><td>0.02987554</td><td>0.02347292</td><td>16.309258</td><td>6206.177</td><td>4.9772905e-05</td><td>0.6787563</td><td>0.039588377</td><td>15.876677</td><td>8809.709</td><td>4.0338142e-05</td><td>0.6443549</td><td>0.11273734</td><td>15.642013</td><td>9365.627</td><td>3.5140136e-05</td><td>0.7403613</td><td>0.1392315</td><td>0</td></tr>\n",
       "<tr><td>5005247</td><td>SGA-2020 5005247</td><td>DR8-2208p192-2734</td><td>-1</td><td>220.7266310748538</td><td>19.28717944405682</td><td>PSF</td><td>0.0</td><td>0.413</td><td>1.0</td><td>-1.0</td><td>23.6957</td><td>16.987469</td><td>True</td><td>DR8</td><td>531676</td><td>DR8-2208p192-2734</td><td>1</td><td>True</td><td>220.7266310748538</td><td>19.28717944405682</td><td>0.413</td><td>2208p192</td><td>220.72663283312835</td><td>19.28717319595711</td><td>0.4214595</td><td>SB26</td><td>46.15227</td><td>0.951637</td><td>220.7265690159664</td><td>19.287246237710338</td><td>11.1560335</td><td>1.7477361</td><td>1.7075597</td><td>2.1156445</td><td>3.262774</td><td>4.0869102</td><td>5.1091228</td><td>6.3436913</td><td>7.7602787</td><td>9.086886</td><td>10.342417</td><td>11.58312</td><td>12.6437845</td><td>17.41811</td><td>16.605528</td><td>16.10175</td><td>17.31933</td><td>16.505455</td><td>15.987479</td><td>17.236889</td><td>16.421755</td><td>15.89216</td><td>17.15656</td><td>16.337141</td><td>15.799027</td><td>17.08641</td><td>16.26287</td><td>15.717607</td><td>17.041885</td><td>16.217678</td><td>15.668846</td><td>17.009306</td><td>16.184057</td><td>15.632661</td><td>16.986383</td><td>16.16401</td><td>15.609863</td><td>16.973982</td><td>16.151237</td><td>15.5966015</td><td>0.010865588</td><td>0.016143147</td><td>0.015274725</td><td>0.018334098</td><td>0.026965143</td><td>0.036046986</td><td>0.0410594</td><td>0.08184487</td><td>0.10371635</td><td>0.012916043</td><td>0.01948388</td><td>0.010131742</td><td>0.011561066</td><td>0.017431566</td><td>0.009162709</td><td>0.010774649</td><td>0.016174529</td><td>0.008470013</td><td>0.010339528</td><td>0.015345446</td><td>0.007933513</td><td>0.009432234</td><td>0.014002881</td><td>0.007277823</td><td>0.009343426</td><td>0.013771767</td><td>0.0070921364</td><td>0.008820328</td><td>0.013042888</td><td>0.0067780362</td><td>0.008909435</td><td>0.013126014</td><td>0.006761116</td><td>0.008822591</td><td>0.012979464</td><td>0.0066987765</td><td>16.92055</td><td>0.11899936</td><td>1.2582198</td><td>3.492993</td><td>0.27475503</td><td>16.11808</td><td>0.092085116</td><td>1.2426668</td><td>4.5006905</td><td>0.1382566</td><td>15.551954</td><td>0.12238101</td><td>1.0828819</td><td>3.9065025</td><td>0.63464415</td><td>0</td></tr>\n",
       "</table>"
      ],
      "text/plain": [
       "<Table length=383620>\n",
       " SGA_ID    SGA_GALAXY    ... Z_COG_PARAMS_CHI2 ELLIPSEBIT\n",
       " int64      bytes16      ...      float32        int32   \n",
       "------- ---------------- ... ----------------- ----------\n",
       "      2       SGA-2020 2 ...       0.011723555          0\n",
       "      3       SGA-2020 3 ...        0.20391206          0\n",
       "      4       SGA-2020 4 ...         1.8054093          0\n",
       "      7       SGA-2020 7 ...       0.004725194          0\n",
       "     18      SGA-2020 18 ...       0.028653827          0\n",
       "     20      SGA-2020 20 ...        0.97457016          0\n",
       "     24      SGA-2020 24 ...              -1.0          0\n",
       "     25      SGA-2020 25 ...         0.7843209          0\n",
       "     26      SGA-2020 26 ...         0.2944147          0\n",
       "     29      SGA-2020 29 ...        0.06635867          0\n",
       "    ...              ... ...               ...        ...\n",
       "5005195 SGA-2020 5005195 ...       0.046546273          0\n",
       "5005198 SGA-2020 5005198 ...       0.018176466          0\n",
       "5005201 SGA-2020 5005201 ...       0.067777455          0\n",
       "5005221 SGA-2020 5005221 ...       0.042753268          0\n",
       "5005223 SGA-2020 5005223 ...       0.015200222          0\n",
       "5005230 SGA-2020 5005230 ...       0.011277596          0\n",
       "5005238 SGA-2020 5005238 ...        0.03202154          0\n",
       "5005241 SGA-2020 5005241 ...       0.004562201          0\n",
       "5005244 SGA-2020 5005244 ...         0.1392315          0\n",
       "5005247 SGA-2020 5005247 ...        0.63464415          0"
      ]
     },
     "execution_count": 42,
     "metadata": {},
     "output_type": "execute_result"
    }
   ],
   "source": [
    "sgacat = Table.read('/global/cfs/cdirs/cosmo/data/sga/2020/SGA-2020.fits', 'ELLIPSE') \n",
    "sgacat"
   ]
  },
  {
   "cell_type": "code",
   "execution_count": 44,
   "id": "7d6f59ed-646f-4764-a878-a54161ce1210",
   "metadata": {},
   "outputs": [
    {
     "name": "stdout",
     "output_type": "stream",
     "text": [
      "No galaxy for 449306\n",
      "No galaxy for 775774\n"
     ]
    }
   ],
   "source": [
    "for sga_id in np.unique(sga_subtab['SGA_ID']):\n",
    "    galaxy_list = sga_subtab[sga_subtab['SGA_ID'] == sga_id]\n",
    "    \n",
    "    # Total hack to find SGA target, because the PVTYPE can't be trusted.\n",
    "    # Talk to an expert about actual SGA targets in DESI.\n",
    "    is_sga_galaxy = (galaxy_list['TARGETID'] > 30000000000000000) & (galaxy_list['TARGETID'] < 40000000000000000)\n",
    "    \n",
    "    sga_galaxy = galaxy_list[is_sga_galaxy]\n",
    "    tf_list = galaxy_list[~is_sga_galaxy]\n",
    "    \n",
    "    if np.sum(is_sga_galaxy) < 1:\n",
    "        print('No galaxy for {}'.format(sga_id))\n",
    "        continue\n",
    "    if np.sum(is_sga_galaxy) > 1:\n",
    "        print('Too many records for {}'.format(sga_id))\n",
    "        continue\n",
    "    \n",
    "    targetid = sga_galaxy['TARGETID'][0]\n",
    "    ra, dec = float(sga_galaxy['TARGET_RA']), float(sga_galaxy['TARGET_DEC'])\n",
    "    \n",
    "    # D26 in arcmin\n",
    "    d26 = float(sgacat[sgacat['SGA_ID'] == sga_id]['D26'])\n",
    "    \n",
    "    # Padd the image cutout of the galaxy.\n",
    "    # Multiply by 60 (to arcsec), divide by 180 to get pixscale.\n",
    "#     pixscale = 1.05*d26*60/180\n",
    "    npix = np.minimum(int(1.025 * d26*60/0.262), 512)\n",
    "    \n",
    "#     img_file, wcs = get_cutout(targetid, ra, dec, size=npix, verbose=True)\n",
    "#     img = mpl.image.imread(img_file)\n",
    "\n",
    "#     fig = plt.figure(figsize=(7,5))\n",
    "\n",
    "#     ax = fig.add_subplot(111, projection=wcs)\n",
    "#     ax.imshow(np.flip(img, axis=0))\n",
    "#     ax.set(xlabel='ra', ylabel='dec')\n",
    "#     overlay = ax.get_coords_overlay('icrs')\n",
    "#     overlay.grid(color='white', ls='dotted');\n",
    "\n",
    "#     # Add the location of the SDSS and DESI fibers.\n",
    "#     # SDSS fibers are 2\" diameter, DESI is 107 um with 70 um/\" plate scale.\n",
    "#     r = SphericalCircle((ra * u.deg, dec * u.deg), 2 * u.arcsec,\n",
    "#                      edgecolor='red', facecolor='none', alpha=0.8, lw=2,\n",
    "#                      transform=ax.get_transform('icrs'))\n",
    "#     ax.add_patch(r)\n",
    "\n",
    "#     for tft in tf_list:\n",
    "#         ra, dec = float(tft['TARGET_RA']), float(tft['TARGET_DEC'])\n",
    "        \n",
    "#         # Add the location of the SDSS and DESI fibers.\n",
    "#         # SDSS fibers are 2\" diameter, DESI is 107 um with 70 um/\" plate scale.\n",
    "#         r = SphericalCircle((ra * u.deg, dec * u.deg), 2 * u.arcsec,\n",
    "#                          edgecolor='green', facecolor='none', alpha=0.8, lw=2,\n",
    "#                          transform=ax.get_transform('icrs'))\n",
    "#         ax.add_patch(r)\n",
    "    \n",
    "#     fig.subplots_adjust(top=0.85, right=0.85, bottom=0.15, left=0.15)\n",
    "#     fig.savefig('coma_tf_{}.png'.format(targetid), dpi=120)\n",
    "    \n",
    "#     fig.clear()\n",
    "#     plt.close(fig)"
   ]
  },
  {
   "cell_type": "code",
   "execution_count": null,
   "id": "7a2ff857-2dd7-4106-8a10-8917dd53afd8",
   "metadata": {},
   "outputs": [],
   "source": []
  }
 ],
 "metadata": {
  "kernelspec": {
   "display_name": "DESI master",
   "language": "python",
   "name": "desi-master"
  },
  "language_info": {
   "codemirror_mode": {
    "name": "ipython",
    "version": 3
   },
   "file_extension": ".py",
   "mimetype": "text/x-python",
   "name": "python",
   "nbconvert_exporter": "python",
   "pygments_lexer": "ipython3",
   "version": "3.8.3"
  }
 },
 "nbformat": 4,
 "nbformat_minor": 5
}
