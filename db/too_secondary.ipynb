{
 "cells": [
  {
   "cell_type": "markdown",
   "metadata": {},
   "source": [
    "# ToO Secondary Targeting\n",
    "\n",
    "Parse a set of target-of-opportunity observations created using the script\n",
    "\n",
    "`/path/to/timedomain/bin/td_from_program TOO > too_tgt.out`"
   ]
  },
  {
   "cell_type": "code",
   "execution_count": 1,
   "metadata": {},
   "outputs": [],
   "source": [
    "import os\n",
    "from astropy.io import ascii, fits\n",
    "from astropy.table import join, hstack, vstack, unique, Table\n",
    "from desispec.spectra import stack as specstack\n",
    "from desispec.io import read_spectra, write_spectra\n",
    "\n",
    "import numpy as np\n",
    "import matplotlib as mpl\n",
    "import matplotlib.pyplot as plt"
   ]
  },
  {
   "cell_type": "code",
   "execution_count": 2,
   "metadata": {},
   "outputs": [],
   "source": [
    "mpl.rc('font', size=16)\n",
    "mpl.rc('axes', titlesize='small')"
   ]
  },
  {
   "cell_type": "markdown",
   "metadata": {},
   "source": [
    "## Load ToO Target ASCII DB\n",
    "\n",
    "Load the ToO secondary targets from an ASCII file.\n",
    "Then plot the data."
   ]
  },
  {
   "cell_type": "code",
   "execution_count": 3,
   "metadata": {},
   "outputs": [
    {
     "data": {
      "text/html": [
       "<i>Table length=47</i>\n",
       "<table id=\"table46912564620496\" class=\"table-striped table-bordered table-condensed\">\n",
       "<thead><tr><th>PROGRAM</th><th>TARGET_RA</th><th>TARGET_DEC</th><th>TARGETID</th><th>TILEID</th><th>DATE</th><th>PETAL</th></tr></thead>\n",
       "<thead><tr><th>str3</th><th>float64</th><th>float64</th><th>int64</th><th>int64</th><th>int64</th><th>int64</th></tr></thead>\n",
       "<tr><td>ToO</td><td>216.688787</td><td>-1.861117</td><td>43977414082035733</td><td>225</td><td>20210503</td><td>0</td></tr>\n",
       "<tr><td>ToO</td><td>221.1424</td><td>-0.8466</td><td>43977438316724380</td><td>252</td><td>20210419</td><td>8</td></tr>\n",
       "<tr><td>ToO</td><td>220.8908</td><td>-0.758</td><td>43977438312530123</td><td>252</td><td>20210419</td><td>8</td></tr>\n",
       "<tr><td>ToO</td><td>221.0202</td><td>-0.7057</td><td>43977438316724318</td><td>252</td><td>20210419</td><td>8</td></tr>\n",
       "<tr><td>ToO</td><td>219.1058</td><td>-1.3357</td><td>43977426203574529</td><td>253</td><td>20210502</td><td>1</td></tr>\n",
       "<tr><td>ToO</td><td>218.8378</td><td>-1.5061</td><td>43977420159582429</td><td>253</td><td>20210502</td><td>1</td></tr>\n",
       "<tr><td>ToO</td><td>218.9367</td><td>-0.7497</td><td>43977438278975605</td><td>253</td><td>20210502</td><td>2</td></tr>\n",
       "<tr><td>ToO</td><td>219.4608</td><td>-0.1939</td><td>43977450366959770</td><td>253</td><td>20210502</td><td>4</td></tr>\n",
       "<tr><td>ToO</td><td>220.217</td><td>0.0324</td><td>43977456419340540</td><td>253</td><td>20210502</td><td>6</td></tr>\n",
       "<tr><td>ToO</td><td>221.0202</td><td>-0.7057</td><td>43977438316724318</td><td>253</td><td>20210502</td><td>8</td></tr>\n",
       "<tr><td>...</td><td>...</td><td>...</td><td>...</td><td>...</td><td>...</td><td>...</td></tr>\n",
       "<tr><td>ToO</td><td>217.2269</td><td>3.6206</td><td>43977540913594618</td><td>287</td><td>20210430</td><td>4</td></tr>\n",
       "<tr><td>ToO</td><td>219.4095</td><td>2.0839</td><td>43977504725139545</td><td>287</td><td>20210430</td><td>8</td></tr>\n",
       "<tr><td>ToO</td><td>218.9404</td><td>1.4032</td><td>43977492637155457</td><td>287</td><td>20210430</td><td>9</td></tr>\n",
       "<tr><td>ToO</td><td>218.6305</td><td>1.5856</td><td>43977492632961279</td><td>287</td><td>20210430</td><td>9</td></tr>\n",
       "<tr><td>ToO</td><td>217.1933</td><td>2.0155</td><td>43977504687390787</td><td>288</td><td>20210502</td><td>2</td></tr>\n",
       "<tr><td>ToO</td><td>217.2269</td><td>3.6206</td><td>43977540913594618</td><td>288</td><td>20210502</td><td>4</td></tr>\n",
       "<tr><td>ToO</td><td>219.4095</td><td>2.0839</td><td>43977504725139545</td><td>288</td><td>20210502</td><td>8</td></tr>\n",
       "<tr><td>ToO</td><td>218.9404</td><td>1.4032</td><td>43977492637155457</td><td>288</td><td>20210502</td><td>9</td></tr>\n",
       "<tr><td>ToO</td><td>218.6305</td><td>1.5856</td><td>43977492632961279</td><td>288</td><td>20210502</td><td>9</td></tr>\n",
       "<tr><td>ToO</td><td>218.5278</td><td>2.0666</td><td>43977504712556788</td><td>288</td><td>20210502</td><td>9</td></tr>\n",
       "</table>"
      ],
      "text/plain": [
       "<Table length=47>\n",
       "PROGRAM TARGET_RA  TARGET_DEC      TARGETID     TILEID   DATE   PETAL\n",
       "  str3   float64    float64         int64       int64   int64   int64\n",
       "------- ---------- ---------- ----------------- ------ -------- -----\n",
       "    ToO 216.688787  -1.861117 43977414082035733    225 20210503     0\n",
       "    ToO   221.1424    -0.8466 43977438316724380    252 20210419     8\n",
       "    ToO   220.8908     -0.758 43977438312530123    252 20210419     8\n",
       "    ToO   221.0202    -0.7057 43977438316724318    252 20210419     8\n",
       "    ToO   219.1058    -1.3357 43977426203574529    253 20210502     1\n",
       "    ToO   218.8378    -1.5061 43977420159582429    253 20210502     1\n",
       "    ToO   218.9367    -0.7497 43977438278975605    253 20210502     2\n",
       "    ToO   219.4608    -0.1939 43977450366959770    253 20210502     4\n",
       "    ToO    220.217     0.0324 43977456419340540    253 20210502     6\n",
       "    ToO   221.0202    -0.7057 43977438316724318    253 20210502     8\n",
       "    ...        ...        ...               ...    ...      ...   ...\n",
       "    ToO   217.2269     3.6206 43977540913594618    287 20210430     4\n",
       "    ToO   219.4095     2.0839 43977504725139545    287 20210430     8\n",
       "    ToO   218.9404     1.4032 43977492637155457    287 20210430     9\n",
       "    ToO   218.6305     1.5856 43977492632961279    287 20210430     9\n",
       "    ToO   217.1933     2.0155 43977504687390787    288 20210502     2\n",
       "    ToO   217.2269     3.6206 43977540913594618    288 20210502     4\n",
       "    ToO   219.4095     2.0839 43977504725139545    288 20210502     8\n",
       "    ToO   218.9404     1.4032 43977492637155457    288 20210502     9\n",
       "    ToO   218.6305     1.5856 43977492632961279    288 20210502     9\n",
       "    ToO   218.5278     2.0666 43977504712556788    288 20210502     9"
      ]
     },
     "execution_count": 3,
     "metadata": {},
     "output_type": "execute_result"
    }
   ],
   "source": [
    "too_targets = ascii.read('too_tgt.out', delimiter='|',\n",
    "                        names=['PROGRAM', 'TARGET_RA', 'TARGET_DEC', 'TARGETID', 'TILEID', 'DATE', 'PETAL'])\n",
    "too_targets"
   ]
  },
  {
   "cell_type": "code",
   "execution_count": 4,
   "metadata": {},
   "outputs": [],
   "source": [
    "def plot_radec(table):\n",
    "    \"\"\"Mollweide projection plot adapted to astro coordinates.\n",
    "    \n",
    "    Parameters\n",
    "    ----------\n",
    "    table : astropy.table.Table\n",
    "        Data table with secondary target info.\n",
    "    \n",
    "    Returns\n",
    "    -------\n",
    "    fig : matplotlib.Figure\n",
    "        Figure object to let user apply further plot manipulation.\n",
    "    \"\"\"\n",
    "    fig, ax = plt.subplots(1,1, figsize=(8,4), subplot_kw={'projection': 'mollweide'})\n",
    "    \n",
    "    # Loop through unique classes.\n",
    "    class_names = np.unique(table['PROGRAM'])\n",
    "    for class_name in class_names:\n",
    "        select = table['PROGRAM'] == class_name\n",
    "        \n",
    "        # Convert RA, Dec to radians.\n",
    "        # Rotate the RA so that the plot goes 360->0 left to right.\n",
    "        _ra = np.radians(180. - table[select]['TARGET_RA'])\n",
    "        _dec = np.radians(table[select]['TARGET_DEC'])\n",
    "        ax.scatter(_ra, _dec, alpha=0.5, s=5, label=class_name)\n",
    "\n",
    "    # Clean up the plot and return the Figure object.\n",
    "    ax.set(xticks=np.radians([-150, -120, -90, -60, -30, 0, 30, 60, 90, 120, 150]),\n",
    "           xticklabels=['22h', '20h', '18h', '16h', '14h', '12h', '10h', '8h', '6h', '4h', '2h'])\n",
    "    ax.tick_params(axis='x', labelsize=10)\n",
    "    ax.tick_params(axis='y', labelsize=10)\n",
    "    ax.grid(ls=':')\n",
    "    \n",
    "    ax.legend(fontsize=8, loc='lower right')\n",
    "    fig.tight_layout()\n",
    "\n",
    "    return fig;"
   ]
  },
  {
   "cell_type": "code",
   "execution_count": 5,
   "metadata": {},
   "outputs": [
    {
     "data": {
      "image/png": "[encoded data removed]",
      "text/plain": [
       "<Figure size 576x288 with 1 Axes>"
      ]
     },
     "metadata": {
      "needs_background": "light"
     },
     "output_type": "display_data"
    }
   ],
   "source": [
    "fig = plot_radec(too_targets)"
   ]
  },
  {
   "cell_type": "markdown",
   "metadata": {},
   "source": [
    "## Extract Object Redshifts\n",
    "\n",
    "For each object in the table, extract the redshift."
   ]
  },
  {
   "cell_type": "code",
   "execution_count": 6,
   "metadata": {},
   "outputs": [],
   "source": [
    "tile_date_petal = []\n",
    "\n",
    "for too_target in too_targets:\n",
    "    tdp = [too_target[_] for _ in ['TILEID', 'DATE', 'PETAL']]\n",
    "    if tdp in tile_date_petal:\n",
    "        continue\n",
    "    tile_date_petal.append(tdp)"
   ]
  },
  {
   "cell_type": "code",
   "execution_count": null,
   "metadata": {},
   "outputs": [
    {
     "name": "stdout",
     "output_type": "stream",
     "text": [
      "INFO:spectra.py:253:read_spectra: iotime 0.489 sec to read coadd-0-225-20210503.fits at 2021-05-24T12:06:09.850130\n",
      "INFO:spectra.py:253:read_spectra: iotime 0.608 sec to read coadd-8-252-20210419.fits at 2021-05-24T12:06:10.926533\n",
      "INFO:spectra.py:253:read_spectra: iotime 0.540 sec to read coadd-1-253-20210502.fits at 2021-05-24T12:06:11.976629\n",
      "INFO:spectra.py:253:read_spectra: iotime 0.489 sec to read coadd-2-253-20210502.fits at 2021-05-24T12:06:12.962793\n",
      "INFO:spectra.py:253:read_spectra: iotime 0.758 sec to read coadd-4-253-20210502.fits at 2021-05-24T12:06:14.245166\n",
      "INFO:spectra.py:253:read_spectra: iotime 0.576 sec to read coadd-6-253-20210502.fits at 2021-05-24T12:06:15.366025\n",
      "INFO:spectra.py:253:read_spectra: iotime 0.491 sec to read coadd-8-253-20210502.fits at 2021-05-24T12:06:16.360638\n",
      "INFO:spectra.py:253:read_spectra: iotime 0.546 sec to read coadd-0-261-20210430.fits at 2021-05-24T12:06:17.498423\n",
      "INFO:spectra.py:253:read_spectra: iotime 0.520 sec to read coadd-4-261-20210430.fits at 2021-05-24T12:06:18.575339\n",
      "INFO:spectra.py:253:read_spectra: iotime 0.625 sec to read coadd-6-261-20210430.fits at 2021-05-24T12:06:19.713990\n",
      "10 out of 26; (14 14)\n",
      "INFO:spectra.py:253:read_spectra: iotime 0.505 sec to read coadd-7-261-20210430.fits at 2021-05-24T12:06:20.819673\n",
      "INFO:spectra.py:253:read_spectra: iotime 0.472 sec to read coadd-8-261-20210430.fits at 2021-05-24T12:06:21.788492\n",
      "INFO:spectra.py:253:read_spectra: iotime 0.500 sec to read coadd-1-262-20210502.fits at 2021-05-24T12:06:22.815017\n",
      "INFO:spectra.py:253:read_spectra: iotime 0.585 sec to read coadd-5-262-20210502.fits at 2021-05-24T12:06:23.960468\n",
      "INFO:spectra.py:253:read_spectra: iotime 0.471 sec to read coadd-6-262-20210502.fits at 2021-05-24T12:06:24.938506\n",
      "INFO:spectra.py:253:read_spectra: iotime 0.586 sec to read coadd-7-262-20210502.fits at 2021-05-24T12:06:26.142168\n"
     ]
    }
   ],
   "source": [
    "redux = 'daily'\n",
    "\n",
    "toospec = None\n",
    "\n",
    "n = 0\n",
    "\n",
    "for i, (tile, date, petal) in enumerate(tile_date_petal):\n",
    "    select = (too_targets['TILEID']==tile) & (too_targets['DATE']==date) & (too_targets['PETAL']==petal)\n",
    "    n += np.sum(select)\n",
    "    targetids = too_targets[select]['TARGETID']\n",
    "    \n",
    "    folder = '{}/{}/tiles/{}/{}'.format(os.environ['DESI_SPECTRO_REDUX'], redux, tile, date)\n",
    "    cdfile = '{}/coadd-{}-{}-{}.fits'.format(folder, petal, tile, date)\n",
    "    zbfile = '{}/zbest-{}-{}-{}.fits'.format(folder, petal, tile, date)\n",
    "    \n",
    "    if os.path.exists(zbfile) and os.path.exists(cdfile):\n",
    "        spectra = read_spectra(cdfile)\n",
    "        \n",
    "        # Select matching target IDs from the ToO list and read out ToO spectra.\n",
    "        sselect = np.in1d(spectra.fibermap['TARGETID'], targetids)\n",
    "        spectra = spectra[sselect]\n",
    "        if not hasattr(spectra, 'scores_comments'):\n",
    "            spectra.scores_comments = None\n",
    "        \n",
    "        # Select matching target IDs from the ToO list and access the redshift fit.\n",
    "        zbest = fits.open(zbfile)['ZBEST'].data\n",
    "        zselect = np.in1d(zbest['TARGETID'], targetids)\n",
    "        zbest = zbest[zselect]\n",
    "        \n",
    "        # Append spectra to a larger list of spectra, stored in memory.\n",
    "        # Note that an EXPID is required in the update step below, but the coadded spectra\n",
    "        # have a FIRST_EXPID and a LAST_EXPID. So copy one of these as a hack.\n",
    "        spectra.fibermap['EXPID'] = spectra.fibermap['LAST_EXPID']\n",
    "        spectra.extra_catalog = zbest\n",
    "        \n",
    "        if toospec is None:\n",
    "            toospec = spectra\n",
    "        else:\n",
    "            toospec = specstack([toospec, spectra])\n",
    "        \n",
    "        if (i+1) % 10 == 0:\n",
    "            print('{} out of {}; ({} {})'.format(i+1, len(tile_date_petal), n, toospec.num_spectra()))\n",
    "            \n",
    "if not hasattr(toospec, 'scores_comments'):\n",
    "    toospec.scores_comments = None"
   ]
  },
  {
   "cell_type": "code",
   "execution_count": null,
   "metadata": {},
   "outputs": [],
   "source": [
    "toospec.num_spectra()"
   ]
  },
  {
   "cell_type": "markdown",
   "metadata": {},
   "source": [
    "### Output Redrock Spectral Types"
   ]
  },
  {
   "cell_type": "code",
   "execution_count": null,
   "metadata": {},
   "outputs": [],
   "source": [
    "types_, counts_ = np.unique(toospec.extra_catalog['SPECTYPE'], return_counts=True)\n",
    "for t, c in zip(types_, counts_):\n",
    "    print('{:10s} : {:10d} ({:.1f}%)'.format(t, c, 100*c/len(toospec.extra_catalog)))"
   ]
  },
  {
   "cell_type": "markdown",
   "metadata": {},
   "source": [
    "## Write Output\n",
    "\n",
    "### FITS Format\n",
    "\n",
    "This format is needed to preserve the redrock template coefficients in the output, should they be needed for spectral matching and plotting later.\n",
    "\n",
    "**WARNING**: the output file will *always* be clobbered so proceed with caution!"
   ]
  },
  {
   "cell_type": "code",
   "execution_count": null,
   "metadata": {},
   "outputs": [],
   "source": [
    "write_spectra('too_redshifts.fits', toospec)"
   ]
  },
  {
   "cell_type": "markdown",
   "metadata": {},
   "source": [
    "## Plot Spectra\n",
    "\n",
    "Probably should pull in `plot_spectra` here but it's easy to write some code too."
   ]
  },
  {
   "cell_type": "markdown",
   "metadata": {},
   "source": [
    "### Grab Legacy Survey Cutouts\n",
    "\n",
    "Some code to access legacy survey cutouts."
   ]
  },
  {
   "cell_type": "code",
   "execution_count": null,
   "metadata": {},
   "outputs": [],
   "source": [
    "import requests\n",
    "\n",
    "def get_cutout(targetid, ra, dec, verbose=False):\n",
    "    \"\"\"Grab and cache legacy survey cutouts.\n",
    "    \n",
    "    Parameters\n",
    "    ----------\n",
    "    targetid : int\n",
    "        DESI target ID.\n",
    "    ra : float\n",
    "        Right ascension (degrees).\n",
    "    dec : float\n",
    "        Declination (degrees).\n",
    "    verbose : bool\n",
    "        Add some status messages if true.\n",
    "        \n",
    "    Returns\n",
    "    -------\n",
    "    img_name : str\n",
    "        Name of JPG cutout file written after query.\n",
    "    \"\"\"\n",
    "    img_name = '{}.jpg'.format(targetid)\n",
    "    \n",
    "    if os.path.exists(img_name):\n",
    "        if verbose:\n",
    "            print('{} exists.'.format(img_name))\n",
    "    else:\n",
    "        if verbose:\n",
    "            print('Accessing {}'.format(img_name))\n",
    "        img_url = 'https://www.legacysurvey.org/viewer/cutout.jpg?ra={}&dec={}&%22/pix=0.25&layer=dr8&size=180'.format(ra, dec)\n",
    "        with open(img_name, 'wb') as handle: \n",
    "            response = requests.get(img_url, stream=True) \n",
    "            if not response.ok: \n",
    "                print(response) \n",
    "            for block in response.iter_content(1024): \n",
    "                if not block: \n",
    "                    break \n",
    "                handle.write(block)\n",
    "    \n",
    "    return img_name"
   ]
  },
  {
   "cell_type": "markdown",
   "metadata": {},
   "source": [
    "#### Spectrum Plot Options\n",
    "\n",
    "Pull in a basic Gaussian smoothing filter and some code for plotting the same emission and absorption features used in Prospect."
   ]
  },
  {
   "cell_type": "code",
   "execution_count": null,
   "metadata": {},
   "outputs": [],
   "source": [
    "from scipy.ndimage import gaussian_filter1d\n",
    "\n",
    "mpl.rc('figure', max_open_warning = 0)"
   ]
  },
  {
   "cell_type": "code",
   "execution_count": null,
   "metadata": {},
   "outputs": [],
   "source": [
    "# Emission and absorption lines from Prospect tables.\n",
    "emi_lines = ascii.read('emission_lines.txt', comment='#', names=['name','longname','lambda','vacuum','major'])\n",
    "abs_lines = ascii.read('absorption_lines.txt', comment='#', names=['name','longname','lambda','vacuum','major'])\n",
    "\n",
    "emi_lines_major = emi_lines[emi_lines['major']=='True']\n",
    "abs_lines_major = abs_lines[abs_lines['major']=='True']"
   ]
  },
  {
   "cell_type": "code",
   "execution_count": null,
   "metadata": {},
   "outputs": [],
   "source": [
    "for i in range(toospec.num_spectra()):\n",
    "    \n",
    "    fig, axes = plt.subplots(1,2, figsize=(16,5), gridspec_kw={'width_ratios':[3,1.1]},\n",
    "                             tight_layout=True)\n",
    "    \n",
    "    # Plot the spectra.\n",
    "    ax = axes[0]\n",
    "    \n",
    "    fmin, fmax = 1e99, -1e99\n",
    "    for band in 'brz':\n",
    "        smoothed = gaussian_filter1d(toospec.flux[band][i], 5)\n",
    "        fmin = np.minimum(fmin, np.min(smoothed))\n",
    "        fmax = np.maximum(fmax, np.max(smoothed))\n",
    "        ax.plot(toospec.wave[band], smoothed)\n",
    "        \n",
    "    zbest = toospec.extra_catalog[i]\n",
    "    z = zbest['Z']\n",
    "    dchi2 = zbest['DELTACHI2']\n",
    "    zwarn = zbest['ZWARN']\n",
    "    sptype = zbest['SPECTYPE']\n",
    "    print(dchi2, zwarn)\n",
    "    \n",
    "    for eline in emi_lines:\n",
    "        wl = eline['lambda']*(1 + z)\n",
    "        if wl > 3600 and wl < 9800:\n",
    "            ax.axvline(wl, ls='--', color='k', alpha=0.3)\n",
    "            ax.text(wl+20, fmin, eline['name'], fontsize=8, rotation=90, alpha=0.3)\n",
    "\n",
    "    for aline in abs_lines:\n",
    "        wl = aline['lambda']*(1 + z)\n",
    "        if wl > 3600 and wl < 9800:\n",
    "            ax.axvline(wl, ls='--', color='r', alpha=0.3)\n",
    "            ax.text(wl+20, 0.95*fmax, aline['name'], color='r', fontsize=8, rotation=90, alpha=0.3)\n",
    "\n",
    "    ax.set(xlabel=r'$\\lambda_{\\mathrm{obs}}$ [$\\AA$]',\n",
    "           xlim=(3500,9900),\n",
    "           ylabel=r'flux [erg s$^{-1}$ cm$^{-2}$ $\\AA^{-1}$]',\n",
    "           title=r'{}; $z={:.3f}$ ($\\Delta\\chi^2={:.5g}$; ZWARN=0x{:x}; SPECTYPE={:s})'.format(toospec.fibermap[i]['TARGETID'], z, dchi2, zwarn, sptype.decode('utf-8')),\n",
    "          )\n",
    "    \n",
    "    # Plot the image cutout.\n",
    "    ax = axes[1]\n",
    "    \n",
    "    obj = toospec.fibermap[i]\n",
    "    img_file = get_cutout(obj['TARGETID'], obj['TARGET_RA'], obj['TARGET_DEC'])\n",
    "    img = mpl.image.imread(img_file)\n",
    "\n",
    "    ax.imshow(img)\n",
    "\n",
    "    x1, x2, x3, x4 = [90, 90], [70, 80], [90, 90], [100,110]\n",
    "    y1, y2, y3, y4 = [70, 80], [90, 90], [100,110], [90,90]\n",
    "    ax.plot(x1, y1, x2, y2, x3, y3, x4, y4, color='r', linewidth=2, alpha=0.7)\n",
    "    ax.text(5,15, '{:3s} = {}\\n{:3s} = {}'.format('RA', obj['TARGET_RA'], 'Dec', obj['TARGET_DEC']), color='yellow', fontsize=9)\n",
    "    ax.set(aspect='equal')\n",
    "    ax.axis('off')\n",
    "    \n",
    "    fig.savefig('spec_cutout_{}.png'.format(obj['TARGETID']), dpi=100)"
   ]
  },
  {
   "cell_type": "code",
   "execution_count": null,
   "metadata": {},
   "outputs": [],
   "source": []
  }
 ],
 "metadata": {
  "kernelspec": {
   "display_name": "DESI master",
   "language": "python",
   "name": "desi-master"
  },
  "language_info": {
   "codemirror_mode": {
    "name": "ipython",
    "version": 3
   },
   "file_extension": ".py",
   "mimetype": "text/x-python",
   "name": "python",
   "nbconvert_exporter": "python",
   "pygments_lexer": "ipython3",
   "version": "3.8.3"
  }
 },
 "nbformat": 4,
 "nbformat_minor": 4
}
