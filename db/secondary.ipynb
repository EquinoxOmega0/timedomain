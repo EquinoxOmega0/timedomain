{
 "cells": [
  {
   "cell_type": "code",
   "execution_count": 1,
   "metadata": {},
   "outputs": [],
   "source": [
    "from TileDate import *\n",
    "import os\n",
    "import fitsio\n",
    "from desispec.io import read_fibermap"
   ]
  },
  {
   "cell_type": "code",
   "execution_count": 2,
   "metadata": {},
   "outputs": [],
   "source": [
    "## Secondary target output files"
   ]
  },
  {
   "cell_type": "code",
   "execution_count": 3,
   "metadata": {},
   "outputs": [],
   "source": [
    "db=TileDate()"
   ]
  },
  {
   "cell_type": "code",
   "execution_count": 4,
   "metadata": {},
   "outputs": [
    {
     "name": "stdout",
     "output_type": "stream",
     "text": [
      "20210411\n",
      "couldn't add daily twice\n",
      "couldn't add daily twice\n",
      "couldn't add daily twice\n",
      "couldn't add daily twice\n",
      "couldn't add daily twice\n",
      "couldn't add daily twice\n",
      "couldn't add daily twice\n",
      "couldn't add daily twice\n",
      "couldn't add daily twice\n",
      "couldn't add daily twice\n",
      "couldn't add daily twice\n"
     ]
    }
   ],
   "source": [
    "db.load_daily(createTable=False)"
   ]
  },
  {
   "cell_type": "code",
   "execution_count": 4,
   "metadata": {},
   "outputs": [
    {
     "name": "stdout",
     "output_type": "stream",
     "text": [
      "/global/cfs/cdirs/desi/survey/ops/surveyops/trunk/mtl/sv2/bright/sv2mtl-bright-hp-1510.ecsv\n",
      "INSERT INTO tiles VALUES ('39633289471854119', '-1');\n"
     ]
    },
    {
     "ename": "NameError",
     "evalue": "name 'wefwfe' is not defined",
     "output_type": "error",
     "traceback": [
      "\u001b[0;31m---------------------------------------------------------------------------\u001b[0m",
      "\u001b[0;31mNameError\u001b[0m                                 Traceback (most recent call last)",
      "\u001b[0;32m<ipython-input-4-e7b3b34fab0b>\u001b[0m in \u001b[0;36m<module>\u001b[0;34m\u001b[0m\n\u001b[0;32m----> 1\u001b[0;31m \u001b[0mdb\u001b[0m\u001b[0;34m.\u001b[0m\u001b[0mload_tiles\u001b[0m\u001b[0;34m(\u001b[0m\u001b[0mcreateTable\u001b[0m\u001b[0;34m=\u001b[0m\u001b[0;32mFalse\u001b[0m\u001b[0;34m)\u001b[0m\u001b[0;34m\u001b[0m\u001b[0;34m\u001b[0m\u001b[0m\n\u001b[0m",
      "\u001b[0;32m/global/cscratch1/sd/akim/project/timedomain/db/TileDate.py\u001b[0m in \u001b[0;36mload_tiles\u001b[0;34m(self, createTable)\u001b[0m\n\u001b[1;32m    127\u001b[0m                                 \u001b[0mcommand\u001b[0m \u001b[0;34m=\u001b[0m \u001b[0;34m\"INSERT INTO {} VALUES ('{}', '{}');\"\u001b[0m\u001b[0;34m.\u001b[0m\u001b[0mformat\u001b[0m\u001b[0;34m(\u001b[0m\u001b[0mtable_name\u001b[0m\u001b[0;34m,\u001b[0m\u001b[0mt\u001b[0m\u001b[0;34m,\u001b[0m\u001b[0mz\u001b[0m\u001b[0;34m)\u001b[0m\u001b[0;34m\u001b[0m\u001b[0;34m\u001b[0m\u001b[0m\n\u001b[1;32m    128\u001b[0m                                 \u001b[0mprint\u001b[0m\u001b[0;34m(\u001b[0m\u001b[0mcommand\u001b[0m\u001b[0;34m)\u001b[0m\u001b[0;34m\u001b[0m\u001b[0;34m\u001b[0m\u001b[0m\n\u001b[0;32m--> 129\u001b[0;31m                                 \u001b[0mwefwfe\u001b[0m\u001b[0;34m\u001b[0m\u001b[0;34m\u001b[0m\u001b[0m\n\u001b[0m\u001b[1;32m    130\u001b[0m                                 \u001b[0;32mtry\u001b[0m\u001b[0;34m:\u001b[0m\u001b[0;34m\u001b[0m\u001b[0;34m\u001b[0m\u001b[0m\n\u001b[1;32m    131\u001b[0m                                     \u001b[0mself\u001b[0m\u001b[0;34m.\u001b[0m\u001b[0mcur\u001b[0m\u001b[0;34m.\u001b[0m\u001b[0mexecute\u001b[0m\u001b[0;34m(\u001b[0m\u001b[0mcommand\u001b[0m\u001b[0;34m)\u001b[0m\u001b[0;34m\u001b[0m\u001b[0;34m\u001b[0m\u001b[0m\n",
      "\u001b[0;31mNameError\u001b[0m: name 'wefwfe' is not defined"
     ]
    }
   ],
   "source": [
    "db.load_tiles(createTable=False)"
   ]
  },
  {
   "cell_type": "code",
   "execution_count": 8,
   "metadata": {},
   "outputs": [],
   "source": [
    "fits = fitsio.FITS(\"/global/cfs/cdirs/desi/target/secondary/sv3/outdata/0.57.0/bright/MWS_CLUS_GAL_DEEP.fits\")"
   ]
  },
  {
   "cell_type": "code",
   "execution_count": 9,
   "metadata": {},
   "outputs": [],
   "source": [
    "data = fits[1]['TARGETID','RA','DEC']"
   ]
  },
  {
   "cell_type": "code",
   "execution_count": 13,
   "metadata": {},
   "outputs": [
    {
     "name": "stdout",
     "output_type": "stream",
     "text": [
      "  file: /global/cfs/cdirs/desi/target/secondary/sv3/outdata/0.57.0/bright/MWS_CLUS_GAL_DEEP.fits\n",
      "  extension: 1\n",
      "  type: BINARY_TBL\n",
      "  rows: 10541\n",
      "  column subset:\n",
      "    TARGETID            i8     file: /global/cfs/cdirs/desi/target/secondary/sv3/outdata/0.57.0/bright/MWS_CLUS_GAL_DEEP.fits\n",
      "  extension: 1\n",
      "  type: BINARY_TBL\n",
      "  rows: 10541\n",
      "  column subset:\n",
      "    RA                  f8     file: /global/cfs/cdirs/desi/target/secondary/sv3/outdata/0.57.0/bright/MWS_CLUS_GAL_DEEP.fits\n",
      "  extension: 1\n",
      "  type: BINARY_TBL\n",
      "  rows: 10541\n",
      "  column subset:\n",
      "    DEC                 f8  \n"
     ]
    }
   ],
   "source": [
    "print(data['TARGETID'],data['RA'],data['DEC'])"
   ]
  },
  {
   "cell_type": "code",
   "execution_count": 21,
   "metadata": {},
   "outputs": [
    {
     "data": {
      "text/plain": [
       "array([  39633353078475139,   39633356345838912,   39633356345839665, ...,\n",
       "       2305843014142007433,   39628277924497518, 2305843014142003017])"
      ]
     },
     "execution_count": 21,
     "metadata": {},
     "output_type": "execute_result"
    }
   ],
   "source": [
    "data['TARGETID'].read()"
   ]
  },
  {
   "cell_type": "code",
   "execution_count": 24,
   "metadata": {},
   "outputs": [],
   "source": [
    "data = fits[1]['RA','TARGETID','DEC']"
   ]
  },
  {
   "cell_type": "code",
   "execution_count": 25,
   "metadata": {},
   "outputs": [
    {
     "data": {
      "text/plain": [
       "  file: /global/cfs/cdirs/desi/target/secondary/sv3/outdata/0.57.0/bright/MWS_CLUS_GAL_DEEP.fits\n",
       "  extension: 1\n",
       "  type: BINARY_TBL\n",
       "  rows: 10541\n",
       "  column subset:\n",
       "    RA                  f8  \n",
       "    DEC                 f8  \n",
       "    TARGETID            i8  "
      ]
     },
     "execution_count": 25,
     "metadata": {},
     "output_type": "execute_result"
    }
   ],
   "source": [
    "data"
   ]
  },
  {
   "cell_type": "code",
   "execution_count": 7,
   "metadata": {},
   "outputs": [
    {
     "name": "stdout",
     "output_type": "stream",
     "text": [
      "\n",
      ".headers on\n",
      ".mode csv\n",
      ".output temp.csv\n",
      "\n",
      "SELECT targets.PROGRAM, targets.RA, targets.DEC, tiles.TARGETID, daily.TILEID,  daily.YYYYMMDD\n",
      "FROM daily\n",
      "INNER JOIN tiles\n",
      "    ON daily.TILEID = tiles.TILEID\n",
      "INNER JOIN targets \n",
      "    ON tiles.TARGETID = targets.TARGETID\n",
      "WHERE targets.PROGRAM LIKE \"PV_%\"\n",
      "ORDER BY\n",
      "    targets.PROGRAM,\n",
      "    tiles.TARGETID,\n",
      "    daily.TILEID,\n",
      "    daily.YYYYMMDD;\n",
      "\n"
     ]
    }
   ],
   "source": [
    "command = '''\n",
    ".headers on\n",
    ".mode csv\n",
    ".output temp.csv\n",
    "\n",
    "SELECT targets.PROGRAM, targets.RA, targets.DEC, tiles.TARGETID, daily.TILEID,  daily.YYYYMMDD\n",
    "FROM daily\n",
    "INNER JOIN tiles\n",
    "    ON daily.TILEID = tiles.TILEID\n",
    "INNER JOIN targets \n",
    "    ON tiles.TARGETID = targets.TARGETID\n",
    "WHERE targets.PROGRAM LIKE \"PV_%\"\n",
    "ORDER BY\n",
    "    targets.PROGRAM,\n",
    "    tiles.TARGETID,\n",
    "    daily.TILEID,\n",
    "    daily.YYYYMMDD;\n",
    "'''\n",
    "print(command)"
   ]
  },
  {
   "cell_type": "code",
   "execution_count": 1,
   "metadata": {},
   "outputs": [
    {
     "name": "stdout",
     "output_type": "stream",
     "text": [
      "\n",
      "SELECT daily.TILEID,  daily.YYYYMMDD\n",
      "FROM daily\n",
      "INNER JOIN tiles\n",
      "    ON daily.TILEID = tiles.TILEID\n",
      "INNER JOIN targets \n",
      "    ON tiles.TARGETID = targets.TARGETID\n",
      "WHERE tiles.TARGETID = \"1071195856306181\";\n",
      "\n"
     ]
    }
   ],
   "source": [
    "command = '''\n",
    "SELECT daily.TILEID,  daily.YYYYMMDD\n",
    "FROM daily\n",
    "INNER JOIN tiles\n",
    "    ON daily.TILEID = tiles.TILEID\n",
    "INNER JOIN targets \n",
    "    ON tiles.TARGETID = targets.TARGETID\n",
    "WHERE tiles.TARGETID = \"1071195856306181\";\n",
    "'''\n",
    "print(command)"
   ]
  },
  {
   "cell_type": "code",
   "execution_count": 55,
   "metadata": {},
   "outputs": [
    {
     "data": {
      "text/plain": [
       "<sqlite3.Cursor at 0x2aaadeab3c70>"
      ]
     },
     "execution_count": 55,
     "metadata": {},
     "output_type": "execute_result"
    }
   ],
   "source": [
    "db.cur.execute(command)"
   ]
  },
  {
   "cell_type": "code",
   "execution_count": null,
   "metadata": {},
   "outputs": [],
   "source": [
    "SELECT tiles.TARGETID, daily.TILEID,  daily.YYYYMMDD\n",
    "FROM daily\n",
    "INNER JOIN tiles\n",
    "    ON daily.TILEID = tiles.TILEID\n",
    "ORDER BY tiles.TARGETID;"
   ]
  },
  {
   "cell_type": "code",
   "execution_count": 6,
   "metadata": {},
   "outputs": [],
   "source": [
    "ans = TileDate.byTARGETID(1071195856306181)"
   ]
  },
  {
   "cell_type": "code",
   "execution_count": 7,
   "metadata": {},
   "outputs": [
    {
     "data": {
      "text/plain": [
       "[('174', '20210405')]"
      ]
     },
     "execution_count": 7,
     "metadata": {},
     "output_type": "execute_result"
    }
   ],
   "source": [
    "ans"
   ]
  }
 ],
 "metadata": {
  "kernelspec": {
   "display_name": "DESI master",
   "language": "python",
   "name": "desi-master"
  },
  "language_info": {
   "codemirror_mode": {
    "name": "ipython",
    "version": 3
   },
   "file_extension": ".py",
   "mimetype": "text/x-python",
   "name": "python",
   "nbconvert_exporter": "python",
   "pygments_lexer": "ipython3",
   "version": "3.8.3"
  }
 },
 "nbformat": 4,
 "nbformat_minor": 4
}
