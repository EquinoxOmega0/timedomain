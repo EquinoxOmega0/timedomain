{
 "cells": [
  {
   "cell_type": "markdown",
   "metadata": {},
   "source": [
    "# PV Secondary Targeting\n",
    "\n",
    "Parse a set of PV observations created using the script\n",
    "\n",
    "`/path/to/timedomain/bin/td_from_program PV > pv_tgt.out`"
   ]
  },
  {
   "cell_type": "code",
   "execution_count": 1,
   "metadata": {},
   "outputs": [],
   "source": [
    "import os\n",
    "from astropy.io import ascii, fits\n",
    "from astropy.table import join, hstack, vstack, Table\n",
    "\n",
    "import numpy as np\n",
    "import matplotlib as mpl\n",
    "import matplotlib.pyplot as plt"
   ]
  },
  {
   "cell_type": "code",
   "execution_count": 2,
   "metadata": {},
   "outputs": [],
   "source": [
    "mpl.rc('font', size=16)"
   ]
  },
  {
   "cell_type": "markdown",
   "metadata": {},
   "source": [
    "## Load PV Target ASCII DB\n",
    "\n",
    "Load the PV secondary targets from an ASCII file.\n",
    "Then plot the data."
   ]
  },
  {
   "cell_type": "code",
   "execution_count": 3,
   "metadata": {},
   "outputs": [
    {
     "data": {
      "text/html": [
       "<i>Table length=19697</i>\n",
       "<table id=\"table46913207190384\" class=\"table-striped table-bordered table-condensed\">\n",
       "<thead><tr><th>PROGRAM</th><th>RA</th><th>DEC</th><th>TARGETID</th><th>TILEID</th><th>DATE</th><th>PETAL</th></tr></thead>\n",
       "<thead><tr><th>str14</th><th>float64</th><th>float64</th><th>int64</th><th>int64</th><th>int64</th><th>int64</th></tr></thead>\n",
       "<tr><td>PV_BRIGHT_HIGH</td><td>149.171684545314</td><td>2.16060616970239</td><td>1070167824007172</td><td>13</td><td>20210407</td><td>3</td></tr>\n",
       "<tr><td>PV_BRIGHT_HIGH</td><td>149.658076810033</td><td>0.868788172013763</td><td>1070131593609233</td><td>14</td><td>20210408</td><td>1</td></tr>\n",
       "<tr><td>PV_BRIGHT_HIGH</td><td>150.356606634878</td><td>3.59611185445412</td><td>1070198031384587</td><td>14</td><td>20210408</td><td>5</td></tr>\n",
       "<tr><td>PV_BRIGHT_HIGH</td><td>150.267396959543</td><td>3.33093628066686</td><td>1070191999975425</td><td>14</td><td>20210408</td><td>5</td></tr>\n",
       "<tr><td>PV_BRIGHT_HIGH</td><td>151.099800148199</td><td>2.56094576885652</td><td>1070173897359360</td><td>14</td><td>20210408</td><td>7</td></tr>\n",
       "<tr><td>PV_BRIGHT_HIGH</td><td>151.403281837345</td><td>1.84924206413151</td><td>1070155782160385</td><td>14</td><td>20210408</td><td>8</td></tr>\n",
       "<tr><td>PV_BRIGHT_HIGH</td><td>151.006785108655</td><td>1.62447667017721</td><td>1070149738168328</td><td>14</td><td>20210408</td><td>9</td></tr>\n",
       "<tr><td>PV_BRIGHT_HIGH</td><td>151.145673966004</td><td>1.52285422698331</td><td>1070149738168325</td><td>14</td><td>20210408</td><td>9</td></tr>\n",
       "<tr><td>PV_BRIGHT_HIGH</td><td>150.823041569144</td><td>1.50048971567638</td><td>1070149733974017</td><td>14</td><td>20210408</td><td>9</td></tr>\n",
       "<tr><td>PV_BRIGHT_HIGH</td><td>149.650472200741</td><td>1.0139827475836</td><td>1070137633406992</td><td>15</td><td>20210412</td><td>0</td></tr>\n",
       "<tr><td>...</td><td>...</td><td>...</td><td>...</td><td>...</td><td>...</td><td>...</td></tr>\n",
       "<tr><td>PV_DARK_MEDIUM</td><td>179.730816547058</td><td>53.3529376557132</td><td>39633296992240764</td><td>81075</td><td>20210404</td><td>8</td></tr>\n",
       "<tr><td>PV_DARK_MEDIUM</td><td>179.313579614454</td><td>53.2661168219959</td><td>39633296988046660</td><td>81075</td><td>20210404</td><td>8</td></tr>\n",
       "<tr><td>PV_DARK_MEDIUM</td><td>179.206906551875</td><td>53.1602359475968</td><td>39633296988045668</td><td>81075</td><td>20210404</td><td>8</td></tr>\n",
       "<tr><td>PV_DARK_MEDIUM</td><td>179.14704147135</td><td>53.0391176228969</td><td>39633293343198436</td><td>81075</td><td>20210404</td><td>8</td></tr>\n",
       "<tr><td>PV_DARK_MEDIUM</td><td>179.19660937682</td><td>52.4843372991077</td><td>39633286003163309</td><td>81075</td><td>20210404</td><td>9</td></tr>\n",
       "<tr><td>PV_DARK_MEDIUM</td><td>178.793786901666</td><td>52.3548291416413</td><td>39633282295398524</td><td>81075</td><td>20210404</td><td>9</td></tr>\n",
       "<tr><td>PV_DARK_MEDIUM</td><td>178.838277438704</td><td>52.4939614219251</td><td>39633285998969372</td><td>81075</td><td>20210404</td><td>9</td></tr>\n",
       "<tr><td>PV_DARK_MEDIUM</td><td>178.501258335074</td><td>52.9214081605813</td><td>39633293339002278</td><td>81075</td><td>20210404</td><td>9</td></tr>\n",
       "<tr><td>PV_DARK_MEDIUM</td><td>177.973721565376</td><td>53.0999301397333</td><td>39633293334806869</td><td>81075</td><td>20210404</td><td>9</td></tr>\n",
       "<tr><td>PV_DARK_MEDIUM</td><td>178.334568420484</td><td>52.931399456746</td><td>39633293334809761</td><td>81075</td><td>20210404</td><td>9</td></tr>\n",
       "</table>"
      ],
      "text/plain": [
       "<Table length=19697>\n",
       "   PROGRAM            RA               DEC        ... TILEID   DATE   PETAL\n",
       "    str14          float64           float64      ... int64   int64   int64\n",
       "-------------- ---------------- ----------------- ... ------ -------- -----\n",
       "PV_BRIGHT_HIGH 149.171684545314  2.16060616970239 ...     13 20210407     3\n",
       "PV_BRIGHT_HIGH 149.658076810033 0.868788172013763 ...     14 20210408     1\n",
       "PV_BRIGHT_HIGH 150.356606634878  3.59611185445412 ...     14 20210408     5\n",
       "PV_BRIGHT_HIGH 150.267396959543  3.33093628066686 ...     14 20210408     5\n",
       "PV_BRIGHT_HIGH 151.099800148199  2.56094576885652 ...     14 20210408     7\n",
       "PV_BRIGHT_HIGH 151.403281837345  1.84924206413151 ...     14 20210408     8\n",
       "PV_BRIGHT_HIGH 151.006785108655  1.62447667017721 ...     14 20210408     9\n",
       "PV_BRIGHT_HIGH 151.145673966004  1.52285422698331 ...     14 20210408     9\n",
       "PV_BRIGHT_HIGH 150.823041569144  1.50048971567638 ...     14 20210408     9\n",
       "PV_BRIGHT_HIGH 149.650472200741   1.0139827475836 ...     15 20210412     0\n",
       "           ...              ...               ... ...    ...      ...   ...\n",
       "PV_DARK_MEDIUM 179.730816547058  53.3529376557132 ...  81075 20210404     8\n",
       "PV_DARK_MEDIUM 179.313579614454  53.2661168219959 ...  81075 20210404     8\n",
       "PV_DARK_MEDIUM 179.206906551875  53.1602359475968 ...  81075 20210404     8\n",
       "PV_DARK_MEDIUM  179.14704147135  53.0391176228969 ...  81075 20210404     8\n",
       "PV_DARK_MEDIUM  179.19660937682  52.4843372991077 ...  81075 20210404     9\n",
       "PV_DARK_MEDIUM 178.793786901666  52.3548291416413 ...  81075 20210404     9\n",
       "PV_DARK_MEDIUM 178.838277438704  52.4939614219251 ...  81075 20210404     9\n",
       "PV_DARK_MEDIUM 178.501258335074  52.9214081605813 ...  81075 20210404     9\n",
       "PV_DARK_MEDIUM 177.973721565376  53.0999301397333 ...  81075 20210404     9\n",
       "PV_DARK_MEDIUM 178.334568420484   52.931399456746 ...  81075 20210404     9"
      ]
     },
     "execution_count": 3,
     "metadata": {},
     "output_type": "execute_result"
    }
   ],
   "source": [
    "pv_targets = ascii.read('pv_tgt.out', delimiter='|',\n",
    "                        names=['PROGRAM', 'RA', 'DEC', 'TARGETID', 'TILEID', 'DATE', 'PETAL'])\n",
    "pv_targets"
   ]
  },
  {
   "cell_type": "code",
   "execution_count": 4,
   "metadata": {},
   "outputs": [],
   "source": [
    "def plot_radec(table):\n",
    "    \"\"\"Mollweide projection plot adapted to astro coordinates.\n",
    "    \n",
    "    Parameters\n",
    "    ----------\n",
    "    table : astropy.table.Table\n",
    "        Data table with secondary target info.\n",
    "    \n",
    "    Returns\n",
    "    -------\n",
    "    fig : matplotlib.Figure\n",
    "        Figure object to let user apply further plot manipulation.\n",
    "    \"\"\"\n",
    "    fig, ax = plt.subplots(1,1, figsize=(8,4), subplot_kw={'projection': 'mollweide'})\n",
    "    \n",
    "    # Loop through unique classes.\n",
    "    class_names = np.unique(table['PROGRAM'])\n",
    "    for class_name in class_names:\n",
    "        select = table['PROGRAM'] == class_name\n",
    "        \n",
    "        # Convert RA, Dec to radians.\n",
    "        # Rotate the RA so that the plot goes 360->0 left to right.\n",
    "        _ra = np.radians(180. - table[select]['RA'])\n",
    "        _dec = np.radians(table[select]['DEC'])\n",
    "        ax.scatter(_ra, _dec, alpha=0.5, s=5, label=class_name)\n",
    "\n",
    "    # Clean up the plot and return the Figure object.\n",
    "    ax.set(xticks=np.radians([-150, -120, -90, -60, -30, 0, 30, 60, 90, 120, 150]),\n",
    "           xticklabels=['22h', '20h', '18h', '16h', '14h', '12h', '10h', '8h', '6h', '4h', '2h'])\n",
    "    ax.tick_params(axis='x', labelsize=10)\n",
    "    ax.tick_params(axis='y', labelsize=10)\n",
    "    ax.grid(ls=':')\n",
    "    \n",
    "    ax.legend(fontsize=8, loc='lower right')\n",
    "    fig.tight_layout()\n",
    "\n",
    "    return fig;"
   ]
  },
  {
   "cell_type": "code",
   "execution_count": 5,
   "metadata": {},
   "outputs": [
    {
     "data": {
      "image/png": "[encoded data removed]",
      "text/plain": [
       "<Figure size 576x288 with 1 Axes>"
      ]
     },
     "metadata": {
      "needs_background": "light"
     },
     "output_type": "display_data"
    }
   ],
   "source": [
    "fig = plot_radec(pv_targets)"
   ]
  },
  {
   "cell_type": "markdown",
   "metadata": {},
   "source": [
    "## Extract Object Redshifts\n",
    "\n",
    "For each object in the table, extract the redshift. There is an efficient way to do this and a stupid way. Let's get stupid."
   ]
  },
  {
   "cell_type": "code",
   "execution_count": 12,
   "metadata": {},
   "outputs": [
    {
     "name": "stdout",
     "output_type": "stream",
     "text": [
      "100 out of 19697\n",
      "200 out of 19697\n",
      "300 out of 19697\n",
      "400 out of 19697\n",
      "500 out of 19697\n",
      "600 out of 19697\n",
      "700 out of 19697\n",
      "800 out of 19697\n",
      "900 out of 19697\n",
      "1000 out of 19697\n",
      "1100 out of 19697\n",
      "1200 out of 19697\n",
      "1300 out of 19697\n",
      "1400 out of 19697\n",
      "1500 out of 19697\n",
      "1600 out of 19697\n",
      "1700 out of 19697\n",
      "1800 out of 19697\n",
      "1900 out of 19697\n",
      "2000 out of 19697\n",
      "2100 out of 19697\n",
      "2200 out of 19697\n",
      "2300 out of 19697\n",
      "2400 out of 19697\n",
      "2500 out of 19697\n",
      "2600 out of 19697\n",
      "2700 out of 19697\n",
      "2800 out of 19697\n",
      "2900 out of 19697\n",
      "3000 out of 19697\n",
      "3100 out of 19697\n",
      "3200 out of 19697\n",
      "3300 out of 19697\n",
      "3400 out of 19697\n",
      "3500 out of 19697\n",
      "3600 out of 19697\n",
      "3700 out of 19697\n",
      "3800 out of 19697\n",
      "3900 out of 19697\n",
      "4000 out of 19697\n",
      "4100 out of 19697\n",
      "4200 out of 19697\n",
      "4300 out of 19697\n",
      "4400 out of 19697\n",
      "4500 out of 19697\n",
      "4600 out of 19697\n",
      "4700 out of 19697\n",
      "4800 out of 19697\n",
      "4900 out of 19697\n",
      "5000 out of 19697\n",
      "5100 out of 19697\n",
      "5200 out of 19697\n",
      "5300 out of 19697\n",
      "5400 out of 19697\n",
      "5500 out of 19697\n",
      "5600 out of 19697\n",
      "5700 out of 19697\n",
      "5800 out of 19697\n",
      "5900 out of 19697\n",
      "6000 out of 19697\n",
      "6100 out of 19697\n",
      "6200 out of 19697\n",
      "6300 out of 19697\n",
      "6400 out of 19697\n",
      "6500 out of 19697\n",
      "6600 out of 19697\n",
      "6700 out of 19697\n",
      "6800 out of 19697\n",
      "6900 out of 19697\n",
      "7000 out of 19697\n",
      "7100 out of 19697\n",
      "7200 out of 19697\n",
      "7300 out of 19697\n",
      "7400 out of 19697\n",
      "7500 out of 19697\n",
      "7600 out of 19697\n",
      "7700 out of 19697\n",
      "7800 out of 19697\n",
      "7900 out of 19697\n",
      "8000 out of 19697\n",
      "8100 out of 19697\n",
      "8200 out of 19697\n",
      "8300 out of 19697\n",
      "8400 out of 19697\n",
      "8500 out of 19697\n",
      "8600 out of 19697\n",
      "8700 out of 19697\n",
      "8800 out of 19697\n",
      "8900 out of 19697\n",
      "9000 out of 19697\n",
      "9100 out of 19697\n",
      "9200 out of 19697\n",
      "9300 out of 19697\n",
      "9400 out of 19697\n",
      "9500 out of 19697\n",
      "9600 out of 19697\n",
      "9700 out of 19697\n",
      "9800 out of 19697\n",
      "9900 out of 19697\n",
      "10000 out of 19697\n",
      "10100 out of 19697\n",
      "10200 out of 19697\n",
      "10300 out of 19697\n",
      "10400 out of 19697\n",
      "10500 out of 19697\n",
      "10600 out of 19697\n",
      "10700 out of 19697\n",
      "10800 out of 19697\n",
      "10900 out of 19697\n",
      "11000 out of 19697\n",
      "11100 out of 19697\n",
      "11200 out of 19697\n",
      "11300 out of 19697\n",
      "11400 out of 19697\n",
      "11500 out of 19697\n",
      "11600 out of 19697\n",
      "11700 out of 19697\n",
      "11800 out of 19697\n",
      "11900 out of 19697\n",
      "12000 out of 19697\n",
      "12100 out of 19697\n",
      "12200 out of 19697\n",
      "12300 out of 19697\n",
      "12400 out of 19697\n",
      "12500 out of 19697\n",
      "12600 out of 19697\n",
      "12700 out of 19697\n",
      "12800 out of 19697\n",
      "12900 out of 19697\n",
      "13000 out of 19697\n",
      "13100 out of 19697\n",
      "13200 out of 19697\n",
      "13300 out of 19697\n",
      "13400 out of 19697\n",
      "13500 out of 19697\n",
      "13600 out of 19697\n",
      "13700 out of 19697\n",
      "13800 out of 19697\n",
      "13900 out of 19697\n",
      "14000 out of 19697\n",
      "14100 out of 19697\n",
      "14200 out of 19697\n",
      "14300 out of 19697\n",
      "14400 out of 19697\n",
      "14500 out of 19697\n",
      "14600 out of 19697\n",
      "14700 out of 19697\n",
      "14800 out of 19697\n",
      "14900 out of 19697\n",
      "15000 out of 19697\n",
      "15100 out of 19697\n",
      "15200 out of 19697\n",
      "15300 out of 19697\n",
      "15400 out of 19697\n",
      "15500 out of 19697\n",
      "15600 out of 19697\n",
      "15700 out of 19697\n",
      "15800 out of 19697\n",
      "15900 out of 19697\n",
      "16000 out of 19697\n",
      "16100 out of 19697\n",
      "16200 out of 19697\n",
      "16300 out of 19697\n",
      "16400 out of 19697\n",
      "16500 out of 19697\n",
      "16600 out of 19697\n",
      "16700 out of 19697\n",
      "16800 out of 19697\n",
      "16900 out of 19697\n",
      "17000 out of 19697\n",
      "17100 out of 19697\n",
      "17200 out of 19697\n",
      "17300 out of 19697\n",
      "17400 out of 19697\n",
      "17500 out of 19697\n",
      "17600 out of 19697\n",
      "17700 out of 19697\n",
      "17800 out of 19697\n",
      "17900 out of 19697\n",
      "18000 out of 19697\n",
      "18100 out of 19697\n",
      "18200 out of 19697\n",
      "18300 out of 19697\n",
      "18400 out of 19697\n",
      "18500 out of 19697\n",
      "18600 out of 19697\n",
      "18700 out of 19697\n",
      "18800 out of 19697\n",
      "18900 out of 19697\n",
      "19000 out of 19697\n",
      "19100 out of 19697\n",
      "19200 out of 19697\n",
      "19300 out of 19697\n",
      "19400 out of 19697\n",
      "19500 out of 19697\n",
      "19600 out of 19697\n"
     ]
    }
   ],
   "source": [
    "redux = 'daily'\n",
    "\n",
    "ztable = None\n",
    "\n",
    "for i, pv_target in enumerate(pv_targets):\n",
    "    zbdir = '{}/{}/tiles/{}/{}'.format(os.environ['DESI_SPECTRO_REDUX'], redux, pv_target['TILEID'], pv_target['DATE'])\n",
    "    zbfile = '{}/zbest-{}-{}-{}.fits'.format(zbdir, pv_target['PETAL'], pv_target['TILEID'], pv_target['DATE'])\n",
    "    if os.path.exists(zbfile):\n",
    "        hdus = fits.open(zbfile)\n",
    "        zbest = hdus['ZBEST'].data\n",
    "        select = zbest['TARGETID'] == pv_target['TARGETID']\n",
    "        if ztable is None:\n",
    "            ztable = join(pv_target, zbest[select], keys='TARGETID')\n",
    "        else:\n",
    "            ztable = vstack([ztable, join(pv_target, zbest[select], keys='TARGETID')])\n",
    "            \n",
    "    if (i+1)%100 == 0:\n",
    "        print('{} out of {}'.format(i+1, len(pv_targets)))"
   ]
  },
  {
   "cell_type": "code",
   "execution_count": 13,
   "metadata": {},
   "outputs": [
    {
     "data": {
      "text/html": [
       "<i>Table length=19697</i>\n",
       "<table id=\"table46913222479200\" class=\"table-striped table-bordered table-condensed\">\n",
       "<thead><tr><th>PROGRAM</th><th>RA</th><th>DEC</th><th>TARGETID</th><th>TILEID</th><th>DATE</th><th>PETAL</th><th>CHI2</th><th>COEFF [10]</th><th>Z</th><th>ZERR</th><th>ZWARN</th><th>NPIXELS</th><th>SPECTYPE</th><th>SUBTYPE</th><th>NCOEFF</th><th>DELTACHI2</th><th>NUMEXP</th><th>NUMTILE</th></tr></thead>\n",
       "<thead><tr><th>str14</th><th>float64</th><th>float64</th><th>int64</th><th>int64</th><th>int64</th><th>int64</th><th>float64</th><th>float64</th><th>float64</th><th>float64</th><th>int64</th><th>int64</th><th>str6</th><th>str20</th><th>int64</th><th>float64</th><th>int32</th><th>int32</th></tr></thead>\n",
       "<tr><td>PV_BRIGHT_HIGH</td><td>149.171684545314</td><td>2.16060616970239</td><td>1070167824007172</td><td>13</td><td>20210407</td><td>3</td><td>8.999999999999996e+99</td><td>0.0 .. 0.0</td><td>-0.0019956912923479522</td><td>4.1311493573349107e-48</td><td>1570</td><td>0</td><td>STAR</td><td>CV</td><td>3</td><td>1.942668892225729e+84</td><td>0</td><td>1</td></tr>\n",
       "<tr><td>PV_BRIGHT_HIGH</td><td>149.658076810033</td><td>0.868788172013763</td><td>1070131593609233</td><td>14</td><td>20210408</td><td>1</td><td>8469.749970858873</td><td>237.75789083567935 .. 18.021563291706393</td><td>0.038746598824725795</td><td>0.00010953448354655893</td><td>0</td><td>7877</td><td>GALAXY</td><td></td><td>10</td><td>46.27306709883487</td><td>0</td><td>1</td></tr>\n",
       "<tr><td>PV_BRIGHT_HIGH</td><td>150.356606634878</td><td>3.59611185445412</td><td>1070198031384587</td><td>14</td><td>20210408</td><td>5</td><td>8.999999999999996e+99</td><td>0.0 .. 0.0</td><td>-0.0019957014509158224</td><td>4.131159871613317e-48</td><td>1570</td><td>0</td><td>STAR</td><td>CV</td><td>3</td><td>1.942668892225729e+84</td><td>0</td><td>1</td></tr>\n",
       "<tr><td>PV_BRIGHT_HIGH</td><td>150.267396959543</td><td>3.33093628066686</td><td>1070191999975425</td><td>14</td><td>20210408</td><td>5</td><td>8.999999999999996e+99</td><td>0.0 .. 0.0</td><td>-0.0019957014509158224</td><td>4.131159871613317e-48</td><td>1570</td><td>0</td><td>STAR</td><td>CV</td><td>3</td><td>1.942668892225729e+84</td><td>0</td><td>1</td></tr>\n",
       "<tr><td>PV_BRIGHT_HIGH</td><td>151.099800148199</td><td>2.56094576885652</td><td>1070173897359360</td><td>14</td><td>20210408</td><td>7</td><td>8251.109564840794</td><td>19.882904297979948 .. 11.817713694117097</td><td>0.9054548849070341</td><td>9.606776362361803e-05</td><td>4</td><td>7866</td><td>GALAXY</td><td></td><td>10</td><td>1.047316625714302</td><td>0</td><td>1</td></tr>\n",
       "<tr><td>PV_BRIGHT_HIGH</td><td>151.403281837345</td><td>1.84924206413151</td><td>1070155782160385</td><td>14</td><td>20210408</td><td>8</td><td>8226.589183844626</td><td>405.24166554708387 .. 13.374131213465573</td><td>0.3553936270155521</td><td>6.568253711579781e-05</td><td>0</td><td>7928</td><td>GALAXY</td><td></td><td>10</td><td>12.802025880664587</td><td>0</td><td>1</td></tr>\n",
       "<tr><td>PV_BRIGHT_HIGH</td><td>151.006785108655</td><td>1.62447667017721</td><td>1070149738168328</td><td>14</td><td>20210408</td><td>9</td><td>8119.4517160877585</td><td>-39.3437353346159 .. 13.718172020606795</td><td>0.5659037711076511</td><td>9.600278705613211e-05</td><td>4</td><td>7889</td><td>GALAXY</td><td></td><td>10</td><td>1.7127878293395042</td><td>0</td><td>1</td></tr>\n",
       "<tr><td>PV_BRIGHT_HIGH</td><td>151.145673966004</td><td>1.52285422698331</td><td>1070149738168325</td><td>14</td><td>20210408</td><td>9</td><td>8.999999999999996e+99</td><td>0.0 .. 0.0</td><td>-0.0019957014509158224</td><td>4.131159871613317e-48</td><td>1570</td><td>0</td><td>STAR</td><td>CV</td><td>3</td><td>1.942668892225729e+84</td><td>0</td><td>1</td></tr>\n",
       "<tr><td>PV_BRIGHT_HIGH</td><td>150.823041569144</td><td>1.50048971567638</td><td>1070149733974017</td><td>14</td><td>20210408</td><td>9</td><td>8265.773368000984</td><td>14.977162978802948 .. -23.413107338214203</td><td>0.22985611450182714</td><td>5.206470446416618e-05</td><td>4</td><td>7889</td><td>GALAXY</td><td></td><td>10</td><td>0.5678329467773438</td><td>0</td><td>1</td></tr>\n",
       "<tr><td>PV_BRIGHT_HIGH</td><td>149.650472200741</td><td>1.0139827475836</td><td>1070137633406992</td><td>15</td><td>20210412</td><td>0</td><td>8340.278816536069</td><td>46.0565374489041 .. 40.19741655082774</td><td>0.4528587523333081</td><td>4.8897029694990536e-05</td><td>4</td><td>7884</td><td>GALAXY</td><td></td><td>10</td><td>3.6058178320527077</td><td>0</td><td>1</td></tr>\n",
       "<tr><td>...</td><td>...</td><td>...</td><td>...</td><td>...</td><td>...</td><td>...</td><td>...</td><td>...</td><td>...</td><td>...</td><td>...</td><td>...</td><td>...</td><td>...</td><td>...</td><td>...</td><td>...</td><td>...</td></tr>\n",
       "<tr><td>PV_DARK_MEDIUM</td><td>179.730816547058</td><td>53.3529376557132</td><td>39633296992240764</td><td>81075</td><td>20210404</td><td>8</td><td>8.999999999999996e+99</td><td>0.0 .. 0.0</td><td>-0.0019957014509158224</td><td>4.131159871613317e-48</td><td>1570</td><td>0</td><td>STAR</td><td>CV</td><td>3</td><td>1.942668892225729e+84</td><td>0</td><td>1</td></tr>\n",
       "<tr><td>PV_DARK_MEDIUM</td><td>179.313579614454</td><td>53.2661168219959</td><td>39633296988046660</td><td>81075</td><td>20210404</td><td>8</td><td>9342.686239149421</td><td>2663.4328262537315 .. 313.85839802622814</td><td>0.049199398206834444</td><td>1.5395889187247857e-05</td><td>0</td><td>7846</td><td>GALAXY</td><td></td><td>10</td><td>1596.7586819566786</td><td>0</td><td>1</td></tr>\n",
       "<tr><td>PV_DARK_MEDIUM</td><td>179.206906551875</td><td>53.1602359475968</td><td>39633296988045668</td><td>81075</td><td>20210404</td><td>8</td><td>8641.18489333964</td><td>4212.7173356437315 .. 50.70546544353989</td><td>0.003627275542818077</td><td>4.857246473145986e-06</td><td>0</td><td>7901</td><td>GALAXY</td><td></td><td>10</td><td>2699.9374728243565</td><td>0</td><td>1</td></tr>\n",
       "<tr><td>PV_DARK_MEDIUM</td><td>179.14704147135</td><td>53.0391176228969</td><td>39633293343198436</td><td>81075</td><td>20210404</td><td>8</td><td>9222.14836461097</td><td>1316.5476856644013 .. 124.55808797455471</td><td>0.05128646544126351</td><td>6.278601785236041e-06</td><td>0</td><td>7877</td><td>GALAXY</td><td></td><td>10</td><td>4325.036053083837</td><td>0</td><td>1</td></tr>\n",
       "<tr><td>PV_DARK_MEDIUM</td><td>179.19660937682</td><td>52.4843372991077</td><td>39633286003163309</td><td>81075</td><td>20210404</td><td>9</td><td>9239.253653541207</td><td>3086.07010611235 .. 119.49357709125054</td><td>0.0514513255431405</td><td>6.4174532924321735e-06</td><td>0</td><td>7893</td><td>GALAXY</td><td></td><td>10</td><td>3220.0748069286346</td><td>0</td><td>1</td></tr>\n",
       "<tr><td>PV_DARK_MEDIUM</td><td>178.793786901666</td><td>52.3548291416413</td><td>39633282295398524</td><td>81075</td><td>20210404</td><td>9</td><td>8230.860181804746</td><td>906.6144213371831 .. 116.59748724214269</td><td>0.06933041844215487</td><td>1.860329134418959e-05</td><td>0</td><td>7900</td><td>GALAXY</td><td></td><td>10</td><td>218.5519857890904</td><td>0</td><td>1</td></tr>\n",
       "<tr><td>PV_DARK_MEDIUM</td><td>178.838277438704</td><td>52.4939614219251</td><td>39633285998969372</td><td>81075</td><td>20210404</td><td>9</td><td>7934.987147182226</td><td>1511.0286232078925 .. 48.402556903349044</td><td>0.0712184406738579</td><td>7.414568152101467e-06</td><td>0</td><td>7900</td><td>GALAXY</td><td></td><td>10</td><td>792.2755309641361</td><td>0</td><td>1</td></tr>\n",
       "<tr><td>PV_DARK_MEDIUM</td><td>178.501258335074</td><td>52.9214081605813</td><td>39633293339002278</td><td>81075</td><td>20210404</td><td>9</td><td>8832.131777822971</td><td>3976.7722710403536 .. 138.31729579728508</td><td>0.07143596079656245</td><td>1.4798361393081603e-05</td><td>0</td><td>7919</td><td>GALAXY</td><td></td><td>10</td><td>2221.9178427930456</td><td>0</td><td>1</td></tr>\n",
       "<tr><td>PV_DARK_MEDIUM</td><td>177.973721565376</td><td>53.0999301397333</td><td>39633293334806869</td><td>81075</td><td>20210404</td><td>9</td><td>7945.990427701516</td><td>1290.9657156822616 .. 22.187313175371983</td><td>0.0037453879176009407</td><td>1.3056473730012026e-05</td><td>0</td><td>7889</td><td>GALAXY</td><td></td><td>10</td><td>265.7113096725516</td><td>0</td><td>1</td></tr>\n",
       "<tr><td>PV_DARK_MEDIUM</td><td>178.334568420484</td><td>52.931399456746</td><td>39633293334809761</td><td>81075</td><td>20210404</td><td>9</td><td>9983.082317061722</td><td>4622.859287059304 .. 201.73282598272698</td><td>0.05237101845276045</td><td>8.608011481360194e-06</td><td>0</td><td>7905</td><td>GALAXY</td><td></td><td>10</td><td>5336.822629980743</td><td>0</td><td>1</td></tr>\n",
       "</table>"
      ],
      "text/plain": [
       "<Table length=19697>\n",
       "   PROGRAM            RA               DEC        ... NUMEXP NUMTILE\n",
       "    str14          float64           float64      ... int32   int32 \n",
       "-------------- ---------------- ----------------- ... ------ -------\n",
       "PV_BRIGHT_HIGH 149.171684545314  2.16060616970239 ...      0       1\n",
       "PV_BRIGHT_HIGH 149.658076810033 0.868788172013763 ...      0       1\n",
       "PV_BRIGHT_HIGH 150.356606634878  3.59611185445412 ...      0       1\n",
       "PV_BRIGHT_HIGH 150.267396959543  3.33093628066686 ...      0       1\n",
       "PV_BRIGHT_HIGH 151.099800148199  2.56094576885652 ...      0       1\n",
       "PV_BRIGHT_HIGH 151.403281837345  1.84924206413151 ...      0       1\n",
       "PV_BRIGHT_HIGH 151.006785108655  1.62447667017721 ...      0       1\n",
       "PV_BRIGHT_HIGH 151.145673966004  1.52285422698331 ...      0       1\n",
       "PV_BRIGHT_HIGH 150.823041569144  1.50048971567638 ...      0       1\n",
       "PV_BRIGHT_HIGH 149.650472200741   1.0139827475836 ...      0       1\n",
       "           ...              ...               ... ...    ...     ...\n",
       "PV_DARK_MEDIUM 179.730816547058  53.3529376557132 ...      0       1\n",
       "PV_DARK_MEDIUM 179.313579614454  53.2661168219959 ...      0       1\n",
       "PV_DARK_MEDIUM 179.206906551875  53.1602359475968 ...      0       1\n",
       "PV_DARK_MEDIUM  179.14704147135  53.0391176228969 ...      0       1\n",
       "PV_DARK_MEDIUM  179.19660937682  52.4843372991077 ...      0       1\n",
       "PV_DARK_MEDIUM 178.793786901666  52.3548291416413 ...      0       1\n",
       "PV_DARK_MEDIUM 178.838277438704  52.4939614219251 ...      0       1\n",
       "PV_DARK_MEDIUM 178.501258335074  52.9214081605813 ...      0       1\n",
       "PV_DARK_MEDIUM 177.973721565376  53.0999301397333 ...      0       1\n",
       "PV_DARK_MEDIUM 178.334568420484   52.931399456746 ...      0       1"
      ]
     },
     "execution_count": 13,
     "metadata": {},
     "output_type": "execute_result"
    }
   ],
   "source": [
    "ztable"
   ]
  },
  {
   "cell_type": "markdown",
   "metadata": {},
   "source": [
    "### Output Redrock Spectral Types"
   ]
  },
  {
   "cell_type": "code",
   "execution_count": 28,
   "metadata": {},
   "outputs": [
    {
     "name": "stdout",
     "output_type": "stream",
     "text": [
      "GALAXY     :      17397 (88.3%)\n",
      "QSO        :        174 (0.9%)\n",
      "STAR       :       2126 (10.8%)\n"
     ]
    }
   ],
   "source": [
    "types_, counts_ = np.unique(ztable['SPECTYPE'], return_counts=True)\n",
    "for t, c in zip(types_, counts_):\n",
    "    print('{:10s} : {:10d} ({:.1f}%)'.format(t, c, 100*c/len(ztable)))"
   ]
  },
  {
   "cell_type": "markdown",
   "metadata": {},
   "source": [
    "## Write Output\n",
    "\n",
    "### FITS Format\n",
    "\n",
    "This format is needed to preserve the redrock template coefficients in the output, should they be needed for spectral matching and plotting later.\n",
    "\n",
    "**WARNING**: the output file will *always* be clobbered so proceed with caution!"
   ]
  },
  {
   "cell_type": "code",
   "execution_count": 14,
   "metadata": {},
   "outputs": [],
   "source": [
    "ztable.write('pv_redshifts.fits', format='fits', overwrite=True)"
   ]
  },
  {
   "cell_type": "markdown",
   "metadata": {},
   "source": [
    "### ASCII\n",
    "\n",
    "Write in ASCII format with a commented header. Necessitates removing the redrock coefficient list from the table first.\n",
    "\n",
    "**WARNING**: this code is set up to *destructively* alter the table and *always* clobber the output file!"
   ]
  },
  {
   "cell_type": "code",
   "execution_count": 15,
   "metadata": {},
   "outputs": [
    {
     "data": {
      "text/html": [
       "<i>Table length=19697</i>\n",
       "<table id=\"table46913222479200\" class=\"table-striped table-bordered table-condensed\">\n",
       "<thead><tr><th>PROGRAM</th><th>RA</th><th>DEC</th><th>TARGETID</th><th>TILEID</th><th>DATE</th><th>PETAL</th><th>CHI2</th><th>Z</th><th>ZERR</th><th>ZWARN</th><th>NPIXELS</th><th>SPECTYPE</th><th>SUBTYPE</th><th>DELTACHI2</th><th>NUMEXP</th><th>NUMTILE</th></tr></thead>\n",
       "<thead><tr><th>str14</th><th>float64</th><th>float64</th><th>int64</th><th>int64</th><th>int64</th><th>int64</th><th>float64</th><th>float64</th><th>float64</th><th>int64</th><th>int64</th><th>str6</th><th>str20</th><th>float64</th><th>int32</th><th>int32</th></tr></thead>\n",
       "<tr><td>PV_BRIGHT_HIGH</td><td>149.171684545314</td><td>2.16060616970239</td><td>1070167824007172</td><td>13</td><td>20210407</td><td>3</td><td>8.999999999999996e+99</td><td>-0.0019956912923479522</td><td>4.1311493573349107e-48</td><td>1570</td><td>0</td><td>STAR</td><td>CV</td><td>1.942668892225729e+84</td><td>0</td><td>1</td></tr>\n",
       "<tr><td>PV_BRIGHT_HIGH</td><td>149.658076810033</td><td>0.868788172013763</td><td>1070131593609233</td><td>14</td><td>20210408</td><td>1</td><td>8469.749970858873</td><td>0.038746598824725795</td><td>0.00010953448354655893</td><td>0</td><td>7877</td><td>GALAXY</td><td></td><td>46.27306709883487</td><td>0</td><td>1</td></tr>\n",
       "<tr><td>PV_BRIGHT_HIGH</td><td>150.356606634878</td><td>3.59611185445412</td><td>1070198031384587</td><td>14</td><td>20210408</td><td>5</td><td>8.999999999999996e+99</td><td>-0.0019957014509158224</td><td>4.131159871613317e-48</td><td>1570</td><td>0</td><td>STAR</td><td>CV</td><td>1.942668892225729e+84</td><td>0</td><td>1</td></tr>\n",
       "<tr><td>PV_BRIGHT_HIGH</td><td>150.267396959543</td><td>3.33093628066686</td><td>1070191999975425</td><td>14</td><td>20210408</td><td>5</td><td>8.999999999999996e+99</td><td>-0.0019957014509158224</td><td>4.131159871613317e-48</td><td>1570</td><td>0</td><td>STAR</td><td>CV</td><td>1.942668892225729e+84</td><td>0</td><td>1</td></tr>\n",
       "<tr><td>PV_BRIGHT_HIGH</td><td>151.099800148199</td><td>2.56094576885652</td><td>1070173897359360</td><td>14</td><td>20210408</td><td>7</td><td>8251.109564840794</td><td>0.9054548849070341</td><td>9.606776362361803e-05</td><td>4</td><td>7866</td><td>GALAXY</td><td></td><td>1.047316625714302</td><td>0</td><td>1</td></tr>\n",
       "<tr><td>PV_BRIGHT_HIGH</td><td>151.403281837345</td><td>1.84924206413151</td><td>1070155782160385</td><td>14</td><td>20210408</td><td>8</td><td>8226.589183844626</td><td>0.3553936270155521</td><td>6.568253711579781e-05</td><td>0</td><td>7928</td><td>GALAXY</td><td></td><td>12.802025880664587</td><td>0</td><td>1</td></tr>\n",
       "<tr><td>PV_BRIGHT_HIGH</td><td>151.006785108655</td><td>1.62447667017721</td><td>1070149738168328</td><td>14</td><td>20210408</td><td>9</td><td>8119.4517160877585</td><td>0.5659037711076511</td><td>9.600278705613211e-05</td><td>4</td><td>7889</td><td>GALAXY</td><td></td><td>1.7127878293395042</td><td>0</td><td>1</td></tr>\n",
       "<tr><td>PV_BRIGHT_HIGH</td><td>151.145673966004</td><td>1.52285422698331</td><td>1070149738168325</td><td>14</td><td>20210408</td><td>9</td><td>8.999999999999996e+99</td><td>-0.0019957014509158224</td><td>4.131159871613317e-48</td><td>1570</td><td>0</td><td>STAR</td><td>CV</td><td>1.942668892225729e+84</td><td>0</td><td>1</td></tr>\n",
       "<tr><td>PV_BRIGHT_HIGH</td><td>150.823041569144</td><td>1.50048971567638</td><td>1070149733974017</td><td>14</td><td>20210408</td><td>9</td><td>8265.773368000984</td><td>0.22985611450182714</td><td>5.206470446416618e-05</td><td>4</td><td>7889</td><td>GALAXY</td><td></td><td>0.5678329467773438</td><td>0</td><td>1</td></tr>\n",
       "<tr><td>PV_BRIGHT_HIGH</td><td>149.650472200741</td><td>1.0139827475836</td><td>1070137633406992</td><td>15</td><td>20210412</td><td>0</td><td>8340.278816536069</td><td>0.4528587523333081</td><td>4.8897029694990536e-05</td><td>4</td><td>7884</td><td>GALAXY</td><td></td><td>3.6058178320527077</td><td>0</td><td>1</td></tr>\n",
       "<tr><td>...</td><td>...</td><td>...</td><td>...</td><td>...</td><td>...</td><td>...</td><td>...</td><td>...</td><td>...</td><td>...</td><td>...</td><td>...</td><td>...</td><td>...</td><td>...</td><td>...</td></tr>\n",
       "<tr><td>PV_DARK_MEDIUM</td><td>179.730816547058</td><td>53.3529376557132</td><td>39633296992240764</td><td>81075</td><td>20210404</td><td>8</td><td>8.999999999999996e+99</td><td>-0.0019957014509158224</td><td>4.131159871613317e-48</td><td>1570</td><td>0</td><td>STAR</td><td>CV</td><td>1.942668892225729e+84</td><td>0</td><td>1</td></tr>\n",
       "<tr><td>PV_DARK_MEDIUM</td><td>179.313579614454</td><td>53.2661168219959</td><td>39633296988046660</td><td>81075</td><td>20210404</td><td>8</td><td>9342.686239149421</td><td>0.049199398206834444</td><td>1.5395889187247857e-05</td><td>0</td><td>7846</td><td>GALAXY</td><td></td><td>1596.7586819566786</td><td>0</td><td>1</td></tr>\n",
       "<tr><td>PV_DARK_MEDIUM</td><td>179.206906551875</td><td>53.1602359475968</td><td>39633296988045668</td><td>81075</td><td>20210404</td><td>8</td><td>8641.18489333964</td><td>0.003627275542818077</td><td>4.857246473145986e-06</td><td>0</td><td>7901</td><td>GALAXY</td><td></td><td>2699.9374728243565</td><td>0</td><td>1</td></tr>\n",
       "<tr><td>PV_DARK_MEDIUM</td><td>179.14704147135</td><td>53.0391176228969</td><td>39633293343198436</td><td>81075</td><td>20210404</td><td>8</td><td>9222.14836461097</td><td>0.05128646544126351</td><td>6.278601785236041e-06</td><td>0</td><td>7877</td><td>GALAXY</td><td></td><td>4325.036053083837</td><td>0</td><td>1</td></tr>\n",
       "<tr><td>PV_DARK_MEDIUM</td><td>179.19660937682</td><td>52.4843372991077</td><td>39633286003163309</td><td>81075</td><td>20210404</td><td>9</td><td>9239.253653541207</td><td>0.0514513255431405</td><td>6.4174532924321735e-06</td><td>0</td><td>7893</td><td>GALAXY</td><td></td><td>3220.0748069286346</td><td>0</td><td>1</td></tr>\n",
       "<tr><td>PV_DARK_MEDIUM</td><td>178.793786901666</td><td>52.3548291416413</td><td>39633282295398524</td><td>81075</td><td>20210404</td><td>9</td><td>8230.860181804746</td><td>0.06933041844215487</td><td>1.860329134418959e-05</td><td>0</td><td>7900</td><td>GALAXY</td><td></td><td>218.5519857890904</td><td>0</td><td>1</td></tr>\n",
       "<tr><td>PV_DARK_MEDIUM</td><td>178.838277438704</td><td>52.4939614219251</td><td>39633285998969372</td><td>81075</td><td>20210404</td><td>9</td><td>7934.987147182226</td><td>0.0712184406738579</td><td>7.414568152101467e-06</td><td>0</td><td>7900</td><td>GALAXY</td><td></td><td>792.2755309641361</td><td>0</td><td>1</td></tr>\n",
       "<tr><td>PV_DARK_MEDIUM</td><td>178.501258335074</td><td>52.9214081605813</td><td>39633293339002278</td><td>81075</td><td>20210404</td><td>9</td><td>8832.131777822971</td><td>0.07143596079656245</td><td>1.4798361393081603e-05</td><td>0</td><td>7919</td><td>GALAXY</td><td></td><td>2221.9178427930456</td><td>0</td><td>1</td></tr>\n",
       "<tr><td>PV_DARK_MEDIUM</td><td>177.973721565376</td><td>53.0999301397333</td><td>39633293334806869</td><td>81075</td><td>20210404</td><td>9</td><td>7945.990427701516</td><td>0.0037453879176009407</td><td>1.3056473730012026e-05</td><td>0</td><td>7889</td><td>GALAXY</td><td></td><td>265.7113096725516</td><td>0</td><td>1</td></tr>\n",
       "<tr><td>PV_DARK_MEDIUM</td><td>178.334568420484</td><td>52.931399456746</td><td>39633293334809761</td><td>81075</td><td>20210404</td><td>9</td><td>9983.082317061722</td><td>0.05237101845276045</td><td>8.608011481360194e-06</td><td>0</td><td>7905</td><td>GALAXY</td><td></td><td>5336.822629980743</td><td>0</td><td>1</td></tr>\n",
       "</table>"
      ],
      "text/plain": [
       "<Table length=19697>\n",
       "   PROGRAM            RA               DEC        ... NUMEXP NUMTILE\n",
       "    str14          float64           float64      ... int32   int32 \n",
       "-------------- ---------------- ----------------- ... ------ -------\n",
       "PV_BRIGHT_HIGH 149.171684545314  2.16060616970239 ...      0       1\n",
       "PV_BRIGHT_HIGH 149.658076810033 0.868788172013763 ...      0       1\n",
       "PV_BRIGHT_HIGH 150.356606634878  3.59611185445412 ...      0       1\n",
       "PV_BRIGHT_HIGH 150.267396959543  3.33093628066686 ...      0       1\n",
       "PV_BRIGHT_HIGH 151.099800148199  2.56094576885652 ...      0       1\n",
       "PV_BRIGHT_HIGH 151.403281837345  1.84924206413151 ...      0       1\n",
       "PV_BRIGHT_HIGH 151.006785108655  1.62447667017721 ...      0       1\n",
       "PV_BRIGHT_HIGH 151.145673966004  1.52285422698331 ...      0       1\n",
       "PV_BRIGHT_HIGH 150.823041569144  1.50048971567638 ...      0       1\n",
       "PV_BRIGHT_HIGH 149.650472200741   1.0139827475836 ...      0       1\n",
       "           ...              ...               ... ...    ...     ...\n",
       "PV_DARK_MEDIUM 179.730816547058  53.3529376557132 ...      0       1\n",
       "PV_DARK_MEDIUM 179.313579614454  53.2661168219959 ...      0       1\n",
       "PV_DARK_MEDIUM 179.206906551875  53.1602359475968 ...      0       1\n",
       "PV_DARK_MEDIUM  179.14704147135  53.0391176228969 ...      0       1\n",
       "PV_DARK_MEDIUM  179.19660937682  52.4843372991077 ...      0       1\n",
       "PV_DARK_MEDIUM 178.793786901666  52.3548291416413 ...      0       1\n",
       "PV_DARK_MEDIUM 178.838277438704  52.4939614219251 ...      0       1\n",
       "PV_DARK_MEDIUM 178.501258335074  52.9214081605813 ...      0       1\n",
       "PV_DARK_MEDIUM 177.973721565376  53.0999301397333 ...      0       1\n",
       "PV_DARK_MEDIUM 178.334568420484   52.931399456746 ...      0       1"
      ]
     },
     "execution_count": 15,
     "metadata": {},
     "output_type": "execute_result"
    }
   ],
   "source": [
    "ztable.remove_columns(['COEFF', 'NCOEFF'])\n",
    "ztable"
   ]
  },
  {
   "cell_type": "code",
   "execution_count": 16,
   "metadata": {},
   "outputs": [],
   "source": [
    "ztable.write('pv_redshifts.txt', format='ascii.commented_header', overwrite=True)"
   ]
  },
  {
   "cell_type": "code",
   "execution_count": null,
   "metadata": {},
   "outputs": [],
   "source": []
  }
 ],
 "metadata": {
  "kernelspec": {
   "display_name": "DESI master",
   "language": "python",
   "name": "desi-master"
  },
  "language_info": {
   "codemirror_mode": {
    "name": "ipython",
    "version": 3
   },
   "file_extension": ".py",
   "mimetype": "text/x-python",
   "name": "python",
   "nbconvert_exporter": "python",
   "pygments_lexer": "ipython3",
   "version": "3.8.3"
  }
 },
 "nbformat": 4,
 "nbformat_minor": 4
}
