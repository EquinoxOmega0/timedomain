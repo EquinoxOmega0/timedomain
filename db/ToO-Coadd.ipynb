{
 "cells": [
  {
   "cell_type": "code",
   "execution_count": 1,
   "id": "2f4a6f31-26bc-4f1b-883a-195042342bd2",
   "metadata": {},
   "outputs": [],
   "source": [
    "import sqlite3\n",
    "import os\n",
    "from desispec.io import read_spectra, write_spectra\n",
    "from desispec.spectra import Spectra"
   ]
  },
  {
   "cell_type": "code",
   "execution_count": 2,
   "id": "bcfb272f-d427-45aa-848a-45d221c7ad03",
   "metadata": {},
   "outputs": [],
   "source": [
    "filename = \"/global/cfs/cdirs/desi/science/td/db/desi.db\"\n",
    "con = sqlite3.connect(filename)"
   ]
  },
  {
   "cell_type": "code",
   "execution_count": null,
   "id": "c2a89094-6731-4080-87ac-1f98bfd6c11e",
   "metadata": {},
   "outputs": [],
   "source": []
  },
  {
   "cell_type": "code",
   "execution_count": 3,
   "id": "dc0067f8-5267-4298-bc73-d87f562c1652",
   "metadata": {},
   "outputs": [],
   "source": [
    "cur = con.cursor()"
   ]
  },
  {
   "cell_type": "markdown",
   "id": "54fab070-85dd-4ffd-a9f4-c38dc5140201",
   "metadata": {},
   "source": [
    "## Note that the following doesn't list multiple exposures of the same tile the same night"
   ]
  },
  {
   "cell_type": "code",
   "execution_count": 4,
   "id": "3cace491-efe2-4ce4-beb2-c6be96889bdd",
   "metadata": {},
   "outputs": [],
   "source": [
    "targetid_q = \"\"\"\n",
    "select distinct mtl.targetid, f.yyyymmdd, f.tile, f.petal\n",
    "from mtl\n",
    "inner join fibermap_daily f\n",
    "on mtl.targetid==f.targetid\n",
    "where mtl.program='ToO'\n",
    "order by mtl.targetid, f.yyyymmdd, f.tile, f.petal ;\n",
    "\"\"\""
   ]
  },
  {
   "cell_type": "code",
   "execution_count": 5,
   "id": "611ad8d7-854b-401f-8c70-0abe4f3ccd14",
   "metadata": {},
   "outputs": [],
   "source": [
    "cur.execute(targetid_q)\n",
    "q_arr = cur.fetchall()\n",
    "cur.close()"
   ]
  },
  {
   "cell_type": "markdown",
   "id": "5877c7af-0518-4f28-96e4-1d1385665840",
   "metadata": {},
   "source": [
    "## Produce list that groups tile/petal combinations observed for the same targetid the same night"
   ]
  },
  {
   "cell_type": "code",
   "execution_count": 6,
   "id": "31d489d7-be86-4005-a727-5dcb18121e80",
   "metadata": {},
   "outputs": [],
   "source": [
    "ans =[]\n",
    "tid_night=[q_arr[0]]\n",
    "for i in range(1,len(q_arr)):\n",
    "    if q_arr[i][0]== tid_night[0][0] and q_arr[i][1]== tid_night[0][1]:\n",
    "        tid_night.append(q_arr[i])\n",
    "    else:\n",
    "        ans.append(tid_night)\n",
    "        tid_night=[q_arr[i]]\n",
    "        if i == len(q_arr)-1:\n",
    "             ans.append(tid_night)"
   ]
  },
  {
   "cell_type": "code",
   "execution_count": 7,
   "id": "1eb9c754-c634-4708-bd71-ba2c4ebc228b",
   "metadata": {},
   "outputs": [],
   "source": [
    "datapath = os.path.join(os.environ.get('DESI_REDUX'),'daily','tiles','cumulative')"
   ]
  },
  {
   "cell_type": "code",
   "execution_count": 13,
   "id": "f7166340-4adc-472b-8a67-5c86d09bdae5",
   "metadata": {},
   "outputs": [
    {
     "name": "stdout",
     "output_type": "stream",
     "text": [
      "INFO:spectra.py:253:read_spectra: iotime 0.799 sec to read spectra-0-233-thru20210504.fits at 2021-05-26T11:46:38.731812\n",
      "1\n"
     ]
    },
    {
     "ename": "NameError",
     "evalue": "name 'weffe' is not defined",
     "output_type": "error",
     "traceback": [
      "\u001b[0;31m---------------------------------------------------------------------------\u001b[0m",
      "\u001b[0;31mNameError\u001b[0m                                 Traceback (most recent call last)",
      "\u001b[0;32m<ipython-input-13-96a7367520b7>\u001b[0m in \u001b[0;36m<module>\u001b[0;34m\u001b[0m\n\u001b[1;32m      6\u001b[0m         \u001b[0mspec\u001b[0m \u001b[0;34m=\u001b[0m \u001b[0mspec\u001b[0m\u001b[0;34m.\u001b[0m\u001b[0mselect\u001b[0m\u001b[0;34m(\u001b[0m\u001b[0mtargets\u001b[0m\u001b[0;34m=\u001b[0m\u001b[0;34m[\u001b[0m\u001b[0mtargetid\u001b[0m\u001b[0;34m]\u001b[0m\u001b[0;34m)\u001b[0m\u001b[0;34m\u001b[0m\u001b[0;34m\u001b[0m\u001b[0m\n\u001b[1;32m      7\u001b[0m         \u001b[0mprint\u001b[0m\u001b[0;34m(\u001b[0m\u001b[0mspec\u001b[0m\u001b[0;34m.\u001b[0m\u001b[0mnum_spectra\u001b[0m\u001b[0;34m(\u001b[0m\u001b[0;34m)\u001b[0m\u001b[0;34m)\u001b[0m\u001b[0;34m\u001b[0m\u001b[0;34m\u001b[0m\u001b[0m\n\u001b[0;32m----> 8\u001b[0;31m         \u001b[0mweffe\u001b[0m\u001b[0;34m\u001b[0m\u001b[0;34m\u001b[0m\u001b[0m\n\u001b[0m",
      "\u001b[0;31mNameError\u001b[0m: name 'weffe' is not defined"
     ]
    }
   ],
   "source": [
    "for a in ans:\n",
    "    spectocoadd=[]\n",
    "    for targetid, yyyymmdd, tile, petal in a:\n",
    "        filename = os.path.join(datapath,str(tile),str(yyyymmdd),f\"spectra-{petal}-{tile}-thru{yyyymmdd}.fits\")\n",
    "        spec = read_spectra(filename)\n",
    "        spec = spec.select(targets=[targetid])\n",
    "        print(spec.num_spectra())\n",
    "        weffe"
   ]
  },
  {
   "cell_type": "code",
   "execution_count": 13,
   "id": "13d7ff65-6df7-4370-bb91-6bcb0e13448d",
   "metadata": {},
   "outputs": [
    {
     "name": "stdout",
     "output_type": "stream",
     "text": [
      "(43977540930371976, 20210506, 290, 5)\n"
     ]
    }
   ],
   "source": []
  },
  {
   "cell_type": "code",
   "execution_count": null,
   "id": "9b0166d4-3fcf-45ea-9fe3-b749682e9647",
   "metadata": {},
   "outputs": [],
   "source": []
  }
 ],
 "metadata": {
  "kernelspec": {
   "display_name": "DESI master",
   "language": "python",
   "name": "desi-master"
  },
  "language_info": {
   "codemirror_mode": {
    "name": "ipython",
    "version": 3
   },
   "file_extension": ".py",
   "mimetype": "text/x-python",
   "name": "python",
   "nbconvert_exporter": "python",
   "pygments_lexer": "ipython3",
   "version": "3.8.3"
  }
 },
 "nbformat": 4,
 "nbformat_minor": 5
}
