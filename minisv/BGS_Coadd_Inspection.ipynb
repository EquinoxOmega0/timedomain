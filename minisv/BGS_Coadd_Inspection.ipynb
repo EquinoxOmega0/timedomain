{
 "cells": [
  {
   "cell_type": "markdown",
   "metadata": {},
   "source": [
    "# Read BGS Coadds from Feb 26 2020"
   ]
  },
  {
   "cell_type": "code",
   "execution_count": 1,
   "metadata": {},
   "outputs": [],
   "source": [
    "import numpy as np\n",
    "\n",
    "from astropy.io import fits\n",
    "from astropy.table import Table, vstack\n",
    "import matplotlib.pyplot as plt\n",
    "\n",
    "import desitarget\n",
    "from desitarget.targetmask import desi_mask, bgs_mask\n",
    "from desitarget.cmx import cmx_targetmask\n",
    "from desispec.io import read_spectra\n",
    "\n",
    "from glob import glob\n",
    "\n",
    "from scipy.ndimage import median_filter"
   ]
  },
  {
   "cell_type": "markdown",
   "metadata": {},
   "source": [
    "## Mini-SV2 BGS Tile 70502"
   ]
  },
  {
   "cell_type": "code",
   "execution_count": 2,
   "metadata": {},
   "outputs": [
    {
     "data": {
      "text/plain": [
       "['/global/cfs/cdirs/desi/spectro/redux/daily/tiles/70502/20200225/coadd-0-70502-20200225.fits',\n",
       " '/global/cfs/cdirs/desi/spectro/redux/daily/tiles/70502/20200225/coadd-3-70502-20200225.fits',\n",
       " '/global/cfs/cdirs/desi/spectro/redux/daily/tiles/70502/20200225/coadd-6-70502-20200225.fits',\n",
       " '/global/cfs/cdirs/desi/spectro/redux/daily/tiles/70502/20200225/coadd-7-70502-20200225.fits',\n",
       " '/global/cfs/cdirs/desi/spectro/redux/daily/tiles/70502/20200225/coadd-9-70502-20200225.fits']"
      ]
     },
     "execution_count": 2,
     "metadata": {},
     "output_type": "execute_result"
    }
   ],
   "source": [
    "prefix = '/global/cfs/cdirs/desi/spectro/redux/daily/tiles/70502/20200225'\n",
    "coadds = sorted(glob('{}/*coadd*.fits'.format(prefix)))\n",
    "coadds"
   ]
  },
  {
   "cell_type": "markdown",
   "metadata": {},
   "source": [
    "### Spin through Coadd Files, Load Spectra"
   ]
  },
  {
   "cell_type": "code",
   "execution_count": 3,
   "metadata": {},
   "outputs": [],
   "source": [
    "fibermap = None\n",
    "for coadd in coadds:\n",
    "    hdus = fits.open(coadd)\n",
    "    spectra = read_spectra(coadd)\n",
    "    if fibermap is None:\n",
    "        fibermap = spectra.fibermap\n",
    "    else:\n",
    "        fibermap = vstack([fibermap, spectra.fibermap])"
   ]
  },
  {
   "cell_type": "markdown",
   "metadata": {},
   "source": [
    "### Apply Bitmasks"
   ]
  },
  {
   "cell_type": "code",
   "execution_count": 4,
   "metadata": {},
   "outputs": [],
   "source": [
    "bgs_bright = fibermap['CMX_TARGET'] & cmx_targetmask.cmx_mask.mask('MINI_SV_BGS_BRIGHT') != 0\n",
    "sv0_bgs    = fibermap['CMX_TARGET'] & cmx_targetmask.cmx_mask.mask('SV0_BGS') != 0\n",
    "is_bgs = bgs_bright | sv0_bgs"
   ]
  },
  {
   "cell_type": "code",
   "execution_count": 5,
   "metadata": {},
   "outputs": [
    {
     "data": {
      "text/plain": [
       "1484"
      ]
     },
     "execution_count": 5,
     "metadata": {},
     "output_type": "execute_result"
    }
   ],
   "source": [
    "np.sum(is_bgs)"
   ]
  },
  {
   "cell_type": "code",
   "execution_count": 6,
   "metadata": {},
   "outputs": [
    {
     "data": {
      "text/html": [
       "&lt;Table length=1484&gt;\n",
       "<table id=\"table46913590922376\" class=\"table-striped table-bordered table-condensed\">\n",
       "<thead><tr><th>TARGETID</th><th>PETAL_LOC</th><th>DEVICE_LOC</th><th>LOCATION</th><th>FIBER</th><th>FIBERSTATUS</th><th>TARGET_RA</th><th>TARGET_DEC</th><th>PMRA</th><th>PMDEC</th><th>PMRA_IVAR</th><th>PMDEC_IVAR</th><th>REF_EPOCH</th><th>LAMBDA_REF</th><th>FA_TARGET</th><th>FA_TYPE</th><th>OBJTYPE</th><th>FIBERASSIGN_X</th><th>FIBERASSIGN_Y</th><th>NUMTARGET</th><th>PRIORITY</th><th>SUBPRIORITY</th><th>OBSCONDITIONS</th><th>NUMOBS_MORE</th><th>RELEASE</th><th>BRICKID</th><th>BRICKNAME</th><th>BRICK_OBJID</th><th>MORPHTYPE</th><th>TARGET_RA_IVAR</th><th>TARGET_DEC_IVAR</th><th>EBV</th><th>FLUX_G</th><th>FLUX_R</th><th>FLUX_Z</th><th>FLUX_IVAR_G</th><th>FLUX_IVAR_R</th><th>FLUX_IVAR_Z</th><th>MW_TRANSMISSION_G</th><th>MW_TRANSMISSION_R</th><th>MW_TRANSMISSION_Z</th><th>FRACFLUX_G</th><th>FRACFLUX_R</th><th>FRACFLUX_Z</th><th>FRACMASKED_G</th><th>FRACMASKED_R</th><th>FRACMASKED_Z</th><th>FRACIN_G</th><th>FRACIN_R</th><th>FRACIN_Z</th><th>NOBS_G</th><th>NOBS_R</th><th>NOBS_Z</th><th>PSFDEPTH_G</th><th>PSFDEPTH_R</th><th>PSFDEPTH_Z</th><th>GALDEPTH_G</th><th>GALDEPTH_R</th><th>GALDEPTH_Z</th><th>FLUX_W1</th><th>FLUX_W2</th><th>FLUX_W3</th><th>FLUX_W4</th><th>FLUX_IVAR_W1</th><th>FLUX_IVAR_W2</th><th>FLUX_IVAR_W3</th><th>FLUX_IVAR_W4</th><th>MW_TRANSMISSION_W1</th><th>MW_TRANSMISSION_W2</th><th>MW_TRANSMISSION_W3</th><th>MW_TRANSMISSION_W4</th><th>ALLMASK_G</th><th>ALLMASK_R</th><th>ALLMASK_Z</th><th>FIBERFLUX_G</th><th>FIBERFLUX_R</th><th>FIBERFLUX_Z</th><th>FIBERTOTFLUX_G</th><th>FIBERTOTFLUX_R</th><th>FIBERTOTFLUX_Z</th><th>WISEMASK_W1</th><th>WISEMASK_W2</th><th>MASKBITS</th><th>FRACDEV</th><th>FRACDEV_IVAR</th><th>SHAPEDEV_R</th><th>SHAPEDEV_E1</th><th>SHAPEDEV_E2</th><th>SHAPEDEV_R_IVAR</th><th>SHAPEDEV_E1_IVAR</th><th>SHAPEDEV_E2_IVAR</th><th>SHAPEEXP_R</th><th>SHAPEEXP_E1</th><th>SHAPEEXP_E2</th><th>SHAPEEXP_R_IVAR</th><th>SHAPEEXP_E1_IVAR</th><th>SHAPEEXP_E2_IVAR</th><th>REF_ID</th><th>REF_CAT</th><th>GAIA_PHOT_G_MEAN_MAG</th><th>GAIA_PHOT_G_MEAN_FLUX_OVER_ERROR</th><th>GAIA_PHOT_BP_MEAN_MAG</th><th>GAIA_PHOT_BP_MEAN_FLUX_OVER_ERROR</th><th>GAIA_PHOT_RP_MEAN_MAG</th><th>GAIA_PHOT_RP_MEAN_FLUX_OVER_ERROR</th><th>GAIA_PHOT_BP_RP_EXCESS_FACTOR</th><th>GAIA_ASTROMETRIC_EXCESS_NOISE</th><th>GAIA_DUPLICATED_SOURCE</th><th>GAIA_ASTROMETRIC_SIGMA5D_MAX</th><th>GAIA_ASTROMETRIC_PARAMS_SOLVED</th><th>PARALLAX</th><th>PARALLAX_IVAR</th><th>PHOTSYS</th><th>CMX_TARGET</th><th>PRIORITY_INIT</th><th>NUMOBS_INIT</th><th>HPXPIXEL</th><th>BLOBDIST</th><th>FIBERFLUX_IVAR_G</th><th>FIBERFLUX_IVAR_R</th><th>FIBERFLUX_IVAR_Z</th><th>DESI_TARGET</th><th>BGS_TARGET</th><th>MWS_TARGET</th><th>NUM_ITER</th><th>FIBER_X</th><th>FIBER_Y</th><th>MEAN_DELTA_X</th><th>MEAN_DELTA_Y</th><th>FIBER_RA</th><th>FIBER_DEC</th><th>RMS_DELTA_X</th><th>RMS_DELTA_Y</th><th>FIRST_FIBER</th><th>LAST_FIBER</th><th>NUM_FIBER</th></tr></thead>\n",
       "<thead><tr><th>int64</th><th>int16</th><th>int32</th><th>int64</th><th>int32</th><th>int32</th><th>float64</th><th>float64</th><th>float32</th><th>float32</th><th>float32</th><th>float32</th><th>float32</th><th>float32</th><th>int64</th><th>uint8</th><th>bytes3</th><th>float32</th><th>float32</th><th>int16</th><th>int32</th><th>float64</th><th>int32</th><th>int32</th><th>int16</th><th>int32</th><th>bytes8</th><th>int32</th><th>bytes4</th><th>float32</th><th>float32</th><th>float32</th><th>float32</th><th>float32</th><th>float32</th><th>float32</th><th>float32</th><th>float32</th><th>float32</th><th>float32</th><th>float32</th><th>float32</th><th>float32</th><th>float32</th><th>float32</th><th>float32</th><th>float32</th><th>float32</th><th>float32</th><th>float32</th><th>int16</th><th>int16</th><th>int16</th><th>float32</th><th>float32</th><th>float32</th><th>float32</th><th>float32</th><th>float32</th><th>float32</th><th>float32</th><th>float32</th><th>float32</th><th>float32</th><th>float32</th><th>float32</th><th>float32</th><th>float32</th><th>float32</th><th>float32</th><th>float32</th><th>int16</th><th>int16</th><th>int16</th><th>float32</th><th>float32</th><th>float32</th><th>float32</th><th>float32</th><th>float32</th><th>uint8</th><th>uint8</th><th>int16</th><th>float32</th><th>float32</th><th>float32</th><th>float32</th><th>float32</th><th>float32</th><th>float32</th><th>float32</th><th>float32</th><th>float32</th><th>float32</th><th>float32</th><th>float32</th><th>float32</th><th>int64</th><th>bytes2</th><th>float32</th><th>float32</th><th>float32</th><th>float32</th><th>float32</th><th>float32</th><th>float32</th><th>float32</th><th>bool</th><th>float32</th><th>bool</th><th>float32</th><th>float32</th><th>bytes1</th><th>int64</th><th>int64</th><th>int64</th><th>int64</th><th>float32</th><th>float32</th><th>float32</th><th>float32</th><th>int64</th><th>int64</th><th>int64</th><th>int64</th><th>float64</th><th>float64</th><th>float64</th><th>float64</th><th>float64</th><th>float64</th><th>float64</th><th>float64</th><th>int64</th><th>int64</th><th>int64</th></tr></thead>\n",
       "<tr><td>35185712445788791</td><td>0</td><td>477</td><td>477</td><td>385</td><td>512</td><td>179.7394266438731</td><td>-1.9417105015239313</td><td>0.0</td><td>0.0</td><td>0.0</td><td>0.0</td><td>0.0</td><td>5400.0</td><td>256</td><td>1</td><td>TGT</td><td>65.62806</td><td>-363.29373</td><td>0</td><td>1000</td><td>0.9024699105607836</td><td>65535</td><td>99</td><td>8000</td><td>319566</td><td>1796m020</td><td>4727</td><td>EXP</td><td>245955760000.0</td><td>497515660000.0</td><td>0.029821675</td><td>6.701717</td><td>11.84153</td><td>17.539038</td><td>550.02655</td><td>209.74538</td><td>32.81296</td><td>0.9155061</td><td>0.94226795</td><td>0.96728486</td><td>0.0</td><td>0.0</td><td>0.0</td><td>0.0041720816</td><td>0.006273054</td><td>0.0067185066</td><td>0.99747866</td><td>0.99632025</td><td>0.99579763</td><td>6</td><td>6</td><td>4</td><td>2718.5935</td><td>931.11285</td><td>154.94714</td><td>1736.8547</td><td>590.7989</td><td>86.91487</td><td>10.385784</td><td>3.846617</td><td>-23.612312</td><td>171.84386</td><td>2.074136</td><td>0.35448593</td><td>0.0005257642</td><td>7.381861e-06</td><td>0.9949589</td><td>0.9969011</td><td>0.99933827</td><td>0.9997501</td><td>0</td><td>0</td><td>0</td><td>1.654141</td><td>2.9227672</td><td>4.329046</td><td>1.654141</td><td>2.9227672</td><td>4.329046</td><td>0</td><td>0</td><td>0</td><td>0.0</td><td>0.0</td><td>0.0</td><td>0.0</td><td>0.0</td><td>0.0</td><td>0.0</td><td>0.0</td><td>1.47261</td><td>-0.28731322</td><td>0.060808267</td><td>18385.857</td><td>51383.84</td><td>27894.914</td><td>0</td><td></td><td>0.0</td><td>0.0</td><td>0.0</td><td>0.0</td><td>0.0</td><td>0.0</td><td>0.0</td><td>0.0</td><td>True</td><td>0.0</td><td>True</td><td>0.0</td><td>0.0</td><td>S</td><td>256</td><td>2100</td><td>1</td><td>25596</td><td>0.0</td><td>0.0</td><td>0.0</td><td>0.0</td><td>0</td><td>0</td><td>0</td><td>3</td><td>68.255</td><td>-364.545</td><td>-2.687666666666667</td><td>1.6769999999999998</td><td>0.0</td><td>0.0</td><td>2.6876822728886687</td><td>1.6770543620686043</td><td>385</td><td>385</td><td>1</td></tr>\n",
       "<tr><td>35185712449979800</td><td>0</td><td>522</td><td>522</td><td>478</td><td>0</td><td>179.8594279099647</td><td>-2.0776414098954636</td><td>0.0</td><td>0.0</td><td>0.0</td><td>0.0</td><td>0.0</td><td>5400.0</td><td>256</td><td>1</td><td>TGT</td><td>35.616833</td><td>-399.96597</td><td>0</td><td>1000</td><td>0.44963994293922915</td><td>65535</td><td>99</td><td>8000</td><td>319567</td><td>1798m020</td><td>1432</td><td>EXP</td><td>565765140000.0</td><td>487263570000.0</td><td>0.028192783</td><td>3.8041756</td><td>6.9930053</td><td>9.800576</td><td>1132.5394</td><td>388.47525</td><td>91.10048</td><td>0.91993123</td><td>0.9453335</td><td>0.9690438</td><td>5.297314e-06</td><td>1.7870812e-05</td><td>4.3221436e-05</td><td>0.004712976</td><td>0.06450816</td><td>0.01073539</td><td>0.9987614</td><td>0.99810785</td><td>0.9972867</td><td>6</td><td>6</td><td>5</td><td>2772.7485</td><td>944.0592</td><td>190.91798</td><td>1748.8688</td><td>593.7234</td><td>112.57823</td><td>7.5068784</td><td>8.065441</td><td>-12.060955</td><td>77.33527</td><td>2.3901157</td><td>0.4031487</td><td>0.00074360525</td><td>9.837269e-06</td><td>0.99523354</td><td>0.9970701</td><td>0.9993744</td><td>0.9997637</td><td>0</td><td>0</td><td>0</td><td>1.8135892</td><td>3.3338206</td><td>4.6722918</td><td>1.8135892</td><td>3.3338206</td><td>4.6722918</td><td>0</td><td>0</td><td>0</td><td>0.0</td><td>0.0</td><td>0.0</td><td>0.0</td><td>0.0</td><td>0.0</td><td>0.0</td><td>0.0</td><td>0.6943073</td><td>0.09589364</td><td>0.23154832</td><td>26096.05</td><td>8760.485</td><td>12901.609</td><td>0</td><td></td><td>0.0</td><td>0.0</td><td>0.0</td><td>0.0</td><td>0.0</td><td>0.0</td><td>0.0</td><td>0.0</td><td>True</td><td>0.0</td><td>True</td><td>0.0</td><td>0.0</td><td>S</td><td>256</td><td>2100</td><td>1</td><td>25596</td><td>0.0</td><td>0.0</td><td>0.0</td><td>0.0</td><td>0</td><td>0</td><td>0</td><td>3</td><td>35.576</td><td>-399.464</td><td>0.0028333333333333335</td><td>-0.005</td><td>0.0</td><td>0.0</td><td>0.01696565157408737</td><td>0.008660254037844387</td><td>478</td><td>478</td><td>1</td></tr>\n",
       "<tr><td>35185712449979886</td><td>0</td><td>521</td><td>521</td><td>459</td><td>0</td><td>179.89090909750206</td><td>-2.073698199126241</td><td>0.0</td><td>0.0</td><td>0.0</td><td>0.0</td><td>0.0</td><td>5400.0</td><td>72057594037928192</td><td>1</td><td>TGT</td><td>27.630613</td><td>-398.83054</td><td>0</td><td>5000</td><td>0.7791342670943644</td><td>65535</td><td>99</td><td>8000</td><td>319567</td><td>1798m020</td><td>1518</td><td>DEV</td><td>18152497000000.0</td><td>15176741000000.0</td><td>0.026887782</td><td>38.730095</td><td>96.923004</td><td>186.47282</td><td>223.13156</td><td>79.18462</td><td>23.814812</td><td>0.92349184</td><td>0.9477967</td><td>0.97045535</td><td>0.0001370501</td><td>0.00012984502</td><td>8.8339446e-05</td><td>0.01037788</td><td>0.005300409</td><td>0.0054014786</td><td>0.99779683</td><td>0.9976736</td><td>0.99751747</td><td>6</td><td>6</td><td>5</td><td>2772.7485</td><td>944.0592</td><td>190.91798</td><td>1748.8688</td><td>593.7234</td><td>112.57823</td><td>188.58228</td><td>130.08824</td><td>237.84453</td><td>161.716</td><td>1.7046468</td><td>0.2869039</td><td>0.0005397679</td><td>8.486094e-06</td><td>0.9954537</td><td>0.9972055</td><td>0.99940336</td><td>0.9997747</td><td>0</td><td>0</td><td>0</td><td>10.389884</td><td>26.000937</td><td>50.02392</td><td>10.389884</td><td>26.000937</td><td>50.02392</td><td>0</td><td>0</td><td>0</td><td>1.0</td><td>1.0</td><td>1.6120726</td><td>0.10251515</td><td>0.15675735</td><td>196906.98</td><td>614164.7</td><td>772720.06</td><td>0.0</td><td>0.0</td><td>0.0</td><td>0.0</td><td>0.0</td><td>0.0</td><td>0</td><td></td><td>0.0</td><td>0.0</td><td>0.0</td><td>0.0</td><td>0.0</td><td>0.0</td><td>0.0</td><td>0.0</td><td>True</td><td>0.0</td><td>True</td><td>0.0</td><td>0.0</td><td>S</td><td>72057594037928192</td><td>2101</td><td>1</td><td>25596</td><td>0.0</td><td>0.0</td><td>0.0</td><td>0.0</td><td>0</td><td>0</td><td>0</td><td>3</td><td>27.602</td><td>-398.326</td><td>0.0006666666666666661</td><td>-0.0055000000000000005</td><td>0.0</td><td>0.0</td><td>0.016421530582338136</td><td>0.008746427842267951</td><td>459</td><td>459</td><td>1</td></tr>\n",
       "<tr><td>35185712449980146</td><td>0</td><td>523</td><td>523</td><td>368</td><td>512</td><td>179.82183059798993</td><td>-2.063184299691656</td><td>0.0</td><td>0.0</td><td>0.0</td><td>0.0</td><td>0.0</td><td>5400.0</td><td>72057594037928192</td><td>1</td><td>TGT</td><td>45.11855</td><td>-396.07962</td><td>0</td><td>5000</td><td>0.4205950792580033</td><td>65535</td><td>99</td><td>8000</td><td>319567</td><td>1798m020</td><td>1778</td><td>DEV</td><td>1543104400000.0</td><td>1405364900000.0</td><td>0.02907467</td><td>4.0070224</td><td>15.043802</td><td>30.408218</td><td>839.2994</td><td>207.3117</td><td>61.46945</td><td>0.9175328</td><td>0.9436726</td><td>0.96809113</td><td>0.011324979</td><td>0.0064116153</td><td>0.0040047653</td><td>0.0026759005</td><td>0.075955555</td><td>0.0047015008</td><td>0.9998778</td><td>0.833155</td><td>0.9999833</td><td>6</td><td>5</td><td>5</td><td>2772.7485</td><td>812.5716</td><td>189.7625</td><td>1748.8688</td><td>504.6916</td><td>112.3075</td><td>35.667294</td><td>22.65098</td><td>74.8851</td><td>-70.604095</td><td>2.1289935</td><td>0.36502215</td><td>0.00065531017</td><td>9.066414e-06</td><td>0.9950848</td><td>0.9969786</td><td>0.99935484</td><td>0.99975634</td><td>0</td><td>0</td><td>0</td><td>1.6676435</td><td>6.260933</td><td>12.655299</td><td>1.6676435</td><td>6.260933</td><td>12.655299</td><td>0</td><td>0</td><td>0</td><td>1.0</td><td>1.0</td><td>0.7087606</td><td>0.06329974</td><td>0.043522265</td><td>41245.16</td><td>26132.473</td><td>20071.771</td><td>0.0</td><td>0.0</td><td>0.0</td><td>0.0</td><td>0.0</td><td>0.0</td><td>0</td><td></td><td>0.0</td><td>0.0</td><td>0.0</td><td>0.0</td><td>0.0</td><td>0.0</td><td>0.0</td><td>0.0</td><td>True</td><td>0.0</td><td>True</td><td>0.0</td><td>0.0</td><td>S</td><td>72057594037928192</td><td>2101</td><td>1</td><td>25596</td><td>0.0</td><td>0.0</td><td>0.0</td><td>0.0</td><td>0</td><td>0</td><td>0</td><td>3</td><td>47.371</td><td>-396.312</td><td>-2.289</td><td>0.7115</td><td>0.0</td><td>0.0</td><td>2.289027522770314</td><td>0.7116247840915417</td><td>368</td><td>368</td><td>1</td></tr>\n",
       "<tr><td>35185712449980558</td><td>0</td><td>507</td><td>507</td><td>495</td><td>0</td><td>179.91006848009278</td><td>-2.0472234852725726</td><td>0.0</td><td>0.0</td><td>0.0</td><td>0.0</td><td>0.0</td><td>5400.0</td><td>72057594037929216</td><td>1</td><td>TGT</td><td>22.744902</td><td>-391.5536</td><td>0</td><td>5000</td><td>0.6054497959357487</td><td>65535</td><td>99</td><td>8000</td><td>319567</td><td>1798m020</td><td>2190</td><td>EXP</td><td>3805490700000.0</td><td>2044225900000.0</td><td>0.02598513</td><td>18.660303</td><td>59.494236</td><td>123.470764</td><td>198.92584</td><td>79.08656</td><td>20.96315</td><td>0.92596275</td><td>0.9495042</td><td>0.97143286</td><td>0.0073328703</td><td>0.011818456</td><td>0.011580504</td><td>0.00020277905</td><td>0.00032011565</td><td>0.00044448485</td><td>0.75</td><td>0.8001103</td><td>0.99999994</td><td>3</td><td>4</td><td>3</td><td>1480.5814</td><td>540.1588</td><td>105.217865</td><td>953.0152</td><td>362.5663</td><td>70.05859</td><td>188.99579</td><td>149.50548</td><td>373.612</td><td>1141.0361</td><td>2.0483582</td><td>0.3511257</td><td>0.00060766045</td><td>8.78554e-06</td><td>0.99560595</td><td>0.9972992</td><td>0.9994234</td><td>0.9997822</td><td>0</td><td>0</td><td>0</td><td>3.7660985</td><td>12.00737</td><td>24.919374</td><td>3.767541</td><td>12.011668</td><td>24.926678</td><td>0</td><td>0</td><td>0</td><td>0.0</td><td>0.0</td><td>0.0</td><td>0.0</td><td>0.0</td><td>0.0</td><td>0.0</td><td>0.0</td><td>1.7620522</td><td>0.24310553</td><td>-0.18472424</td><td>129895.984</td><td>466030.25</td><td>393644.25</td><td>0</td><td></td><td>0.0</td><td>0.0</td><td>0.0</td><td>0.0</td><td>0.0</td><td>0.0</td><td>0.0</td><td>0.0</td><td>True</td><td>0.0</td><td>True</td><td>0.0</td><td>0.0</td><td>S</td><td>72057594037929216</td><td>3200</td><td>2</td><td>25596</td><td>0.0</td><td>0.0</td><td>0.0</td><td>0.0</td><td>0</td><td>0</td><td>0</td><td>3</td><td>22.728</td><td>-391.066</td><td>0.0001666666666666674</td><td>-0.0023333333333333335</td><td>0.0</td><td>0.0</td><td>0.014554495296413865</td><td>0.008286535263104036</td><td>495</td><td>495</td><td>1</td></tr>\n",
       "<tr><td>35185712449980961</td><td>0</td><td>508</td><td>508</td><td>191</td><td>0</td><td>179.88092433607022</td><td>-2.033094124924236</td><td>0.0</td><td>0.0</td><td>0.0</td><td>0.0</td><td>0.0</td><td>5400.0</td><td>72057594037928192</td><td>1</td><td>TGT</td><td>30.097883</td><td>-387.7349</td><td>0</td><td>5000</td><td>0.5769014462434033</td><td>65535</td><td>99</td><td>8000</td><td>319567</td><td>1798m020</td><td>2593</td><td>COMP</td><td>1200520200000.0</td><td>1137237400000.0</td><td>0.026747745</td><td>7.242739</td><td>27.502094</td><td>56.823116</td><td>283.8183</td><td>96.73356</td><td>23.691875</td><td>0.92387474</td><td>0.94806135</td><td>0.9706069</td><td>0.0003505037</td><td>0.0005262532</td><td>0.0007435746</td><td>0.009972757</td><td>0.03186444</td><td>0.012389783</td><td>0.9996534</td><td>0.99951184</td><td>0.9994548</td><td>4</td><td>5</td><td>4</td><td>2119.6555</td><td>732.42084</td><td>152.45065</td><td>1327.5671</td><td>462.19913</td><td>91.94238</td><td>71.44102</td><td>49.681255</td><td>-44.76407</td><td>255.13826</td><td>1.8200397</td><td>0.3141238</td><td>0.00057502295</td><td>8.713377e-06</td><td>0.9954773</td><td>0.99722004</td><td>0.99940646</td><td>0.9997758</td><td>0</td><td>0</td><td>0</td><td>1.6866434</td><td>6.4045134</td><td>13.232608</td><td>1.6866434</td><td>6.4045134</td><td>13.232608</td><td>0</td><td>0</td><td>0</td><td>0.20788082</td><td>429860.12</td><td>0.19717152</td><td>0.115232825</td><td>-0.557419</td><td>19612.95</td><td>354.20935</td><td>182.35759</td><td>2.3639636</td><td>0.0070288377</td><td>0.13721645</td><td>11069.628</td><td>37805.477</td><td>94565.43</td><td>0</td><td></td><td>0.0</td><td>0.0</td><td>0.0</td><td>0.0</td><td>0.0</td><td>0.0</td><td>0.0</td><td>0.0</td><td>True</td><td>0.0</td><td>True</td><td>0.0</td><td>0.0</td><td>S</td><td>72057594037928192</td><td>2101</td><td>1</td><td>25596</td><td>0.0</td><td>0.0</td><td>0.0</td><td>0.0</td><td>0</td><td>0</td><td>0</td><td>3</td><td>30.066</td><td>-387.252</td><td>0.0011666666666666672</td><td>-0.0026666666666666666</td><td>0.0</td><td>0.0</td><td>0.01776231966833161</td><td>0.007280109889280519</td><td>191</td><td>191</td><td>1</td></tr>\n",
       "<tr><td>35185712449980984</td><td>0</td><td>509</td><td>509</td><td>353</td><td>0</td><td>179.83198680339055</td><td>-2.03213302095459</td><td>0.0</td><td>0.0</td><td>0.0</td><td>0.0</td><td>0.0</td><td>5400.0</td><td>72057594037928192</td><td>1</td><td>TGT</td><td>42.476257</td><td>-387.56448</td><td>0</td><td>5000</td><td>0.8322156611075153</td><td>65535</td><td>99</td><td>8000</td><td>319567</td><td>1798m020</td><td>2616</td><td>DEV</td><td>714463640000.0</td><td>456547070000.0</td><td>0.028376572</td><td>4.6194277</td><td>17.870539</td><td>39.066868</td><td>356.11545</td><td>93.29869</td><td>22.07026</td><td>0.91943085</td><td>0.9449871</td><td>0.9688452</td><td>0.0016982484</td><td>0.0038274624</td><td>0.013357703</td><td>0.048218973</td><td>0.108996056</td><td>0.051075168</td><td>0.9978893</td><td>0.86257863</td><td>0.9976624</td><td>4</td><td>4</td><td>3</td><td>2103.3306</td><td>598.2792</td><td>108.61956</td><td>1323.9209</td><td>373.23804</td><td>69.489876</td><td>50.987198</td><td>32.252724</td><td>70.976</td><td>-476.21545</td><td>1.691091</td><td>0.29259768</td><td>0.0005035204</td><td>7.495797e-06</td><td>0.99520254</td><td>0.997051</td><td>0.99937034</td><td>0.9997622</td><td>0</td><td>0</td><td>0</td><td>1.2327988</td><td>4.7691574</td><td>10.425878</td><td>1.2327988</td><td>4.7691574</td><td>10.425878</td><td>0</td><td>0</td><td>0</td><td>1.0</td><td>1.0</td><td>1.8864619</td><td>0.25881308</td><td>0.26100105</td><td>195829.05</td><td>223996.2</td><td>231804.3</td><td>0.0</td><td>0.0</td><td>0.0</td><td>0.0</td><td>0.0</td><td>0.0</td><td>0</td><td></td><td>0.0</td><td>0.0</td><td>0.0</td><td>0.0</td><td>0.0</td><td>0.0</td><td>0.0</td><td>0.0</td><td>True</td><td>0.0</td><td>True</td><td>0.0</td><td>0.0</td><td>S</td><td>72057594037928192</td><td>2101</td><td>1</td><td>25596</td><td>0.0</td><td>0.0</td><td>0.0</td><td>0.0</td><td>0</td><td>0</td><td>0</td><td>3</td><td>42.431</td><td>-387.088</td><td>0.0015000000000000002</td><td>-0.002</td><td>0.0</td><td>0.0</td><td>0.016598192672697833</td><td>0.006806859285554046</td><td>353</td><td>353</td><td>1</td></tr>\n",
       "<tr><td>35185712449981157</td><td>0</td><td>490</td><td>490</td><td>469</td><td>0</td><td>179.93672929064755</td><td>-2.0249141792900964</td><td>0.0</td><td>0.0</td><td>0.0</td><td>0.0</td><td>0.0</td><td>5400.0</td><td>9007199254742272</td><td>1</td><td>TGT</td><td>15.982121</td><td>-385.43832</td><td>0</td><td>1000</td><td>0.925701257706403</td><td>65535</td><td>99</td><td>8000</td><td>319567</td><td>1798m020</td><td>2789</td><td>REX</td><td>253785470000.0</td><td>249990040000.0</td><td>0.02518837</td><td>2.7757616</td><td>11.252277</td><td>28.182625</td><td>391.2573</td><td>134.81303</td><td>28.041473</td><td>0.9281493</td><td>0.9510139</td><td>0.9722966</td><td>0.0029877978</td><td>0.0005241283</td><td>0.0017740829</td><td>0.0024790803</td><td>0.0042495523</td><td>0.006106085</td><td>0.7521156</td><td>0.7721053</td><td>0.7503294</td><td>3</td><td>4</td><td>3</td><td>1549.2803</td><td>568.9219</td><td>122.472855</td><td>970.34174</td><td>355.74088</td><td>68.45593</td><td>58.46034</td><td>34.61714</td><td>139.48128</td><td>168.92442</td><td>2.2196271</td><td>0.37866133</td><td>0.00065638893</td><td>9.207562e-06</td><td>0.9957404</td><td>0.9973819</td><td>0.999441</td><td>0.9997889</td><td>0</td><td>0</td><td>0</td><td>0.76504916</td><td>3.1013272</td><td>7.7676315</td><td>0.76504916</td><td>3.1013272</td><td>7.7676315</td><td>0</td><td>0</td><td>0</td><td>0.0</td><td>0.0</td><td>0.0</td><td>0.0</td><td>0.0</td><td>0.0</td><td>0.0</td><td>0.0</td><td>1.0192795</td><td>0.0</td><td>0.0</td><td>74026.03</td><td>0.0</td><td>0.0</td><td>0</td><td></td><td>0.0</td><td>0.0</td><td>0.0</td><td>0.0</td><td>0.0</td><td>0.0</td><td>0.0</td><td>0.0</td><td>True</td><td>0.0</td><td>True</td><td>0.0</td><td>0.0</td><td>S</td><td>9007199254742272</td><td>3410</td><td>2</td><td>25596</td><td>0.0</td><td>0.0</td><td>0.0</td><td>0.0</td><td>0</td><td>0</td><td>0</td><td>3</td><td>15.98</td><td>-384.958</td><td>-0.0004999999999999999</td><td>-0.002166666666666667</td><td>0.0</td><td>0.0</td><td>0.012916397846665041</td><td>0.008495096624916439</td><td>469</td><td>469</td><td>1</td></tr>\n",
       "<tr><td>35185712449981248</td><td>0</td><td>489</td><td>489</td><td>491</td><td>0</td><td>179.98371902847697</td><td>-2.0218686397027863</td><td>0.0</td><td>0.0</td><td>0.0</td><td>0.0</td><td>0.0</td><td>5400.0</td><td>256</td><td>1</td><td>TGT</td><td>4.1101003</td><td>-384.58444</td><td>0</td><td>1000</td><td>0.041829306311096826</td><td>65535</td><td>99</td><td>8000</td><td>319567</td><td>1798m020</td><td>2880</td><td>DEV</td><td>24230306000.0</td><td>40088580000.0</td><td>0.024407592</td><td>3.1771464</td><td>10.522125</td><td>24.023544</td><td>72.27716</td><td>19.582651</td><td>5.5675216</td><td>0.93029696</td><td>0.9524957</td><td>0.9731437</td><td>0.0</td><td>0.0</td><td>0.0</td><td>0.16709913</td><td>0.11695549</td><td>0.14670925</td><td>0.6993945</td><td>0.69942224</td><td>0.69623876</td><td>3</td><td>3</td><td>3</td><td>1549.2803</td><td>469.6446</td><td>122.472855</td><td>970.34174</td><td>270.6647</td><td>68.45593</td><td>35.771362</td><td>17.179695</td><td>-12.461544</td><td>173.68452</td><td>0.8519962</td><td>0.15160225</td><td>0.0002778792</td><td>5.477869e-06</td><td>0.9958722</td><td>0.997463</td><td>0.9994584</td><td>0.99979544</td><td>0</td><td>0</td><td>0</td><td>0.35124943</td><td>1.1632736</td><td>2.655923</td><td>0.35124943</td><td>1.1632736</td><td>2.655923</td><td>0</td><td>0</td><td>0</td><td>1.0</td><td>1.0</td><td>4.792752</td><td>-0.22286926</td><td>0.00645396</td><td>288.26166</td><td>3844.8691</td><td>2236.4473</td><td>0.0</td><td>0.0</td><td>0.0</td><td>0.0</td><td>0.0</td><td>0.0</td><td>0</td><td></td><td>0.0</td><td>0.0</td><td>0.0</td><td>0.0</td><td>0.0</td><td>0.0</td><td>0.0</td><td>0.0</td><td>True</td><td>0.0</td><td>True</td><td>0.0</td><td>0.0</td><td>S</td><td>256</td><td>2100</td><td>1</td><td>25596</td><td>0.0</td><td>0.0</td><td>0.0</td><td>0.0</td><td>0</td><td>0</td><td>0</td><td>3</td><td>4.13</td><td>-384.098</td><td>-0.0014999999999999996</td><td>-0.0019999999999999996</td><td>0.0</td><td>0.0</td><td>0.011247221879201992</td><td>0.008366600265340756</td><td>491</td><td>491</td><td>1</td></tr>\n",
       "<tr><td>35185712449981261</td><td>0</td><td>491</td><td>491</td><td>192</td><td>0</td><td>179.90442576003122</td><td>-2.0187779658313754</td><td>0.0</td><td>0.0</td><td>0.0</td><td>0.0</td><td>0.0</td><td>5400.0</td><td>81064793292670208</td><td>1</td><td>TGT</td><td>24.137636</td><td>-383.8004</td><td>0</td><td>5000</td><td>0.9411587081105407</td><td>65535</td><td>99</td><td>8000</td><td>319567</td><td>1798m020</td><td>2893</td><td>DEV</td><td>1517834900000.0</td><td>1581787600000.0</td><td>0.02579192</td><td>6.600096</td><td>27.478563</td><td>59.54646</td><td>289.3151</td><td>60.631702</td><td>22.115225</td><td>0.9264925</td><td>0.94987005</td><td>0.97164226</td><td>0.0008000426</td><td>0.0004071907</td><td>0.00063397555</td><td>0.0172102</td><td>0.02343339</td><td>0.018024407</td><td>0.99991214</td><td>0.9999068</td><td>0.9998821</td><td>3</td><td>3</td><td>3</td><td>1549.2803</td><td>469.6446</td><td>122.472855</td><td>970.34174</td><td>270.6647</td><td>68.45593</td><td>78.148865</td><td>52.94424</td><td>98.23785</td><td>756.53705</td><td>1.890795</td><td>0.30750737</td><td>0.0005300283</td><td>8.027175e-06</td><td>0.99563855</td><td>0.9973193</td><td>0.9994277</td><td>0.9997839</td><td>0</td><td>0</td><td>0</td><td>2.0554633</td><td>8.55763</td><td>18.544512</td><td>2.0554712</td><td>8.55765</td><td>18.544607</td><td>0</td><td>0</td><td>0</td><td>1.0</td><td>1.0</td><td>1.222088</td><td>-0.055029944</td><td>0.1159764</td><td>24463.422</td><td>30166.102</td><td>51015.26</td><td>0.0</td><td>0.0</td><td>0.0</td><td>0.0</td><td>0.0</td><td>0.0</td><td>0</td><td></td><td>0.0</td><td>0.0</td><td>0.0</td><td>0.0</td><td>0.0</td><td>0.0</td><td>0.0</td><td>0.0</td><td>True</td><td>0.0</td><td>True</td><td>0.0</td><td>0.0</td><td>S</td><td>81064793292670208</td><td>3410</td><td>2</td><td>25596</td><td>0.0</td><td>0.0</td><td>0.0</td><td>0.0</td><td>0</td><td>0</td><td>0</td><td>3</td><td>24.119</td><td>-383.328</td><td>0.0018333333333333333</td><td>-0.0008333333333333334</td><td>0.0</td><td>0.0</td><td>0.014600228308717187</td><td>0.009064583093924765</td><td>192</td><td>192</td><td>1</td></tr>\n",
       "<tr><td>...</td><td>...</td><td>...</td><td>...</td><td>...</td><td>...</td><td>...</td><td>...</td><td>...</td><td>...</td><td>...</td><td>...</td><td>...</td><td>...</td><td>...</td><td>...</td><td>...</td><td>...</td><td>...</td><td>...</td><td>...</td><td>...</td><td>...</td><td>...</td><td>...</td><td>...</td><td>...</td><td>...</td><td>...</td><td>...</td><td>...</td><td>...</td><td>...</td><td>...</td><td>...</td><td>...</td><td>...</td><td>...</td><td>...</td><td>...</td><td>...</td><td>...</td><td>...</td><td>...</td><td>...</td><td>...</td><td>...</td><td>...</td><td>...</td><td>...</td><td>...</td><td>...</td><td>...</td><td>...</td><td>...</td><td>...</td><td>...</td><td>...</td><td>...</td><td>...</td><td>...</td><td>...</td><td>...</td><td>...</td><td>...</td><td>...</td><td>...</td><td>...</td><td>...</td><td>...</td><td>...</td><td>...</td><td>...</td><td>...</td><td>...</td><td>...</td><td>...</td><td>...</td><td>...</td><td>...</td><td>...</td><td>...</td><td>...</td><td>...</td><td>...</td><td>...</td><td>...</td><td>...</td><td>...</td><td>...</td><td>...</td><td>...</td><td>...</td><td>...</td><td>...</td><td>...</td><td>...</td><td>...</td><td>...</td><td>...</td><td>...</td><td>...</td><td>...</td><td>...</td><td>...</td><td>...</td><td>...</td><td>...</td><td>...</td><td>...</td><td>...</td><td>...</td><td>...</td><td>...</td><td>...</td><td>...</td><td>...</td><td>...</td><td>...</td><td>...</td><td>...</td><td>...</td><td>...</td><td>...</td><td>...</td><td>...</td><td>...</td><td>...</td><td>...</td><td>...</td><td>...</td><td>...</td><td>...</td><td>...</td><td>...</td><td>...</td></tr>\n",
       "<tr><td>35185742657356255</td><td>9</td><td>40</td><td>9040</td><td>4575</td><td>0</td><td>180.39257433846691</td><td>-0.8479576976867087</td><td>0.0</td><td>0.0</td><td>0.0</td><td>0.0</td><td>0.0</td><td>5400.0</td><td>9007199254742272</td><td>1</td><td>TGT</td><td>-95.870186</td><td>-84.98578</td><td>0</td><td>1000</td><td>0.7300906050105782</td><td>65535</td><td>99</td><td>8000</td><td>326769</td><td>1803m007</td><td>479</td><td>DEV</td><td>409122600000.0</td><td>485059170000.0</td><td>0.024389155</td><td>2.6657624</td><td>14.877193</td><td>37.707073</td><td>259.51648</td><td>107.95675</td><td>18.258055</td><td>0.93034774</td><td>0.95253074</td><td>0.97316366</td><td>0.008246304</td><td>0.004180558</td><td>0.0021921406</td><td>0.028459774</td><td>0.030961301</td><td>0.030226616</td><td>0.9795963</td><td>0.9792055</td><td>0.9788178</td><td>3</td><td>4</td><td>3</td><td>1500.0751</td><td>585.3517</td><td>110.32306</td><td>922.61273</td><td>381.1585</td><td>63.085907</td><td>77.428024</td><td>50.340603</td><td>114.05621</td><td>-524.3473</td><td>1.7941927</td><td>0.30102307</td><td>0.000590624</td><td>9.055083e-06</td><td>0.9958753</td><td>0.9974649</td><td>0.9994588</td><td>0.9997956</td><td>0</td><td>0</td><td>0</td><td>0.71627873</td><td>3.9974368</td><td>10.131725</td><td>0.71627873</td><td>3.9974368</td><td>10.131725</td><td>0</td><td>0</td><td>0</td><td>1.0</td><td>1.0</td><td>1.6374279</td><td>-0.108562954</td><td>-0.17954619</td><td>5667.2334</td><td>12343.991</td><td>17721.06</td><td>0.0</td><td>0.0</td><td>0.0</td><td>0.0</td><td>0.0</td><td>0.0</td><td>0</td><td></td><td>0.0</td><td>0.0</td><td>0.0</td><td>0.0</td><td>0.0</td><td>0.0</td><td>0.0</td><td>0.0</td><td>True</td><td>0.0</td><td>True</td><td>0.0</td><td>0.0</td><td>S</td><td>9007199254742272</td><td>3410</td><td>2</td><td>25599</td><td>0.0</td><td>0.0</td><td>0.0</td><td>0.0</td><td>0</td><td>0</td><td>0</td><td>3</td><td>-95.738</td><td>-84.89</td><td>0.0018333333333333329</td><td>0.0003333333333333335</td><td>0.0</td><td>0.0</td><td>0.005212165257037296</td><td>0.006831300510639733</td><td>4575</td><td>4575</td><td>1</td></tr>\n",
       "<tr><td>35185742657356886</td><td>9</td><td>27</td><td>9027</td><td>4587</td><td>0</td><td>180.3149403696228</td><td>-0.8144601525528015</td><td>0.0</td><td>0.0</td><td>0.0</td><td>0.0</td><td>0.0</td><td>5400.0</td><td>256</td><td>1</td><td>TGT</td><td>-76.81812</td><td>-76.70975</td><td>0</td><td>1000</td><td>0.8365236496267883</td><td>65535</td><td>99</td><td>8000</td><td>326769</td><td>1803m007</td><td>1110</td><td>EXP</td><td>232359900000.0</td><td>295107620000.0</td><td>0.023868313</td><td>5.1297746</td><td>14.968418</td><td>30.215223</td><td>245.40083</td><td>113.13445</td><td>17.369457</td><td>0.93178326</td><td>0.95352054</td><td>0.9737292</td><td>1.0955031e-05</td><td>1.368736e-05</td><td>1.4497609e-05</td><td>0.0025859424</td><td>0.004956045</td><td>0.005301983</td><td>0.999266</td><td>0.9988089</td><td>0.9989644</td><td>2</td><td>3</td><td>2</td><td>1229.04</td><td>463.0187</td><td>70.03153</td><td>745.4456</td><td>297.76624</td><td>42.181572</td><td>39.418728</td><td>35.330326</td><td>108.79539</td><td>-267.83203</td><td>2.2058864</td><td>0.37693104</td><td>0.00074287097</td><td>1.064376e-05</td><td>0.9959632</td><td>0.99751896</td><td>0.99947035</td><td>0.99979997</td><td>0</td><td>0</td><td>0</td><td>1.3026217</td><td>3.8009832</td><td>7.672658</td><td>1.3026217</td><td>3.8009832</td><td>7.672658</td><td>0</td><td>0</td><td>0</td><td>0.0</td><td>0.0</td><td>0.0</td><td>0.0</td><td>0.0</td><td>0.0</td><td>0.0</td><td>0.0</td><td>1.4109567</td><td>-0.093634576</td><td>-0.2561954</td><td>13423.351</td><td>19261.59</td><td>32838.79</td><td>0</td><td></td><td>0.0</td><td>0.0</td><td>0.0</td><td>0.0</td><td>0.0</td><td>0.0</td><td>0.0</td><td>0.0</td><td>True</td><td>0.0</td><td>True</td><td>0.0</td><td>0.0</td><td>S</td><td>256</td><td>2100</td><td>1</td><td>25599</td><td>0.0</td><td>0.0</td><td>0.0</td><td>0.0</td><td>0</td><td>0</td><td>0</td><td>3</td><td>-76.7</td><td>-76.625</td><td>0.0005000000000000004</td><td>0.0006666666666666665</td><td>0.0</td><td>0.0</td><td>0.00501663898109747</td><td>0.008326663997864532</td><td>4587</td><td>4587</td><td>1</td></tr>\n",
       "<tr><td>35185742657357090</td><td>9</td><td>32</td><td>9032</td><td>4597</td><td>0</td><td>180.38254761162804</td><td>-0.8062760533682312</td><td>0.0</td><td>0.0</td><td>0.0</td><td>0.0</td><td>0.0</td><td>5400.0</td><td>256</td><td>1</td><td>TGT</td><td>-93.3703</td><td>-74.7638</td><td>0</td><td>1000</td><td>0.8250186661041707</td><td>65535</td><td>99</td><td>8000</td><td>326769</td><td>1803m007</td><td>1314</td><td>EXP</td><td>291198100000.0</td><td>409761450000.0</td><td>0.024385432</td><td>5.566946</td><td>8.393255</td><td>10.975309</td><td>592.4282</td><td>212.38748</td><td>44.88938</td><td>0.930358</td><td>0.9525378</td><td>0.9731677</td><td>0.0</td><td>0.0</td><td>0.0</td><td>0.049812313</td><td>0.030843448</td><td>0.13237582</td><td>0.99794626</td><td>0.82005566</td><td>0.9970394</td><td>4</td><td>4</td><td>4</td><td>2202.925</td><td>574.6687</td><td>111.2295</td><td>1348.8977</td><td>368.53674</td><td>63.923534</td><td>8.289098</td><td>6.895104</td><td>49.074524</td><td>192.77438</td><td>2.3260663</td><td>0.38491052</td><td>0.00067341264</td><td>9.101003e-06</td><td>0.9958759</td><td>0.99746525</td><td>0.99945885</td><td>0.9997956</td><td>0</td><td>0</td><td>0</td><td>2.1433573</td><td>3.2315285</td><td>4.225658</td><td>2.1433573</td><td>3.2315285</td><td>4.225658</td><td>0</td><td>0</td><td>0</td><td>0.0</td><td>0.0</td><td>0.0</td><td>0.0</td><td>0.0</td><td>0.0</td><td>0.0</td><td>0.0</td><td>0.8841806</td><td>-0.16946967</td><td>0.12423206</td><td>43959.137</td><td>42053.09</td><td>38809.684</td><td>0</td><td></td><td>0.0</td><td>0.0</td><td>0.0</td><td>0.0</td><td>0.0</td><td>0.0</td><td>0.0</td><td>0.0</td><td>True</td><td>0.0</td><td>True</td><td>0.0</td><td>0.0</td><td>S</td><td>256</td><td>2100</td><td>1</td><td>25599</td><td>0.0</td><td>0.0</td><td>0.0</td><td>0.0</td><td>0</td><td>0</td><td>0</td><td>3</td><td>-93.244</td><td>-74.68</td><td>0.0018333333333333333</td><td>0.0006666666666666664</td><td>0.0</td><td>0.0</td><td>0.00672061505121865</td><td>0.007724420150837645</td><td>4597</td><td>4597</td><td>1</td></tr>\n",
       "<tr><td>35185742657357538</td><td>9</td><td>26</td><td>9026</td><td>4571</td><td>0</td><td>180.35593534140293</td><td>-0.7861214428641674</td><td>0.0</td><td>0.0</td><td>0.0</td><td>0.0</td><td>0.0</td><td>5400.0</td><td>72057594037928192</td><td>1</td><td>TGT</td><td>-86.83202</td><td>-69.80891</td><td>0</td><td>5000</td><td>0.23341638346800975</td><td>65535</td><td>99</td><td>8000</td><td>326769</td><td>1803m007</td><td>1762</td><td>EXP</td><td>162873080000.0</td><td>1021216900000.0</td><td>0.024084864</td><td>8.484131</td><td>15.300746</td><td>24.064182</td><td>397.7353</td><td>140.04349</td><td>26.016586</td><td>0.93118614</td><td>0.95310885</td><td>0.97349405</td><td>0.0002580473</td><td>0.00022286939</td><td>0.0028163523</td><td>0.006824521</td><td>0.023307582</td><td>0.008847594</td><td>0.83318615</td><td>0.9997839</td><td>0.80020463</td><td>5</td><td>5</td><td>4</td><td>2509.861</td><td>694.7731</td><td>149.73843</td><td>1552.7086</td><td>450.55295</td><td>83.53578</td><td>27.409704</td><td>27.998219</td><td>197.27391</td><td>250.54346</td><td>1.8500606</td><td>0.31846932</td><td>0.0005782985</td><td>8.622926e-06</td><td>0.9959267</td><td>0.9974965</td><td>0.9994655</td><td>0.9997982</td><td>0</td><td>0</td><td>0</td><td>1.7456949</td><td>3.1482816</td><td>4.951446</td><td>1.7456949</td><td>3.1482816</td><td>4.951446</td><td>0</td><td>0</td><td>0</td><td>0.0</td><td>0.0</td><td>0.0</td><td>0.0</td><td>0.0</td><td>0.0</td><td>0.0</td><td>0.0</td><td>2.507227</td><td>-0.6687745</td><td>0.2941483</td><td>7022.1475</td><td>67583.24</td><td>67381.01</td><td>0</td><td></td><td>0.0</td><td>0.0</td><td>0.0</td><td>0.0</td><td>0.0</td><td>0.0</td><td>0.0</td><td>0.0</td><td>True</td><td>0.0</td><td>True</td><td>0.0</td><td>0.0</td><td>S</td><td>72057594037928192</td><td>2101</td><td>1</td><td>25599</td><td>0.0</td><td>0.0</td><td>0.0</td><td>0.0</td><td>0</td><td>0</td><td>0</td><td>3</td><td>-86.71</td><td>-69.726</td><td>0.0008333333333333335</td><td>0.0011666666666666668</td><td>0.0</td><td>0.0</td><td>0.00584522597225006</td><td>0.0058166427888717166</td><td>4571</td><td>4571</td><td>1</td></tr>\n",
       "<tr><td>35185742657357588</td><td>9</td><td>22</td><td>9022</td><td>4591</td><td>0</td><td>180.27833891252732</td><td>-0.7854457182873641</td><td>0.0</td><td>0.0</td><td>0.0</td><td>0.0</td><td>0.0</td><td>5400.0</td><td>256</td><td>1</td><td>TGT</td><td>-67.84983</td><td>-69.589424</td><td>0</td><td>1000</td><td>0.4563786400317992</td><td>65535</td><td>99</td><td>8000</td><td>326769</td><td>1803m007</td><td>1812</td><td>EXP</td><td>72353750000.0</td><td>70021210000.0</td><td>0.02280274</td><td>2.357705</td><td>6.581905</td><td>14.554433</td><td>138.80647</td><td>69.59177</td><td>15.517716</td><td>0.934727</td><td>0.9555487</td><td>0.9748872</td><td>0.09390087</td><td>0.0019737987</td><td>0.018252935</td><td>0.012137383</td><td>0.013646535</td><td>0.016113631</td><td>0.4989946</td><td>0.9964586</td><td>0.67963696</td><td>1</td><td>2</td><td>2</td><td>644.4528</td><td>320.1531</td><td>84.18967</td><td>376.87183</td><td>188.10872</td><td>42.14131</td><td>28.964624</td><td>25.510027</td><td>102.62542</td><td>153.9184</td><td>2.105865</td><td>0.3625207</td><td>0.0006643175</td><td>9.731173e-06</td><td>0.99614304</td><td>0.9976296</td><td>0.99949396</td><td>0.9998089</td><td>0</td><td>0</td><td>0</td><td>0.6099954</td><td>1.7028983</td><td>3.7655842</td><td>0.6103945</td><td>1.7037795</td><td>3.7672963</td><td>0</td><td>0</td><td>0</td><td>0.0</td><td>0.0</td><td>0.0</td><td>0.0</td><td>0.0</td><td>0.0</td><td>0.0</td><td>0.0</td><td>1.8629655</td><td>-0.008415517</td><td>-0.63839746</td><td>5747.8374</td><td>9197.167</td><td>10820.585</td><td>0</td><td></td><td>0.0</td><td>0.0</td><td>0.0</td><td>0.0</td><td>0.0</td><td>0.0</td><td>0.0</td><td>0.0</td><td>True</td><td>0.0</td><td>True</td><td>0.0</td><td>0.0</td><td>S</td><td>256</td><td>2100</td><td>1</td><td>25599</td><td>0.0</td><td>0.0</td><td>0.0</td><td>0.0</td><td>0</td><td>0</td><td>0</td><td>3</td><td>-67.738</td><td>-69.508</td><td>-0.0003333333333333333</td><td>0.0005000000000000001</td><td>0.0</td><td>0.0</td><td>0.0043588989435406735</td><td>0.006311365409587163</td><td>4591</td><td>4591</td><td>1</td></tr>\n",
       "<tr><td>35185742657357995</td><td>9</td><td>21</td><td>9021</td><td>4598</td><td>0</td><td>180.3138716041525</td><td>-0.7649679606727824</td><td>0.0</td><td>0.0</td><td>0.0</td><td>0.0</td><td>0.0</td><td>5400.0</td><td>256</td><td>1</td><td>TGT</td><td>-76.523285</td><td>-64.60732</td><td>0</td><td>1000</td><td>0.5149126767588182</td><td>65535</td><td>99</td><td>8000</td><td>326769</td><td>1803m007</td><td>2219</td><td>EXP</td><td>198440080000.0</td><td>307593670000.0</td><td>0.022856727</td><td>2.173754</td><td>7.5032268</td><td>15.945291</td><td>728.43134</td><td>243.78712</td><td>64.442535</td><td>0.93457764</td><td>0.9554458</td><td>0.9748285</td><td>0.0</td><td>0.0</td><td>0.0</td><td>0.0032081977</td><td>0.0062292954</td><td>0.008064509</td><td>0.99775046</td><td>0.99647295</td><td>0.9944915</td><td>4</td><td>5</td><td>5</td><td>2350.326</td><td>755.3368</td><td>173.72212</td><td>1433.4719</td><td>466.30838</td><td>109.225</td><td>27.52476</td><td>21.092218</td><td>78.176704</td><td>165.2379</td><td>2.325173</td><td>0.39566672</td><td>0.00067102606</td><td>8.979656e-06</td><td>0.996134</td><td>0.997624</td><td>0.99949276</td><td>0.99980843</td><td>0</td><td>0</td><td>0</td><td>0.7623554</td><td>2.6314502</td><td>5.592159</td><td>0.7623554</td><td>2.6314502</td><td>5.592159</td><td>0</td><td>0</td><td>0</td><td>0.0</td><td>0.0</td><td>0.0</td><td>0.0</td><td>0.0</td><td>0.0</td><td>0.0</td><td>0.0</td><td>0.9924707</td><td>-0.20694636</td><td>-0.089120194</td><td>14770.714</td><td>16248.576</td><td>9772.901</td><td>0</td><td></td><td>0.0</td><td>0.0</td><td>0.0</td><td>0.0</td><td>0.0</td><td>0.0</td><td>0.0</td><td>0.0</td><td>True</td><td>0.0</td><td>True</td><td>0.0</td><td>0.0</td><td>S</td><td>256</td><td>2100</td><td>1</td><td>25599</td><td>0.0</td><td>0.0</td><td>0.0</td><td>0.0</td><td>0</td><td>0</td><td>0</td><td>3</td><td>-76.409</td><td>-64.53</td><td>0.0011666666666666668</td><td>0.0006666666666666662</td><td>0.0</td><td>0.0</td><td>0.004453463071962462</td><td>0.006429100507328637</td><td>4598</td><td>4598</td><td>1</td></tr>\n",
       "<tr><td>35185742657358258</td><td>9</td><td>17</td><td>9017</td><td>4897</td><td>0</td><td>180.26166230556422</td><td>-0.7519043186458567</td><td>0.0</td><td>0.0</td><td>0.0</td><td>0.0</td><td>0.0</td><td>5400.0</td><td>9007199254742272</td><td>1</td><td>TGT</td><td>-63.7588</td><td>-61.38699</td><td>0</td><td>1000</td><td>0.5528878393298946</td><td>65535</td><td>99</td><td>8000</td><td>326769</td><td>1803m007</td><td>2482</td><td>DEV</td><td>523307420000.0</td><td>513347980000.0</td><td>0.02245916</td><td>1.9440001</td><td>10.421522</td><td>26.63656</td><td>549.07074</td><td>178.3454</td><td>47.377186</td><td>0.9356782</td><td>0.9562036</td><td>0.97526085</td><td>0.00054152653</td><td>0.00029356117</td><td>0.0002826562</td><td>0.013554937</td><td>0.015011264</td><td>0.01679198</td><td>0.99275476</td><td>0.9916886</td><td>0.9909453</td><td>4</td><td>5</td><td>5</td><td>2299.907</td><td>767.57104</td><td>174.1771</td><td>1406.0641</td><td>476.25726</td><td>109.12095</td><td>50.5295</td><td>29.101576</td><td>139.60725</td><td>-343.9756</td><td>1.9538528</td><td>0.33796278</td><td>0.000492736</td><td>7.248051e-06</td><td>0.9962011</td><td>0.9976652</td><td>0.9995016</td><td>0.99981177</td><td>0</td><td>0</td><td>0</td><td>0.65527076</td><td>3.512818</td><td>8.978477</td><td>0.65527076</td><td>3.512818</td><td>8.978477</td><td>0</td><td>0</td><td>0</td><td>1.0</td><td>1.0</td><td>0.97457814</td><td>0.00962602</td><td>0.015889611</td><td>13292.271</td><td>12787.464</td><td>17283.809</td><td>0.0</td><td>0.0</td><td>0.0</td><td>0.0</td><td>0.0</td><td>0.0</td><td>0</td><td></td><td>0.0</td><td>0.0</td><td>0.0</td><td>0.0</td><td>0.0</td><td>0.0</td><td>0.0</td><td>0.0</td><td>True</td><td>0.0</td><td>True</td><td>0.0</td><td>0.0</td><td>S</td><td>9007199254742272</td><td>3410</td><td>2</td><td>25599</td><td>0.0</td><td>0.0</td><td>0.0</td><td>0.0</td><td>0</td><td>0</td><td>0</td><td>3</td><td>-63.652</td><td>-61.308</td><td>0.0006666666666666666</td><td>0.0003333333333333333</td><td>0.0</td><td>0.0</td><td>0.00408248290463863</td><td>0.004725815626252608</td><td>4897</td><td>4897</td><td>1</td></tr>\n",
       "<tr><td>35185742657358602</td><td>9</td><td>16</td><td>9016</td><td>4883</td><td>0</td><td>180.29956345496126</td><td>-0.7345815195683678</td><td>0.0</td><td>0.0</td><td>0.0</td><td>0.0</td><td>0.0</td><td>5400.0</td><td>256</td><td>1</td><td>TGT</td><td>-73.00849</td><td>-57.17716</td><td>0</td><td>1000</td><td>0.5458156589553672</td><td>65535</td><td>99</td><td>8000</td><td>326769</td><td>1803m007</td><td>2826</td><td>DEV</td><td>262147820000.0</td><td>406458530000.0</td><td>0.022037864</td><td>1.1816943</td><td>6.922358</td><td>18.24003</td><td>851.5422</td><td>213.94951</td><td>55.60942</td><td>0.93684584</td><td>0.9570072</td><td>0.9757192</td><td>0.00516399</td><td>0.0062323</td><td>0.008227151</td><td>0.005214187</td><td>0.009018687</td><td>0.010383416</td><td>0.9998158</td><td>0.75200397</td><td>0.99936324</td><td>3</td><td>3</td><td>3</td><td>1705.8732</td><td>448.34454</td><td>89.4832</td><td>1056.6001</td><td>286.78995</td><td>66.59905</td><td>38.59713</td><td>24.748014</td><td>7.5612965</td><td>-1073.944</td><td>2.324967</td><td>0.385412</td><td>0.0006214401</td><td>8.598613e-06</td><td>0.9962722</td><td>0.997709</td><td>0.99951094</td><td>0.9998153</td><td>0</td><td>0</td><td>0</td><td>0.6300845</td><td>3.6910312</td><td>9.725663</td><td>0.6300845</td><td>3.6910312</td><td>9.725663</td><td>0</td><td>0</td><td>0</td><td>1.0</td><td>1.0</td><td>0.6040424</td><td>-0.49468988</td><td>-0.40478843</td><td>6841.93</td><td>1820.8053</td><td>1861.7552</td><td>0.0</td><td>0.0</td><td>0.0</td><td>0.0</td><td>0.0</td><td>0.0</td><td>0</td><td></td><td>0.0</td><td>0.0</td><td>0.0</td><td>0.0</td><td>0.0</td><td>0.0</td><td>0.0</td><td>0.0</td><td>True</td><td>0.0</td><td>True</td><td>0.0</td><td>0.0</td><td>S</td><td>256</td><td>2100</td><td>1</td><td>25599</td><td>0.0</td><td>0.0</td><td>0.0</td><td>0.0</td><td>0</td><td>0</td><td>0</td><td>3</td><td>-72.895</td><td>-57.101</td><td>0.002</td><td>-0.0008333333333333332</td><td>0.0</td><td>0.0</td><td>0.004654746681256313</td><td>0.004743416490252569</td><td>4883</td><td>4883</td><td>1</td></tr>\n",
       "<tr><td>35185748692959525</td><td>9</td><td>1</td><td>9001</td><td>4862</td><td>0</td><td>180.10284325608566</td><td>-0.6097564295812089</td><td>0.0</td><td>0.0</td><td>0.0</td><td>0.0</td><td>0.0</td><td>5400.0</td><td>72057594037928192</td><td>1</td><td>TGT</td><td>-25.022413</td><td>-26.705843</td><td>0</td><td>5000</td><td>0.6863158414242232</td><td>65535</td><td>99</td><td>8000</td><td>328208</td><td>1801m005</td><td>293</td><td>EXP</td><td>219586920000.0</td><td>180848690000.0</td><td>0.025019297</td><td>12.631904</td><td>18.412952</td><td>23.200602</td><td>183.40451</td><td>59.923695</td><td>24.058437</td><td>0.9286139</td><td>0.9513346</td><td>0.97247994</td><td>2.9686888e-05</td><td>1.3473605e-05</td><td>6.544956e-05</td><td>0.011419142</td><td>0.011333378</td><td>0.01480671</td><td>0.9983839</td><td>0.9981526</td><td>0.9970277</td><td>4</td><td>4</td><td>5</td><td>1959.9647</td><td>661.6455</td><td>200.71982</td><td>1209.298</td><td>381.38443</td><td>117.391136</td><td>13.649987</td><td>7.332944</td><td>49.123024</td><td>-468.98874</td><td>1.7783164</td><td>0.32297245</td><td>0.00047699994</td><td>7.0507936e-06</td><td>0.99576896</td><td>0.99739945</td><td>0.9994448</td><td>0.9997903</td><td>0</td><td>0</td><td>0</td><td>1.6997552</td><td>2.477656</td><td>3.1218843</td><td>1.6997552</td><td>2.477656</td><td>3.1218843</td><td>0</td><td>0</td><td>0</td><td>0.0</td><td>0.0</td><td>0.0</td><td>0.0</td><td>0.0</td><td>0.0</td><td>0.0</td><td>0.0</td><td>2.0336773</td><td>0.053785726</td><td>0.120527185</td><td>14265.914</td><td>45983.22</td><td>81323.2</td><td>0</td><td></td><td>0.0</td><td>0.0</td><td>0.0</td><td>0.0</td><td>0.0</td><td>0.0</td><td>0.0</td><td>0.0</td><td>True</td><td>0.0</td><td>True</td><td>0.0</td><td>0.0</td><td>S</td><td>72057594037928192</td><td>2101</td><td>1</td><td>25599</td><td>0.0</td><td>0.0</td><td>0.0</td><td>0.0</td><td>0</td><td>0</td><td>0</td><td>3</td><td>-24.969</td><td>-26.658</td><td>-0.0005</td><td>0.00016666666666666666</td><td>0.0</td><td>0.0</td><td>0.004527692569068709</td><td>0.007735200923914862</td><td>4862</td><td>4862</td><td>1</td></tr>\n",
       "<tr><td>35185748692959956</td><td>9</td><td>0</td><td>9000</td><td>4869</td><td>0</td><td>180.07592130921014</td><td>-0.5919762016184738</td><td>0.0</td><td>0.0</td><td>0.0</td><td>0.0</td><td>0.0</td><td>5400.0</td><td>72057594037928192</td><td>1</td><td>TGT</td><td>-18.470652</td><td>-22.377642</td><td>0</td><td>5000</td><td>0.6550957669115693</td><td>65535</td><td>99</td><td>8000</td><td>328208</td><td>1801m005</td><td>724</td><td>DEV</td><td>1840362700000.0</td><td>2867368600000.0</td><td>0.026197992</td><td>6.9190483</td><td>18.61273</td><td>34.907555</td><td>509.50186</td><td>147.31363</td><td>67.683815</td><td>0.92537946</td><td>0.9491012</td><td>0.97120225</td><td>0.00013947941</td><td>0.0003214658</td><td>0.0014103595</td><td>0.005007373</td><td>0.00486459</td><td>0.008295528</td><td>0.999903</td><td>0.99971664</td><td>0.99927044</td><td>4</td><td>4</td><td>5</td><td>1959.9647</td><td>661.6455</td><td>200.71982</td><td>1209.298</td><td>381.38443</td><td>117.391136</td><td>27.168993</td><td>18.543686</td><td>-136.19226</td><td>-393.5624</td><td>2.1204169</td><td>0.36281103</td><td>0.00047840644</td><td>6.6218286e-06</td><td>0.99557006</td><td>0.9972771</td><td>0.9994187</td><td>0.9997805</td><td>0</td><td>0</td><td>0</td><td>3.0252187</td><td>8.138052</td><td>15.262646</td><td>3.0252552</td><td>8.138631</td><td>15.266008</td><td>0</td><td>0</td><td>0</td><td>1.0</td><td>1.0</td><td>0.84762394</td><td>-0.37251818</td><td>-0.19318917</td><td>36296.258</td><td>28980.848</td><td>23359.316</td><td>0.0</td><td>0.0</td><td>0.0</td><td>0.0</td><td>0.0</td><td>0.0</td><td>0</td><td></td><td>0.0</td><td>0.0</td><td>0.0</td><td>0.0</td><td>0.0</td><td>0.0</td><td>0.0</td><td>0.0</td><td>True</td><td>0.0</td><td>True</td><td>0.0</td><td>0.0</td><td>S</td><td>72057594037928192</td><td>2101</td><td>1</td><td>25599</td><td>0.0</td><td>0.0</td><td>0.0</td><td>0.0</td><td>0</td><td>0</td><td>0</td><td>3</td><td>-18.428</td><td>-22.338</td><td>-0.00016666666666666653</td><td>0.0008333333333333335</td><td>0.0</td><td>0.0</td><td>0.0054006172486732165</td><td>0.007472170590486631</td><td>4869</td><td>4869</td><td>1</td></tr>\n",
       "</table>"
      ],
      "text/plain": [
       "<Table length=1484>\n",
       "     TARGETID     PETAL_LOC DEVICE_LOC ... FIRST_FIBER LAST_FIBER NUM_FIBER\n",
       "      int64         int16     int32    ...    int64      int64      int64  \n",
       "----------------- --------- ---------- ... ----------- ---------- ---------\n",
       "35185712445788791         0        477 ...         385        385         1\n",
       "35185712449979800         0        522 ...         478        478         1\n",
       "35185712449979886         0        521 ...         459        459         1\n",
       "35185712449980146         0        523 ...         368        368         1\n",
       "35185712449980558         0        507 ...         495        495         1\n",
       "35185712449980961         0        508 ...         191        191         1\n",
       "35185712449980984         0        509 ...         353        353         1\n",
       "35185712449981157         0        490 ...         469        469         1\n",
       "35185712449981248         0        489 ...         491        491         1\n",
       "35185712449981261         0        491 ...         192        192         1\n",
       "              ...       ...        ... ...         ...        ...       ...\n",
       "35185742657356255         9         40 ...        4575       4575         1\n",
       "35185742657356886         9         27 ...        4587       4587         1\n",
       "35185742657357090         9         32 ...        4597       4597         1\n",
       "35185742657357538         9         26 ...        4571       4571         1\n",
       "35185742657357588         9         22 ...        4591       4591         1\n",
       "35185742657357995         9         21 ...        4598       4598         1\n",
       "35185742657358258         9         17 ...        4897       4897         1\n",
       "35185742657358602         9         16 ...        4883       4883         1\n",
       "35185748692959525         9          1 ...        4862       4862         1\n",
       "35185748692959956         9          0 ...        4869       4869         1"
      ]
     },
     "execution_count": 6,
     "metadata": {},
     "output_type": "execute_result"
    }
   ],
   "source": [
    "fibermap[is_bgs]"
   ]
  },
  {
   "cell_type": "code",
   "execution_count": 7,
   "metadata": {},
   "outputs": [],
   "source": [
    "columns = ['TARGETID', 'TARGET_RA', 'TARGET_DEC']"
   ]
  },
  {
   "cell_type": "code",
   "execution_count": 8,
   "metadata": {},
   "outputs": [
    {
     "data": {
      "text/html": [
       "&lt;Table length=4&gt;\n",
       "<table id=\"table46914044222824\" class=\"table-striped table-bordered table-condensed\">\n",
       "<thead><tr><th>TARGETID</th><th>TARGET_RA</th><th>TARGET_DEC</th></tr></thead>\n",
       "<thead><tr><th>int64</th><th>float64</th><th>float64</th></tr></thead>\n",
       "<tr><td>35185730573569617</td><td>180.14947636101462</td><td>-1.1826312742940237</td></tr>\n",
       "<tr><td>35185730573568587</td><td>180.1046308933762</td><td>-1.2410810782483876</td></tr>\n",
       "<tr><td>35185718498166253</td><td>180.48629116306978</td><td>-1.80726313694911</td></tr>\n",
       "<tr><td>35185718502362542</td><td>180.69245682124182</td><td>-1.6828350028349215</td></tr>\n",
       "</table>"
      ],
      "text/plain": [
       "<Table length=4>\n",
       "     TARGETID         TARGET_RA           TARGET_DEC    \n",
       "      int64            float64             float64      \n",
       "----------------- ------------------ -------------------\n",
       "35185730573569617 180.14947636101462 -1.1826312742940237\n",
       "35185730573568587  180.1046308933762 -1.2410810782483876\n",
       "35185718498166253 180.48629116306978   -1.80726313694911\n",
       "35185718502362542 180.69245682124182 -1.6828350028349215"
      ]
     },
     "execution_count": 8,
     "metadata": {},
     "output_type": "execute_result"
    }
   ],
   "source": [
    "idx = np.random.choice(np.sum(is_bgs), 4)\n",
    "fibermap[is_bgs][columns][idx]"
   ]
  },
  {
   "cell_type": "code",
   "execution_count": 9,
   "metadata": {},
   "outputs": [
    {
     "name": "stdout",
     "output_type": "stream",
     "text": [
      "Help on Spectra in module desispec.spectra object:\n",
      "\n",
      "class Spectra(builtins.object)\n",
      " |  Represents a grouping of spectra.\n",
      " |  \n",
      " |  This class contains an \"extended\" fibermap that has information about\n",
      " |  the night and exposure of each spectrum.  For each band, this class has \n",
      " |  the wavelength grid, flux, ivar, mask, and resolution arrays.\n",
      " |  \n",
      " |  Parameters\n",
      " |  ----------\n",
      " |  bands : :class:`list`\n",
      " |      List of strings used to identify the bands.\n",
      " |  wave : :class:`dict`\n",
      " |      Dictionary of arrays specifying the wavelength grid.\n",
      " |  flux : :class:`dict`\n",
      " |      Dictionary of arrays specifying the flux for each spectrum.\n",
      " |  ivar : :class:`dict`\n",
      " |      Dictionary of arrays specifying the inverse variance.\n",
      " |  mask : :class:`dict`, optional\n",
      " |      Dictionary of arrays specifying the bitmask.\n",
      " |  resolution_data : :class:`dict`, optional\n",
      " |      Dictionary of arrays specifying the block diagonal resolution matrix.\n",
      " |      The object for each band must be in one of the formats supported\n",
      " |      by the Resolution class constructor.\n",
      " |  fibermap\n",
      " |      Extended fibermap to use. If not specified, a fake one is created.\n",
      " |  meta : :class:`dict`, optional\n",
      " |      Dictionary of arbitrary properties.\n",
      " |  extra : :class:`dict`, optional\n",
      " |      Optional dictionary of dictionaries containing extra\n",
      " |      floating point arrays.  The top-level is a dictionary over bands\n",
      " |      and each value is a dictionary containing string keys and values\n",
      " |      which are arrays of the same size as the flux array.\n",
      " |  single : :class:`bool`, optional\n",
      " |      If ``True``, store data in memory as single precision.\n",
      " |  scores\n",
      " |      QA scores table.\n",
      " |  \n",
      " |  Methods defined here:\n",
      " |  \n",
      " |  __init__(self, bands=[], wave={}, flux={}, ivar={}, mask=None, resolution_data=None, fibermap=None, meta=None, extra=None, single=False, scores=None)\n",
      " |      Initialize self.  See help(type(self)) for accurate signature.\n",
      " |  \n",
      " |  num_spectra(self)\n",
      " |      Get the number of spectra contained in this group.\n",
      " |      \n",
      " |      Returns (int):\n",
      " |          Number of spectra contained in this group.\n",
      " |  \n",
      " |  num_targets(self)\n",
      " |      Get the number of distinct targets.\n",
      " |      \n",
      " |      Returns (int):\n",
      " |          Number of unique targets with spectra in this object.\n",
      " |  \n",
      " |  select(self, nights=None, bands=None, targets=None, fibers=None, invert=False)\n",
      " |      Select a subset of the data.\n",
      " |      \n",
      " |      This filters the data based on a logical AND of the different\n",
      " |      criteria, optionally inverting that selection.\n",
      " |      \n",
      " |      Args:\n",
      " |          nights (list): optional list of nights to select.\n",
      " |          bands (list): optional list of bands to select.\n",
      " |          targets (list): optional list of target IDs to select.\n",
      " |          fibers (list): list/array of fiber indices to select.\n",
      " |          invert (bool): after combining all criteria, invert selection.\n",
      " |      \n",
      " |      Returns (Spectra):\n",
      " |          a new Spectra object containing the selected data.\n",
      " |  \n",
      " |  target_ids(self)\n",
      " |      Return list of unique target IDs.\n",
      " |      \n",
      " |      The target IDs are sorted by the order that they first appear.\n",
      " |      \n",
      " |      Returns (array):\n",
      " |          an array of integer target IDs.\n",
      " |  \n",
      " |  update(self, other)\n",
      " |      Overwrite or append new data.\n",
      " |      \n",
      " |      Given another Spectra object, compare the fibermap information with\n",
      " |      the existing one.  For spectra that already exist, overwrite existing \n",
      " |      data with the new values.  For spectra that do not exist, append that \n",
      " |      data to the end of the spectral data.\n",
      " |      \n",
      " |      Args:\n",
      " |          other (Spectra): the new data to add.\n",
      " |      \n",
      " |      Returns:\n",
      " |          nothing (object updated in place).\n",
      " |  \n",
      " |  wavelength_grid(self, band)\n",
      " |      Return the wavelength grid for a band.\n",
      " |      \n",
      " |      Args:\n",
      " |          band (str): the name of the band.\n",
      " |      \n",
      " |      Returns (array):\n",
      " |          an array containing the wavelength values.\n",
      " |  \n",
      " |  ----------------------------------------------------------------------\n",
      " |  Data descriptors defined here:\n",
      " |  \n",
      " |  __dict__\n",
      " |      dictionary for instance variables (if defined)\n",
      " |  \n",
      " |  __weakref__\n",
      " |      list of weak references to the object (if defined)\n",
      " |  \n",
      " |  bands\n",
      " |      (list): the list of valid bands.\n",
      " |  \n",
      " |  ftype\n",
      " |      (numpy.dtype): the data type used for floating point numbers.\n",
      "\n"
     ]
    }
   ],
   "source": [
    "help(spectra)"
   ]
  },
  {
   "cell_type": "code",
   "execution_count": null,
   "metadata": {},
   "outputs": [],
   "source": []
  }
 ],
 "metadata": {
  "kernelspec": {
   "display_name": "DESI master",
   "language": "python",
   "name": "desi-master"
  },
  "language_info": {
   "codemirror_mode": {
    "name": "ipython",
    "version": 3
   },
   "file_extension": ".py",
   "mimetype": "text/x-python",
   "name": "python",
   "nbconvert_exporter": "python",
   "pygments_lexer": "ipython3",
   "version": "3.6.6"
  }
 },
 "nbformat": 4,
 "nbformat_minor": 4
}
