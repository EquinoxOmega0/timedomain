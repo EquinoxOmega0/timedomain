{
 "cells": [
  {
   "cell_type": "code",
   "execution_count": 1,
   "metadata": {},
   "outputs": [],
   "source": [
    "import requests\n",
    "# import pandas as pd\n",
    "# import numpy as np\n",
    "from astropy.time import Time\n",
    "from alerce.core import Alerce"
   ]
  },
  {
   "cell_type": "markdown",
   "metadata": {},
   "source": [
    "# User entered stuff about the center of the search and DESI observation"
   ]
  },
  {
   "cell_type": "code",
   "execution_count": 2,
   "metadata": {},
   "outputs": [],
   "source": [
    "ra = 220.\n",
    "dec = 0.\n",
    "nt = Time.now()\n",
    "obsmjd = nt+3\n",
    "mag_cut = 24.5\n",
    "search_radius = 10 # in degrees"
   ]
  },
  {
   "cell_type": "markdown",
   "metadata": {},
   "source": [
    "# ALERCE ZTF objects in the field of view and time window"
   ]
  },
  {
   "cell_type": "code",
   "execution_count": 3,
   "metadata": {},
   "outputs": [],
   "source": [
    "alerce = Alerce()"
   ]
  },
  {
   "cell_type": "code",
   "execution_count": 4,
   "metadata": {},
   "outputs": [],
   "source": [
    "dataframe = alerce.query_objects(\n",
    "    ra=220,\n",
    "    dec=0,\n",
    "    lastmjd=[nt.mjd-365,nt.mjd],\n",
    "    radius=search_radius*3600\n",
    ")"
   ]
  },
  {
   "cell_type": "code",
   "execution_count": 5,
   "metadata": {},
   "outputs": [
    {
     "name": "stdout",
     "output_type": "stream",
     "text": [
      "315.047828  35.360908  0.000000  0.000000  2000.0  LW  FIBER  BRIGHT   58944.52381940  59321.76055981\n",
      "314.900743  35.382398  0.000000  0.000000  2000.0  LW  FIBER  BRIGHT   58992.45587960  59321.76055981\n",
      "315.043112  35.391216  0.000000  0.000000  2000.0  LW  FIBER  DARK     58944.52381940  59321.76055981\n",
      "314.998647  35.400377  0.000000  0.000000  2000.0  LW  FIBER  DARK     59004.30961810  59321.76055981\n",
      "315.056808  35.436970  0.000000  0.000000  2000.0  LW  FIBER  DARK     58944.52381940  59321.76055981\n"
     ]
    }
   ],
   "source": [
    "epoch = 2000.0\n",
    "for index, da in dataframe.iterrows():\n",
    "    response = requests.get(\"http://3.238.105.175:8081/parametric/sn?oid=%s&mjd=%s\" % (da['oid'], obsmjd.mjd))\n",
    "    forecast = response.json()[\"forecast\"]\n",
    "    if forecast[1]['magpsf'] <= mag_cut:\n",
    "        prog = 'BRIGHT' if forecast[1]['magpsf'] < 21 else 'DARK'\n",
    "        print('{:<10.6f} {:>10.6f} {:>9.6f} {:>9.6f} {:>7.1f}  LW  FIBER  {:7s} {:>15.8f} {:>15.8f}'.format(\n",
    "            da['meanra'], da['meandec'], 0, 0, epoch, prog, da['lastmjd'], obsmjd.mjd+14))"
   ]
  }
 ],
 "metadata": {
  "kernelspec": {
   "display_name": "Python 3",
   "language": "python",
   "name": "python3"
  },
  "language_info": {
   "codemirror_mode": {
    "name": "ipython",
    "version": 3
   },
   "file_extension": ".py",
   "mimetype": "text/x-python",
   "name": "python",
   "nbconvert_exporter": "python",
   "pygments_lexer": "ipython3",
   "version": "3.6.8"
  }
 },
 "nbformat": 4,
 "nbformat_minor": 2
}
